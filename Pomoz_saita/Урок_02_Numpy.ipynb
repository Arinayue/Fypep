{
  "nbformat": 4,
  "nbformat_minor": 0,
  "metadata": {
    "colab": {
      "provenance": [],
      "collapsed_sections": [
        "KROHUh0xi1nD",
        "nKw_yo1lXWXM",
        "cbp-dAnk9Sbf"
      ]
    },
    "kernelspec": {
      "name": "python3",
      "display_name": "Python 3"
    },
    "language_info": {
      "name": "python"
    }
  },
  "cells": [
    {
      "cell_type": "markdown",
      "metadata": {
        "id": "SWaltpGQSn92"
      },
      "source": [
        "# Numpy\n",
        "\n",
        "[NumPy](https://numpy.org/) это open-source модуль для python, который предоставляет общие математические и числовые операции.\n",
        "\n",
        "NumPy - один из ключевых модулей в экосистеме Python, в том числе при решении задач машинного обучения и искусственного интеллекта.\n",
        "\n",
        "NumPy является наследником Numeric и NumArray. Основан NumPy на библиотеке LAPAC, которая написана на Fortran. Когда-то numpy была частью SciPy. Да, это напоминает мыльную оперу.\n",
        "\n",
        "Мы подробно разбираем особенности библиотеки, так как на работе с ней основаны все остальные библиотеки, работающие с искусственным интеллектом.\n",
        "\n",
        "Текст урока опирается на небольшой, но полезный [мануал](https://sites.engineering.ucsb.edu/~shell/che210d/numpy.pdf)."
      ]
    },
    {
      "cell_type": "markdown",
      "metadata": {
        "id": "j42zD3zQUB29"
      },
      "source": [
        "## Установка\n",
        "\n",
        "Если вы используете Google Colab, то numpy уже установлен на виртуальном сервере и вы можете им пользоваться.\n",
        "\n",
        "Если вы открыли собственный ноутбук, то можете воспользоваться командой установки, записанной через восклицательный знак\n",
        "\n",
        "\n",
        "```\n",
        "!comand\n",
        "```\n",
        "Так запущенная команда в среде ipy вызывает системную команду pip, которая сама установит данный модуль в вашу виртуальную среду.\n",
        "\n",
        "Обратите внимание, что каждый ноутбк имеет свой набор используемых библиотек и системных установок.\n"
      ]
    },
    {
      "cell_type": "code",
      "metadata": {
        "colab": {
          "base_uri": "https://localhost:8080/"
        },
        "id": "-u28cDMWUASF",
        "outputId": "9e7b939c-c12d-4f02-e971-f0d6043ff73a"
      },
      "source": [
        "!pip install numpy"
      ],
      "execution_count": null,
      "outputs": [
        {
          "output_type": "stream",
          "text": [
            "Requirement already satisfied: numpy in /usr/local/lib/python3.7/dist-packages (1.19.5)\n"
          ],
          "name": "stdout"
        }
      ]
    },
    {
      "cell_type": "markdown",
      "metadata": {
        "id": "eiCKlC1MVTxD"
      },
      "source": [
        "## Подключение\n",
        "\n",
        "Для подключения модулей в Python используется команда `import` или её вариации. В случае с numpy есть традиционная и привычная всем команда импорта с использованием алиаса (as) np\n",
        "\n",
        "Алиас - это встроенная команда интерпретатора для сокращения команд и их последовательностей."
      ]
    },
    {
      "cell_type": "code",
      "metadata": {
        "id": "2VnPtDPcSQvi"
      },
      "source": [
        "# классический вариант\n",
        "import numpy"
      ],
      "execution_count": null,
      "outputs": []
    },
    {
      "cell_type": "code",
      "metadata": {
        "id": "7Yqz0e4cSnj5"
      },
      "source": [
        "# традиционный вариант\n",
        "import numpy as np"
      ],
      "execution_count": null,
      "outputs": []
    },
    {
      "cell_type": "markdown",
      "metadata": {
        "id": "XkFuEgPVV0at"
      },
      "source": [
        "При таком импорте к любым командам из модуля numpy придётся дописывать название модуля\n",
        "\n",
        "```\n",
        "numpy.comand\n",
        "np.comand\n",
        "```\n",
        "Есть другой вариант, в котором можно использовать только команду без указания модуля. Но так как в разных модулях могут быть одинаковые функции, использовать такой вариант не рекомендуется.\n"
      ]
    },
    {
      "cell_type": "code",
      "metadata": {
        "id": "CSSdlFA6WfCg"
      },
      "source": [
        "from numpy import *"
      ],
      "execution_count": null,
      "outputs": []
    },
    {
      "cell_type": "markdown",
      "metadata": {
        "id": "KROHUh0xi1nD"
      },
      "source": [
        "## Особые константы\n",
        "\n",
        "Numpy реализует несколько особых значнений через контстанты. Например:"
      ]
    },
    {
      "cell_type": "code",
      "metadata": {
        "colab": {
          "base_uri": "https://localhost:8080/"
        },
        "id": "407sxkUFjCZn",
        "outputId": "cb780c84-4079-4b8a-c49b-ec74eeb62ed6"
      },
      "source": [
        "np.NaN\n",
        "# not a number - Не число"
      ],
      "execution_count": null,
      "outputs": [
        {
          "output_type": "execute_result",
          "data": {
            "text/plain": [
              "nan"
            ]
          },
          "metadata": {},
          "execution_count": 3
        }
      ]
    },
    {
      "cell_type": "code",
      "metadata": {
        "colab": {
          "base_uri": "https://localhost:8080/"
        },
        "id": "j_XDMb9-jJh1",
        "outputId": "cf8b859c-67d4-4e1d-d8cc-1974fa6db8c1"
      },
      "source": [
        "np.Inf\n",
        "# infinity - бесконечно"
      ],
      "execution_count": null,
      "outputs": [
        {
          "output_type": "execute_result",
          "data": {
            "text/plain": [
              "inf"
            ]
          },
          "metadata": {},
          "execution_count": 4
        }
      ]
    },
    {
      "cell_type": "markdown",
      "metadata": {
        "id": "nKw_yo1lXWXM"
      },
      "source": [
        "## Массивы\n",
        "\n",
        "Главная особенность и элемент, с которым необходимо работать, в numpy - это массивы. Создаются массивы разными способами, которые мы сейчас разберём.\n",
        "\n",
        "При этом всем элементы в array должны быть одного типа, что отличает его от классического списка (list) Python."
      ]
    },
    {
      "cell_type": "code",
      "metadata": {
        "colab": {
          "base_uri": "https://localhost:8080/"
        },
        "id": "FKmqlaxTYZ2M",
        "outputId": "292695dc-6f33-466a-d2a2-b9e82688bd26"
      },
      "source": [
        "a = np.array([1, 2, 3, 4], float)\n",
        "print('Array:', a)\n",
        "print('Тип: ',type(a))\n",
        "# обратное преобразование\n",
        "print(a.tolist())"
      ],
      "execution_count": null,
      "outputs": [
        {
          "output_type": "stream",
          "name": "stdout",
          "text": [
            "Array: [1. 2. 3. 4.]\n",
            "Тип:  <class 'numpy.ndarray'>\n",
            "[1.0, 2.0, 3.0, 4.0]\n"
          ]
        }
      ]
    },
    {
      "cell_type": "code",
      "metadata": {
        "colab": {
          "base_uri": "https://localhost:8080/"
        },
        "id": "RKkm4CVBZAJ0",
        "outputId": "f30af857-c29a-45be-aa36-3c3073dfd785"
      },
      "source": [
        "# показыаем, что можно также работать с np.array, как и с обычным list\n",
        "\n",
        "print('1: ', a[0])\n",
        "print('2: ', a[1:3])\n",
        "print('3: ', a[-1])\n",
        "a[0] = 5\n",
        "print('4: ', a[0])"
      ],
      "execution_count": null,
      "outputs": [
        {
          "output_type": "stream",
          "name": "stdout",
          "text": [
            "1:  1.0\n",
            "2:  [2. 3.]\n",
            "3:  4.0\n",
            "4:  5.0\n"
          ]
        }
      ]
    },
    {
      "cell_type": "markdown",
      "metadata": {
        "id": "uzW3ZG1tZbBf"
      },
      "source": [
        "### Многомерные массивы\n",
        "\n",
        "Большая ценность numpy в том, что можно работать и многомерными массивами. Например, любое изображение - как минимум двумерный массив. А при обучении нейронных сетей для работы с компьютерным зрением используются по сути четырёхмерные массивы."
      ]
    },
    {
      "cell_type": "code",
      "metadata": {
        "colab": {
          "base_uri": "https://localhost:8080/"
        },
        "id": "0cIM9tWyZaUJ",
        "outputId": "733a5cc7-57c9-4b1d-e65f-47683bf2684f"
      },
      "source": [
        "a = np.array([[1, 2, 3], [4, 5, 6]], int)\n",
        "print('0: ', a)\n",
        "print('1: ', a[0,0])\n",
        "print('2: ', a[1,0])\n",
        "print('3: ', a[0,1])"
      ],
      "execution_count": null,
      "outputs": [
        {
          "output_type": "stream",
          "name": "stdout",
          "text": [
            "0:  [[1 2 3]\n",
            " [4 5 6]]\n",
            "1:  1\n",
            "2:  4\n",
            "3:  2\n"
          ]
        }
      ]
    },
    {
      "cell_type": "code",
      "metadata": {
        "colab": {
          "base_uri": "https://localhost:8080/"
        },
        "id": "X-7XOsgia1Yt",
        "outputId": "bfa09182-a609-4a48-b56d-5551f6dc9a17"
      },
      "source": [
        "# срезы (сленг - слайсы) с двмерным массивом\n",
        "print('4: ', a[1,:])\n",
        "print('5: ', a[:,2])\n",
        "print('6: ', a[-1:, -2:])"
      ],
      "execution_count": null,
      "outputs": [
        {
          "output_type": "stream",
          "name": "stdout",
          "text": [
            "4:  [4 5 6]\n",
            "5:  [3 6]\n",
            "6:  [[5 6]]\n"
          ]
        }
      ]
    },
    {
      "cell_type": "markdown",
      "metadata": {
        "id": "yw3iC4LnfUYL"
      },
      "source": [
        "### Характеристики объектов numpy"
      ]
    },
    {
      "cell_type": "code",
      "metadata": {
        "colab": {
          "base_uri": "https://localhost:8080/"
        },
        "id": "59Z6URzWfWys",
        "outputId": "6c49877f-7ea6-443a-b063-6be487cddad7"
      },
      "source": [
        "# размеры\n",
        "a.shape"
      ],
      "execution_count": null,
      "outputs": [
        {
          "output_type": "execute_result",
          "data": {
            "text/plain": [
              "(2, 3)"
            ]
          },
          "metadata": {},
          "execution_count": 22
        }
      ]
    },
    {
      "cell_type": "code",
      "metadata": {
        "colab": {
          "base_uri": "https://localhost:8080/"
        },
        "id": "fyYdBYYcfbmR",
        "outputId": "a61ea442-b05a-4bc9-a776-eb042184eb0e"
      },
      "source": [
        "# тип данных внутри\n",
        "# напоминаем, массив numpy может хранить только один тип данных\n",
        "a.dtype"
      ],
      "execution_count": null,
      "outputs": [
        {
          "output_type": "execute_result",
          "data": {
            "text/plain": [
              "dtype('int64')"
            ]
          },
          "metadata": {},
          "execution_count": 16
        }
      ]
    },
    {
      "cell_type": "markdown",
      "metadata": {
        "id": "bzNwVUuOgAuH"
      },
      "source": [
        "### Изменение размеров массива"
      ]
    },
    {
      "cell_type": "code",
      "metadata": {
        "colab": {
          "base_uri": "https://localhost:8080/"
        },
        "id": "8Qa8TyQOgDL8",
        "outputId": "080164f2-6884-4f60-e07f-6e58859a9fe1"
      },
      "source": [
        "a.reshape(3,2)"
      ],
      "execution_count": null,
      "outputs": [
        {
          "output_type": "execute_result",
          "data": {
            "text/plain": [
              "array([[1, 2],\n",
              "       [3, 4],\n",
              "       [5, 6]])"
            ]
          },
          "metadata": {},
          "execution_count": 23
        }
      ]
    },
    {
      "cell_type": "code",
      "metadata": {
        "colab": {
          "base_uri": "https://localhost:8080/"
        },
        "id": "N3ZuJCHxgNeR",
        "outputId": "1628ba8d-f202-4f22-8427-09bbc1ae97a4"
      },
      "source": [
        "# обратите внимание, что в процессе изменения размера создан новый массив, а не изменён старый\n",
        "a"
      ],
      "execution_count": null,
      "outputs": [
        {
          "output_type": "execute_result",
          "data": {
            "text/plain": [
              "array([[1, 2, 3],\n",
              "       [4, 5, 6]])"
            ]
          },
          "metadata": {},
          "execution_count": 24
        }
      ]
    },
    {
      "cell_type": "code",
      "metadata": {
        "colab": {
          "base_uri": "https://localhost:8080/"
        },
        "id": "OJnHnxVHgqgG",
        "outputId": "94e81437-21dc-4a2e-cf78-c32641480ebf"
      },
      "source": [
        "# с помощью этой команды можно вытянуть массив в одномерную \"строку\"\n",
        "a.flatten()"
      ],
      "execution_count": null,
      "outputs": [
        {
          "output_type": "execute_result",
          "data": {
            "text/plain": [
              "array([1, 2, 3, 4, 5, 6])"
            ]
          },
          "metadata": {},
          "execution_count": 25
        }
      ]
    },
    {
      "cell_type": "code",
      "metadata": {
        "colab": {
          "base_uri": "https://localhost:8080/"
        },
        "id": "nnuze3P0g0F7",
        "outputId": "85c50904-2037-48dd-d480-c303b39c477f"
      },
      "source": [
        "# обратите внимание, что в процессе изменения размера создан новый массив, а не изменён старый\n",
        "a"
      ],
      "execution_count": null,
      "outputs": [
        {
          "output_type": "execute_result",
          "data": {
            "text/plain": [
              "array([[1, 2, 3],\n",
              "       [4, 5, 6]])"
            ]
          },
          "metadata": {},
          "execution_count": 26
        }
      ]
    },
    {
      "cell_type": "markdown",
      "metadata": {
        "id": "ViNPBTVggJjE"
      },
      "source": [
        "### Создание по-разному заполненных массивов"
      ]
    },
    {
      "cell_type": "code",
      "metadata": {
        "colab": {
          "base_uri": "https://localhost:8080/"
        },
        "id": "Z6nU5WXbhIG-",
        "outputId": "6941b615-ec3a-4ed3-fe9c-0afa07f56c68"
      },
      "source": [
        "# аналог range для массивов\n",
        "print(np.arange(5))\n",
        "print(np.arange(1, 6, 2))"
      ],
      "execution_count": null,
      "outputs": [
        {
          "output_type": "stream",
          "name": "stdout",
          "text": [
            "[0 1 2 3 4]\n",
            "[1 3 5]\n"
          ]
        }
      ]
    },
    {
      "cell_type": "code",
      "metadata": {
        "colab": {
          "base_uri": "https://localhost:8080/"
        },
        "id": "vDVRyzaliROx",
        "outputId": "e218c768-fd8f-4c3f-e88f-740203833ae3"
      },
      "source": [
        "np.ones((2,3))"
      ],
      "execution_count": null,
      "outputs": [
        {
          "output_type": "execute_result",
          "data": {
            "text/plain": [
              "array([[1., 1., 1.],\n",
              "       [1., 1., 1.]])"
            ]
          },
          "metadata": {},
          "execution_count": 30
        }
      ]
    },
    {
      "cell_type": "code",
      "metadata": {
        "colab": {
          "base_uri": "https://localhost:8080/"
        },
        "id": "y33CRrfniVAE",
        "outputId": "25c745b5-2ebf-4b26-f502-bd64f3b1a0f8"
      },
      "source": [
        "np.zeros((5,4))"
      ],
      "execution_count": null,
      "outputs": [
        {
          "output_type": "execute_result",
          "data": {
            "text/plain": [
              "array([[0., 0., 0., 0.],\n",
              "       [0., 0., 0., 0.],\n",
              "       [0., 0., 0., 0.],\n",
              "       [0., 0., 0., 0.],\n",
              "       [0., 0., 0., 0.]])"
            ]
          },
          "metadata": {},
          "execution_count": 31
        }
      ]
    },
    {
      "cell_type": "code",
      "metadata": {
        "colab": {
          "base_uri": "https://localhost:8080/"
        },
        "id": "D484-EYBidsq",
        "outputId": "b197c6af-9a50-4dfd-dc31-e668646c4e8c"
      },
      "source": [
        "np.identity(4)"
      ],
      "execution_count": null,
      "outputs": [
        {
          "output_type": "execute_result",
          "data": {
            "text/plain": [
              "array([[1., 0., 0., 0.],\n",
              "       [0., 1., 0., 0.],\n",
              "       [0., 0., 1., 0.],\n",
              "       [0., 0., 0., 1.]])"
            ]
          },
          "metadata": {},
          "execution_count": 32
        }
      ]
    },
    {
      "cell_type": "code",
      "metadata": {
        "colab": {
          "base_uri": "https://localhost:8080/"
        },
        "id": "me3MDosSigXa",
        "outputId": "889c2b63-d136-40ab-f39b-7bf34280b316"
      },
      "source": [
        "# k - номер диагонали, заполненный единицами\n",
        "np.eye(5, k=3)"
      ],
      "execution_count": null,
      "outputs": [
        {
          "output_type": "execute_result",
          "data": {
            "text/plain": [
              "array([[0., 0., 0., 1., 0.],\n",
              "       [0., 0., 0., 0., 1.],\n",
              "       [0., 0., 0., 0., 0.],\n",
              "       [0., 0., 0., 0., 0.],\n",
              "       [0., 0., 0., 0., 0.]])"
            ]
          },
          "metadata": {},
          "execution_count": 38
        }
      ]
    },
    {
      "cell_type": "markdown",
      "metadata": {
        "id": "PFi4IJAPl7W3"
      },
      "source": [
        "### Перебор элементов массива"
      ]
    },
    {
      "cell_type": "code",
      "metadata": {
        "id": "XbHUaIYjl6tM"
      },
      "source": [
        "a = np.array([1, 4, 5], int)"
      ],
      "execution_count": null,
      "outputs": []
    },
    {
      "cell_type": "code",
      "metadata": {
        "colab": {
          "base_uri": "https://localhost:8080/"
        },
        "id": "ZKmehRBNl_dx",
        "outputId": "51b7ea9b-cf0c-4775-bd5e-8cabf4306aa6"
      },
      "source": [
        "# простой перебор для одномерного случая\n",
        "for x in a:\n",
        "   print(x)"
      ],
      "execution_count": null,
      "outputs": [
        {
          "output_type": "stream",
          "name": "stdout",
          "text": [
            "1\n",
            "4\n",
            "5\n"
          ]
        }
      ]
    },
    {
      "cell_type": "code",
      "metadata": {
        "colab": {
          "base_uri": "https://localhost:8080/"
        },
        "id": "mF7_afUImDye",
        "outputId": "5d546481-cbcd-468c-fed6-7c6809ba6992"
      },
      "source": [
        "# простой перебор для многомерного случая срабаотает плохо, он перебирает по первой размерности\n",
        "a = np.array([[1, 2], [3, 4], [5, 6]], float)\n",
        "for x in a:\n",
        "   print(x)"
      ],
      "execution_count": null,
      "outputs": [
        {
          "output_type": "stream",
          "name": "stdout",
          "text": [
            "[1. 2.]\n",
            "[3. 4.]\n",
            "[5. 6.]\n"
          ]
        }
      ]
    },
    {
      "cell_type": "code",
      "metadata": {
        "colab": {
          "base_uri": "https://localhost:8080/"
        },
        "id": "-V4y9g8AmO-7",
        "outputId": "0ee6b2da-ae4a-49eb-a606-8dfb8b98525c"
      },
      "source": [
        "# перебор правильным способом\n",
        "for x in range(a.shape[0]):\n",
        "  for y in range(a.shape[1]):\n",
        "    print(a[x, y])"
      ],
      "execution_count": null,
      "outputs": [
        {
          "output_type": "stream",
          "name": "stdout",
          "text": [
            "1.0\n",
            "2.0\n",
            "3.0\n",
            "4.0\n",
            "5.0\n",
            "6.0\n"
          ]
        }
      ]
    },
    {
      "cell_type": "markdown",
      "metadata": {
        "id": "XOFzhZRTm0sJ"
      },
      "source": [
        "## Операции над массивами"
      ]
    },
    {
      "cell_type": "markdown",
      "metadata": {
        "id": "r2uNeGpuirH0"
      },
      "source": [
        "### Математические операции над массивами\n",
        "\n",
        "С массивами можно применять стандартные математические операции. Они будут работать так, как будето происходит поэлементая работа одной и той же операции. Для матричных операций есть специальные команды.\n",
        "\n",
        "**Стандартные математические операции применимы только к массивам одинаковых размеров.**"
      ]
    },
    {
      "cell_type": "code",
      "metadata": {
        "colab": {
          "base_uri": "https://localhost:8080/"
        },
        "id": "K1hOsCfeiqJu",
        "outputId": "90de0971-6d89-4f4c-b432-0cd8f4f84a99"
      },
      "source": [
        "a = np.arange(1, 4, 1, dtype=int)\n",
        "b = np.arange(6, 9, 1, dtype=int)\n",
        "print('a: ', a)\n",
        "print('b: ', b)"
      ],
      "execution_count": null,
      "outputs": [
        {
          "output_type": "stream",
          "name": "stdout",
          "text": [
            "a:  [1 2 3]\n",
            "b:  [6 7 8]\n"
          ]
        }
      ]
    },
    {
      "cell_type": "code",
      "metadata": {
        "colab": {
          "base_uri": "https://localhost:8080/"
        },
        "id": "TpowhPPXjRkK",
        "outputId": "3a4b32f2-0547-4d5d-d7c2-7a097a62de67"
      },
      "source": [
        "a + b"
      ],
      "execution_count": null,
      "outputs": [
        {
          "output_type": "execute_result",
          "data": {
            "text/plain": [
              "array([ 7,  9, 11])"
            ]
          },
          "metadata": {},
          "execution_count": 44
        }
      ]
    },
    {
      "cell_type": "code",
      "metadata": {
        "colab": {
          "base_uri": "https://localhost:8080/"
        },
        "id": "vyVouUUsjS66",
        "outputId": "11f8cdaa-86a6-4756-d300-75fb00aba09b"
      },
      "source": [
        "a - b"
      ],
      "execution_count": null,
      "outputs": [
        {
          "output_type": "execute_result",
          "data": {
            "text/plain": [
              "array([-5, -5, -5])"
            ]
          },
          "metadata": {},
          "execution_count": 45
        }
      ]
    },
    {
      "cell_type": "code",
      "metadata": {
        "colab": {
          "base_uri": "https://localhost:8080/"
        },
        "id": "zB1ctuxdjWY6",
        "outputId": "9037a02a-c1f6-47e3-9bfd-fb2c3266ea8f"
      },
      "source": [
        "a * b"
      ],
      "execution_count": null,
      "outputs": [
        {
          "output_type": "execute_result",
          "data": {
            "text/plain": [
              "array([ 6, 14, 24])"
            ]
          },
          "metadata": {},
          "execution_count": 46
        }
      ]
    },
    {
      "cell_type": "code",
      "metadata": {
        "colab": {
          "base_uri": "https://localhost:8080/"
        },
        "id": "VfvB9qhPjXvr",
        "outputId": "d72d6a2b-d1ef-4ef1-a476-63990b74fa20"
      },
      "source": [
        "b / a"
      ],
      "execution_count": null,
      "outputs": [
        {
          "output_type": "execute_result",
          "data": {
            "text/plain": [
              "array([6.        , 3.5       , 2.66666667])"
            ]
          },
          "metadata": {},
          "execution_count": 47
        }
      ]
    },
    {
      "cell_type": "code",
      "metadata": {
        "colab": {
          "base_uri": "https://localhost:8080/"
        },
        "id": "gyn1iRjojZG_",
        "outputId": "307dc848-f652-433d-a1ba-6069364981d2"
      },
      "source": [
        "a % b"
      ],
      "execution_count": null,
      "outputs": [
        {
          "output_type": "execute_result",
          "data": {
            "text/plain": [
              "array([1, 2, 3])"
            ]
          },
          "metadata": {},
          "execution_count": 48
        }
      ]
    },
    {
      "cell_type": "code",
      "metadata": {
        "colab": {
          "base_uri": "https://localhost:8080/"
        },
        "id": "1sROVXt_jasJ",
        "outputId": "b2687814-3182-4861-ea45-a9a0240b7dfb"
      },
      "source": [
        "b**a"
      ],
      "execution_count": null,
      "outputs": [
        {
          "output_type": "execute_result",
          "data": {
            "text/plain": [
              "array([  6,  49, 512])"
            ]
          },
          "metadata": {},
          "execution_count": 49
        }
      ]
    },
    {
      "cell_type": "code",
      "metadata": {
        "colab": {
          "base_uri": "https://localhost:8080/"
        },
        "id": "N3wNkmy1jcX_",
        "outputId": "a69122bd-347f-4e86-f3ee-aa7d77ceb372"
      },
      "source": [
        "a // b"
      ],
      "execution_count": null,
      "outputs": [
        {
          "output_type": "execute_result",
          "data": {
            "text/plain": [
              "array([0, 0, 0])"
            ]
          },
          "metadata": {},
          "execution_count": 50
        }
      ]
    },
    {
      "cell_type": "markdown",
      "metadata": {
        "id": "5C02Z_nOj7Vv"
      },
      "source": [
        "Кроме того, поэлементно могут быть применены другие математические операции"
      ]
    },
    {
      "cell_type": "code",
      "metadata": {
        "colab": {
          "base_uri": "https://localhost:8080/"
        },
        "id": "qD8eOzmpj6pi",
        "outputId": "7bf7f337-d238-4c04-e0d1-7f6b244f4fa8"
      },
      "source": [
        "# корень\n",
        "np.sqrt(a)"
      ],
      "execution_count": null,
      "outputs": [
        {
          "output_type": "execute_result",
          "data": {
            "text/plain": [
              "array([1.        , 1.41421356, 1.73205081])"
            ]
          },
          "metadata": {},
          "execution_count": 51
        }
      ]
    },
    {
      "cell_type": "code",
      "metadata": {
        "id": "mcX6QHJpkE5J"
      },
      "source": [
        "a = np.array([1.1, 1.5, 1.9], float)"
      ],
      "execution_count": null,
      "outputs": []
    },
    {
      "cell_type": "code",
      "metadata": {
        "colab": {
          "base_uri": "https://localhost:8080/"
        },
        "id": "AxZwfU8XkGLv",
        "outputId": "a572f4d6-b478-4fae-e442-9b931813f0b6"
      },
      "source": [
        "# округление вниз\n",
        "np.floor(a)"
      ],
      "execution_count": null,
      "outputs": [
        {
          "output_type": "execute_result",
          "data": {
            "text/plain": [
              "array([1., 1., 1.])"
            ]
          },
          "metadata": {},
          "execution_count": 53
        }
      ]
    },
    {
      "cell_type": "code",
      "metadata": {
        "colab": {
          "base_uri": "https://localhost:8080/"
        },
        "id": "0Jqw5BxKkHcS",
        "outputId": "9d8d22cb-bd3d-42c7-a473-0445bd318a80"
      },
      "source": [
        "# округление вврех\n",
        "np.ceil(a)"
      ],
      "execution_count": null,
      "outputs": [
        {
          "output_type": "execute_result",
          "data": {
            "text/plain": [
              "array([2., 2., 2.])"
            ]
          },
          "metadata": {},
          "execution_count": 54
        }
      ]
    },
    {
      "cell_type": "code",
      "metadata": {
        "colab": {
          "base_uri": "https://localhost:8080/"
        },
        "id": "Hmf_VZnKkIxm",
        "outputId": "9fd919e0-ed03-410a-b523-4d89ff08908c"
      },
      "source": [
        "# округление по правилам математики\n",
        "np.rint(a)"
      ],
      "execution_count": null,
      "outputs": [
        {
          "output_type": "execute_result",
          "data": {
            "text/plain": [
              "array([1., 2., 2.])"
            ]
          },
          "metadata": {},
          "execution_count": 55
        }
      ]
    },
    {
      "cell_type": "markdown",
      "metadata": {
        "id": "9RVxKPPzm48-"
      },
      "source": [
        "### Простые операции над массивами"
      ]
    },
    {
      "cell_type": "markdown",
      "metadata": {
        "id": "4kul0PInoCR9"
      },
      "source": [
        "#### Одномерные массивы"
      ]
    },
    {
      "cell_type": "code",
      "metadata": {
        "colab": {
          "base_uri": "https://localhost:8080/"
        },
        "id": "mq19j01pnN8G",
        "outputId": "f90704e3-0fd1-4f94-f36a-26e46094cb31"
      },
      "source": [
        "a = np.arange(1, 6, 1)\n",
        "print(a)\n",
        "print('Сумма: ', a.sum())\n",
        "print('Перемножение: ', a.prod())"
      ],
      "execution_count": null,
      "outputs": [
        {
          "output_type": "stream",
          "name": "stdout",
          "text": [
            "[1 2 3 4 5]\n",
            "Сумма:  15\n",
            "Перемножение:  120\n"
          ]
        }
      ]
    },
    {
      "cell_type": "code",
      "metadata": {
        "colab": {
          "base_uri": "https://localhost:8080/"
        },
        "id": "6Mr3ICs2nlLF",
        "outputId": "0c3d1828-79f9-46ed-ff8f-6c385d53ec0d"
      },
      "source": [
        "# среднее (математическое ожидание)\n",
        "a.mean()"
      ],
      "execution_count": null,
      "outputs": [
        {
          "output_type": "execute_result",
          "data": {
            "text/plain": [
              "3.0"
            ]
          },
          "metadata": {},
          "execution_count": 57
        }
      ]
    },
    {
      "cell_type": "code",
      "metadata": {
        "colab": {
          "base_uri": "https://localhost:8080/"
        },
        "id": "2YYUh5JdnmaL",
        "outputId": "d2c2056f-3642-4b0b-f0b1-c4901b221be4"
      },
      "source": [
        "# дисперсия (смещенная - это будет важно в дальнейшем)\n",
        "a.var()"
      ],
      "execution_count": null,
      "outputs": [
        {
          "output_type": "execute_result",
          "data": {
            "text/plain": [
              "2.0"
            ]
          },
          "metadata": {},
          "execution_count": 58
        }
      ]
    },
    {
      "cell_type": "code",
      "metadata": {
        "colab": {
          "base_uri": "https://localhost:8080/"
        },
        "id": "ahaWzOm0nnia",
        "outputId": "4e024cc8-27e0-4d76-eaeb-455e4406257a"
      },
      "source": [
        "# стандартное отклонение (несмещенное - это тоже будет важно в дальнейшем)\n",
        "a.std()"
      ],
      "execution_count": null,
      "outputs": [
        {
          "output_type": "execute_result",
          "data": {
            "text/plain": [
              "1.4142135623730951"
            ]
          },
          "metadata": {},
          "execution_count": 59
        }
      ]
    },
    {
      "cell_type": "code",
      "metadata": {
        "colab": {
          "base_uri": "https://localhost:8080/"
        },
        "id": "b-bIkJ2Wn2x5",
        "outputId": "12cdaae6-50c4-4be3-8cf0-75d3e3255536"
      },
      "source": [
        "a.min()"
      ],
      "execution_count": null,
      "outputs": [
        {
          "output_type": "execute_result",
          "data": {
            "text/plain": [
              "1"
            ]
          },
          "metadata": {},
          "execution_count": 60
        }
      ]
    },
    {
      "cell_type": "code",
      "metadata": {
        "colab": {
          "base_uri": "https://localhost:8080/"
        },
        "id": "0AxTdqczn4jx",
        "outputId": "00128ddd-d52d-497f-cdc5-55586d14ebad"
      },
      "source": [
        "# возвращает индекс минимального в массиве\n",
        "print(a)\n",
        "a.argmin()"
      ],
      "execution_count": null,
      "outputs": [
        {
          "output_type": "stream",
          "name": "stdout",
          "text": [
            "[1 2 3 4 5]\n"
          ]
        },
        {
          "output_type": "execute_result",
          "data": {
            "text/plain": [
              "0"
            ]
          },
          "metadata": {},
          "execution_count": 67
        }
      ]
    },
    {
      "cell_type": "code",
      "metadata": {
        "colab": {
          "base_uri": "https://localhost:8080/"
        },
        "id": "QIYU068WodfS",
        "outputId": "60b0108b-ce72-4fa9-cc4a-5f5a9c436c90"
      },
      "source": [
        "# clip позволяет \"отрезать\" значения сверху и снизу\n",
        "a = np.array([6, 2, 5, -1, 0, 6, 2, 5, 4], float)\n",
        "a.clip(0, 5)"
      ],
      "execution_count": null,
      "outputs": [
        {
          "output_type": "execute_result",
          "data": {
            "text/plain": [
              "array([5., 2., 5., 0., 0., 5., 2., 5., 4.])"
            ]
          },
          "metadata": {},
          "execution_count": 68
        }
      ]
    },
    {
      "cell_type": "code",
      "metadata": {
        "id": "U2LfpmtFoswk",
        "colab": {
          "base_uri": "https://localhost:8080/"
        },
        "outputId": "277d9ab6-364d-4b72-e159-56de8ca6d543"
      },
      "source": [
        "# Уникальные элементы могут быть извлечены из массива:\n",
        "np.unique(a)"
      ],
      "execution_count": null,
      "outputs": [
        {
          "output_type": "execute_result",
          "data": {
            "text/plain": [
              "array([-1.,  0.,  2.,  4.,  5.,  6.])"
            ]
          },
          "metadata": {},
          "execution_count": 69
        }
      ]
    },
    {
      "cell_type": "markdown",
      "metadata": {
        "id": "44hny-booF_m"
      },
      "source": [
        "#### Многомерные массивы\n",
        "Для работы с многомерными массивами можно использовать параметр `axis`."
      ]
    },
    {
      "cell_type": "code",
      "metadata": {
        "colab": {
          "base_uri": "https://localhost:8080/"
        },
        "id": "JP1uT4h1oBCW",
        "outputId": "eacbba9f-d1f0-40c2-aaf9-06a052f80230"
      },
      "source": [
        "a = np.array([[5, 2], [4, 1], [3, -1]])\n",
        "print(a)\n",
        "print(a.mean(axis=0))\n",
        "print(a.mean(axis=1))"
      ],
      "execution_count": null,
      "outputs": [
        {
          "output_type": "stream",
          "name": "stdout",
          "text": [
            "[[ 5  2]\n",
            " [ 4  1]\n",
            " [ 3 -1]]\n",
            "[4.         0.66666667]\n",
            "[3.5 2.5 1. ]\n"
          ]
        }
      ]
    },
    {
      "cell_type": "markdown",
      "metadata": {
        "id": "I-CcWYy6gZmu"
      },
      "source": [
        "### Логические операции над массивами"
      ]
    },
    {
      "cell_type": "code",
      "metadata": {
        "colab": {
          "base_uri": "https://localhost:8080/"
        },
        "id": "z3bn4sbfg29f",
        "outputId": "2769562c-9954-467d-e5cd-fb77526a44e3"
      },
      "source": [
        "a = np.array([1, 3, 0])\n",
        "b = np.array([0, 3, 2])\n",
        "\n",
        "print(a > b, type(a>b))"
      ],
      "execution_count": null,
      "outputs": [
        {
          "output_type": "stream",
          "name": "stdout",
          "text": [
            "[ True False False] <class 'numpy.ndarray'>\n"
          ]
        }
      ]
    },
    {
      "cell_type": "code",
      "metadata": {
        "colab": {
          "base_uri": "https://localhost:8080/"
        },
        "id": "XzxjJtORhJu4",
        "outputId": "65fba356-e0d2-4fa4-a589-a20268b4fdb2"
      },
      "source": [
        "c = a > 2\n",
        "c"
      ],
      "execution_count": null,
      "outputs": [
        {
          "output_type": "execute_result",
          "data": {
            "text/plain": [
              "array([False,  True, False])"
            ]
          },
          "metadata": {},
          "execution_count": 72
        }
      ]
    },
    {
      "cell_type": "code",
      "metadata": {
        "colab": {
          "base_uri": "https://localhost:8080/"
        },
        "id": "Lsugeay6hR4P",
        "outputId": "82db944c-626f-401e-b6bd-ba0c6f4b135b"
      },
      "source": [
        "# проверяем, что хотя бы один элемент истинен\n",
        "print(any(c))\n",
        "# проверяем, что все элементы истинны\n",
        "print(all(c))"
      ],
      "execution_count": null,
      "outputs": [
        {
          "output_type": "stream",
          "name": "stdout",
          "text": [
            "True\n",
            "False\n"
          ]
        }
      ]
    },
    {
      "cell_type": "markdown",
      "metadata": {
        "id": "sMnWDf0ehlKw"
      },
      "source": [
        "Если вы хотите провести сравнение логическим И или лолгическим ИЛИ, то необходимо воспользоваться специальнымыми методами:\n",
        "\n",
        "\n",
        "```\n",
        "np.logical_and(_, _)\n",
        "np.logical_or(_, _)\n",
        "np.logical_not(_)\n",
        "```\n",
        "\n"
      ]
    },
    {
      "cell_type": "code",
      "metadata": {
        "colab": {
          "base_uri": "https://localhost:8080/"
        },
        "id": "osCxOg27hzeH",
        "outputId": "f442200e-c46a-42f4-b156-5c0ee3a848cf"
      },
      "source": [
        "np.logical_and(a > 0, a < 3)"
      ],
      "execution_count": null,
      "outputs": [
        {
          "output_type": "execute_result",
          "data": {
            "text/plain": [
              "array([ True, False, False])"
            ]
          },
          "metadata": {},
          "execution_count": 76
        }
      ]
    },
    {
      "cell_type": "markdown",
      "metadata": {
        "id": "7cz4ZxqNiKwk"
      },
      "source": [
        "С помощью `np.where` можно создать массив на основании условий.\n",
        "Синтаксис:\n",
        "\n",
        "\n",
        "```\n",
        "where(boolarray, truearray, falsearray)\n",
        "```\n",
        "\n"
      ]
    },
    {
      "cell_type": "code",
      "metadata": {
        "colab": {
          "base_uri": "https://localhost:8080/"
        },
        "id": "lNuVgYU_iTt2",
        "outputId": "7834cda7-15f6-4743-cef0-964b500c4211"
      },
      "source": [
        "np.where(a != 0, 1 / a, a)"
      ],
      "execution_count": null,
      "outputs": [
        {
          "output_type": "stream",
          "name": "stderr",
          "text": [
            "/usr/local/lib/python3.7/dist-packages/ipykernel_launcher.py:1: RuntimeWarning: divide by zero encountered in true_divide\n",
            "  \"\"\"Entry point for launching an IPython kernel.\n"
          ]
        },
        {
          "output_type": "execute_result",
          "data": {
            "text/plain": [
              "array([1.        , 0.33333333, 0.        ])"
            ]
          },
          "metadata": {},
          "execution_count": 77
        }
      ]
    },
    {
      "cell_type": "markdown",
      "metadata": {
        "id": "iFFWAZjqjtm3"
      },
      "source": [
        "Можно проверять элементы массива на наличие NaN и бесконечностей."
      ]
    },
    {
      "cell_type": "code",
      "metadata": {
        "id": "1ue7ilLfixGs"
      },
      "source": [
        "a = np.array([1, np.NaN, np.Inf], float)"
      ],
      "execution_count": null,
      "outputs": []
    },
    {
      "cell_type": "code",
      "metadata": {
        "colab": {
          "base_uri": "https://localhost:8080/"
        },
        "id": "f4m9oOQijaAA",
        "outputId": "f31cf51d-d2fd-47b4-ae44-b4e0e1006b10"
      },
      "source": [
        "np.isnan(a)"
      ],
      "execution_count": null,
      "outputs": [
        {
          "output_type": "execute_result",
          "data": {
            "text/plain": [
              "array([False,  True, False])"
            ]
          },
          "metadata": {},
          "execution_count": 79
        }
      ]
    },
    {
      "cell_type": "code",
      "metadata": {
        "colab": {
          "base_uri": "https://localhost:8080/"
        },
        "id": "kzYOI003jdCT",
        "outputId": "c38bc6e4-60f1-442a-e793-ea3ecbe8ea0f"
      },
      "source": [
        "np.isfinite(a)"
      ],
      "execution_count": null,
      "outputs": [
        {
          "output_type": "execute_result",
          "data": {
            "text/plain": [
              "array([ True, False, False])"
            ]
          },
          "metadata": {},
          "execution_count": 82
        }
      ]
    },
    {
      "cell_type": "markdown",
      "metadata": {
        "id": "8t6HiD0ckFk1"
      },
      "source": [
        "### Выбор элементов массива по условию\n",
        "\n",
        "Очень важной особенностью массивов является то, что элементы в них можно брать на основании других массивов. Это особенно полезно при реализации свёрточных нейронных сетей."
      ]
    },
    {
      "cell_type": "code",
      "metadata": {
        "colab": {
          "base_uri": "https://localhost:8080/"
        },
        "id": "ydOgfU9Oj4Cx",
        "outputId": "56b4db11-302f-4d24-fc9a-5f2b6694eeca"
      },
      "source": [
        "# это результат применения логической операции к многомерному массиву\n",
        "a = np.array([[6, 4], [5, 9]], float)\n",
        "a >= 6"
      ],
      "execution_count": null,
      "outputs": [
        {
          "output_type": "execute_result",
          "data": {
            "text/plain": [
              "array([[ True, False],\n",
              "       [False,  True]])"
            ]
          },
          "metadata": {},
          "execution_count": 83
        }
      ]
    },
    {
      "cell_type": "code",
      "metadata": {
        "colab": {
          "base_uri": "https://localhost:8080/"
        },
        "id": "CP9XFc23ksri",
        "outputId": "9bb59877-f8a6-46f0-bef3-684c16dc2478"
      },
      "source": [
        "# а это результат фильтрации элементов\n",
        "# обратите внимание, получился одномерный массив, содержащий только элементы, удовлетворяющие условию\n",
        "a[a >= 6]"
      ],
      "execution_count": null,
      "outputs": [
        {
          "output_type": "execute_result",
          "data": {
            "text/plain": [
              "array([6., 9.])"
            ]
          },
          "metadata": {},
          "execution_count": 84
        }
      ]
    },
    {
      "cell_type": "code",
      "metadata": {
        "colab": {
          "base_uri": "https://localhost:8080/"
        },
        "id": "SYnoVd85lNOi",
        "outputId": "2b9a4100-35b5-4928-a7cf-7c92841b4078"
      },
      "source": [
        "a[np.logical_and(a > 5, a < 9)]"
      ],
      "execution_count": null,
      "outputs": [
        {
          "output_type": "execute_result",
          "data": {
            "text/plain": [
              "array([6.])"
            ]
          },
          "metadata": {},
          "execution_count": 85
        }
      ]
    },
    {
      "cell_type": "markdown",
      "metadata": {
        "id": "RE6p2vyRlPnn"
      },
      "source": [
        "Обратите внимание, что если передать целочисленные значения, в качестве условий, то результат будет другой. Будут выбраные соответствующие элементы."
      ]
    },
    {
      "cell_type": "code",
      "metadata": {
        "colab": {
          "base_uri": "https://localhost:8080/"
        },
        "id": "EiQhJ-OmlaW7",
        "outputId": "5a76aadb-3d84-4381-ea1c-af9faebb396c"
      },
      "source": [
        "a = np.array([2, 4, 6, 8], float)\n",
        "b = np.array([0, 0, 1, 3, 2, 1], int)\n",
        "a[b]"
      ],
      "execution_count": null,
      "outputs": [
        {
          "output_type": "execute_result",
          "data": {
            "text/plain": [
              "array([2., 2., 4., 8., 6., 4.])"
            ]
          },
          "metadata": {},
          "execution_count": 86
        }
      ]
    },
    {
      "cell_type": "code",
      "metadata": {
        "colab": {
          "base_uri": "https://localhost:8080/"
        },
        "id": "9VzF3Achpgsw",
        "outputId": "5866efbd-3d81-47aa-b3a9-b1fe9527496c"
      },
      "source": [
        "# Для выбора значений из многомерных массивов необходимо передать массивы, которые определяют индексы по каждому из направлений. Они должны быть, естественно, целочисленными.\n",
        "a = np.array([[1, 4], [9, 16]], float)\n",
        "b = np.array([0, 0, 1, 1, 0], int)\n",
        "c = np.array([0, 1, 1, 1, 1], int)\n",
        "a[b,c]"
      ],
      "execution_count": null,
      "outputs": [
        {
          "output_type": "execute_result",
          "data": {
            "text/plain": [
              "array([ 1.,  4., 16., 16.,  4.])"
            ]
          },
          "metadata": {},
          "execution_count": 87
        }
      ]
    },
    {
      "cell_type": "markdown",
      "metadata": {
        "id": "tcAPABuYp8s0"
      },
      "source": [
        "## Векторная и матричная математика с использованием numpy\n",
        "\n",
        "Векторная математика в numpy - это главная причина того, что numpy стал ключевым модулем Python среди всех представленных модулей. Векторные вычисления позволяют значительно ускорить обработку численной информации.\n",
        "\n",
        "Часто сравнивая Python c С++/C говорят том, что первый гораздо менее производителен. Но с учётом современных модулей верно следующее утверждение: хорошо написанная программа на Python будет производительнее, чем средняя программа на C/C++, хорошую программу на C/C++ написать крайне сложно.\n",
        "\n",
        "В дополнении к арифметически операциям мы рассмотрим некоторые векторные операции. Глубокое погружение в их суть требует значительных знаний математики, которые мы будем получать по мере необходимости."
      ]
    },
    {
      "cell_type": "markdown",
      "metadata": {
        "id": "CmYD6oX1sU0Y"
      },
      "source": [
        "### Скалярное произведение\n",
        "\n",
        "Для двух векторов a и b одинаковой длины скалярное произведение считается по следующей формуле:\n",
        "\n",
        "$ a*b = \\sum_{i=0}^{len(a)}  a_i*b_i $"
      ]
    },
    {
      "cell_type": "code",
      "metadata": {
        "colab": {
          "base_uri": "https://localhost:8080/"
        },
        "id": "DxYXBsMdrEih",
        "outputId": "f5b1799b-0284-41d7-dd39-9f3b0b1aea2b"
      },
      "source": [
        "# скалярное произвдение векторов, также операция свёртки в свёрточных нейронных сетях\n",
        "\n",
        "a = np.array([1, 2, 3], float)\n",
        "b = np.array([0, 1, 1], float)\n",
        "np.dot(a, b)"
      ],
      "execution_count": null,
      "outputs": [
        {
          "output_type": "execute_result",
          "data": {
            "text/plain": [
              "5.0"
            ]
          },
          "metadata": {},
          "execution_count": 88
        }
      ]
    },
    {
      "cell_type": "markdown",
      "metadata": {
        "id": "pTodEGiqrogd"
      },
      "source": [
        "### Произведение матриц\n",
        "\n",
        "Произведение матриц - это особая математическая операция, которая не эквивалентна произведени соответствующих элементов матриц. О матричном произведении целесообразно говорить в рамках соответствующих разделов математики. Тем не менее, используя numpy легко получить матричное произведение."
      ]
    },
    {
      "cell_type": "code",
      "metadata": {
        "id": "U7Dk0saXse_3"
      },
      "source": [
        "a = np.array([[0, 1], [2, 3]], float)\n",
        "b = np.array([2, 3], float)\n",
        "d = np.array([[1, 1, 1], [1, 1, 1], [1, 1, 1]], float)"
      ],
      "execution_count": null,
      "outputs": []
    },
    {
      "cell_type": "code",
      "metadata": {
        "colab": {
          "base_uri": "https://localhost:8080/"
        },
        "id": "2bfSYAVWs_-7",
        "outputId": "b436b290-ab9b-4884-b3ea-ae8cc1d00f2c"
      },
      "source": [
        "np.dot(b, a)"
      ],
      "execution_count": null,
      "outputs": [
        {
          "output_type": "execute_result",
          "data": {
            "text/plain": [
              "array([ 6., 11.])"
            ]
          },
          "metadata": {},
          "execution_count": 90
        }
      ]
    },
    {
      "cell_type": "code",
      "metadata": {
        "colab": {
          "base_uri": "https://localhost:8080/"
        },
        "id": "yOxVqmgqtAjj",
        "outputId": "33ef6464-bf2f-495c-c063-6083ad524a69"
      },
      "source": [
        "np.dot(a, b)"
      ],
      "execution_count": null,
      "outputs": [
        {
          "output_type": "execute_result",
          "data": {
            "text/plain": [
              "array([ 3., 13.])"
            ]
          },
          "metadata": {},
          "execution_count": 91
        }
      ]
    },
    {
      "cell_type": "code",
      "metadata": {
        "colab": {
          "base_uri": "https://localhost:8080/",
          "height": 197
        },
        "id": "KdF8ZTYdtM6N",
        "outputId": "be469ce4-0dfd-457d-ad9f-0df8020e7420"
      },
      "source": [
        "# следите за размерностью, иначе ничего не получится\n",
        "np.dot(b, d)"
      ],
      "execution_count": null,
      "outputs": [
        {
          "output_type": "error",
          "ename": "ValueError",
          "evalue": "ignored",
          "traceback": [
            "\u001b[0;31m---------------------------------------------------------------------------\u001b[0m",
            "\u001b[0;31mValueError\u001b[0m                                Traceback (most recent call last)",
            "\u001b[0;32m<ipython-input-37-76f98feef170>\u001b[0m in \u001b[0;36m<module>\u001b[0;34m()\u001b[0m\n\u001b[0;32m----> 1\u001b[0;31m \u001b[0mnp\u001b[0m\u001b[0;34m.\u001b[0m\u001b[0mdot\u001b[0m\u001b[0;34m(\u001b[0m\u001b[0mb\u001b[0m\u001b[0;34m,\u001b[0m \u001b[0md\u001b[0m\u001b[0;34m)\u001b[0m\u001b[0;34m\u001b[0m\u001b[0;34m\u001b[0m\u001b[0m\n\u001b[0m",
            "\u001b[0;32m<__array_function__ internals>\u001b[0m in \u001b[0;36mdot\u001b[0;34m(*args, **kwargs)\u001b[0m\n",
            "\u001b[0;31mValueError\u001b[0m: shapes (2,) and (3,3) not aligned: 2 (dim 0) != 3 (dim 0)"
          ]
        }
      ]
    },
    {
      "cell_type": "markdown",
      "metadata": {
        "id": "HE0b3-mVtj5L"
      },
      "source": [
        "### Определитель матриц\n",
        "\n",
        "Многие математические операции, связанные с линейной алгеброй реализованы в модуле linalg внутри numpy. Мы не будем углулбляться в различные функциия модуля, рассмотрим для примера определитель."
      ]
    },
    {
      "cell_type": "code",
      "metadata": {
        "colab": {
          "base_uri": "https://localhost:8080/"
        },
        "id": "_SeZ2fV6vaVV",
        "outputId": "0b879678-92ea-48b6-9429-32a05eb9454d"
      },
      "source": [
        "np.linalg.det(a)"
      ],
      "execution_count": null,
      "outputs": [
        {
          "output_type": "execute_result",
          "data": {
            "text/plain": [
              "-2.0"
            ]
          },
          "metadata": {},
          "execution_count": 92
        }
      ]
    },
    {
      "cell_type": "markdown",
      "metadata": {
        "id": "Wexheqa8vyh7"
      },
      "source": [
        "# Дополнительный материал для желающих\n",
        "\n",
        "[Несучный туториал по numpy](https://habr.com/ru/post/469355/)"
      ]
    },
    {
      "cell_type": "markdown",
      "metadata": {
        "id": "vTu7Ibz2CesK"
      },
      "source": [
        "# Задания"
      ]
    },
    {
      "cell_type": "markdown",
      "metadata": {
        "id": "EobX-nHRDeT5"
      },
      "source": [
        "Создать матрицу размером `10х10` с 0 внутри, и 1 на границах. Например для `3х3`.\n",
        "\n",
        "```\n",
        "1 1 1\n",
        "1 0 1\n",
        "1 1 1\n",
        "```\n",
        "Количество строк кода идеального решения: 2  \n",
        "Кроме print()"
      ]
    },
    {
      "cell_type": "markdown",
      "source": [
        "### =_="
      ],
      "metadata": {
        "id": "Gbg1JGa-CNc5"
      }
    },
    {
      "cell_type": "code",
      "source": [
        "a = np.ones((10,10))\n",
        "a[1:-1,1:-1] = 0\n",
        "a"
      ],
      "metadata": {
        "id": "f2sncvj009eZ",
        "outputId": "7075ce7b-40fb-4277-a522-b7cd190e20cf",
        "colab": {
          "base_uri": "https://localhost:8080/"
        }
      },
      "execution_count": null,
      "outputs": [
        {
          "output_type": "execute_result",
          "data": {
            "text/plain": [
              "array([[1., 1., 1., 1., 1., 1., 1., 1., 1., 1.],\n",
              "       [1., 0., 0., 0., 0., 0., 0., 0., 0., 1.],\n",
              "       [1., 0., 0., 0., 0., 0., 0., 0., 0., 1.],\n",
              "       [1., 0., 0., 0., 0., 0., 0., 0., 0., 1.],\n",
              "       [1., 0., 0., 0., 0., 0., 0., 0., 0., 1.],\n",
              "       [1., 0., 0., 0., 0., 0., 0., 0., 0., 1.],\n",
              "       [1., 0., 0., 0., 0., 0., 0., 0., 0., 1.],\n",
              "       [1., 0., 0., 0., 0., 0., 0., 0., 0., 1.],\n",
              "       [1., 0., 0., 0., 0., 0., 0., 0., 0., 1.],\n",
              "       [1., 1., 1., 1., 1., 1., 1., 1., 1., 1.]])"
            ]
          },
          "metadata": {},
          "execution_count": 109
        }
      ]
    },
    {
      "cell_type": "code",
      "metadata": {
        "id": "MGvbhlGHCiJR",
        "outputId": "d588fa41-26a2-4e46-cc65-46af29e20a91",
        "colab": {
          "base_uri": "https://localhost:8080/"
        }
      },
      "source": [
        "a = np.ones(100).reshape(10,10)\n",
        "a[1:-1, 1:-1] = 0\n",
        "a"
      ],
      "execution_count": null,
      "outputs": [
        {
          "output_type": "execute_result",
          "data": {
            "text/plain": [
              "array([[1., 1., 1., 1., 1., 1., 1., 1., 1., 1.],\n",
              "       [1., 0., 0., 0., 0., 0., 0., 0., 0., 1.],\n",
              "       [1., 0., 0., 0., 0., 0., 0., 0., 0., 1.],\n",
              "       [1., 0., 0., 0., 0., 0., 0., 0., 0., 1.],\n",
              "       [1., 0., 0., 0., 0., 0., 0., 0., 0., 1.],\n",
              "       [1., 0., 0., 0., 0., 0., 0., 0., 0., 1.],\n",
              "       [1., 0., 0., 0., 0., 0., 0., 0., 0., 1.],\n",
              "       [1., 0., 0., 0., 0., 0., 0., 0., 0., 1.],\n",
              "       [1., 0., 0., 0., 0., 0., 0., 0., 0., 1.],\n",
              "       [1., 1., 1., 1., 1., 1., 1., 1., 1., 1.]])"
            ]
          },
          "metadata": {},
          "execution_count": 110
        }
      ]
    },
    {
      "cell_type": "markdown",
      "metadata": {
        "id": "vnY0gsMOD45W"
      },
      "source": [
        "## Создать 5x5 матрицу с 1,2,3,4 над диагональю. Все остальные элементы - 0.\n",
        "\n",
        "Количество строк кода идеального решения: 1   \n",
        "Кроме print()"
      ]
    },
    {
      "cell_type": "markdown",
      "source": [
        "### =_="
      ],
      "metadata": {
        "id": "iCksL6_wCsVI"
      }
    },
    {
      "cell_type": "code",
      "source": [
        "a = np.arange(25).reshape(5,5)\n",
        "a[1::] = 0\n",
        "a"
      ],
      "metadata": {
        "id": "QbL_Bc2m234d",
        "outputId": "792a2847-d1bd-427e-8c97-e9a94664228a",
        "colab": {
          "base_uri": "https://localhost:8080/"
        }
      },
      "execution_count": null,
      "outputs": [
        {
          "output_type": "execute_result",
          "data": {
            "text/plain": [
              "array([[0, 1, 2, 3, 4],\n",
              "       [0, 0, 0, 0, 0],\n",
              "       [0, 0, 0, 0, 0],\n",
              "       [0, 0, 0, 0, 0],\n",
              "       [0, 0, 0, 0, 0]])"
            ]
          },
          "metadata": {},
          "execution_count": 15
        }
      ]
    },
    {
      "cell_type": "code",
      "source": [
        "b = np.diag([1, 2, 3, 4], 1)\n",
        "b"
      ],
      "metadata": {
        "colab": {
          "base_uri": "https://localhost:8080/"
        },
        "id": "rreNrFh-QExq",
        "outputId": "80a51ca2-908a-49a1-d889-88658651c59e"
      },
      "execution_count": null,
      "outputs": [
        {
          "output_type": "execute_result",
          "data": {
            "text/plain": [
              "array([[0, 1, 0, 0, 0],\n",
              "       [0, 0, 2, 0, 0],\n",
              "       [0, 0, 0, 3, 0],\n",
              "       [0, 0, 0, 0, 4],\n",
              "       [0, 0, 0, 0, 0]])"
            ]
          },
          "metadata": {},
          "execution_count": 26
        }
      ]
    },
    {
      "cell_type": "markdown",
      "metadata": {
        "id": "7R26cYEXEsWb"
      },
      "source": [
        "## Создайте случайную матрицу и вычтите из каждой строки среднее.\n",
        "Количество строк кода идеального решения (кроме создания исходной матрицы): 1   \n",
        "Кроме print()"
      ]
    },
    {
      "cell_type": "markdown",
      "source": [
        "### =_="
      ],
      "metadata": {
        "id": "rMNQg1TxC0HM"
      }
    },
    {
      "cell_type": "code",
      "metadata": {
        "id": "vD0W-3azE2Rw",
        "outputId": "8cf593b1-bf42-4335-9272-d2fe94baca34",
        "colab": {
          "base_uri": "https://localhost:8080/"
        }
      },
      "source": [
        "X = np.random.rand(5, 10)\n",
        "Y = X - X.mean(axis=1, keepdims=True)\n",
        "print(X)\n",
        "print(\"Что вычитаем\")\n",
        "print(X.mean(axis=1, keepdims=True))\n",
        "print('после вычета')\n",
        "print(Y)"
      ],
      "execution_count": null,
      "outputs": [
        {
          "output_type": "stream",
          "name": "stdout",
          "text": [
            "[[0.68154474 0.78998691 0.84108758 0.68725239 0.62695277 0.18289616\n",
            "  0.12082695 0.66921786 0.36988193 0.89648888]\n",
            " [0.10491655 0.15491379 0.90923772 0.35462827 0.51332257 0.20859859\n",
            "  0.3962711  0.22992804 0.128929   0.07857161]\n",
            " [0.07482551 0.62450323 0.76030931 0.78002428 0.47243305 0.00312701\n",
            "  0.1747292  0.33718923 0.47857171 0.19776797]\n",
            " [0.81191572 0.90730705 0.90573866 0.41460585 0.94104492 0.67785307\n",
            "  0.41966322 0.00719174 0.90553315 0.37019231]\n",
            " [0.91091949 0.99796672 0.29162423 0.43847884 0.95806107 0.81421234\n",
            "  0.6253126  0.63589828 0.35505595 0.60063609]]\n",
            "Что вычитаем\n",
            "[[0.58661362]\n",
            " [0.30793172]\n",
            " [0.39034805]\n",
            " [0.63610457]\n",
            " [0.66281656]]\n",
            "после вычета\n",
            "[[ 0.09493112  0.2033733   0.25447396  0.10063877  0.04033915 -0.40371746\n",
            "  -0.46578666  0.08260425 -0.21673169  0.30987526]\n",
            " [-0.20301517 -0.15301794  0.60130599  0.04669655  0.20539085 -0.09933314\n",
            "   0.08833937 -0.07800368 -0.17900272 -0.22936012]\n",
            " [-0.31552254  0.23415518  0.36996126  0.38967623  0.082085   -0.38722104\n",
            "  -0.21561885 -0.05315882  0.08822366 -0.19258008]\n",
            " [ 0.17581115  0.27120248  0.26963409 -0.22149872  0.30494035  0.0417485\n",
            "  -0.21644135 -0.62891282  0.26942858 -0.26591225]\n",
            " [ 0.24810293  0.33515016 -0.37119233 -0.22433772  0.29524451  0.15139578\n",
            "  -0.03750396 -0.02691829 -0.30776061 -0.06218047]]\n"
          ]
        }
      ]
    },
    {
      "cell_type": "markdown",
      "source": [
        "### =_="
      ],
      "metadata": {
        "id": "SJQPeDjKDEER"
      }
    },
    {
      "cell_type": "code",
      "source": [
        "a = np.array([5, -2, 3], float)\n",
        "b = np.array([1, 1, -1], float)\n",
        "print(np.dot(a, b))"
      ],
      "metadata": {
        "colab": {
          "base_uri": "https://localhost:8080/"
        },
        "id": "4n3-mYMqe3-f",
        "outputId": "708556e5-8248-4f99-a514-638580d09076"
      },
      "execution_count": null,
      "outputs": [
        {
          "output_type": "stream",
          "name": "stdout",
          "text": [
            "0.0\n"
          ]
        }
      ]
    },
    {
      "cell_type": "code",
      "source": [
        "np.eye(5, k=2)"
      ],
      "metadata": {
        "colab": {
          "base_uri": "https://localhost:8080/"
        },
        "id": "aWU63IIpgMz9",
        "outputId": "2a80a9fd-f36f-42b7-d955-baf1024c84ec"
      },
      "execution_count": null,
      "outputs": [
        {
          "output_type": "execute_result",
          "data": {
            "text/plain": [
              "array([[0., 0., 1., 0., 0.],\n",
              "       [0., 0., 0., 1., 0.],\n",
              "       [0., 0., 0., 0., 1.],\n",
              "       [0., 0., 0., 0., 0.],\n",
              "       [0., 0., 0., 0., 0.]])"
            ]
          },
          "metadata": {},
          "execution_count": 7
        }
      ]
    },
    {
      "cell_type": "code",
      "source": [
        "a = np.array([[1, 2, 3], [4, 5, 6]], int)\n",
        "a.reshape(3, 2)\n",
        "a.flatten()\n",
        "a"
      ],
      "metadata": {
        "colab": {
          "base_uri": "https://localhost:8080/"
        },
        "id": "XWLPGAHfgYkz",
        "outputId": "165c1ef5-ebd8-4e3c-9b52-a32bb948b5ed"
      },
      "execution_count": null,
      "outputs": [
        {
          "output_type": "execute_result",
          "data": {
            "text/plain": [
              "array([[1, 2, 3],\n",
              "       [4, 5, 6]])"
            ]
          },
          "metadata": {},
          "execution_count": 9
        }
      ]
    },
    {
      "cell_type": "code",
      "source": [
        "import numpy as np"
      ],
      "metadata": {
        "id": "4JEZ_rAytO2z"
      },
      "execution_count": null,
      "outputs": []
    },
    {
      "cell_type": "code",
      "source": [
        "x = np.arange(12).reshape((3,4))\n",
        "x"
      ],
      "metadata": {
        "colab": {
          "base_uri": "https://localhost:8080/"
        },
        "id": "81thVlFZtXBZ",
        "outputId": "3a828b8e-6b55-40a3-c367-d9dbe79dd259"
      },
      "execution_count": null,
      "outputs": [
        {
          "output_type": "execute_result",
          "data": {
            "text/plain": [
              "array([[ 0,  1,  2,  3],\n",
              "       [ 4,  5,  6,  7],\n",
              "       [ 8,  9, 10, 11]])"
            ]
          },
          "metadata": {},
          "execution_count": 14
        }
      ]
    },
    {
      "cell_type": "code",
      "source": [
        "row = np.array([2,1,0])\n",
        "col = np.array([1,2,3])\n",
        "x[row[:, np.newaxis], col]"
      ],
      "metadata": {
        "colab": {
          "base_uri": "https://localhost:8080/"
        },
        "id": "MY4U5_2-s_al",
        "outputId": "8ece46d2-33d5-41d0-e237-a7d328ecf9e1"
      },
      "execution_count": null,
      "outputs": [
        {
          "output_type": "execute_result",
          "data": {
            "text/plain": [
              "array([[ 9, 10, 11],\n",
              "       [ 5,  6,  7],\n",
              "       [ 1,  2,  3]])"
            ]
          },
          "metadata": {},
          "execution_count": 18
        }
      ]
    },
    {
      "cell_type": "code",
      "source": [
        "row = np.array([1,2,1, 2])\n",
        "col = np.array([1,2,1, 2])\n",
        "x[row[:, np.newaxis], col]"
      ],
      "metadata": {
        "colab": {
          "base_uri": "https://localhost:8080/"
        },
        "id": "PqgPixchtNTN",
        "outputId": "91113c3c-0485-4726-c79c-ef3bf7e594cd"
      },
      "execution_count": null,
      "outputs": [
        {
          "output_type": "execute_result",
          "data": {
            "text/plain": [
              "array([[ 5,  6,  5,  6],\n",
              "       [ 9, 10,  9, 10],\n",
              "       [ 5,  6,  5,  6],\n",
              "       [ 9, 10,  9, 10]])"
            ]
          },
          "metadata": {},
          "execution_count": 21
        }
      ]
    },
    {
      "cell_type": "markdown",
      "source": [
        "# Numpy - контрольная"
      ],
      "metadata": {
        "id": "cbp-dAnk9Sbf"
      }
    },
    {
      "cell_type": "code",
      "source": [
        "import numpy as np"
      ],
      "metadata": {
        "id": "w91X7zln9Wq9"
      },
      "execution_count": null,
      "outputs": []
    },
    {
      "cell_type": "code",
      "source": [
        "b = [1,2,3,4,5]\n",
        "a = np.array(b)\n",
        "print(a, 'список')\n",
        "print(b, 'массив')"
      ],
      "metadata": {
        "colab": {
          "base_uri": "https://localhost:8080/"
        },
        "id": "zmIbvhVR9atV",
        "outputId": "f69ac69f-afcc-4ba6-af48-76d0f8498dcc"
      },
      "execution_count": null,
      "outputs": [
        {
          "output_type": "stream",
          "name": "stdout",
          "text": [
            "[1 2 3 4 5] список\n",
            "[1, 2, 3, 4, 5] массив\n"
          ]
        }
      ]
    },
    {
      "cell_type": "markdown",
      "source": [
        "Типы данных в массивах\n",
        "\n",
        "Тип данных  | Описание\n",
        "-------------------|------------------\n",
        "bool_       | Булев тип (True or False), хранящийся в виде 1 байта\n",
        "int_       | Тип целочисленного значения по умолчанию\n",
        "intc       | int языка C\n",
        "intp | Целочисленное значение используемое для индексов\n",
        "int8 | Байтовый тип (от -128 до 127)\n",
        "int16 | Целое число (от -32 768 до 32 767)\n",
        "int32 | Целое число (от -2 147 483 648 до 2 147 483 647)\n",
        "int64 | Целое число (от -9 223 372 036 854 775 808 до 9 223 372 036 854 775 807)\n",
        "uint8 | Беззнаковое целое число (от 0 до 255)\n",
        "uint16 | Беззнаковое целое число (от 0 до 65 535)\n",
        "uint32 | Беззнаковое целое число (от 0 до 4 294 967 295)\n",
        "uint64 | Беззнаковое целое число (от 0 до 18 446 744 073 709 551 615)\n",
        "float_ | Сокращенное название типа float64\n",
        "float16 | Число с плавающей точкой с половинной точностью: 1 бит знак, 5 бит порядок, 10 бит мантисса\n",
        "float32 | Число с плавающей точкой с одинарной точностью: 1 бит знак, 8 бит порядок, 23 бит мантисса\n",
        "float64 | Число с плавающей точкой с удвоенной точностью: 1 бит знак, 11 бит порядок, 52 бита мантисса\n",
        "complex_ | Сокращенние для названия типа complex128\n",
        "complex64 | Комплексное число, представленное двумя 32-битными числами\n",
        "complex128 | Комплексное число, представленное двумя 64-битными числами\n"
      ],
      "metadata": {
        "id": "Is2ilKZb_ShL"
      }
    },
    {
      "cell_type": "code",
      "source": [
        "a = np.array([1.4,2.7,3,4.9,5], dtype = 'int8')\n",
        "a"
      ],
      "metadata": {
        "colab": {
          "base_uri": "https://localhost:8080/"
        },
        "id": "wJbnCa4-9wBa",
        "outputId": "58e3b7de-1dbc-4bb0-bcbf-378360d8775c"
      },
      "execution_count": null,
      "outputs": [
        {
          "output_type": "execute_result",
          "data": {
            "text/plain": [
              "array([1, 2, 3, 4, 5], dtype=int8)"
            ]
          },
          "metadata": {},
          "execution_count": 3
        }
      ]
    },
    {
      "cell_type": "markdown",
      "source": [
        "Символ  | Описание | Пример\n",
        "--------|----------|---\n",
        "'b'       | Байтовый тип | np.dtype('b')\n",
        "'i'       | Знаковое целое число | np.dtype('i4') == np.int32\n",
        "'u'       | Беззнаковое целое число | np.dtype('u1') == np.uint8\n",
        "'f' | Число с плавающей точкой | np.dtype('f8') == np.int64\n",
        "'c' | Комплексное число с плавающей точкой | np.dtype('c16') == np.complex128\n",
        "'S', 'a' | Строка | np.dtype('S5')\n",
        "'U' | Строка в кодировке Unicode | np.dtype('U')== np.str_\n",
        "'V' | Неформативные данные (тип void) | np.dtype('V') == np.void"
      ],
      "metadata": {
        "id": "tX9Z-KqtDq7t"
      }
    },
    {
      "cell_type": "code",
      "source": [
        "# По циклу создается массив от i элемента до i+3 не включая;\n",
        "# За i берем по очереди [2, 4, 6]\n",
        "a = np.array([range(i, i + 3) for i in [2, 4, 6]])\n",
        "a"
      ],
      "metadata": {
        "colab": {
          "base_uri": "https://localhost:8080/"
        },
        "id": "JGOQXPin-Iz4",
        "outputId": "ff225972-d350-48ad-83b5-e9b929c3182b"
      },
      "execution_count": null,
      "outputs": [
        {
          "output_type": "execute_result",
          "data": {
            "text/plain": [
              "array([[2, 3, 4],\n",
              "       [4, 5, 6],\n",
              "       [6, 7, 8]])"
            ]
          },
          "metadata": {},
          "execution_count": 4
        }
      ]
    },
    {
      "cell_type": "code",
      "source": [
        "# Создаем матрицу заполненную нулями\n",
        "a = np.zeros((3,4), dtype = 'int8')\n",
        "a"
      ],
      "metadata": {
        "colab": {
          "base_uri": "https://localhost:8080/"
        },
        "id": "zgQMop3fIn_4",
        "outputId": "8dc088ff-d41d-473c-cce4-8577d58a75cb"
      },
      "execution_count": null,
      "outputs": [
        {
          "output_type": "execute_result",
          "data": {
            "text/plain": [
              "array([[0, 0, 0, 0],\n",
              "       [0, 0, 0, 0],\n",
              "       [0, 0, 0, 0]], dtype=int8)"
            ]
          },
          "metadata": {},
          "execution_count": 5
        }
      ]
    },
    {
      "cell_type": "code",
      "source": [
        "# Создаем матрицу заполненную единицами\n",
        "a = np.ones((4,3))\n",
        "a"
      ],
      "metadata": {
        "colab": {
          "base_uri": "https://localhost:8080/"
        },
        "id": "NVUN-gZcIy3J",
        "outputId": "d9524533-3016-442e-bd69-8dfc1564602c"
      },
      "execution_count": null,
      "outputs": [
        {
          "output_type": "execute_result",
          "data": {
            "text/plain": [
              "array([[1., 1., 1.],\n",
              "       [1., 1., 1.],\n",
              "       [1., 1., 1.],\n",
              "       [1., 1., 1.]])"
            ]
          },
          "metadata": {},
          "execution_count": 6
        }
      ]
    },
    {
      "cell_type": "code",
      "source": [
        "# Создаем матрицу заполненую 3.14 может быть что угодно\n",
        "a = np.full((5,5),3.14)\n",
        "a"
      ],
      "metadata": {
        "colab": {
          "base_uri": "https://localhost:8080/"
        },
        "id": "CP5xzZUCI46g",
        "outputId": "670051e9-f38b-4ced-e603-d7f46e41ed38"
      },
      "execution_count": null,
      "outputs": [
        {
          "output_type": "execute_result",
          "data": {
            "text/plain": [
              "array([[3.14, 3.14, 3.14, 3.14, 3.14],\n",
              "       [3.14, 3.14, 3.14, 3.14, 3.14],\n",
              "       [3.14, 3.14, 3.14, 3.14, 3.14],\n",
              "       [3.14, 3.14, 3.14, 3.14, 3.14],\n",
              "       [3.14, 3.14, 3.14, 3.14, 3.14]])"
            ]
          },
          "metadata": {},
          "execution_count": 7
        }
      ]
    },
    {
      "cell_type": "code",
      "source": [
        "# Массив от 1 до 20 с шагом 2 не включая с типом данных с плавающей точкой\n",
        "a = np.arange(1,20,2, dtype = 'float32')\n",
        "a"
      ],
      "metadata": {
        "colab": {
          "base_uri": "https://localhost:8080/"
        },
        "id": "6e8qxm8_JJQa",
        "outputId": "8561a6a2-6ad9-4d73-cb19-1278c854de43"
      },
      "execution_count": null,
      "outputs": [
        {
          "output_type": "execute_result",
          "data": {
            "text/plain": [
              "array([ 1.,  3.,  5.,  7.,  9., 11., 13., 15., 17., 19.], dtype=float32)"
            ]
          },
          "metadata": {},
          "execution_count": 8
        }
      ]
    },
    {
      "cell_type": "code",
      "source": [
        "# Массив от 10 до 20, 11 элементами\n",
        "a = np.linspace(10,20,11, dtype = 'int8')\n",
        "a"
      ],
      "metadata": {
        "colab": {
          "base_uri": "https://localhost:8080/"
        },
        "id": "D0Y9NrEQJYHh",
        "outputId": "4a3ed4a9-6930-4104-b548-c47ebd19c611"
      },
      "execution_count": null,
      "outputs": [
        {
          "output_type": "execute_result",
          "data": {
            "text/plain": [
              "array([10, 11, 12, 13, 14, 15, 16, 17, 18, 19, 20], dtype=int8)"
            ]
          },
          "metadata": {},
          "execution_count": 12
        }
      ]
    },
    {
      "cell_type": "code",
      "source": [
        "# Создаем масив из 2 матриц 3 строки на 5 столбцов,\n",
        "# благодаря random.random он заполняется от 0 до 1 числами с равновероятностью\n",
        "a = np.random.random((2,3,5))\n",
        "a"
      ],
      "metadata": {
        "colab": {
          "base_uri": "https://localhost:8080/"
        },
        "id": "8EmTNV4VJvcx",
        "outputId": "3cf53838-b849-48ed-97f8-a0ff307e345c"
      },
      "execution_count": null,
      "outputs": [
        {
          "output_type": "execute_result",
          "data": {
            "text/plain": [
              "array([[[0.33275276, 0.45563836, 0.97153443, 0.02233317, 0.12574398],\n",
              "        [0.64195178, 0.56505273, 0.25800327, 0.54160501, 0.20188002],\n",
              "        [0.70683848, 0.59593965, 0.11132741, 0.75070937, 0.29954675]],\n",
              "\n",
              "       [[0.12825587, 0.02717337, 0.50370618, 0.13246667, 0.07980468],\n",
              "        [0.32991166, 0.99705892, 0.60573682, 0.58021306, 0.52782935],\n",
              "        [0.52594539, 0.61528926, 0.38368635, 0.91088136, 0.31603513]]])"
            ]
          },
          "metadata": {},
          "execution_count": 13
        }
      ]
    },
    {
      "cell_type": "code",
      "source": [
        "# Создаем масив заполненый по нормальному распределению с медианой 180\n",
        "# и отклонением 30 размерностью 4 на 4\n",
        "a = np.random.normal(180,30,(4,4))\n",
        "a"
      ],
      "metadata": {
        "colab": {
          "base_uri": "https://localhost:8080/"
        },
        "id": "FiBeZuKtKP8Y",
        "outputId": "894074c6-fcc9-4435-f413-dfe5c18a046b"
      },
      "execution_count": null,
      "outputs": [
        {
          "output_type": "execute_result",
          "data": {
            "text/plain": [
              "array([[129.78228956, 196.81798071, 217.37239723, 186.97909862],\n",
              "       [150.45993516, 161.16085752, 234.92325475, 173.08868269],\n",
              "       [164.36324739, 175.41537968, 207.03549554, 246.41700786],\n",
              "       [190.67734282, 190.91053537, 109.02290514, 204.15672266]])"
            ]
          },
          "metadata": {},
          "execution_count": 14
        }
      ]
    },
    {
      "cell_type": "code",
      "source": [
        "# Массив заполненый рандомно числами от 0 до 10(не включая),\n",
        "# размером 2 матрицы по 2 строки и 2 столбца\n",
        "a = np.random.randint(0,10,(2,2,2))\n",
        "a"
      ],
      "metadata": {
        "colab": {
          "base_uri": "https://localhost:8080/"
        },
        "id": "19RAKkyvKpto",
        "outputId": "5bc83a27-bcdb-4d9b-91c0-508e52c168dc"
      },
      "execution_count": null,
      "outputs": [
        {
          "output_type": "execute_result",
          "data": {
            "text/plain": [
              "array([[[9, 6],\n",
              "        [8, 1]],\n",
              "\n",
              "       [[5, 7],\n",
              "        [2, 1]]])"
            ]
          },
          "metadata": {},
          "execution_count": 15
        }
      ]
    },
    {
      "cell_type": "code",
      "source": [
        "# Матрица зааполненая 1 по диагонали\n",
        "a = np.eye(5)\n",
        "a"
      ],
      "metadata": {
        "colab": {
          "base_uri": "https://localhost:8080/"
        },
        "id": "sKzf6no1LH3Q",
        "outputId": "be580cf3-670d-4c71-b06a-097462f5c766"
      },
      "execution_count": null,
      "outputs": [
        {
          "output_type": "execute_result",
          "data": {
            "text/plain": [
              "array([[1., 0., 0., 0., 0.],\n",
              "       [0., 1., 0., 0., 0.],\n",
              "       [0., 0., 1., 0., 0.],\n",
              "       [0., 0., 0., 1., 0.],\n",
              "       [0., 0., 0., 0., 1.]])"
            ]
          },
          "metadata": {},
          "execution_count": 16
        }
      ]
    },
    {
      "cell_type": "code",
      "source": [
        "# Матрица на основе самых недавних значений в памяти\n",
        "a = np.empty((2,3,4))\n",
        "a"
      ],
      "metadata": {
        "colab": {
          "base_uri": "https://localhost:8080/"
        },
        "id": "Lu8K-UWPLRUg",
        "outputId": "c2f93dfd-a1f1-4f08-bf6e-eec458afc303"
      },
      "execution_count": null,
      "outputs": [
        {
          "output_type": "execute_result",
          "data": {
            "text/plain": [
              "array([[[1.33829340e-316, 6.81810591e-322, 0.00000000e+000,\n",
              "         0.00000000e+000],\n",
              "        [0.00000000e+000, 1.15998412e-028, 4.31603868e-080,\n",
              "         1.94919985e-153],\n",
              "        [1.35717430e+131, 3.84568617e-086, 6.03103063e-154,\n",
              "         7.07474950e-096]],\n",
              "\n",
              "       [[4.16302077e-062, 1.05089882e-153, 5.06549771e-086,\n",
              "         4.27255707e+180],\n",
              "        [7.21611655e-067, 3.77778426e+180, 1.15998412e-028,\n",
              "         8.93168690e+271],\n",
              "        [4.98131536e+151, 1.94920670e-153, 1.58377683e-319,\n",
              "         0.00000000e+000]]])"
            ]
          },
          "metadata": {},
          "execution_count": 17
        }
      ]
    },
    {
      "cell_type": "markdown",
      "source": [
        "тип данных и атрибуты массивов"
      ],
      "metadata": {
        "id": "BMhXDAPsLeY9"
      }
    },
    {
      "cell_type": "code",
      "source": [
        "a = np.random.randint(10, size = (10), dtype = 'int64')\n",
        "b = np.random.randint(10, size = (10,100), dtype = 'int32')\n",
        "c = np.random.randint(10, size = (10,15,10), dtype = 'int8')"
      ],
      "metadata": {
        "id": "8Fjh3iORLhpP"
      },
      "execution_count": null,
      "outputs": []
    },
    {
      "cell_type": "code",
      "source": [
        "# Выводим количество измерений масива( количество квадратных скобочек в массиве)\n",
        "print(a.ndim)\n",
        "print(b.ndim)\n",
        "print(c.ndim)"
      ],
      "metadata": {
        "colab": {
          "base_uri": "https://localhost:8080/"
        },
        "id": "ZZa43dAgL0na",
        "outputId": "d29913d3-9e09-4072-bd53-ec7db5930767"
      },
      "execution_count": null,
      "outputs": [
        {
          "output_type": "stream",
          "name": "stdout",
          "text": [
            "1\n",
            "2\n",
            "3\n"
          ]
        }
      ]
    },
    {
      "cell_type": "code",
      "source": [
        "# Выводим саму размерность\n",
        "print(a.shape)\n",
        "print(b.shape)\n",
        "print(c.shape)"
      ],
      "metadata": {
        "colab": {
          "base_uri": "https://localhost:8080/"
        },
        "id": "T5DiF2JdMkl1",
        "outputId": "c99c22ec-80fd-449a-c328-054163166ce4"
      },
      "execution_count": null,
      "outputs": [
        {
          "output_type": "stream",
          "name": "stdout",
          "text": [
            "(10,)\n",
            "(10, 100)\n",
            "(10, 15, 10)\n"
          ]
        }
      ]
    },
    {
      "cell_type": "code",
      "source": [
        "# Выводим общую размерность, то есть перемножение всех параметров, которые вывел shape\n",
        "print(a.size)\n",
        "print(b.size)\n",
        "print(c.size)"
      ],
      "metadata": {
        "colab": {
          "base_uri": "https://localhost:8080/"
        },
        "id": "O3L8SQ9tMu2K",
        "outputId": "257ee0c3-2718-44cc-d981-2a742b4649ad"
      },
      "execution_count": null,
      "outputs": [
        {
          "output_type": "stream",
          "name": "stdout",
          "text": [
            "10\n",
            "1000\n",
            "1500\n"
          ]
        }
      ]
    },
    {
      "cell_type": "code",
      "source": [
        "# Type of data\n",
        "print(a.dtype)\n",
        "print(b.dtype)\n",
        "print(c.dtype)"
      ],
      "metadata": {
        "colab": {
          "base_uri": "https://localhost:8080/"
        },
        "id": "mxO3y7orNEf3",
        "outputId": "bc7546cf-7e22-4d44-c0ce-df5e2970cc1f"
      },
      "execution_count": null,
      "outputs": [
        {
          "output_type": "stream",
          "name": "stdout",
          "text": [
            "int64\n",
            "int32\n",
            "int8\n"
          ]
        }
      ]
    },
    {
      "cell_type": "code",
      "source": [
        "# Сколько весит один элемент в байтах\n",
        "print(a.itemsize)\n",
        "print(b.itemsize)\n",
        "print(c.itemsize)"
      ],
      "metadata": {
        "colab": {
          "base_uri": "https://localhost:8080/"
        },
        "id": "R-9BBKOoNM-F",
        "outputId": "86da3221-59b4-40f0-d2e5-3729b15d5e0b"
      },
      "execution_count": null,
      "outputs": [
        {
          "output_type": "stream",
          "name": "stdout",
          "text": [
            "8\n",
            "4\n",
            "1\n"
          ]
        }
      ]
    },
    {
      "cell_type": "code",
      "source": [
        "# Сколько весят все элементы в байтах\n",
        "print(a.nbytes)\n",
        "print(b.nbytes)\n",
        "print(c.nbytes)"
      ],
      "metadata": {
        "colab": {
          "base_uri": "https://localhost:8080/"
        },
        "id": "HRh3oy2vNgNI",
        "outputId": "202b0b67-4596-4243-bc0b-bbf80c5c3d40"
      },
      "execution_count": null,
      "outputs": [
        {
          "output_type": "stream",
          "name": "stdout",
          "text": [
            "80\n",
            "4000\n",
            "1500\n"
          ]
        }
      ]
    },
    {
      "cell_type": "code",
      "source": [
        "s = np.empty((100,100,100), dtype = 'int8')\n",
        "d = np.empty((100,100,100), dtype = 'complex128')\n",
        "print(s.nbytes)\n",
        "print(d.nbytes)"
      ],
      "metadata": {
        "colab": {
          "base_uri": "https://localhost:8080/"
        },
        "id": "-x2ykDE5Nrgu",
        "outputId": "7b5fd3ff-ddd5-47d6-daf9-3412d312eab5"
      },
      "execution_count": null,
      "outputs": [
        {
          "output_type": "stream",
          "name": "stdout",
          "text": [
            "1000000\n",
            "16000000\n"
          ]
        }
      ]
    },
    {
      "cell_type": "markdown",
      "source": [
        "Индексация масивов"
      ],
      "metadata": {
        "id": "pCyLWSC8NyPa"
      }
    },
    {
      "cell_type": "code",
      "source": [
        "sp = [[0,1],[2,3],[4,5]]\n",
        "m = np.array([[0,1],[2,3],[4,5]])\n",
        "print(sp[2])\n",
        "print(m[2])"
      ],
      "metadata": {
        "colab": {
          "base_uri": "https://localhost:8080/"
        },
        "id": "vaP19E1nOCMH",
        "outputId": "e7de3f8a-9e79-49c9-a2db-761a0444f6e3"
      },
      "execution_count": null,
      "outputs": [
        {
          "output_type": "stream",
          "name": "stdout",
          "text": [
            "[4, 5]\n",
            "[4 5]\n"
          ]
        }
      ]
    },
    {
      "cell_type": "code",
      "source": [
        "print(sp)\n",
        "print(m)"
      ],
      "metadata": {
        "colab": {
          "base_uri": "https://localhost:8080/"
        },
        "id": "GLGWqfm6N22C",
        "outputId": "c967d52d-4e88-4081-f784-7c037bf41209"
      },
      "execution_count": null,
      "outputs": [
        {
          "output_type": "stream",
          "name": "stdout",
          "text": [
            "[[0, 1], [2, 3], [4, 5]]\n",
            "[[0 1]\n",
            " [2 3]\n",
            " [4 5]]\n"
          ]
        }
      ]
    },
    {
      "cell_type": "code",
      "source": [
        "sp[0][0] = 10\n",
        "m[0, 0] = 10"
      ],
      "metadata": {
        "id": "z8sMs2QTOSGb"
      },
      "execution_count": null,
      "outputs": []
    },
    {
      "cell_type": "code",
      "source": [
        "print(sp[0])\n",
        "print(m[0])"
      ],
      "metadata": {
        "colab": {
          "base_uri": "https://localhost:8080/"
        },
        "id": "hxV3m2ZwOT0U",
        "outputId": "5dfde665-7132-4e8d-d355-03f3f6dce701"
      },
      "execution_count": null,
      "outputs": [
        {
          "output_type": "stream",
          "name": "stdout",
          "text": [
            "[10, 1]\n",
            "[10  1]\n"
          ]
        }
      ]
    },
    {
      "cell_type": "markdown",
      "source": [
        "Срезы массивов"
      ],
      "metadata": {
        "id": "ogFZrjOqOYV4"
      }
    },
    {
      "cell_type": "code",
      "source": [
        "m = np.array([range (i, i+10, 2) for i in range(0,10,2)])\n",
        "m"
      ],
      "metadata": {
        "colab": {
          "base_uri": "https://localhost:8080/"
        },
        "id": "wf2V52pLOa3w",
        "outputId": "20022072-3dc3-414c-8e06-0d4d565e768d"
      },
      "execution_count": null,
      "outputs": [
        {
          "output_type": "execute_result",
          "data": {
            "text/plain": [
              "array([[ 0,  2,  4,  6,  8],\n",
              "       [ 2,  4,  6,  8, 10],\n",
              "       [ 4,  6,  8, 10, 12],\n",
              "       [ 6,  8, 10, 12, 14],\n",
              "       [ 8, 10, 12, 14, 16]])"
            ]
          },
          "metadata": {},
          "execution_count": 36
        }
      ]
    },
    {
      "cell_type": "code",
      "source": [
        "# Срез по строкам от 0 до 3(не включая)\n",
        "m[0:3]"
      ],
      "metadata": {
        "colab": {
          "base_uri": "https://localhost:8080/"
        },
        "id": "6Gu6cU8VOfNX",
        "outputId": "6187e095-18d0-495e-c074-6124e64dc662"
      },
      "execution_count": null,
      "outputs": [
        {
          "output_type": "execute_result",
          "data": {
            "text/plain": [
              "array([[ 0,  2,  4,  6,  8],\n",
              "       [ 2,  4,  6,  8, 10],\n",
              "       [ 4,  6,  8, 10, 12]])"
            ]
          },
          "metadata": {},
          "execution_count": 37
        }
      ]
    },
    {
      "cell_type": "code",
      "source": [
        "# Срез 1 по строкам, 2 по столбцам\n",
        "m[0:3,2:4]"
      ],
      "metadata": {
        "colab": {
          "base_uri": "https://localhost:8080/"
        },
        "id": "q5N2b4dMOoYw",
        "outputId": "adacf150-5247-4f2a-fc9b-d84b929780ac"
      },
      "execution_count": null,
      "outputs": [
        {
          "output_type": "execute_result",
          "data": {
            "text/plain": [
              "array([[ 4,  6],\n",
              "       [ 6,  8],\n",
              "       [ 8, 10]])"
            ]
          },
          "metadata": {},
          "execution_count": 38
        }
      ]
    },
    {
      "cell_type": "code",
      "source": [
        "m[:,:]"
      ],
      "metadata": {
        "colab": {
          "base_uri": "https://localhost:8080/"
        },
        "id": "6wsJtzzWO0OX",
        "outputId": "2f6352ed-d0a5-48ad-a098-19537fde6db9"
      },
      "execution_count": null,
      "outputs": [
        {
          "output_type": "execute_result",
          "data": {
            "text/plain": [
              "array([[ 0,  2,  4,  6,  8],\n",
              "       [ 2,  4,  6,  8, 10],\n",
              "       [ 4,  6,  8, 10, 12],\n",
              "       [ 6,  8, 10, 12, 14],\n",
              "       [ 8, 10, 12, 14, 16]])"
            ]
          },
          "metadata": {},
          "execution_count": 39
        }
      ]
    },
    {
      "cell_type": "code",
      "source": [
        "sp1 = [1,2,3,4,5,6,7]\n",
        "sp2 = sp1[2:4]\n",
        "sp2"
      ],
      "metadata": {
        "colab": {
          "base_uri": "https://localhost:8080/"
        },
        "id": "tlW5Rc-rO4xB",
        "outputId": "2841fdac-ee2d-4121-96c8-770e7622cf89"
      },
      "execution_count": null,
      "outputs": [
        {
          "output_type": "execute_result",
          "data": {
            "text/plain": [
              "[3, 4]"
            ]
          },
          "metadata": {},
          "execution_count": 40
        }
      ]
    },
    {
      "cell_type": "code",
      "source": [
        "sp2[0] = 100\n",
        "print(sp1)\n",
        "print(sp2)"
      ],
      "metadata": {
        "colab": {
          "base_uri": "https://localhost:8080/"
        },
        "id": "Udmo7CkNO6I5",
        "outputId": "c301fe6e-6970-45cc-c629-f77dc8f4f49e"
      },
      "execution_count": null,
      "outputs": [
        {
          "output_type": "stream",
          "name": "stdout",
          "text": [
            "[1, 2, 3, 4, 5, 6, 7]\n",
            "[100, 4]\n"
          ]
        }
      ]
    },
    {
      "cell_type": "code",
      "source": [
        "m1 = np.array([1,2,3,4,5,6,7])\n",
        "m2 = m1[2:4]\n",
        "m2"
      ],
      "metadata": {
        "colab": {
          "base_uri": "https://localhost:8080/"
        },
        "id": "KuzH41PiPDwV",
        "outputId": "6336c1a5-60f7-4942-8574-77cccecae876"
      },
      "execution_count": null,
      "outputs": [
        {
          "output_type": "execute_result",
          "data": {
            "text/plain": [
              "array([3, 4])"
            ]
          },
          "metadata": {},
          "execution_count": 43
        }
      ]
    },
    {
      "cell_type": "code",
      "source": [
        "m2[0] = 100\n",
        "print(m1)\n",
        "print(m2)"
      ],
      "metadata": {
        "colab": {
          "base_uri": "https://localhost:8080/"
        },
        "id": "phZ159zbPGrO",
        "outputId": "cf5ad406-c6e9-4214-c7d2-3d927e28dc2d"
      },
      "execution_count": null,
      "outputs": [
        {
          "output_type": "stream",
          "name": "stdout",
          "text": [
            "[  1   2 100   4   5   6   7]\n",
            "[100   4]\n"
          ]
        }
      ]
    },
    {
      "cell_type": "code",
      "source": [
        "m1 = np.array([1,2,3,4,5,6,7])\n",
        "m2 = m1[2:4].copy()\n",
        "m2"
      ],
      "metadata": {
        "colab": {
          "base_uri": "https://localhost:8080/"
        },
        "id": "C4Kus7T8PPQN",
        "outputId": "4de233c5-97e7-4de8-c385-aadf8a8f9de9"
      },
      "execution_count": null,
      "outputs": [
        {
          "output_type": "execute_result",
          "data": {
            "text/plain": [
              "array([3, 4])"
            ]
          },
          "metadata": {},
          "execution_count": 47
        }
      ]
    },
    {
      "cell_type": "code",
      "source": [
        "m2[0] = 100\n",
        "print(m1)\n",
        "print(m2)"
      ],
      "metadata": {
        "colab": {
          "base_uri": "https://localhost:8080/"
        },
        "id": "GMAa0_yePRUP",
        "outputId": "77ad763b-6f78-44d3-ec32-8106ebda134a"
      },
      "execution_count": null,
      "outputs": [
        {
          "output_type": "stream",
          "name": "stdout",
          "text": [
            "[1 2 3 4 5 6 7]\n",
            "[100   4]\n"
          ]
        }
      ]
    },
    {
      "cell_type": "markdown",
      "source": [
        "Изменение формы массивов"
      ],
      "metadata": {
        "id": "nw69RuyGPXEu"
      }
    },
    {
      "cell_type": "code",
      "source": [
        "m = np.arange(1,10).reshape(3,3)\n",
        "m"
      ],
      "metadata": {
        "colab": {
          "base_uri": "https://localhost:8080/"
        },
        "id": "daPsiGU8PWHY",
        "outputId": "8e68565a-3f13-478a-9370-985de574dcb0"
      },
      "execution_count": null,
      "outputs": [
        {
          "output_type": "execute_result",
          "data": {
            "text/plain": [
              "array([[1, 2, 3],\n",
              "       [4, 5, 6],\n",
              "       [7, 8, 9]])"
            ]
          },
          "metadata": {},
          "execution_count": 50
        }
      ]
    },
    {
      "cell_type": "code",
      "source": [
        "m1 = np.array([1,2,3])\n",
        "print(m1)\n",
        "print(m1[np.newaxis, :])"
      ],
      "metadata": {
        "colab": {
          "base_uri": "https://localhost:8080/"
        },
        "id": "saOzOkbNPc7E",
        "outputId": "84f7f33c-6670-436b-feb4-de7205978a05"
      },
      "execution_count": null,
      "outputs": [
        {
          "output_type": "stream",
          "name": "stdout",
          "text": [
            "[1 2 3]\n",
            "[[1 2 3]]\n"
          ]
        }
      ]
    },
    {
      "cell_type": "code",
      "source": [
        "m1 = np.array([1,2,3])\n",
        "print(m1)\n",
        "print(m1[:, np.newaxis])"
      ],
      "metadata": {
        "colab": {
          "base_uri": "https://localhost:8080/"
        },
        "id": "PxHqe7DfPqQs",
        "outputId": "adbac8e3-1206-4b11-903f-2d78f293e631"
      },
      "execution_count": null,
      "outputs": [
        {
          "output_type": "stream",
          "name": "stdout",
          "text": [
            "[1 2 3]\n",
            "[[1]\n",
            " [2]\n",
            " [3]]\n"
          ]
        }
      ]
    },
    {
      "cell_type": "markdown",
      "source": [
        "Слияние и разбиение массивов"
      ],
      "metadata": {
        "id": "XrJyk2buPuSN"
      }
    },
    {
      "cell_type": "code",
      "source": [
        "x = np.array([1,2,3])\n",
        "y = np.array([3,2,1])\n",
        "n = [0, 0, 0]\n",
        "m = np.concatenate([x,y,n])\n",
        "m1 = np.concatenate([y,n,x])\n",
        "m2 = np.concatenate([x,n,x])\n",
        "print(m)\n",
        "print(m1)\n",
        "print(m2)"
      ],
      "metadata": {
        "colab": {
          "base_uri": "https://localhost:8080/"
        },
        "id": "wIFEU2xHPxql",
        "outputId": "2af1b3ff-d1a7-452e-e38d-ad356817ebbd"
      },
      "execution_count": null,
      "outputs": [
        {
          "output_type": "stream",
          "name": "stdout",
          "text": [
            "[1 2 3 3 2 1 0 0 0]\n",
            "[3 2 1 0 0 0 1 2 3]\n",
            "[1 2 3 0 0 0 1 2 3]\n"
          ]
        }
      ]
    },
    {
      "cell_type": "code",
      "source": [
        "# axis по какой оси производить слияние 0 - добавлять строки, 1 добавлять столбцы\n",
        "x = np.array([[1,2,3],\n",
        "              [4,5,6]])\n",
        "x0 = np.concatenate([x,x], axis = 0)\n",
        "x1 = np.concatenate([x,x], axis = 1)\n",
        "print(x0)\n",
        "print(x1)"
      ],
      "metadata": {
        "colab": {
          "base_uri": "https://localhost:8080/"
        },
        "id": "LW2v1Am9P6L8",
        "outputId": "0bdbff04-e924-4780-eb47-3b58deabb037"
      },
      "execution_count": null,
      "outputs": [
        {
          "output_type": "stream",
          "name": "stdout",
          "text": [
            "[[1 2 3]\n",
            " [4 5 6]\n",
            " [1 2 3]\n",
            " [4 5 6]]\n",
            "[[1 2 3 1 2 3]\n",
            " [4 5 6 4 5 6]]\n"
          ]
        }
      ]
    },
    {
      "cell_type": "code",
      "source": [
        "y = np.array([[10,20,22],\n",
        "              [30, 40,44],\n",
        "             [100,100,100]])\n",
        "x0 = np.concatenate([x,y], axis = 0)\n",
        "x0"
      ],
      "metadata": {
        "colab": {
          "base_uri": "https://localhost:8080/"
        },
        "id": "BHZyUfuhQJNC",
        "outputId": "64f869c9-e16f-477f-f6a0-d2e75a8b0fcb"
      },
      "execution_count": null,
      "outputs": [
        {
          "output_type": "execute_result",
          "data": {
            "text/plain": [
              "array([[  1,   2,   3],\n",
              "       [  4,   5,   6],\n",
              "       [ 10,  20,  22],\n",
              "       [ 30,  40,  44],\n",
              "       [100, 100, 100]])"
            ]
          },
          "metadata": {},
          "execution_count": 59
        }
      ]
    },
    {
      "cell_type": "code",
      "source": [
        "# vstack == axis = 0 присоединени через добавление строк\n",
        "x = np.array([[1,2,3],\n",
        "              [4,5,6]])\n",
        "m = np.vstack([x,x])\n",
        "m"
      ],
      "metadata": {
        "colab": {
          "base_uri": "https://localhost:8080/"
        },
        "id": "r2F-d6ecQObq",
        "outputId": "6c58b23b-48f1-4467-df31-b28af8becf69"
      },
      "execution_count": null,
      "outputs": [
        {
          "output_type": "execute_result",
          "data": {
            "text/plain": [
              "array([[1, 2, 3],\n",
              "       [4, 5, 6],\n",
              "       [1, 2, 3],\n",
              "       [4, 5, 6]])"
            ]
          },
          "metadata": {},
          "execution_count": 60
        }
      ]
    },
    {
      "cell_type": "code",
      "source": [
        "# hstack == axis = 1 присоединени через добавление столбцов\n",
        "x = np.array([[1,2,3],\n",
        "              [4,5,6]])\n",
        "m = np.hstack([x,x])\n",
        "m"
      ],
      "metadata": {
        "colab": {
          "base_uri": "https://localhost:8080/"
        },
        "id": "jtwz79ZZQ3Ko",
        "outputId": "7ee2b66c-0766-4fd9-e6a9-bf08b9504304"
      },
      "execution_count": null,
      "outputs": [
        {
          "output_type": "execute_result",
          "data": {
            "text/plain": [
              "array([[1, 2, 3, 1, 2, 3],\n",
              "       [4, 5, 6, 4, 5, 6]])"
            ]
          },
          "metadata": {},
          "execution_count": 61
        }
      ]
    },
    {
      "cell_type": "code",
      "source": [
        "# dstack присоединение в виде 3 измерения\n",
        "x = np.array([[1,2,3],\n",
        "              [4,5,6]])\n",
        "m = np.dstack([x,x])\n",
        "m"
      ],
      "metadata": {
        "colab": {
          "base_uri": "https://localhost:8080/"
        },
        "id": "4EY5zOd0RRHf",
        "outputId": "edfe516e-e4a7-41e8-e27d-575be7080b78"
      },
      "execution_count": null,
      "outputs": [
        {
          "output_type": "execute_result",
          "data": {
            "text/plain": [
              "array([[[1, 1],\n",
              "        [2, 2],\n",
              "        [3, 3]],\n",
              "\n",
              "       [[4, 4],\n",
              "        [5, 5],\n",
              "        [6, 6]]])"
            ]
          },
          "metadata": {},
          "execution_count": 62
        }
      ]
    },
    {
      "cell_type": "code",
      "source": [
        "m = np.arange(16).reshape((4,4))\n",
        "m"
      ],
      "metadata": {
        "colab": {
          "base_uri": "https://localhost:8080/"
        },
        "id": "CvGgAa-fRdF-",
        "outputId": "bd4c9fd3-4442-4fe1-f1f1-51e53120030a"
      },
      "execution_count": null,
      "outputs": [
        {
          "output_type": "execute_result",
          "data": {
            "text/plain": [
              "array([[ 0,  1,  2,  3],\n",
              "       [ 4,  5,  6,  7],\n",
              "       [ 8,  9, 10, 11],\n",
              "       [12, 13, 14, 15]])"
            ]
          },
          "metadata": {},
          "execution_count": 63
        }
      ]
    },
    {
      "cell_type": "code",
      "source": [
        "# разделяем массив на 3 массива по строкам до 1, от 1 до 3, от 3 до конца\n",
        "# (Последние цифры не включительные)\n",
        "upper, lower, a = np.vsplit(m,[1,3])\n",
        "upper, lower, a"
      ],
      "metadata": {
        "colab": {
          "base_uri": "https://localhost:8080/"
        },
        "id": "8z7wnWsiRg3E",
        "outputId": "3f75b6fc-c6ff-41c6-d7ea-789d3e609413"
      },
      "execution_count": null,
      "outputs": [
        {
          "output_type": "execute_result",
          "data": {
            "text/plain": [
              "(array([[0, 1, 2, 3]]), array([[ 4,  5,  6,  7],\n",
              "        [ 8,  9, 10, 11]]), array([[12, 13, 14, 15]]))"
            ]
          },
          "metadata": {},
          "execution_count": 64
        }
      ]
    },
    {
      "cell_type": "code",
      "source": [
        "# тоже самое что и vsplit, только по столбцам\n",
        "upper, lower, a = np.hsplit(m,[1,3])\n",
        "upper, lower, a"
      ],
      "metadata": {
        "colab": {
          "base_uri": "https://localhost:8080/"
        },
        "id": "K1SVlourR5DO",
        "outputId": "2887bd94-7727-46cb-a171-ef70ad93bb53"
      },
      "execution_count": null,
      "outputs": [
        {
          "output_type": "execute_result",
          "data": {
            "text/plain": [
              "(array([[ 0],\n",
              "        [ 4],\n",
              "        [ 8],\n",
              "        [12]]), array([[ 1,  2],\n",
              "        [ 5,  6],\n",
              "        [ 9, 10],\n",
              "        [13, 14]]), array([[ 3],\n",
              "        [ 7],\n",
              "        [11],\n",
              "        [15]]))"
            ]
          },
          "metadata": {},
          "execution_count": 65
        }
      ]
    },
    {
      "cell_type": "code",
      "source": [
        "x = np.arange(16).reshape(2,2,4)\n",
        "print(x)\n",
        "upper, lower = np.dsplit(x,[2])\n",
        "upper, lower"
      ],
      "metadata": {
        "colab": {
          "base_uri": "https://localhost:8080/"
        },
        "id": "niypR3-GSC8S",
        "outputId": "1cda6f78-090d-4784-c187-5412e4839581"
      },
      "execution_count": null,
      "outputs": [
        {
          "output_type": "stream",
          "name": "stdout",
          "text": [
            "[[[ 0  1  2  3]\n",
            "  [ 4  5  6  7]]\n",
            "\n",
            " [[ 8  9 10 11]\n",
            "  [12 13 14 15]]]\n"
          ]
        },
        {
          "output_type": "execute_result",
          "data": {
            "text/plain": [
              "(array([[[ 0,  1],\n",
              "         [ 4,  5]],\n",
              " \n",
              "        [[ 8,  9],\n",
              "         [12, 13]]]), array([[[ 2,  3],\n",
              "         [ 6,  7]],\n",
              " \n",
              "        [[10, 11],\n",
              "         [14, 15]]]))"
            ]
          },
          "metadata": {},
          "execution_count": 67
        }
      ]
    },
    {
      "cell_type": "markdown",
      "source": [
        "Универсальыне функции"
      ],
      "metadata": {
        "id": "pE962GlrSN0S"
      }
    },
    {
      "cell_type": "code",
      "source": [
        "x = np.arange(10)\n",
        "x"
      ],
      "metadata": {
        "colab": {
          "base_uri": "https://localhost:8080/"
        },
        "id": "gCvWpahfSH3p",
        "outputId": "4dde6c5c-ac62-429d-ab41-b27de235b7dc"
      },
      "execution_count": null,
      "outputs": [
        {
          "output_type": "execute_result",
          "data": {
            "text/plain": [
              "array([0, 1, 2, 3, 4, 5, 6, 7, 8, 9])"
            ]
          },
          "metadata": {},
          "execution_count": 68
        }
      ]
    },
    {
      "cell_type": "code",
      "source": [
        "print(\"-x =\", -x)\n",
        "print(\"x + 5 =\", x + 5)\n",
        "print(\"x - 5 =\", x - 5)\n",
        "print(\"x * 2 =\", x * 2)\n",
        "print(\"x ** 2 =\", x ** 2)\n",
        "print(\"x / 2 =\", x / 2)\n",
        "print(\"x // 2 =\", x // 2)\n",
        "print(\"x % 2 =\", x % 2)"
      ],
      "metadata": {
        "colab": {
          "base_uri": "https://localhost:8080/"
        },
        "id": "rHsSG-wCSNBt",
        "outputId": "3b4018f8-aea3-44fd-92be-d8d322d1bbb3"
      },
      "execution_count": null,
      "outputs": [
        {
          "output_type": "stream",
          "name": "stdout",
          "text": [
            "-x = [ 0 -1 -2 -3 -4 -5 -6 -7 -8 -9]\n",
            "x + 5 = [ 5  6  7  8  9 10 11 12 13 14]\n",
            "x - 5 = [-5 -4 -3 -2 -1  0  1  2  3  4]\n",
            "x * 2 = [ 0  2  4  6  8 10 12 14 16 18]\n",
            "x ** 2 = [ 0  1  4  9 16 25 36 49 64 81]\n",
            "x / 2 = [0.  0.5 1.  1.5 2.  2.5 3.  3.5 4.  4.5]\n",
            "x // 2 = [0 0 1 1 2 2 3 3 4 4]\n",
            "x % 2 = [0 1 0 1 0 1 0 1 0 1]\n"
          ]
        }
      ]
    },
    {
      "cell_type": "markdown",
      "source": [
        "Оператор  | Эквивалентная универсальная функция | Описание\n",
        "----------|------------------------------------|---\n",
        "+       | np.add | Сложение (например, 1+1=2)\n",
        "-       | np.subtract | Вычитание (например, 3-2=1)\n",
        "-       | np.negative | Унарная операция изменения знака (например, -2)\n",
        "* | np.multiply | Умножение (например, 2*3=6)\n",
        "/ | np.divide | Деление (напрмер, 3/2=1.5)\n",
        "// | np.floor_divide | Деление с округлением в меньшую сторону (например, 3//2=1)\n",
        "** | np.power | Возведение в степень (например, 2**3=8)\n",
        "% | np.mod | Модуль/остаток (например, 9%4=1)"
      ],
      "metadata": {
        "id": "jr0hBoZ7SoiI"
      }
    },
    {
      "cell_type": "code",
      "source": [
        "# Вычисляют абсолютное значение числа\n",
        "x = np.array([-2,-1,0,1,2])\n",
        "np.abs(x)"
      ],
      "metadata": {
        "colab": {
          "base_uri": "https://localhost:8080/"
        },
        "id": "-5-J8My5U6wB",
        "outputId": "bfcd0455-118b-4d16-e9a3-94a128d2d01a"
      },
      "execution_count": null,
      "outputs": [
        {
          "output_type": "execute_result",
          "data": {
            "text/plain": [
              "array([2, 1, 0, 1, 2])"
            ]
          },
          "metadata": {},
          "execution_count": 70
        }
      ]
    },
    {
      "cell_type": "code",
      "source": [
        "x = np.array([3 - 4j, 4 - 3j, 2 + 0j, 0 + 1j])\n",
        "np.abs(x)"
      ],
      "metadata": {
        "colab": {
          "base_uri": "https://localhost:8080/"
        },
        "id": "wxAJ1VvsWVb1",
        "outputId": "2340b4a8-83b7-4657-9040-39637f25ba9b"
      },
      "execution_count": null,
      "outputs": [
        {
          "output_type": "execute_result",
          "data": {
            "text/plain": [
              "array([5., 5., 2., 1.])"
            ]
          },
          "metadata": {},
          "execution_count": 71
        }
      ]
    },
    {
      "cell_type": "code",
      "source": [
        "theta = np.linspace(0, np.pi, 3)\n",
        "theta"
      ],
      "metadata": {
        "colab": {
          "base_uri": "https://localhost:8080/"
        },
        "id": "wITY3dAEWX9a",
        "outputId": "1e4ee1d7-72e9-4fd7-c446-37309b7b8cff"
      },
      "execution_count": null,
      "outputs": [
        {
          "output_type": "execute_result",
          "data": {
            "text/plain": [
              "array([0.        , 1.57079633, 3.14159265])"
            ]
          },
          "metadata": {},
          "execution_count": 72
        }
      ]
    },
    {
      "cell_type": "code",
      "source": [
        "print(\"theta = \", theta)\n",
        "print(\"sin(theta) = \", np.sin(theta))\n",
        "print(\"cos(theta) = \", np.cos(theta))\n",
        "print(\"tan(theta) = \", np.tan(theta))"
      ],
      "metadata": {
        "colab": {
          "base_uri": "https://localhost:8080/"
        },
        "id": "zN-gtKfIWbDh",
        "outputId": "80a3ec77-8db0-4030-baee-aeca0f0f59fb"
      },
      "execution_count": null,
      "outputs": [
        {
          "output_type": "stream",
          "name": "stdout",
          "text": [
            "theta =  [0.         1.57079633 3.14159265]\n",
            "sin(theta) =  [0.0000000e+00 1.0000000e+00 1.2246468e-16]\n",
            "cos(theta) =  [ 1.000000e+00  6.123234e-17 -1.000000e+00]\n",
            "tan(theta) =  [ 0.00000000e+00  1.63312394e+16 -1.22464680e-16]\n"
          ]
        }
      ]
    },
    {
      "cell_type": "code",
      "source": [
        "x = [-1, 0, 1]\n",
        "print(\"x = \", x)\n",
        "print(\"arcsin(x) = \", np.arcsin(x))\n",
        "print(\"arccos(x) = \", np.arccos(x))\n",
        "print(\"arctan(x) = \", np.arctan(x))"
      ],
      "metadata": {
        "colab": {
          "base_uri": "https://localhost:8080/"
        },
        "id": "tj-86XetWczj",
        "outputId": "d054b32f-d205-4377-86f7-8a60a26f5419"
      },
      "execution_count": null,
      "outputs": [
        {
          "output_type": "stream",
          "name": "stdout",
          "text": [
            "x =  [-1, 0, 1]\n",
            "arcsin(x) =  [-1.57079633  0.          1.57079633]\n",
            "arccos(x) =  [3.14159265 1.57079633 0.        ]\n",
            "arctan(x) =  [-0.78539816  0.          0.78539816]\n"
          ]
        }
      ]
    },
    {
      "cell_type": "code",
      "source": [
        "x = [1, 2, 3]\n",
        "print(\"x =\", x)\n",
        "print(\"e^x =\", np.exp(x))\n",
        "print(\"2^x =\", np.exp2(x))\n",
        "print(\"3^x =\", np.power(3, x))"
      ],
      "metadata": {
        "colab": {
          "base_uri": "https://localhost:8080/"
        },
        "id": "ZITJdqC1Wfob",
        "outputId": "dfc3d067-5206-400a-c26c-e996a113e134"
      },
      "execution_count": null,
      "outputs": [
        {
          "output_type": "stream",
          "name": "stdout",
          "text": [
            "x = [1, 2, 3]\n",
            "e^x = [ 2.71828183  7.3890561  20.08553692]\n",
            "2^x = [2. 4. 8.]\n",
            "3^x = [ 3  9 27]\n"
          ]
        }
      ]
    },
    {
      "cell_type": "code",
      "source": [
        "x = [1, 2, 4, 10]\n",
        "print(\"x =\", x)\n",
        "print(\"ln(x) =\", np.log(x))\n",
        "print(\"log2(x) =\", np.log2(x))\n",
        "print(\"log10(x) =\", np.log10(x))"
      ],
      "metadata": {
        "colab": {
          "base_uri": "https://localhost:8080/"
        },
        "id": "V9C0drymWl1f",
        "outputId": "008081b2-d6d7-4657-c9c0-613cd847d736"
      },
      "execution_count": null,
      "outputs": [
        {
          "output_type": "stream",
          "name": "stdout",
          "text": [
            "x = [1, 2, 4, 10]\n",
            "ln(x) = [0.         0.69314718 1.38629436 2.30258509]\n",
            "log2(x) = [0.         1.         2.         3.32192809]\n",
            "log10(x) = [0.         0.30103    0.60205999 1.        ]\n"
          ]
        }
      ]
    },
    {
      "cell_type": "code",
      "source": [
        "x = np.arange(5)\n",
        "y = np.empty(5)\n",
        "np.multiply(x, 10, out=y)\n",
        "print(y)"
      ],
      "metadata": {
        "colab": {
          "base_uri": "https://localhost:8080/"
        },
        "id": "Q6iGyty5Wnry",
        "outputId": "6d18b7f7-e340-4aae-cb77-9bb691a2fb0e"
      },
      "execution_count": null,
      "outputs": [
        {
          "output_type": "stream",
          "name": "stdout",
          "text": [
            "[ 0. 10. 20. 30. 40.]\n"
          ]
        }
      ]
    },
    {
      "cell_type": "code",
      "source": [
        "y = np.zeros(5)\n",
        "np.power(2, x, out=y[::])\n",
        "print(y)"
      ],
      "metadata": {
        "colab": {
          "base_uri": "https://localhost:8080/"
        },
        "id": "xXri7DQZWrJV",
        "outputId": "783fe985-8f60-4015-c1de-1cd5a9c56290"
      },
      "execution_count": null,
      "outputs": [
        {
          "output_type": "stream",
          "name": "stdout",
          "text": [
            "[ 1.  2.  4.  8. 16.]\n"
          ]
        }
      ]
    },
    {
      "cell_type": "code",
      "source": [
        "ш\n",
        "# применяет операцию со всеми значениями постепенно до итогового результата\n",
        "x = np.arange(1, 6)\n",
        "print(np.add.reduce(x))\n",
        "print(np.multiply.reduce(x))"
      ],
      "metadata": {
        "colab": {
          "base_uri": "https://localhost:8080/"
        },
        "id": "jjYB-l7fW8Im",
        "outputId": "4c88e737-1e67-4b73-9730-bcc7190d9f8f"
      },
      "execution_count": null,
      "outputs": [
        {
          "output_type": "stream",
          "name": "stdout",
          "text": [
            "15\n",
            "120\n"
          ]
        }
      ]
    },
    {
      "cell_type": "code",
      "source": [
        "# accumulate - показывает промежуточные результаты до получения итогового по любой операции\n",
        "x = np.arange(1, 6)\n",
        "print(np.add.accumulate(x))\n",
        "print(np.multiply.accumulate(x))"
      ],
      "metadata": {
        "colab": {
          "base_uri": "https://localhost:8080/"
        },
        "id": "ybmmwzYvXO59",
        "outputId": "f55e7201-4d8d-417d-c92b-8578421ebf90"
      },
      "execution_count": null,
      "outputs": [
        {
          "output_type": "stream",
          "name": "stdout",
          "text": [
            "[ 1  3  6 10 15]\n",
            "[  1   2   6  24 120]\n"
          ]
        }
      ]
    },
    {
      "cell_type": "code",
      "source": [
        "# outer позволяет производить действия по строчно, то есть в начале 1 с 1, 1 с 2, и т.д\n",
        "x = np.arange(1, 6)\n",
        "np.multiply.outer(x, x)"
      ],
      "metadata": {
        "colab": {
          "base_uri": "https://localhost:8080/"
        },
        "id": "Fk5j-fsRZTm9",
        "outputId": "99c80ae0-5ae2-498b-90d1-f9f15d1323ad"
      },
      "execution_count": null,
      "outputs": [
        {
          "output_type": "execute_result",
          "data": {
            "text/plain": [
              "array([[ 1,  2,  3,  4,  5],\n",
              "       [ 2,  4,  6,  8, 10],\n",
              "       [ 3,  6,  9, 12, 15],\n",
              "       [ 4,  8, 12, 16, 20],\n",
              "       [ 5, 10, 15, 20, 25]])"
            ]
          },
          "metadata": {},
          "execution_count": 82
        }
      ]
    },
    {
      "cell_type": "code",
      "source": [
        "x = np.arange(1, 6)\n",
        "np.add.outer(x, x)"
      ],
      "metadata": {
        "colab": {
          "base_uri": "https://localhost:8080/"
        },
        "id": "Oe2iDq8AZoCE",
        "outputId": "c3464bcd-3e3a-4beb-94c6-3b1336563e2a"
      },
      "execution_count": null,
      "outputs": [
        {
          "output_type": "execute_result",
          "data": {
            "text/plain": [
              "array([[ 2,  3,  4,  5,  6],\n",
              "       [ 3,  4,  5,  6,  7],\n",
              "       [ 4,  5,  6,  7,  8],\n",
              "       [ 5,  6,  7,  8,  9],\n",
              "       [ 6,  7,  8,  9, 10]])"
            ]
          },
          "metadata": {},
          "execution_count": 83
        }
      ]
    },
    {
      "cell_type": "code",
      "source": [
        "l = np.random.random(100)\n",
        "print(np.sum(l))\n",
        "print(np.max(l))\n",
        "print(np.min(l))"
      ],
      "metadata": {
        "colab": {
          "base_uri": "https://localhost:8080/"
        },
        "id": "Z2CMw66XZp0m",
        "outputId": "5a38664e-cdb1-4dca-c297-1b00faab355b"
      },
      "execution_count": null,
      "outputs": [
        {
          "output_type": "stream",
          "name": "stdout",
          "text": [
            "56.01198348066898\n",
            "0.9746300923144524\n",
            "0.03455076943015234\n"
          ]
        }
      ]
    },
    {
      "cell_type": "code",
      "source": [
        "M = np.random.random((3, 4))\n",
        "print(M)\n",
        "print(M.sum())\n",
        "print(M.sum(axis = 0))\n",
        "print(M.sum(axis = 1))\n",
        "print(M.min())\n",
        "print(M.min(axis = 0))\n",
        "print(M.min(axis = 1))"
      ],
      "metadata": {
        "colab": {
          "base_uri": "https://localhost:8080/"
        },
        "id": "0in-yXwXZsFq",
        "outputId": "ce788c79-817c-42cb-de16-fa9a32e2373c"
      },
      "execution_count": null,
      "outputs": [
        {
          "output_type": "stream",
          "name": "stdout",
          "text": [
            "[[0.80804294 0.68628445 0.56373068 0.40669389]\n",
            " [0.63947367 0.6276866  0.38448124 0.42324006]\n",
            " [0.07521371 0.22568981 0.65113493 0.43638425]]\n",
            "5.9280562226442415\n",
            "[1.52273032 1.53966087 1.59934684 1.2663182 ]\n",
            "[2.46475196 2.07488157 1.3884227 ]\n",
            "0.07521370755944468\n",
            "[0.07521371 0.22568981 0.38448124 0.40669389]\n",
            "[0.40669389 0.38448124 0.07521371]\n"
          ]
        }
      ]
    },
    {
      "cell_type": "markdown",
      "source": [
        "Имя функции  | NaN-безопасная версия | Описание\n",
        "-------------|-----------------------|---\n",
        "np.sum       | np.nansum | Вычисляет сумму элементов\n",
        "np.prod       | np.nanprod | Вычисляет произведение элементов\n",
        "np.mean | np.nanmean | Вычисляет среднее значение элементов\n",
        "np.std | np.nanstd | Вычисляет стандартное отклонение\n",
        "np.var | np.nanvar | Вычисляет дисперсию\n",
        "np.min | np.nanmin | Вычисляет минимальное значение\n",
        "np.max | np.nanmax | Вычисляет максимальное значение\n",
        "np.argmin | np.nanargmin | Возвращает индекс минимального значения\n",
        "np.argmax | np.nanargmax | Возвращает индекс максимального значения\n",
        "np.median | np.nanmedian | Вычисляет медиану элементов\n",
        "np.percentile | np.nanpercentile | Вычисляет квантили элементов\n",
        "np.any | N/A | Проверяет, существует ли элемент со значением true\n",
        "np.all | N/A | Проверяет все ли элементы имеют значение true"
      ],
      "metadata": {
        "id": "OBqgtwQuZ2J8"
      }
    },
    {
      "cell_type": "markdown",
      "source": [
        "Операторы сравнения:\n",
        "\n",
        "Оператор  | Эквивалентная универсальная функция\n",
        "----------|-------------------\n",
        "==   | np.equal\n",
        "!=       | np.not_equal\n",
        "< | np.less\n",
        "<= | np.less_equal\n",
        "> | np.greater\n",
        ">= | np.greater_equal\n",
        "&  | np.bitwise_and\n",
        "Черточка вверх  | np.bitwise_or\n",
        "^ | np.bitwise_xor\n",
        "~ | np.bitwise_not"
      ],
      "metadata": {
        "id": "NbJ26iQJcnio"
      }
    },
    {
      "cell_type": "code",
      "source": [
        "x = np.array([1, 2, 3, 4, 5])\n",
        "print(x < 3)\n",
        "print(x > 3)\n",
        "print(x <= 3)\n",
        "print(x >= 3)\n",
        "print(x != 3)\n",
        "print(x == 3)"
      ],
      "metadata": {
        "colab": {
          "base_uri": "https://localhost:8080/"
        },
        "id": "UiaBjL7Ocldq",
        "outputId": "deddf526-ecb3-41be-a694-8752020a3e3c"
      },
      "execution_count": null,
      "outputs": [
        {
          "output_type": "stream",
          "name": "stdout",
          "text": [
            "[ True  True False False False]\n",
            "[False False False  True  True]\n",
            "[ True  True  True False False]\n",
            "[False False  True  True  True]\n",
            "[ True  True False  True  True]\n",
            "[False False  True False False]\n"
          ]
        }
      ]
    },
    {
      "cell_type": "code",
      "source": [
        "rng = np.random.RandomState(0)\n",
        "x = rng.randint(10, size=(3, 4))\n",
        "print(x)\n",
        "x < 6"
      ],
      "metadata": {
        "colab": {
          "base_uri": "https://localhost:8080/"
        },
        "id": "QJX7qGbDhNFH",
        "outputId": "c3c6614a-c2c3-4f97-ce89-0a0ad64f5a2d"
      },
      "execution_count": null,
      "outputs": [
        {
          "output_type": "stream",
          "name": "stdout",
          "text": [
            "[[5 0 3 3]\n",
            " [7 9 3 5]\n",
            " [2 4 7 6]]\n"
          ]
        },
        {
          "output_type": "execute_result",
          "data": {
            "text/plain": [
              "array([[ True,  True,  True,  True],\n",
              "       [False, False,  True,  True],\n",
              "       [ True,  True, False, False]])"
            ]
          },
          "metadata": {},
          "execution_count": 87
        }
      ]
    },
    {
      "cell_type": "code",
      "source": [
        "print(x)\n",
        "print(np.count_nonzero(x < 6))"
      ],
      "metadata": {
        "colab": {
          "base_uri": "https://localhost:8080/"
        },
        "id": "cuZbdi7shRKY",
        "outputId": "e45375a1-7d1c-45c1-c774-080c24415167"
      },
      "execution_count": null,
      "outputs": [
        {
          "output_type": "stream",
          "name": "stdout",
          "text": [
            "[[5 0 3 3]\n",
            " [7 9 3 5]\n",
            " [2 4 7 6]]\n",
            "8\n"
          ]
        }
      ]
    },
    {
      "cell_type": "code",
      "source": [
        "print(x)\n",
        "print(np.any(x > 8))\n",
        "print(np.any(x < 0))"
      ],
      "metadata": {
        "colab": {
          "base_uri": "https://localhost:8080/"
        },
        "id": "dlccPuo_hUEL",
        "outputId": "05b75f9f-58fc-4772-c40c-c8368616cf80"
      },
      "execution_count": null,
      "outputs": [
        {
          "output_type": "stream",
          "name": "stdout",
          "text": [
            "[[5 0 3 3]\n",
            " [7 9 3 5]\n",
            " [2 4 7 6]]\n",
            "True\n",
            "False\n"
          ]
        }
      ]
    },
    {
      "cell_type": "code",
      "source": [
        "print(x)\n",
        "print(np.any(x > 8, axis = 0))\n",
        "print(np.any(x < 0, axis =1))"
      ],
      "metadata": {
        "colab": {
          "base_uri": "https://localhost:8080/"
        },
        "id": "SmcQ5PKkhWtd",
        "outputId": "e7ec24b2-7e5b-4ae4-b0fe-52100edc6652"
      },
      "execution_count": null,
      "outputs": [
        {
          "output_type": "stream",
          "name": "stdout",
          "text": [
            "[[5 0 3 3]\n",
            " [7 9 3 5]\n",
            " [2 4 7 6]]\n",
            "[False  True False False]\n",
            "[False False False]\n"
          ]
        }
      ]
    },
    {
      "cell_type": "code",
      "source": [
        "print(x)\n",
        "print(np.all(x < 10))\n",
        "print(np.all(x < 6))"
      ],
      "metadata": {
        "colab": {
          "base_uri": "https://localhost:8080/"
        },
        "id": "4jJ42uzchZF6",
        "outputId": "79641679-0e3f-43f7-eac1-4af5b4439dd5"
      },
      "execution_count": null,
      "outputs": [
        {
          "output_type": "stream",
          "name": "stdout",
          "text": [
            "[[5 0 3 3]\n",
            " [7 9 3 5]\n",
            " [2 4 7 6]]\n",
            "True\n",
            "False\n"
          ]
        }
      ]
    },
    {
      "cell_type": "code",
      "source": [
        "print(x)\n",
        "print(np.all(x < 10, axis = 0))\n",
        "print(np.all(x < 6, axis = 1))"
      ],
      "metadata": {
        "colab": {
          "base_uri": "https://localhost:8080/"
        },
        "id": "3RIvyqjhhb3W",
        "outputId": "fc416b03-958e-4f54-aff4-26374359b5fc"
      },
      "execution_count": null,
      "outputs": [
        {
          "output_type": "stream",
          "name": "stdout",
          "text": [
            "[[5 0 3 3]\n",
            " [7 9 3 5]\n",
            " [2 4 7 6]]\n",
            "[ True  True  True  True]\n",
            "[ True False False]\n"
          ]
        }
      ]
    },
    {
      "cell_type": "markdown",
      "source": [
        "Прихотливая индексация"
      ],
      "metadata": {
        "id": "y8rWnHm7iQPr"
      }
    },
    {
      "cell_type": "code",
      "source": [
        "rand = np.random.RandomState(42)\n",
        "x = rand.randint(100, size=10)\n",
        "print(x)\n",
        "ind = [3, 7, 2]\n",
        "print(x[ind])"
      ],
      "metadata": {
        "colab": {
          "base_uri": "https://localhost:8080/"
        },
        "id": "E2nKSDkDiTHE",
        "outputId": "7334355f-325a-49ea-989e-7c880e2feebf"
      },
      "execution_count": null,
      "outputs": [
        {
          "output_type": "stream",
          "name": "stdout",
          "text": [
            "[51 92 14 71 60 20 82 86 74 74]\n",
            "[71 86 14]\n"
          ]
        }
      ]
    },
    {
      "cell_type": "code",
      "source": [
        "x = np.arange(12).reshape((3,4))\n",
        "print(x)\n",
        "row = np.array([0,1,2])\n",
        "col = np.array([2,1,3])\n",
        "# print(x[row, col])"
      ],
      "metadata": {
        "colab": {
          "base_uri": "https://localhost:8080/"
        },
        "id": "4_sUjTmbiVPx",
        "outputId": "113ca61e-b158-4a94-8a0a-1a57c4890751"
      },
      "execution_count": null,
      "outputs": [
        {
          "output_type": "stream",
          "name": "stdout",
          "text": [
            "[[ 0  1  2  3]\n",
            " [ 4  5  6  7]\n",
            " [ 8  9 10 11]]\n"
          ]
        }
      ]
    },
    {
      "cell_type": "code",
      "source": [
        "row = np.array([0,\n",
        "                1,\n",
        "                2])\n",
        "col = np.array([0,1,2])\n",
        "x[row[:, np.newaxis], col]"
      ],
      "metadata": {
        "colab": {
          "base_uri": "https://localhost:8080/"
        },
        "id": "KssHgJn5iW1o",
        "outputId": "775b2035-2259-4c87-cfcb-c8802f15c65b"
      },
      "execution_count": null,
      "outputs": [
        {
          "output_type": "execute_result",
          "data": {
            "text/plain": [
              "array([[ 0,  1,  2],\n",
              "       [ 4,  5,  6],\n",
              "       [ 8,  9, 10]])"
            ]
          },
          "metadata": {},
          "execution_count": 95
        }
      ]
    },
    {
      "cell_type": "code",
      "source": [
        "row[:, np.newaxis] * col"
      ],
      "metadata": {
        "colab": {
          "base_uri": "https://localhost:8080/"
        },
        "id": "0j8pKqUZiavU",
        "outputId": "6fb1bf56-4292-40cb-b15d-e80cb6d0695e"
      },
      "execution_count": null,
      "outputs": [
        {
          "output_type": "execute_result",
          "data": {
            "text/plain": [
              "array([[0, 0, 0],\n",
              "       [0, 1, 2],\n",
              "       [0, 2, 4]])"
            ]
          },
          "metadata": {},
          "execution_count": 96
        }
      ]
    },
    {
      "cell_type": "code",
      "source": [
        "x = np.arange(10)\n",
        "print(x)\n",
        "i = np.array([2,1,8,4])\n",
        "x[i] = 100\n",
        "print(x)"
      ],
      "metadata": {
        "colab": {
          "base_uri": "https://localhost:8080/"
        },
        "id": "KAySKPOWicy0",
        "outputId": "c765cdc3-8f28-44cd-a5d9-0b225086f8df"
      },
      "execution_count": null,
      "outputs": [
        {
          "output_type": "stream",
          "name": "stdout",
          "text": [
            "[0 1 2 3 4 5 6 7 8 9]\n",
            "[  0 100 100   3 100   5   6   7 100   9]\n"
          ]
        }
      ]
    },
    {
      "cell_type": "code",
      "source": [
        "x[i] -= 10"
      ],
      "metadata": {
        "id": "RFIozoHZieuA"
      },
      "execution_count": null,
      "outputs": []
    },
    {
      "cell_type": "code",
      "source": [
        "x"
      ],
      "metadata": {
        "colab": {
          "base_uri": "https://localhost:8080/"
        },
        "id": "mybkLTV9if9u",
        "outputId": "82bb7584-c77b-4f54-a537-25bf3a67ed0c"
      },
      "execution_count": null,
      "outputs": [
        {
          "output_type": "execute_result",
          "data": {
            "text/plain": [
              "array([ 0, 90, 90,  3, 90,  5,  6,  7, 90,  9])"
            ]
          },
          "metadata": {},
          "execution_count": 99
        }
      ]
    },
    {
      "cell_type": "code",
      "source": [
        "x = np.zeros(10)\n",
        "i = [1,2,3,2,2,2,3,2,2,1,2,3]\n",
        "x[i] += 1\n",
        "x"
      ],
      "metadata": {
        "colab": {
          "base_uri": "https://localhost:8080/"
        },
        "id": "d26AMVUGihrC",
        "outputId": "466b23ad-c36f-4cc3-a457-5105be9cac79"
      },
      "execution_count": null,
      "outputs": [
        {
          "output_type": "execute_result",
          "data": {
            "text/plain": [
              "array([0., 1., 1., 1., 0., 0., 0., 0., 0., 0.])"
            ]
          },
          "metadata": {},
          "execution_count": 100
        }
      ]
    },
    {
      "cell_type": "code",
      "source": [
        "x = np.zeros(10)\n",
        "np.add.at(x,i,1)\n",
        "x"
      ],
      "metadata": {
        "colab": {
          "base_uri": "https://localhost:8080/"
        },
        "id": "UYsy1oWaijTi",
        "outputId": "0296ae09-9bac-46d4-8a31-129a79b90541"
      },
      "execution_count": null,
      "outputs": [
        {
          "output_type": "execute_result",
          "data": {
            "text/plain": [
              "array([0., 2., 7., 3., 0., 0., 0., 0., 0., 0.])"
            ]
          },
          "metadata": {},
          "execution_count": 101
        }
      ]
    },
    {
      "cell_type": "code",
      "source": [
        "x = np.zeros(10)\n",
        "np.subtract.at(x,i,-1)\n",
        "x"
      ],
      "metadata": {
        "colab": {
          "base_uri": "https://localhost:8080/"
        },
        "id": "PVFKjmd6ik_C",
        "outputId": "bfff84f7-77f7-47e0-cfa1-1ae06fd23efc"
      },
      "execution_count": null,
      "outputs": [
        {
          "output_type": "execute_result",
          "data": {
            "text/plain": [
              "array([0., 2., 7., 3., 0., 0., 0., 0., 0., 0.])"
            ]
          },
          "metadata": {},
          "execution_count": 102
        }
      ]
    },
    {
      "cell_type": "markdown",
      "source": [
        "Сортировка массивов"
      ],
      "metadata": {
        "id": "m5JQ-VUSiq43"
      }
    },
    {
      "cell_type": "code",
      "source": [
        "sp = [2,3,4,2,1,4,7,8,4,5,8]\n",
        "print(sorted(sp))\n",
        "sp.sort()\n",
        "print(sp)"
      ],
      "metadata": {
        "colab": {
          "base_uri": "https://localhost:8080/"
        },
        "id": "8IhIZv90iqTq",
        "outputId": "2411132d-f567-45e8-f5f6-b41362ce6b2f"
      },
      "execution_count": null,
      "outputs": [
        {
          "output_type": "stream",
          "name": "stdout",
          "text": [
            "[1, 2, 2, 3, 4, 4, 4, 5, 7, 8, 8]\n",
            "[1, 2, 2, 3, 4, 4, 4, 5, 7, 8, 8]\n"
          ]
        }
      ]
    },
    {
      "cell_type": "code",
      "source": [
        "x = np.random.randint(100, size = 10)\n",
        "print(x)"
      ],
      "metadata": {
        "colab": {
          "base_uri": "https://localhost:8080/"
        },
        "id": "cX9JRtQqivIP",
        "outputId": "272047ce-f7d6-43d6-c015-de7646a25352"
      },
      "execution_count": null,
      "outputs": [
        {
          "output_type": "stream",
          "name": "stdout",
          "text": [
            "[21 61 86 25 86 97 12  8 75 98]\n"
          ]
        }
      ]
    },
    {
      "cell_type": "code",
      "source": [
        "y = np.zeros(10)\n",
        "y = np.sort(x)\n",
        "print(y)"
      ],
      "metadata": {
        "colab": {
          "base_uri": "https://localhost:8080/"
        },
        "id": "uPlEWTdrixDQ",
        "outputId": "df8d8882-791d-476e-92b4-67ee45655db2"
      },
      "execution_count": null,
      "outputs": [
        {
          "output_type": "stream",
          "name": "stdout",
          "text": [
            "[ 8 12 21 25 61 75 86 86 97 98]\n"
          ]
        }
      ]
    },
    {
      "cell_type": "code",
      "source": [
        "x"
      ],
      "metadata": {
        "colab": {
          "base_uri": "https://localhost:8080/"
        },
        "id": "Xq4zpngTiy2b",
        "outputId": "20f59fa2-d844-4b51-99e9-e7215c7fbcc5"
      },
      "execution_count": null,
      "outputs": [
        {
          "output_type": "execute_result",
          "data": {
            "text/plain": [
              "array([21, 61, 86, 25, 86, 97, 12,  8, 75, 98])"
            ]
          },
          "metadata": {},
          "execution_count": 106
        }
      ]
    },
    {
      "cell_type": "code",
      "source": [
        "rand = np.random.RandomState(0)\n",
        "x = rand.randint(0,10, (5,5))\n",
        "print(x)"
      ],
      "metadata": {
        "colab": {
          "base_uri": "https://localhost:8080/"
        },
        "id": "N1sX7bpJi0Oz",
        "outputId": "2d5d20a3-63eb-41d4-a5b3-59ebbe710c40"
      },
      "execution_count": null,
      "outputs": [
        {
          "output_type": "stream",
          "name": "stdout",
          "text": [
            "[[5 0 3 3 7]\n",
            " [9 3 5 2 4]\n",
            " [7 6 8 8 1]\n",
            " [6 7 7 8 1]\n",
            " [5 9 8 9 4]]\n"
          ]
        }
      ]
    },
    {
      "cell_type": "code",
      "source": [
        "np.sort(x)"
      ],
      "metadata": {
        "colab": {
          "base_uri": "https://localhost:8080/"
        },
        "id": "Xb24QKsci1jz",
        "outputId": "1adb107a-6846-43a3-ba7f-18f3395fe68c"
      },
      "execution_count": null,
      "outputs": [
        {
          "output_type": "execute_result",
          "data": {
            "text/plain": [
              "array([[0, 3, 3, 5, 7],\n",
              "       [2, 3, 4, 5, 9],\n",
              "       [1, 6, 7, 8, 8],\n",
              "       [1, 6, 7, 7, 8],\n",
              "       [4, 5, 8, 9, 9]])"
            ]
          },
          "metadata": {},
          "execution_count": 108
        }
      ]
    },
    {
      "cell_type": "code",
      "source": [
        "np.sort(x, axis = 1)"
      ],
      "metadata": {
        "colab": {
          "base_uri": "https://localhost:8080/"
        },
        "id": "tL1yH9eyi3CL",
        "outputId": "9003d615-78d2-4c99-a676-7805c44326a8"
      },
      "execution_count": null,
      "outputs": [
        {
          "output_type": "execute_result",
          "data": {
            "text/plain": [
              "array([[0, 3, 3, 5, 7],\n",
              "       [2, 3, 4, 5, 9],\n",
              "       [1, 6, 7, 8, 8],\n",
              "       [1, 6, 7, 7, 8],\n",
              "       [4, 5, 8, 9, 9]])"
            ]
          },
          "metadata": {},
          "execution_count": 109
        }
      ]
    },
    {
      "cell_type": "code",
      "source": [
        "np.sort(x, axis = 0)"
      ],
      "metadata": {
        "colab": {
          "base_uri": "https://localhost:8080/"
        },
        "id": "j6eikbsPi44U",
        "outputId": "2e323d83-3013-41a9-88e5-3cd87ffdbe9f"
      },
      "execution_count": null,
      "outputs": [
        {
          "output_type": "execute_result",
          "data": {
            "text/plain": [
              "array([[5, 0, 3, 2, 1],\n",
              "       [5, 3, 5, 3, 1],\n",
              "       [6, 6, 7, 8, 4],\n",
              "       [7, 7, 8, 8, 4],\n",
              "       [9, 9, 8, 9, 7]])"
            ]
          },
          "metadata": {},
          "execution_count": 110
        }
      ]
    },
    {
      "cell_type": "code",
      "source": [
        "a = np.array([5,4,7,1,3,8,3,5])\n",
        "np.partition(a, 4)"
      ],
      "metadata": {
        "colab": {
          "base_uri": "https://localhost:8080/"
        },
        "id": "tRqW6Vd0i6im",
        "outputId": "daf9699c-0946-4cc5-83ea-412de513288d"
      },
      "execution_count": null,
      "outputs": [
        {
          "output_type": "execute_result",
          "data": {
            "text/plain": [
              "array([3, 1, 3, 4, 5, 8, 7, 5])"
            ]
          },
          "metadata": {},
          "execution_count": 111
        }
      ]
    },
    {
      "cell_type": "code",
      "source": [
        "np.partition(x,3, axis = 1)"
      ],
      "metadata": {
        "colab": {
          "base_uri": "https://localhost:8080/"
        },
        "id": "S88Ael6ri7v1",
        "outputId": "4b25bec6-3c80-4821-b1e7-cbc1c3be14c7"
      },
      "execution_count": null,
      "outputs": [
        {
          "output_type": "execute_result",
          "data": {
            "text/plain": [
              "array([[3, 3, 0, 5, 7],\n",
              "       [2, 4, 3, 5, 9],\n",
              "       [6, 1, 7, 8, 8],\n",
              "       [1, 6, 7, 7, 8],\n",
              "       [4, 5, 8, 9, 9]])"
            ]
          },
          "metadata": {},
          "execution_count": 112
        }
      ]
    },
    {
      "cell_type": "code",
      "source": [
        "np.partition(x,3, axis = 0)"
      ],
      "metadata": {
        "id": "Dz2He-uBi9o3",
        "outputId": "7bb9070e-8b61-445e-e89b-81192c715ff7",
        "colab": {
          "base_uri": "https://localhost:8080/"
        }
      },
      "execution_count": null,
      "outputs": [
        {
          "output_type": "execute_result",
          "data": {
            "text/plain": [
              "array([[5, 3, 7, 2, 1],\n",
              "       [5, 0, 3, 3, 1],\n",
              "       [6, 6, 5, 8, 4],\n",
              "       [7, 7, 8, 8, 4],\n",
              "       [9, 9, 8, 9, 7]])"
            ]
          },
          "metadata": {},
          "execution_count": 113
        }
      ]
    },
    {
      "cell_type": "code",
      "source": [
        "np.partition(x,3)"
      ],
      "metadata": {
        "id": "OYfg5tOSi-1-",
        "outputId": "3597754e-76a7-4094-9720-ddea7c65dea1",
        "colab": {
          "base_uri": "https://localhost:8080/"
        }
      },
      "execution_count": null,
      "outputs": [
        {
          "output_type": "execute_result",
          "data": {
            "text/plain": [
              "array([[3, 3, 0, 5, 7],\n",
              "       [2, 4, 3, 5, 9],\n",
              "       [6, 1, 7, 8, 8],\n",
              "       [1, 6, 7, 7, 8],\n",
              "       [4, 5, 8, 9, 9]])"
            ]
          },
          "metadata": {},
          "execution_count": 114
        }
      ]
    },
    {
      "cell_type": "markdown",
      "source": [
        "# Stepik\n"
      ],
      "metadata": {
        "id": "RmfS-jngx_77"
      }
    },
    {
      "cell_type": "code",
      "source": [
        "import numpy as np\n",
        "b = np.eye(3, 4, k=1)+2*np.eye(3,4,0)\n",
        "b"
      ],
      "metadata": {
        "colab": {
          "base_uri": "https://localhost:8080/"
        },
        "id": "MaOi-ql3yCQs",
        "outputId": "689d626c-2265-49a8-86b1-42bdd68c948c"
      },
      "execution_count": null,
      "outputs": [
        {
          "output_type": "execute_result",
          "data": {
            "text/plain": [
              "array([[2., 1., 0., 0.],\n",
              "       [0., 2., 1., 0.],\n",
              "       [0., 0., 2., 1.]])"
            ]
          },
          "metadata": {},
          "execution_count": 15
        }
      ]
    },
    {
      "cell_type": "code",
      "source": [
        "m = b.flatten().reshape(-1,1)\n",
        "print(m)"
      ],
      "metadata": {
        "colab": {
          "base_uri": "https://localhost:8080/"
        },
        "id": "vwLY_Qae0rMG",
        "outputId": "7dc56c60-828f-4141-f173-ab880156e4a3"
      },
      "execution_count": null,
      "outputs": [
        {
          "output_type": "stream",
          "name": "stdout",
          "text": [
            "[[2.]\n",
            " [1.]\n",
            " [0.]\n",
            " [0.]\n",
            " [0.]\n",
            " [2.]\n",
            " [1.]\n",
            " [0.]\n",
            " [0.]\n",
            " [0.]\n",
            " [2.]\n",
            " [1.]]\n"
          ]
        }
      ]
    },
    {
      "cell_type": "code",
      "source": [
        "import numpy as np\n",
        "\n",
        "x_shape = tuple(map(int, input().split()))\n",
        "X = np.fromiter(map(int, input().split()), np.int).reshape(x_shape)\n",
        "y_shape = tuple(map(int, input().split()))\n",
        "Y = np.fromiter(map(int, input().split()), np.int).reshape(y_shape)\n",
        "print(X.dot(Y.T) if X.shape[1]==Y.shape[1] else \"matrix shapes do not match\")"
      ],
      "metadata": {
        "id": "8x99pg0P8OmM"
      },
      "execution_count": null,
      "outputs": []
    },
    {
      "cell_type": "code",
      "source": [
        "arr = ((0, -0.5), (1, 0), (0, 0.5), (0, 1.5), (1, 2.5), (2,3))\n",
        "\n",
        "def sqerr(a, b):\n",
        "  return (a - b)**2\n",
        "\n",
        "def abserr(a, b):\n",
        "  return abs(a - b)\n",
        "\n",
        "def errsum(err_fun):\n",
        "  return sum(list(map(lambda pair: err_fun(pair[0], pair[1]), arr)))\n",
        "\n",
        "print(str(max(errsum(abserr), errsum(sqerr))))"
      ],
      "metadata": {
        "colab": {
          "base_uri": "https://localhost:8080/"
        },
        "id": "tquGjE9PE8Qh",
        "outputId": "52cb27e3-df4b-4ebc-9f5a-a52c7c2703bf"
      },
      "execution_count": null,
      "outputs": [
        {
          "output_type": "stream",
          "name": "stdout",
          "text": [
            "7.0\n"
          ]
        }
      ]
    },
    {
      "cell_type": "code",
      "source": [
        "import numpy as np\n",
        "x=np.array([[1, 60], [1,50], [1,75]]);\n",
        "y=np.array([[10], [7], [12]]);\n",
        "b=np.linalg.inv( x.T @ x ) @ x.T @ y\n",
        "print(b)"
      ],
      "metadata": {
        "colab": {
          "base_uri": "https://localhost:8080/"
        },
        "id": "5VmqZ3Qu6IWA",
        "outputId": "91a4e145-603c-4c69-b7b3-04ecc0d8172d"
      },
      "execution_count": null,
      "outputs": [
        {
          "output_type": "stream",
          "name": "stdout",
          "text": [
            "[[-2.34210526]\n",
            " [ 0.19473684]]\n"
          ]
        }
      ]
    },
    {
      "cell_type": "code",
      "source": [
        "from urllib.request import urlopen\n",
        "import numpy as np\n",
        "f = urlopen('https://stepic.org/media/attachments/lesson/16462/boston_houses.csv')\n",
        "f = np.loadtxt(f, skiprows = 1, delimiter = \",\")\n",
        "print(f.mean(axis=0))"
      ],
      "metadata": {
        "colab": {
          "base_uri": "https://localhost:8080/"
        },
        "id": "HWLeiPeqcN1H",
        "outputId": "9fed1b24-d422-4872-e553-d2543198f00c"
      },
      "execution_count": null,
      "outputs": [
        {
          "output_type": "stream",
          "name": "stdout",
          "text": [
            "[22.53280632  3.61352356 11.36363636  0.06916996  0.55469506  6.28463439\n",
            "  3.79504269]\n"
          ]
        }
      ]
    },
    {
      "cell_type": "code",
      "source": [
        "from math import exp\n",
        "#Функция гиперболического тангенса\n",
        "def tanh(x):\n",
        "    return ((exp(x)-exp(x*-1))/(exp(x)+exp(x*-1)))\n",
        "\n",
        "#Сигмоидальная функция\n",
        "def sigm(x):\n",
        "    return 1/(1+(exp(x*-1)))\n",
        "\n",
        "#Производная гиперболического тангенса\n",
        "def dtanh(x):\n",
        "    return ( (1-exp(x-2))**2    *    (-(exp(x-2)+1))**2 ) +1\n",
        "\n",
        "#Производная сигмоидальной функции\n",
        "def dsigm(x):\n",
        "    return ( exp(-x)/(exp(-x)+1)**2 )\n",
        "\n",
        "\n",
        "#Принт вариантов ответов по почереди подбирая Х\n",
        "\n",
        "x=0\n",
        "\n",
        "#1. производная tanh в точке 0 и производная σ в точке 0\n",
        "print (f'd tanh({x})={dtanh(x)}\\nd sigm({x})={dsigm(x)}')\n",
        "\n",
        "#2. tanh(−x)=1−tanh(x) для любого x\n",
        "print (f'\\ntanh(-x)={tanh(-x)}')\n",
        "print ('1−tanh(x)=',(1-tanh(x)))\n",
        "\n",
        "#3 σ(−x)=−σ(x) для любого x (сигмоидальная функция нечётна)\n",
        "print (f'\\nsigm(-x)={sigm(-x)}\\n−sigm(x)={-sigm(x)}')\n",
        "\n",
        "#4. σ(−x)=1−σ(x) для любого x\n",
        "print (f'\\nsigm(-x)={sigm(-x)}\\n1-sigm(x)={1-sigm(x)}')\n",
        "\n",
        "#5 tanh(−x)=−tanh(x) для любого x (гиперболический тангенс нечётен)\n",
        "print (f'\\ntanh(-x)={tanh(-x)}\\n-tanh(x)={-tanh(x)}')"
      ],
      "metadata": {
        "id": "P6Ni0ydusjq7",
        "outputId": "1f9daa05-efc7-462e-c66b-dd905636a893",
        "colab": {
          "base_uri": "https://localhost:8080/"
        }
      },
      "execution_count": null,
      "outputs": [
        {
          "output_type": "stream",
          "name": "stdout",
          "text": [
            "d tanh(0)=1.9637041848504344\n",
            "d sigm(0)=0.25\n",
            "\n",
            "tanh(-x)=0.0\n",
            "1−tanh(x)= 1.0\n",
            "\n",
            "sigm(-x)=0.5\n",
            "−sigm(x)=-0.5\n",
            "\n",
            "sigm(-x)=0.5\n",
            "1-sigm(x)=0.5\n",
            "\n",
            "tanh(-x)=0.0\n",
            "-tanh(x)=-0.0\n"
          ]
        }
      ]
    },
    {
      "cell_type": "markdown",
      "source": [
        "# SM"
      ],
      "metadata": {
        "id": "lmtDIj2KQDzw"
      }
    },
    {
      "cell_type": "markdown",
      "source": [
        "![image.png](data:image/png;base64,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)"
      ],
      "metadata": {
        "id": "Iw5UNhcuQIYE"
      }
    },
    {
      "cell_type": "code",
      "source": [
        "word = input()\n",
        "need = word[::-1]\n",
        "suma = 0\n",
        "for i in range(len(word)-1):\n",
        "    if need[i] == 'a':\n",
        "      #  and need[i+1] is not None:\n",
        "        suma += 1\n",
        "print(suma)"
      ],
      "metadata": {
        "colab": {
          "base_uri": "https://localhost:8080/"
        },
        "id": "nrtkMUs0QGqz",
        "outputId": "916267ef-b569-41ed-af74-d76a5ee53a17"
      },
      "execution_count": null,
      "outputs": [
        {
          "output_type": "stream",
          "name": "stdout",
          "text": [
            "asdasda\n",
            "2\n"
          ]
        }
      ]
    },
    {
      "cell_type": "markdown",
      "source": [
        "![image.png](data:image/png;base64,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)"
      ],
      "metadata": {
        "id": "3wp65KgSZvZV"
      }
    },
    {
      "cell_type": "code",
      "source": [
        "x, y, x1, y1, x2, y2, r, s = (float(i) for i in input().split())\n",
        "res = 0\n",
        "result = False\n",
        "if ((x ** 2 + y ** 2) ** 0.5) <= r:\n",
        "    res += 1\n",
        "if x1 <= x <= x2 and y1 <= y <= y2:\n",
        "    res += 1\n",
        "if (s == 1 and res == 2) or (s == 0 and (res == 2 or res == 1)):\n",
        "    result = True\n",
        "\n",
        "print(result)"
      ],
      "metadata": {
        "id": "RXKkGpxGZvCL"
      },
      "execution_count": null,
      "outputs": []
    },
    {
      "cell_type": "markdown",
      "source": [
        "![image.png](data:image/png;base64,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)"
      ],
      "metadata": {
        "id": "rZ5EGkccc3iL"
      }
    },
    {
      "cell_type": "code",
      "source": [
        "import sys\n",
        "import numpy as np\n",
        "\n",
        "a = []\n",
        "for line in sys.stdin:\n",
        "    s = line.strip()\n",
        "    if s:\n",
        "        a.append([float(i) for i in s.split()])\n",
        "    else:\n",
        "        break\n",
        "a = np.array(a)\n",
        "c = np.count_nonzero(a, axis=0)\n",
        "print(len(c[c==0]))"
      ],
      "metadata": {
        "id": "BaNKkTY7cVak"
      },
      "execution_count": null,
      "outputs": []
    }
  ]
}