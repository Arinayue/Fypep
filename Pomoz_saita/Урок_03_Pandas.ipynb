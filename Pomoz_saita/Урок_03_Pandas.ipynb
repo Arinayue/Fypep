{
  "nbformat": 4,
  "nbformat_minor": 0,
  "metadata": {
    "colab": {
      "provenance": [],
      "collapsed_sections": [
        "CkAx4nYZ50WC",
        "n24Yh37w7eYF",
        "QNVheQgw7sZa",
        "LXd3yURx73kH",
        "SKiO8HDL7_Mn",
        "2d3Eu4jL_OsL",
        "I2E-cLe_LBWE",
        "sG3j1vKRLm31",
        "n1BU59OzL-gs",
        "MXBtu4fJ_5oC",
        "ZFPFfK6J-BhH"
      ]
    },
    "kernelspec": {
      "name": "python3",
      "display_name": "Python 3"
    },
    "language_info": {
      "name": "python"
    }
  },
  "cells": [
    {
      "cell_type": "markdown",
      "metadata": {
        "id": "o1qxcqUu3kh4"
      },
      "source": [
        "# Pandas"
      ]
    },
    {
      "cell_type": "markdown",
      "metadata": {
        "id": "82vi3pfL4Y9Z"
      },
      "source": [
        "**Pandas** это высокоуровневая Python библиотека для анализа данных.\n",
        "\n",
        "В экосистеме Python, pandas является наиболее продвинутой и быстроразвивающейся библиотекой для обработки и анализа данных.\n",
        "\n",
        "Pandas добавляет в Python новые структуры данных — **Series** и **DataFrame**.\n",
        "\n",
        "Для подключения и использования библиотеки, её необходимо подключить следующей командой:\n",
        "\n",
        "\n",
        "```\n",
        "import pandas as pd\n",
        "```\n",
        "\n",
        "Конструкция `as`  позволяет переименовать библиотеку в более короткое название для удобства в дальнейшем при обращении к этой библиотеке и ее методам.\n",
        "\n"
      ]
    },
    {
      "cell_type": "code",
      "metadata": {
        "id": "aCyLQKoQ3Fh0"
      },
      "source": [
        "import pandas as pd"
      ],
      "execution_count": null,
      "outputs": []
    },
    {
      "cell_type": "markdown",
      "metadata": {
        "id": "Ka7aluzt5Oc3"
      },
      "source": [
        "##Структура данных Series"
      ]
    },
    {
      "cell_type": "markdown",
      "metadata": {
        "id": "dR0vK3PJ5Rbi"
      },
      "source": [
        "**Series** - одномерные массивы данных. Они очень похожи на списки, но отличаются по поведению — например, операции применяются к списку целиком, а в **Series** — поэлементно.\n",
        "\n",
        "Конструктор класса Series выглядит следующим образом:\n",
        "\n",
        "\n",
        "\n",
        "```\n",
        "pd.Series(data=None, index=None, dtype=None, name=None, copy=False, fastpath=False)\n",
        "```\n",
        "- **data** – массив, словарь или скалярное значение, на базе которого будет построен Series;\n",
        "\n",
        "- **index** – список меток, который будет использоваться для доступа к элементам Series. Длина списка должна быть равна длине data;\n",
        "\n",
        "- **dtype** – объект numpy.dtype, определяющий тип данных;\n",
        "\n",
        "- **copy** – создает копию массива данных, если параметр равен True в ином случае ничего не делает.\n",
        "\n",
        "Создать структуру Series можно на базе различных типов данных:\n",
        "\n",
        "- словари Python;\n",
        "- списки Python;\n",
        "- массивы из numpy: ndarray;\n",
        "- скалярные величины."
      ]
    },
    {
      "cell_type": "markdown",
      "metadata": {
        "id": "CkAx4nYZ50WC"
      },
      "source": [
        "###Создание Series из списка Python"
      ]
    },
    {
      "cell_type": "code",
      "metadata": {
        "colab": {
          "base_uri": "https://localhost:8080/"
        },
        "id": "H75uy9Y054uD",
        "outputId": "43b6e47d-3157-477a-8ffe-f7e6c3244747"
      },
      "source": [
        "lst = [1, 2, 3, 4, 5] # создание списка Python\n",
        "\n",
        "s = pd.Series(lst) # создание Series\n",
        "# Если индекс явно не задан, то pandas автоматически создаёт RangeIndex от 0 до N-1, где N общее количество элементов.\n",
        "\n",
        "s"
      ],
      "execution_count": null,
      "outputs": [
        {
          "output_type": "execute_result",
          "data": {
            "text/plain": [
              "0    1\n",
              "1    2\n",
              "2    3\n",
              "3    4\n",
              "4    5\n",
              "dtype: int64"
            ]
          },
          "metadata": {},
          "execution_count": 2
        }
      ]
    },
    {
      "cell_type": "code",
      "metadata": {
        "colab": {
          "base_uri": "https://localhost:8080/"
        },
        "id": "6QFAALS17ZdM",
        "outputId": "67d2d3b5-811d-4792-8020-78af8d422c46"
      },
      "source": [
        "type(s)"
      ],
      "execution_count": null,
      "outputs": [
        {
          "output_type": "execute_result",
          "data": {
            "text/plain": [
              "pandas.core.series.Series"
            ]
          },
          "metadata": {},
          "execution_count": 3
        }
      ]
    },
    {
      "cell_type": "code",
      "metadata": {
        "colab": {
          "base_uri": "https://localhost:8080/"
        },
        "id": "aQR70GAp6QPD",
        "outputId": "c0474862-86da-4ac1-8363-da376796ea5e"
      },
      "source": [
        "lst = ['Мария', 'Петр', 'Иван'] # создание списка Python\n",
        "\n",
        "s = pd.Series(lst, ['a', 'b', 'c']) # создание Series с заданием меток (именованые метки - a, b, c)\n",
        "\n",
        "s"
      ],
      "execution_count": null,
      "outputs": [
        {
          "output_type": "execute_result",
          "data": {
            "text/plain": [
              "a    Мария\n",
              "b     Петр\n",
              "c     Иван\n",
              "dtype: object"
            ]
          },
          "metadata": {},
          "execution_count": 4
        }
      ]
    },
    {
      "cell_type": "markdown",
      "metadata": {
        "id": "n24Yh37w7eYF"
      },
      "source": [
        "###Создание Series из ndarray массива из numpy"
      ]
    },
    {
      "cell_type": "code",
      "metadata": {
        "colab": {
          "base_uri": "https://localhost:8080/"
        },
        "id": "iLqltVeU7fm2",
        "outputId": "4bd5dcc9-345c-4a6b-f9fe-0b54eaa6b222"
      },
      "source": [
        "import numpy as np\n",
        "\n",
        "ndarr = np.array([1, 2, 3, 4, 5])\n",
        "type(ndarr)"
      ],
      "execution_count": null,
      "outputs": [
        {
          "output_type": "execute_result",
          "data": {
            "text/plain": [
              "numpy.ndarray"
            ]
          },
          "metadata": {},
          "execution_count": 5
        }
      ]
    },
    {
      "cell_type": "code",
      "metadata": {
        "colab": {
          "base_uri": "https://localhost:8080/"
        },
        "id": "yyHBDanM7jOh",
        "outputId": "e4842fd8-6f0d-4693-fa29-c6ff543df9c4"
      },
      "source": [
        "s2 = pd.Series(ndarr, ['a', 'b', 'c', 'd', 'e'])\n",
        "s2"
      ],
      "execution_count": null,
      "outputs": [
        {
          "output_type": "execute_result",
          "data": {
            "text/plain": [
              "a    1\n",
              "b    2\n",
              "c    3\n",
              "d    4\n",
              "e    5\n",
              "dtype: int64"
            ]
          },
          "metadata": {},
          "execution_count": 6
        }
      ]
    },
    {
      "cell_type": "markdown",
      "metadata": {
        "id": "QNVheQgw7sZa"
      },
      "source": [
        "###Создание Series из словаря (dict)"
      ]
    },
    {
      "cell_type": "code",
      "metadata": {
        "colab": {
          "base_uri": "https://localhost:8080/"
        },
        "id": "VYj8gaz57tej",
        "outputId": "2491e6d8-9ee3-4b2c-b8c9-ffc8b87ceb96"
      },
      "source": [
        "d = {'a':1, 'b':2, 'c':3}\n",
        "s3 = pd.Series(d)\n",
        "s3"
      ],
      "execution_count": null,
      "outputs": [
        {
          "output_type": "execute_result",
          "data": {
            "text/plain": [
              "a    1\n",
              "b    2\n",
              "c    3\n",
              "dtype: int64"
            ]
          },
          "metadata": {},
          "execution_count": 7
        }
      ]
    },
    {
      "cell_type": "markdown",
      "metadata": {
        "id": "LXd3yURx73kH"
      },
      "source": [
        "###Создание Series с использованием константы"
      ]
    },
    {
      "cell_type": "code",
      "metadata": {
        "colab": {
          "base_uri": "https://localhost:8080/"
        },
        "id": "uhPFXsOM74oS",
        "outputId": "838d4df6-7ebb-4043-f447-dadc4ad9f7cd"
      },
      "source": [
        "a = 7\n",
        "\n",
        "s4 = pd.Series(a, ['a', 'b', 'c'])\n",
        "\n",
        "s4"
      ],
      "execution_count": null,
      "outputs": [
        {
          "output_type": "execute_result",
          "data": {
            "text/plain": [
              "a    7\n",
              "b    7\n",
              "c    7\n",
              "dtype: int64"
            ]
          },
          "metadata": {},
          "execution_count": 8
        }
      ]
    },
    {
      "cell_type": "markdown",
      "metadata": {
        "id": "OgIfPPvi8Pun"
      },
      "source": [
        "У объекта **Series** есть атрибуты через которые можно получить список элементов и индексы, это **values** и **index** соответственно."
      ]
    },
    {
      "cell_type": "code",
      "metadata": {
        "colab": {
          "base_uri": "https://localhost:8080/"
        },
        "id": "XWDf3jAh8Pci",
        "outputId": "ecb1a1aa-282b-443d-99fd-f0390408648f"
      },
      "source": [
        "print(s4.index)\n",
        "print('_'*10)\n",
        "print(s4.values)"
      ],
      "execution_count": null,
      "outputs": [
        {
          "output_type": "stream",
          "name": "stdout",
          "text": [
            "Index(['a', 'b', 'c'], dtype='object')\n",
            "__________\n",
            "[7 7 7]\n"
          ]
        }
      ]
    },
    {
      "cell_type": "markdown",
      "metadata": {
        "id": "SKiO8HDL7_Mn"
      },
      "source": [
        "###Работа с элементами Series"
      ]
    },
    {
      "cell_type": "markdown",
      "metadata": {
        "id": "rvI-Y36h8Ajd"
      },
      "source": [
        "К элементам Series можно обращаться по численному индексу, при таком подходе работа со структурой не отличается от работы со списками в Python."
      ]
    },
    {
      "cell_type": "code",
      "metadata": {
        "colab": {
          "base_uri": "https://localhost:8080/"
        },
        "id": "I2MfFeiP8A2k",
        "outputId": "d1cf7221-9d95-4098-aa72-703e56ee7f1e"
      },
      "source": [
        "# Создание Series из списка Python\n",
        "s5 = pd.Series(['Иван', 'Петр', 'Мария', 'Анастасия', 'Федор'], ['a', 'b', 'c', 'd', 'e'])\n",
        "\n",
        "# Обращание ко третьему элементу Series (нумерация начинается с 0)\n",
        "print(s5[2])"
      ],
      "execution_count": null,
      "outputs": [
        {
          "output_type": "stream",
          "name": "stdout",
          "text": [
            "Мария\n"
          ]
        }
      ]
    },
    {
      "cell_type": "markdown",
      "metadata": {
        "id": "w1s48lLa9WAu"
      },
      "source": [
        "Можно использовать метку, тогда работа с **Series** будет похожа на работу со словарем (dict) в Python."
      ]
    },
    {
      "cell_type": "code",
      "metadata": {
        "colab": {
          "base_uri": "https://localhost:8080/"
        },
        "id": "xi5HLxbu9XTz",
        "outputId": "342730d9-b201-4d9e-84e9-6725032ce18e"
      },
      "source": [
        "# Обращание ко третьему элементу Series по заданному индексу (нумерация начинается с 0)\n",
        "print(s5['c'])"
      ],
      "execution_count": null,
      "outputs": [
        {
          "output_type": "stream",
          "name": "stdout",
          "text": [
            "Мария\n"
          ]
        }
      ]
    },
    {
      "cell_type": "markdown",
      "metadata": {
        "id": "pMPra_mr93gv"
      },
      "source": [
        "В поле для индекса можно поместить условное выражение."
      ]
    },
    {
      "cell_type": "code",
      "metadata": {
        "colab": {
          "base_uri": "https://localhost:8080/"
        },
        "id": "G4hfhL-J94OM",
        "outputId": "d6d75797-3e3e-4a8a-8fb5-4cb7f78e9207"
      },
      "source": [
        "s6 = pd.Series([10, 13, 1, 5, 0], ['a', 'b', 'c', 'd', 'e'])\n",
        "\n",
        "# Выведет все значения в Series меньше трех\n",
        "s6[s6 <= 3]"
      ],
      "execution_count": null,
      "outputs": [
        {
          "output_type": "execute_result",
          "data": {
            "text/plain": [
              "c    1\n",
              "e    0\n",
              "dtype: int64"
            ]
          },
          "metadata": {},
          "execution_count": 12
        }
      ]
    },
    {
      "cell_type": "code",
      "metadata": {
        "colab": {
          "base_uri": "https://localhost:8080/"
        },
        "id": "iQKzSih0-bbD",
        "outputId": "f48650f9-33c7-4f7b-b01c-cb24c53c0197"
      },
      "source": [
        "# Получение элементов с метками 'a', 'c' и 'e':\n",
        "s6[['a', 'c', 'e']]"
      ],
      "execution_count": null,
      "outputs": [
        {
          "output_type": "execute_result",
          "data": {
            "text/plain": [
              "a    10\n",
              "c     1\n",
              "e     0\n",
              "dtype: int64"
            ]
          },
          "metadata": {},
          "execution_count": 13
        }
      ]
    },
    {
      "cell_type": "markdown",
      "metadata": {
        "id": "Xa6CTMNQ-nks"
      },
      "source": [
        "Обращение по слайсу (срезу) меток.\n",
        "\n",
        "Получение элементов структуры с метками от 'a' до 'd':"
      ]
    },
    {
      "cell_type": "code",
      "metadata": {
        "colab": {
          "base_uri": "https://localhost:8080/"
        },
        "id": "lHZKU4co-rtS",
        "outputId": "dbf536af-884a-4793-bd5a-2fe0d6154ba2"
      },
      "source": [
        "s6['a':'d']"
      ],
      "execution_count": null,
      "outputs": [
        {
          "output_type": "execute_result",
          "data": {
            "text/plain": [
              "a    10\n",
              "b    13\n",
              "c     1\n",
              "d     5\n",
              "dtype: int64"
            ]
          },
          "metadata": {},
          "execution_count": 14
        }
      ]
    },
    {
      "cell_type": "markdown",
      "metadata": {
        "id": "zrwVVNJs-0sX"
      },
      "source": [
        "Получение элементов стурктуры с индексами от 0 до 4:"
      ]
    },
    {
      "cell_type": "code",
      "metadata": {
        "colab": {
          "base_uri": "https://localhost:8080/"
        },
        "id": "KHKDoSlD-wbl",
        "outputId": "406fa2eb-ee8c-4957-efe9-85a46ae2c190"
      },
      "source": [
        "s6[0:4]"
      ],
      "execution_count": null,
      "outputs": [
        {
          "output_type": "execute_result",
          "data": {
            "text/plain": [
              "a    10\n",
              "b    13\n",
              "c     1\n",
              "d     5\n",
              "dtype: int64"
            ]
          },
          "metadata": {},
          "execution_count": 15
        }
      ]
    },
    {
      "cell_type": "markdown",
      "metadata": {
        "id": "2d3Eu4jL_OsL"
      },
      "source": [
        "###Работа с Series"
      ]
    },
    {
      "cell_type": "markdown",
      "metadata": {
        "id": "u98Gd7iw_SoY"
      },
      "source": [
        "Со структурами Series можно работать как с векторами: складывать, умножать вектор на число и т.п."
      ]
    },
    {
      "cell_type": "code",
      "metadata": {
        "colab": {
          "base_uri": "https://localhost:8080/"
        },
        "id": "PdCDJteU_TPT",
        "outputId": "57c18a41-2853-4b72-ca69-6fb0cb3a6639"
      },
      "source": [
        "s7 = pd.Series([10, 20, 30, 40, 50], ['a', 'b', 'c', 'd', 'e'])\n",
        "s8 = pd.Series([1, 1, 1, 1, 0], ['a', 'b', 'c', 'd', 'e'])\n",
        "\n",
        "# сложение\n",
        "# к каждому элементу s7 прибавляется каждый элемент s8\n",
        "# для корректного сложения необходимо, чтобы длинна Series совпадла\n",
        "s9 = s7 + s8\n",
        "s9"
      ],
      "execution_count": null,
      "outputs": [
        {
          "output_type": "execute_result",
          "data": {
            "text/plain": [
              "a    11\n",
              "b    21\n",
              "c    31\n",
              "d    41\n",
              "e    50\n",
              "dtype: int64"
            ]
          },
          "metadata": {},
          "execution_count": 16
        }
      ]
    },
    {
      "cell_type": "code",
      "metadata": {
        "colab": {
          "base_uri": "https://localhost:8080/"
        },
        "id": "KxNCkg0h_uEy",
        "outputId": "a0815005-10ea-4eb1-b1a3-44e361015f2b"
      },
      "source": [
        "# Каждый элемент s7 увеличится в 3 раза\n",
        "s9 = s7 * 3\n",
        "\n",
        "s9"
      ],
      "execution_count": null,
      "outputs": [
        {
          "output_type": "execute_result",
          "data": {
            "text/plain": [
              "a     30\n",
              "b     60\n",
              "c     90\n",
              "d    120\n",
              "e    150\n",
              "dtype: int64"
            ]
          },
          "metadata": {},
          "execution_count": 17
        }
      ]
    },
    {
      "cell_type": "markdown",
      "metadata": {
        "id": "Zrll7-4mkQMY"
      },
      "source": [
        "##Структура данных DataFrame"
      ]
    },
    {
      "cell_type": "markdown",
      "metadata": {
        "id": "cFcwGiPykT5O"
      },
      "source": [
        "Если **Series** представляет собой одномерную структуру, которую для себя можно представить как таблицу с одной строкой, то **DataFrame** – это уже двумерная структура – полноценная таблица с множеством строк и столбцов.\n",
        "\n",
        "Конструктор класса DataFrame выглядит так:\n",
        "\n",
        "\n",
        "\n",
        "```\n",
        "pd.DataFrame(data=None, index=None, columns=None, dtype=None, copy=False)\n",
        "```\n",
        "\n",
        "- **data** – массив ndarray, словарь (dict) или другой DataFrame;\n",
        "\n",
        "- **index** – список меток для записей (имена строк таблицы);\n",
        "\n",
        "- **columns** – список меток для полей (имена столбцов таблицы);\n",
        "\n",
        "- **dtype** – объект numpy.dtype, определяющий тип данных;\n",
        "\n",
        "- **copy** – создает копию массива данных, если параметр равен True в ином случае ничего не делает.\n",
        "\n",
        "Cтруктуру **DataFrame** можно создать на базе:\n",
        "\n",
        "- словаря (dict) в качестве элементов которого должны выступать: одномерные - ndarray, списки, другие словари, структуры Series;\n",
        "- двумерные ndarray;\n",
        " структуры Series;\n",
        "- структурированные ndarray;\n",
        "- другие DataFrame.\n",
        "\n"
      ]
    },
    {
      "cell_type": "markdown",
      "metadata": {
        "id": "I2E-cLe_LBWE"
      },
      "source": [
        "###Создание DataFrame из словаря"
      ]
    },
    {
      "cell_type": "code",
      "metadata": {
        "colab": {
          "base_uri": "https://localhost:8080/"
        },
        "id": "Bj905LEFK9LX",
        "outputId": "3b415f8d-9b70-4f63-cb1e-13a3471b78ae"
      },
      "source": [
        "import pandas as pd\n",
        "\n",
        "d = {\"Name\":pd.Series(['Виктор', 'Мария', 'Иван']),\n",
        "     \"Age\": pd.Series([18, 21, 19])}\n",
        "\n",
        "df = pd.DataFrame(d)\n",
        "df"
      ],
      "execution_count": null,
      "outputs": [
        {
          "output_type": "execute_result",
          "data": {
            "text/plain": [
              "     Name  Age\n",
              "0  Виктор   18\n",
              "1   Мария   21\n",
              "2    Иван   19"
            ],
            "text/html": [
              "\n",
              "  <div id=\"df-ee240f89-716c-42af-9e8b-736f3b64cb10\">\n",
              "    <div class=\"colab-df-container\">\n",
              "      <div>\n",
              "<style scoped>\n",
              "    .dataframe tbody tr th:only-of-type {\n",
              "        vertical-align: middle;\n",
              "    }\n",
              "\n",
              "    .dataframe tbody tr th {\n",
              "        vertical-align: top;\n",
              "    }\n",
              "\n",
              "    .dataframe thead th {\n",
              "        text-align: right;\n",
              "    }\n",
              "</style>\n",
              "<table border=\"1\" class=\"dataframe\">\n",
              "  <thead>\n",
              "    <tr style=\"text-align: right;\">\n",
              "      <th></th>\n",
              "      <th>Name</th>\n",
              "      <th>Age</th>\n",
              "    </tr>\n",
              "  </thead>\n",
              "  <tbody>\n",
              "    <tr>\n",
              "      <th>0</th>\n",
              "      <td>Виктор</td>\n",
              "      <td>18</td>\n",
              "    </tr>\n",
              "    <tr>\n",
              "      <th>1</th>\n",
              "      <td>Мария</td>\n",
              "      <td>21</td>\n",
              "    </tr>\n",
              "    <tr>\n",
              "      <th>2</th>\n",
              "      <td>Иван</td>\n",
              "      <td>19</td>\n",
              "    </tr>\n",
              "  </tbody>\n",
              "</table>\n",
              "</div>\n",
              "      <button class=\"colab-df-convert\" onclick=\"convertToInteractive('df-ee240f89-716c-42af-9e8b-736f3b64cb10')\"\n",
              "              title=\"Convert this dataframe to an interactive table.\"\n",
              "              style=\"display:none;\">\n",
              "        \n",
              "  <svg xmlns=\"http://www.w3.org/2000/svg\" height=\"24px\"viewBox=\"0 0 24 24\"\n",
              "       width=\"24px\">\n",
              "    <path d=\"M0 0h24v24H0V0z\" fill=\"none\"/>\n",
              "    <path d=\"M18.56 5.44l.94 2.06.94-2.06 2.06-.94-2.06-.94-.94-2.06-.94 2.06-2.06.94zm-11 1L8.5 8.5l.94-2.06 2.06-.94-2.06-.94L8.5 2.5l-.94 2.06-2.06.94zm10 10l.94 2.06.94-2.06 2.06-.94-2.06-.94-.94-2.06-.94 2.06-2.06.94z\"/><path d=\"M17.41 7.96l-1.37-1.37c-.4-.4-.92-.59-1.43-.59-.52 0-1.04.2-1.43.59L10.3 9.45l-7.72 7.72c-.78.78-.78 2.05 0 2.83L4 21.41c.39.39.9.59 1.41.59.51 0 1.02-.2 1.41-.59l7.78-7.78 2.81-2.81c.8-.78.8-2.07 0-2.86zM5.41 20L4 18.59l7.72-7.72 1.47 1.35L5.41 20z\"/>\n",
              "  </svg>\n",
              "      </button>\n",
              "      \n",
              "  <style>\n",
              "    .colab-df-container {\n",
              "      display:flex;\n",
              "      flex-wrap:wrap;\n",
              "      gap: 12px;\n",
              "    }\n",
              "\n",
              "    .colab-df-convert {\n",
              "      background-color: #E8F0FE;\n",
              "      border: none;\n",
              "      border-radius: 50%;\n",
              "      cursor: pointer;\n",
              "      display: none;\n",
              "      fill: #1967D2;\n",
              "      height: 32px;\n",
              "      padding: 0 0 0 0;\n",
              "      width: 32px;\n",
              "    }\n",
              "\n",
              "    .colab-df-convert:hover {\n",
              "      background-color: #E2EBFA;\n",
              "      box-shadow: 0px 1px 2px rgba(60, 64, 67, 0.3), 0px 1px 3px 1px rgba(60, 64, 67, 0.15);\n",
              "      fill: #174EA6;\n",
              "    }\n",
              "\n",
              "    [theme=dark] .colab-df-convert {\n",
              "      background-color: #3B4455;\n",
              "      fill: #D2E3FC;\n",
              "    }\n",
              "\n",
              "    [theme=dark] .colab-df-convert:hover {\n",
              "      background-color: #434B5C;\n",
              "      box-shadow: 0px 1px 3px 1px rgba(0, 0, 0, 0.15);\n",
              "      filter: drop-shadow(0px 1px 2px rgba(0, 0, 0, 0.3));\n",
              "      fill: #FFFFFF;\n",
              "    }\n",
              "  </style>\n",
              "\n",
              "      <script>\n",
              "        const buttonEl =\n",
              "          document.querySelector('#df-ee240f89-716c-42af-9e8b-736f3b64cb10 button.colab-df-convert');\n",
              "        buttonEl.style.display =\n",
              "          google.colab.kernel.accessAllowed ? 'block' : 'none';\n",
              "\n",
              "        async function convertToInteractive(key) {\n",
              "          const element = document.querySelector('#df-ee240f89-716c-42af-9e8b-736f3b64cb10');\n",
              "          const dataTable =\n",
              "            await google.colab.kernel.invokeFunction('convertToInteractive',\n",
              "                                                     [key], {});\n",
              "          if (!dataTable) return;\n",
              "\n",
              "          const docLinkHtml = 'Like what you see? Visit the ' +\n",
              "            '<a target=\"_blank\" href=https://colab.research.google.com/notebooks/data_table.ipynb>data table notebook</a>'\n",
              "            + ' to learn more about interactive tables.';\n",
              "          element.innerHTML = '';\n",
              "          dataTable['output_type'] = 'display_data';\n",
              "          await google.colab.output.renderOutput(dataTable, element);\n",
              "          const docLink = document.createElement('div');\n",
              "          docLink.innerHTML = docLinkHtml;\n",
              "          element.appendChild(docLink);\n",
              "        }\n",
              "      </script>\n",
              "    </div>\n",
              "  </div>\n",
              "  "
            ]
          },
          "metadata": {},
          "execution_count": 18
        }
      ]
    },
    {
      "cell_type": "markdown",
      "metadata": {
        "id": "sG3j1vKRLm31"
      },
      "source": [
        "###Создание DataFrame из списка словарей"
      ]
    },
    {
      "cell_type": "code",
      "metadata": {
        "colab": {
          "base_uri": "https://localhost:8080/"
        },
        "id": "26Q4FnlUK9WC",
        "outputId": "89fa1989-4aab-464b-9e98-201fe1d6af7f"
      },
      "source": [
        "d = [{\"Name\": \"Виктор\", \"Age\": 18},\n",
        "     {\"Name\": \"Мария\", \"Age\": 21},\n",
        "     {\"Name\": \"Иван\", \"Age\": 19}]\n",
        "\n",
        "df = pd.DataFrame(d)\n",
        "df"
      ],
      "execution_count": null,
      "outputs": [
        {
          "output_type": "execute_result",
          "data": {
            "text/plain": [
              "     Name  Age\n",
              "0  Виктор   18\n",
              "1   Мария   21\n",
              "2    Иван   19"
            ],
            "text/html": [
              "\n",
              "  <div id=\"df-40b7fc85-f90f-4815-a30c-f159b78ee203\">\n",
              "    <div class=\"colab-df-container\">\n",
              "      <div>\n",
              "<style scoped>\n",
              "    .dataframe tbody tr th:only-of-type {\n",
              "        vertical-align: middle;\n",
              "    }\n",
              "\n",
              "    .dataframe tbody tr th {\n",
              "        vertical-align: top;\n",
              "    }\n",
              "\n",
              "    .dataframe thead th {\n",
              "        text-align: right;\n",
              "    }\n",
              "</style>\n",
              "<table border=\"1\" class=\"dataframe\">\n",
              "  <thead>\n",
              "    <tr style=\"text-align: right;\">\n",
              "      <th></th>\n",
              "      <th>Name</th>\n",
              "      <th>Age</th>\n",
              "    </tr>\n",
              "  </thead>\n",
              "  <tbody>\n",
              "    <tr>\n",
              "      <th>0</th>\n",
              "      <td>Виктор</td>\n",
              "      <td>18</td>\n",
              "    </tr>\n",
              "    <tr>\n",
              "      <th>1</th>\n",
              "      <td>Мария</td>\n",
              "      <td>21</td>\n",
              "    </tr>\n",
              "    <tr>\n",
              "      <th>2</th>\n",
              "      <td>Иван</td>\n",
              "      <td>19</td>\n",
              "    </tr>\n",
              "  </tbody>\n",
              "</table>\n",
              "</div>\n",
              "      <button class=\"colab-df-convert\" onclick=\"convertToInteractive('df-40b7fc85-f90f-4815-a30c-f159b78ee203')\"\n",
              "              title=\"Convert this dataframe to an interactive table.\"\n",
              "              style=\"display:none;\">\n",
              "        \n",
              "  <svg xmlns=\"http://www.w3.org/2000/svg\" height=\"24px\"viewBox=\"0 0 24 24\"\n",
              "       width=\"24px\">\n",
              "    <path d=\"M0 0h24v24H0V0z\" fill=\"none\"/>\n",
              "    <path d=\"M18.56 5.44l.94 2.06.94-2.06 2.06-.94-2.06-.94-.94-2.06-.94 2.06-2.06.94zm-11 1L8.5 8.5l.94-2.06 2.06-.94-2.06-.94L8.5 2.5l-.94 2.06-2.06.94zm10 10l.94 2.06.94-2.06 2.06-.94-2.06-.94-.94-2.06-.94 2.06-2.06.94z\"/><path d=\"M17.41 7.96l-1.37-1.37c-.4-.4-.92-.59-1.43-.59-.52 0-1.04.2-1.43.59L10.3 9.45l-7.72 7.72c-.78.78-.78 2.05 0 2.83L4 21.41c.39.39.9.59 1.41.59.51 0 1.02-.2 1.41-.59l7.78-7.78 2.81-2.81c.8-.78.8-2.07 0-2.86zM5.41 20L4 18.59l7.72-7.72 1.47 1.35L5.41 20z\"/>\n",
              "  </svg>\n",
              "      </button>\n",
              "      \n",
              "  <style>\n",
              "    .colab-df-container {\n",
              "      display:flex;\n",
              "      flex-wrap:wrap;\n",
              "      gap: 12px;\n",
              "    }\n",
              "\n",
              "    .colab-df-convert {\n",
              "      background-color: #E8F0FE;\n",
              "      border: none;\n",
              "      border-radius: 50%;\n",
              "      cursor: pointer;\n",
              "      display: none;\n",
              "      fill: #1967D2;\n",
              "      height: 32px;\n",
              "      padding: 0 0 0 0;\n",
              "      width: 32px;\n",
              "    }\n",
              "\n",
              "    .colab-df-convert:hover {\n",
              "      background-color: #E2EBFA;\n",
              "      box-shadow: 0px 1px 2px rgba(60, 64, 67, 0.3), 0px 1px 3px 1px rgba(60, 64, 67, 0.15);\n",
              "      fill: #174EA6;\n",
              "    }\n",
              "\n",
              "    [theme=dark] .colab-df-convert {\n",
              "      background-color: #3B4455;\n",
              "      fill: #D2E3FC;\n",
              "    }\n",
              "\n",
              "    [theme=dark] .colab-df-convert:hover {\n",
              "      background-color: #434B5C;\n",
              "      box-shadow: 0px 1px 3px 1px rgba(0, 0, 0, 0.15);\n",
              "      filter: drop-shadow(0px 1px 2px rgba(0, 0, 0, 0.3));\n",
              "      fill: #FFFFFF;\n",
              "    }\n",
              "  </style>\n",
              "\n",
              "      <script>\n",
              "        const buttonEl =\n",
              "          document.querySelector('#df-40b7fc85-f90f-4815-a30c-f159b78ee203 button.colab-df-convert');\n",
              "        buttonEl.style.display =\n",
              "          google.colab.kernel.accessAllowed ? 'block' : 'none';\n",
              "\n",
              "        async function convertToInteractive(key) {\n",
              "          const element = document.querySelector('#df-40b7fc85-f90f-4815-a30c-f159b78ee203');\n",
              "          const dataTable =\n",
              "            await google.colab.kernel.invokeFunction('convertToInteractive',\n",
              "                                                     [key], {});\n",
              "          if (!dataTable) return;\n",
              "\n",
              "          const docLinkHtml = 'Like what you see? Visit the ' +\n",
              "            '<a target=\"_blank\" href=https://colab.research.google.com/notebooks/data_table.ipynb>data table notebook</a>'\n",
              "            + ' to learn more about interactive tables.';\n",
              "          element.innerHTML = '';\n",
              "          dataTable['output_type'] = 'display_data';\n",
              "          await google.colab.output.renderOutput(dataTable, element);\n",
              "          const docLink = document.createElement('div');\n",
              "          docLink.innerHTML = docLinkHtml;\n",
              "          element.appendChild(docLink);\n",
              "        }\n",
              "      </script>\n",
              "    </div>\n",
              "  </div>\n",
              "  "
            ]
          },
          "metadata": {},
          "execution_count": 19
        }
      ]
    },
    {
      "cell_type": "markdown",
      "metadata": {
        "id": "n1BU59OzL-gs"
      },
      "source": [
        "###Создание DataFrame из двумерного массива"
      ]
    },
    {
      "cell_type": "code",
      "metadata": {
        "colab": {
          "base_uri": "https://localhost:8080/"
        },
        "id": "-FaJ9k3gMBMC",
        "outputId": "1d7989c3-52c1-4dd7-d628-3a77177a86f6"
      },
      "source": [
        "import numpy as np\n",
        "\n",
        "nda = np.array([[1, 2, 3], [10, 20, 30]])\n",
        "\n",
        "df = pd.DataFrame(nda)\n",
        "df"
      ],
      "execution_count": null,
      "outputs": [
        {
          "output_type": "execute_result",
          "data": {
            "text/plain": [
              "    0   1   2\n",
              "0   1   2   3\n",
              "1  10  20  30"
            ],
            "text/html": [
              "\n",
              "  <div id=\"df-8e480ed4-289c-439e-b03d-6b0f9135d6ed\">\n",
              "    <div class=\"colab-df-container\">\n",
              "      <div>\n",
              "<style scoped>\n",
              "    .dataframe tbody tr th:only-of-type {\n",
              "        vertical-align: middle;\n",
              "    }\n",
              "\n",
              "    .dataframe tbody tr th {\n",
              "        vertical-align: top;\n",
              "    }\n",
              "\n",
              "    .dataframe thead th {\n",
              "        text-align: right;\n",
              "    }\n",
              "</style>\n",
              "<table border=\"1\" class=\"dataframe\">\n",
              "  <thead>\n",
              "    <tr style=\"text-align: right;\">\n",
              "      <th></th>\n",
              "      <th>0</th>\n",
              "      <th>1</th>\n",
              "      <th>2</th>\n",
              "    </tr>\n",
              "  </thead>\n",
              "  <tbody>\n",
              "    <tr>\n",
              "      <th>0</th>\n",
              "      <td>1</td>\n",
              "      <td>2</td>\n",
              "      <td>3</td>\n",
              "    </tr>\n",
              "    <tr>\n",
              "      <th>1</th>\n",
              "      <td>10</td>\n",
              "      <td>20</td>\n",
              "      <td>30</td>\n",
              "    </tr>\n",
              "  </tbody>\n",
              "</table>\n",
              "</div>\n",
              "      <button class=\"colab-df-convert\" onclick=\"convertToInteractive('df-8e480ed4-289c-439e-b03d-6b0f9135d6ed')\"\n",
              "              title=\"Convert this dataframe to an interactive table.\"\n",
              "              style=\"display:none;\">\n",
              "        \n",
              "  <svg xmlns=\"http://www.w3.org/2000/svg\" height=\"24px\"viewBox=\"0 0 24 24\"\n",
              "       width=\"24px\">\n",
              "    <path d=\"M0 0h24v24H0V0z\" fill=\"none\"/>\n",
              "    <path d=\"M18.56 5.44l.94 2.06.94-2.06 2.06-.94-2.06-.94-.94-2.06-.94 2.06-2.06.94zm-11 1L8.5 8.5l.94-2.06 2.06-.94-2.06-.94L8.5 2.5l-.94 2.06-2.06.94zm10 10l.94 2.06.94-2.06 2.06-.94-2.06-.94-.94-2.06-.94 2.06-2.06.94z\"/><path d=\"M17.41 7.96l-1.37-1.37c-.4-.4-.92-.59-1.43-.59-.52 0-1.04.2-1.43.59L10.3 9.45l-7.72 7.72c-.78.78-.78 2.05 0 2.83L4 21.41c.39.39.9.59 1.41.59.51 0 1.02-.2 1.41-.59l7.78-7.78 2.81-2.81c.8-.78.8-2.07 0-2.86zM5.41 20L4 18.59l7.72-7.72 1.47 1.35L5.41 20z\"/>\n",
              "  </svg>\n",
              "      </button>\n",
              "      \n",
              "  <style>\n",
              "    .colab-df-container {\n",
              "      display:flex;\n",
              "      flex-wrap:wrap;\n",
              "      gap: 12px;\n",
              "    }\n",
              "\n",
              "    .colab-df-convert {\n",
              "      background-color: #E8F0FE;\n",
              "      border: none;\n",
              "      border-radius: 50%;\n",
              "      cursor: pointer;\n",
              "      display: none;\n",
              "      fill: #1967D2;\n",
              "      height: 32px;\n",
              "      padding: 0 0 0 0;\n",
              "      width: 32px;\n",
              "    }\n",
              "\n",
              "    .colab-df-convert:hover {\n",
              "      background-color: #E2EBFA;\n",
              "      box-shadow: 0px 1px 2px rgba(60, 64, 67, 0.3), 0px 1px 3px 1px rgba(60, 64, 67, 0.15);\n",
              "      fill: #174EA6;\n",
              "    }\n",
              "\n",
              "    [theme=dark] .colab-df-convert {\n",
              "      background-color: #3B4455;\n",
              "      fill: #D2E3FC;\n",
              "    }\n",
              "\n",
              "    [theme=dark] .colab-df-convert:hover {\n",
              "      background-color: #434B5C;\n",
              "      box-shadow: 0px 1px 3px 1px rgba(0, 0, 0, 0.15);\n",
              "      filter: drop-shadow(0px 1px 2px rgba(0, 0, 0, 0.3));\n",
              "      fill: #FFFFFF;\n",
              "    }\n",
              "  </style>\n",
              "\n",
              "      <script>\n",
              "        const buttonEl =\n",
              "          document.querySelector('#df-8e480ed4-289c-439e-b03d-6b0f9135d6ed button.colab-df-convert');\n",
              "        buttonEl.style.display =\n",
              "          google.colab.kernel.accessAllowed ? 'block' : 'none';\n",
              "\n",
              "        async function convertToInteractive(key) {\n",
              "          const element = document.querySelector('#df-8e480ed4-289c-439e-b03d-6b0f9135d6ed');\n",
              "          const dataTable =\n",
              "            await google.colab.kernel.invokeFunction('convertToInteractive',\n",
              "                                                     [key], {});\n",
              "          if (!dataTable) return;\n",
              "\n",
              "          const docLinkHtml = 'Like what you see? Visit the ' +\n",
              "            '<a target=\"_blank\" href=https://colab.research.google.com/notebooks/data_table.ipynb>data table notebook</a>'\n",
              "            + ' to learn more about interactive tables.';\n",
              "          element.innerHTML = '';\n",
              "          dataTable['output_type'] = 'display_data';\n",
              "          await google.colab.output.renderOutput(dataTable, element);\n",
              "          const docLink = document.createElement('div');\n",
              "          docLink.innerHTML = docLinkHtml;\n",
              "          element.appendChild(docLink);\n",
              "        }\n",
              "      </script>\n",
              "    </div>\n",
              "  </div>\n",
              "  "
            ]
          },
          "metadata": {},
          "execution_count": 20
        }
      ]
    },
    {
      "cell_type": "markdown",
      "metadata": {
        "id": "t5t8qh13ws7W"
      },
      "source": [
        "###Работа с элементами DataFrame"
      ]
    },
    {
      "cell_type": "markdown",
      "metadata": {
        "id": "3EEkUkFlxVao"
      },
      "source": [
        "Обращение к столбцу DataFrame:\n",
        "\n",
        "- df['Название столбца']\n",
        "- df.название_столбца"
      ]
    },
    {
      "cell_type": "code",
      "metadata": {
        "colab": {
          "base_uri": "https://localhost:8080/"
        },
        "id": "Ktnx1HncxZzS",
        "outputId": "9c39c4e7-149e-47da-be59-3583bd5a55b4"
      },
      "source": [
        "d = [{\"Name\": \"Виктор\", \"Age\": 18},\n",
        "     {\"Name\": \"Мария\", \"Age\": 21},\n",
        "     {\"Name\": \"Иван\", \"Age\": 19}]\n",
        "\n",
        "df = pd.DataFrame(d)\n",
        "\n",
        "df['Name']"
      ],
      "execution_count": null,
      "outputs": [
        {
          "output_type": "execute_result",
          "data": {
            "text/plain": [
              "0    Виктор\n",
              "1     Мария\n",
              "2      Иван\n",
              "Name: Name, dtype: object"
            ]
          },
          "metadata": {},
          "execution_count": 21
        }
      ]
    },
    {
      "cell_type": "code",
      "source": [
        "df.Age"
      ],
      "metadata": {
        "colab": {
          "base_uri": "https://localhost:8080/"
        },
        "id": "3lW0F4GAdlPa",
        "outputId": "d0ed415d-67a0-4917-9788-52084c4099a5"
      },
      "execution_count": null,
      "outputs": [
        {
          "output_type": "execute_result",
          "data": {
            "text/plain": [
              "0    18\n",
              "1    21\n",
              "2    19\n",
              "Name: Age, dtype: int64"
            ]
          },
          "metadata": {},
          "execution_count": 23
        }
      ]
    },
    {
      "cell_type": "code",
      "metadata": {
        "colab": {
          "base_uri": "https://localhost:8080/"
        },
        "id": "VRnPjIA4xno0",
        "outputId": "c1e90994-a797-448b-d199-683647e3d045"
      },
      "source": [
        "df.Name"
      ],
      "execution_count": null,
      "outputs": [
        {
          "output_type": "execute_result",
          "data": {
            "text/plain": [
              "0    Виктор\n",
              "1     Мария\n",
              "2      Иван\n",
              "Name: Name, dtype: object"
            ]
          },
          "metadata": {},
          "execution_count": 22
        }
      ]
    },
    {
      "cell_type": "markdown",
      "metadata": {
        "id": "XmZbhX9Ux6Sl"
      },
      "source": [
        "Также для работы со строками и столбцами существуют методы:\n",
        "\n",
        "**DataFrame.loc[]**- Доступ к группе строк и столбцов (или только к столбцам, или только к строкам) по меткам или логическому массиву.\n",
        "\n",
        "Допустимые входы:\n",
        "- Одиночная метка, например 5 или 'a', (обратите внимание, что 5 - интерпретируется как метка индекса, а не как целочисленная позиция по индексу).\n",
        "- Список или массив меток, например ['a', 'b', 'c']\n",
        "- Объект среза с метками, например 'a':'f'.\n",
        "\n",
        "**DataFrame.iloc[]** - позволяет получить доступ к элементам DataFrame по целочисленном индексам.\n",
        "\n",
        "Допустимые входы:\n",
        "- Целое число, например 5.\n",
        "- Список или массив целых чисел, например .[4, 3, 0]\n",
        "- Объект среза с целыми числами, например 1:7."
      ]
    },
    {
      "cell_type": "code",
      "metadata": {
        "colab": {
          "base_uri": "https://localhost:8080/"
        },
        "id": "w3xX4hFex1FO",
        "outputId": "245f39f1-542f-4d57-816b-d9f279c1c744"
      },
      "source": [
        "df.iloc[0] # по индексу вернет 0 строку DataFrame"
      ],
      "execution_count": null,
      "outputs": [
        {
          "output_type": "execute_result",
          "data": {
            "text/plain": [
              "Name    Виктор\n",
              "Age         18\n",
              "Name: 0, dtype: object"
            ]
          },
          "metadata": {},
          "execution_count": 24
        }
      ]
    },
    {
      "cell_type": "markdown",
      "metadata": {
        "id": "5HS0B_8s0IzX"
      },
      "source": [
        "Для доступа к элементам и по строке и по столбцу используется следующая конструкция:\n",
        "\n",
        "- DataFrame.iloc[строка, столбце]\n",
        "- DataFrame.iloc[диапазон:строк, диапазон:столбцов]"
      ]
    },
    {
      "cell_type": "code",
      "metadata": {
        "colab": {
          "base_uri": "https://localhost:8080/",
          "height": 112
        },
        "id": "hVJK49j4z5-f",
        "outputId": "08eb061e-b368-4c1f-ccd9-ac326622b8d2"
      },
      "source": [
        "df.iloc[0,1] # по индексу вернет элемент DataFrame на пересечении 0 строки и 1 столбца [строка, столбца]\n",
        "\n",
        "df.iloc[:, 1] # вернет все элементы 1 столбца для всех строк\n",
        "\n",
        "df.iloc[0:2,:] # вернет значения всех стобцов для 0 и 1 строк"
      ],
      "execution_count": null,
      "outputs": [
        {
          "output_type": "execute_result",
          "data": {
            "text/plain": [
              "     Name  Age\n",
              "0  Виктор   18\n",
              "1   Мария   21"
            ],
            "text/html": [
              "\n",
              "  <div id=\"df-de31a001-1d93-4334-93c9-72d69b096e96\">\n",
              "    <div class=\"colab-df-container\">\n",
              "      <div>\n",
              "<style scoped>\n",
              "    .dataframe tbody tr th:only-of-type {\n",
              "        vertical-align: middle;\n",
              "    }\n",
              "\n",
              "    .dataframe tbody tr th {\n",
              "        vertical-align: top;\n",
              "    }\n",
              "\n",
              "    .dataframe thead th {\n",
              "        text-align: right;\n",
              "    }\n",
              "</style>\n",
              "<table border=\"1\" class=\"dataframe\">\n",
              "  <thead>\n",
              "    <tr style=\"text-align: right;\">\n",
              "      <th></th>\n",
              "      <th>Name</th>\n",
              "      <th>Age</th>\n",
              "    </tr>\n",
              "  </thead>\n",
              "  <tbody>\n",
              "    <tr>\n",
              "      <th>0</th>\n",
              "      <td>Виктор</td>\n",
              "      <td>18</td>\n",
              "    </tr>\n",
              "    <tr>\n",
              "      <th>1</th>\n",
              "      <td>Мария</td>\n",
              "      <td>21</td>\n",
              "    </tr>\n",
              "  </tbody>\n",
              "</table>\n",
              "</div>\n",
              "      <button class=\"colab-df-convert\" onclick=\"convertToInteractive('df-de31a001-1d93-4334-93c9-72d69b096e96')\"\n",
              "              title=\"Convert this dataframe to an interactive table.\"\n",
              "              style=\"display:none;\">\n",
              "        \n",
              "  <svg xmlns=\"http://www.w3.org/2000/svg\" height=\"24px\"viewBox=\"0 0 24 24\"\n",
              "       width=\"24px\">\n",
              "    <path d=\"M0 0h24v24H0V0z\" fill=\"none\"/>\n",
              "    <path d=\"M18.56 5.44l.94 2.06.94-2.06 2.06-.94-2.06-.94-.94-2.06-.94 2.06-2.06.94zm-11 1L8.5 8.5l.94-2.06 2.06-.94-2.06-.94L8.5 2.5l-.94 2.06-2.06.94zm10 10l.94 2.06.94-2.06 2.06-.94-2.06-.94-.94-2.06-.94 2.06-2.06.94z\"/><path d=\"M17.41 7.96l-1.37-1.37c-.4-.4-.92-.59-1.43-.59-.52 0-1.04.2-1.43.59L10.3 9.45l-7.72 7.72c-.78.78-.78 2.05 0 2.83L4 21.41c.39.39.9.59 1.41.59.51 0 1.02-.2 1.41-.59l7.78-7.78 2.81-2.81c.8-.78.8-2.07 0-2.86zM5.41 20L4 18.59l7.72-7.72 1.47 1.35L5.41 20z\"/>\n",
              "  </svg>\n",
              "      </button>\n",
              "      \n",
              "  <style>\n",
              "    .colab-df-container {\n",
              "      display:flex;\n",
              "      flex-wrap:wrap;\n",
              "      gap: 12px;\n",
              "    }\n",
              "\n",
              "    .colab-df-convert {\n",
              "      background-color: #E8F0FE;\n",
              "      border: none;\n",
              "      border-radius: 50%;\n",
              "      cursor: pointer;\n",
              "      display: none;\n",
              "      fill: #1967D2;\n",
              "      height: 32px;\n",
              "      padding: 0 0 0 0;\n",
              "      width: 32px;\n",
              "    }\n",
              "\n",
              "    .colab-df-convert:hover {\n",
              "      background-color: #E2EBFA;\n",
              "      box-shadow: 0px 1px 2px rgba(60, 64, 67, 0.3), 0px 1px 3px 1px rgba(60, 64, 67, 0.15);\n",
              "      fill: #174EA6;\n",
              "    }\n",
              "\n",
              "    [theme=dark] .colab-df-convert {\n",
              "      background-color: #3B4455;\n",
              "      fill: #D2E3FC;\n",
              "    }\n",
              "\n",
              "    [theme=dark] .colab-df-convert:hover {\n",
              "      background-color: #434B5C;\n",
              "      box-shadow: 0px 1px 3px 1px rgba(0, 0, 0, 0.15);\n",
              "      filter: drop-shadow(0px 1px 2px rgba(0, 0, 0, 0.3));\n",
              "      fill: #FFFFFF;\n",
              "    }\n",
              "  </style>\n",
              "\n",
              "      <script>\n",
              "        const buttonEl =\n",
              "          document.querySelector('#df-de31a001-1d93-4334-93c9-72d69b096e96 button.colab-df-convert');\n",
              "        buttonEl.style.display =\n",
              "          google.colab.kernel.accessAllowed ? 'block' : 'none';\n",
              "\n",
              "        async function convertToInteractive(key) {\n",
              "          const element = document.querySelector('#df-de31a001-1d93-4334-93c9-72d69b096e96');\n",
              "          const dataTable =\n",
              "            await google.colab.kernel.invokeFunction('convertToInteractive',\n",
              "                                                     [key], {});\n",
              "          if (!dataTable) return;\n",
              "\n",
              "          const docLinkHtml = 'Like what you see? Visit the ' +\n",
              "            '<a target=\"_blank\" href=https://colab.research.google.com/notebooks/data_table.ipynb>data table notebook</a>'\n",
              "            + ' to learn more about interactive tables.';\n",
              "          element.innerHTML = '';\n",
              "          dataTable['output_type'] = 'display_data';\n",
              "          await google.colab.output.renderOutput(dataTable, element);\n",
              "          const docLink = document.createElement('div');\n",
              "          docLink.innerHTML = docLinkHtml;\n",
              "          element.appendChild(docLink);\n",
              "        }\n",
              "      </script>\n",
              "    </div>\n",
              "  </div>\n",
              "  "
            ]
          },
          "metadata": {},
          "execution_count": 28
        }
      ]
    },
    {
      "cell_type": "code",
      "metadata": {
        "colab": {
          "base_uri": "https://localhost:8080/"
        },
        "id": "Klzj5wY00_NT",
        "outputId": "2b2fcb0d-dbaa-4776-e2f2-e7d5eaf03034"
      },
      "source": [
        "df.loc[:, 'Name'] # доступ по метке: вернет значения всех элементов в столбце Name для всех строк\n",
        "\n",
        "df.loc[:1, 'Name'] # доступ по метке: вернет значения всех элементов в столбце Name для 0 и 1 строк"
      ],
      "execution_count": null,
      "outputs": [
        {
          "output_type": "execute_result",
          "data": {
            "text/plain": [
              "0    Виктор\n",
              "1     Мария\n",
              "Name: Name, dtype: object"
            ]
          },
          "metadata": {},
          "execution_count": 31
        }
      ]
    },
    {
      "cell_type": "markdown",
      "metadata": {
        "id": "VHNEszhQ04z4"
      },
      "source": [
        "Методы .loc[], .iloc[] также применимы к структуре Series."
      ]
    },
    {
      "cell_type": "markdown",
      "metadata": {
        "id": "qbeWwv-f3Bgt"
      },
      "source": [
        "Также в поле для индекса можно писать логические условия для фильтрации значений."
      ]
    },
    {
      "cell_type": "code",
      "metadata": {
        "id": "5Y1QTo8k2_1Z",
        "colab": {
          "base_uri": "https://localhost:8080/",
          "height": 81
        },
        "outputId": "1a0fb032-7aec-4a19-b1f7-c8a7e2affafe"
      },
      "source": [
        "#  Вывести все строки, в которых значение в столбце Age больше и равно 20\n",
        "df[df['Age'] >= 20]"
      ],
      "execution_count": null,
      "outputs": [
        {
          "output_type": "execute_result",
          "data": {
            "text/plain": [
              "    Name  Age\n",
              "1  Мария   21"
            ],
            "text/html": [
              "\n",
              "  <div id=\"df-b493ccf6-5610-4f4d-bcc6-6b94392a07bf\">\n",
              "    <div class=\"colab-df-container\">\n",
              "      <div>\n",
              "<style scoped>\n",
              "    .dataframe tbody tr th:only-of-type {\n",
              "        vertical-align: middle;\n",
              "    }\n",
              "\n",
              "    .dataframe tbody tr th {\n",
              "        vertical-align: top;\n",
              "    }\n",
              "\n",
              "    .dataframe thead th {\n",
              "        text-align: right;\n",
              "    }\n",
              "</style>\n",
              "<table border=\"1\" class=\"dataframe\">\n",
              "  <thead>\n",
              "    <tr style=\"text-align: right;\">\n",
              "      <th></th>\n",
              "      <th>Name</th>\n",
              "      <th>Age</th>\n",
              "    </tr>\n",
              "  </thead>\n",
              "  <tbody>\n",
              "    <tr>\n",
              "      <th>1</th>\n",
              "      <td>Мария</td>\n",
              "      <td>21</td>\n",
              "    </tr>\n",
              "  </tbody>\n",
              "</table>\n",
              "</div>\n",
              "      <button class=\"colab-df-convert\" onclick=\"convertToInteractive('df-b493ccf6-5610-4f4d-bcc6-6b94392a07bf')\"\n",
              "              title=\"Convert this dataframe to an interactive table.\"\n",
              "              style=\"display:none;\">\n",
              "        \n",
              "  <svg xmlns=\"http://www.w3.org/2000/svg\" height=\"24px\"viewBox=\"0 0 24 24\"\n",
              "       width=\"24px\">\n",
              "    <path d=\"M0 0h24v24H0V0z\" fill=\"none\"/>\n",
              "    <path d=\"M18.56 5.44l.94 2.06.94-2.06 2.06-.94-2.06-.94-.94-2.06-.94 2.06-2.06.94zm-11 1L8.5 8.5l.94-2.06 2.06-.94-2.06-.94L8.5 2.5l-.94 2.06-2.06.94zm10 10l.94 2.06.94-2.06 2.06-.94-2.06-.94-.94-2.06-.94 2.06-2.06.94z\"/><path d=\"M17.41 7.96l-1.37-1.37c-.4-.4-.92-.59-1.43-.59-.52 0-1.04.2-1.43.59L10.3 9.45l-7.72 7.72c-.78.78-.78 2.05 0 2.83L4 21.41c.39.39.9.59 1.41.59.51 0 1.02-.2 1.41-.59l7.78-7.78 2.81-2.81c.8-.78.8-2.07 0-2.86zM5.41 20L4 18.59l7.72-7.72 1.47 1.35L5.41 20z\"/>\n",
              "  </svg>\n",
              "      </button>\n",
              "      \n",
              "  <style>\n",
              "    .colab-df-container {\n",
              "      display:flex;\n",
              "      flex-wrap:wrap;\n",
              "      gap: 12px;\n",
              "    }\n",
              "\n",
              "    .colab-df-convert {\n",
              "      background-color: #E8F0FE;\n",
              "      border: none;\n",
              "      border-radius: 50%;\n",
              "      cursor: pointer;\n",
              "      display: none;\n",
              "      fill: #1967D2;\n",
              "      height: 32px;\n",
              "      padding: 0 0 0 0;\n",
              "      width: 32px;\n",
              "    }\n",
              "\n",
              "    .colab-df-convert:hover {\n",
              "      background-color: #E2EBFA;\n",
              "      box-shadow: 0px 1px 2px rgba(60, 64, 67, 0.3), 0px 1px 3px 1px rgba(60, 64, 67, 0.15);\n",
              "      fill: #174EA6;\n",
              "    }\n",
              "\n",
              "    [theme=dark] .colab-df-convert {\n",
              "      background-color: #3B4455;\n",
              "      fill: #D2E3FC;\n",
              "    }\n",
              "\n",
              "    [theme=dark] .colab-df-convert:hover {\n",
              "      background-color: #434B5C;\n",
              "      box-shadow: 0px 1px 3px 1px rgba(0, 0, 0, 0.15);\n",
              "      filter: drop-shadow(0px 1px 2px rgba(0, 0, 0, 0.3));\n",
              "      fill: #FFFFFF;\n",
              "    }\n",
              "  </style>\n",
              "\n",
              "      <script>\n",
              "        const buttonEl =\n",
              "          document.querySelector('#df-b493ccf6-5610-4f4d-bcc6-6b94392a07bf button.colab-df-convert');\n",
              "        buttonEl.style.display =\n",
              "          google.colab.kernel.accessAllowed ? 'block' : 'none';\n",
              "\n",
              "        async function convertToInteractive(key) {\n",
              "          const element = document.querySelector('#df-b493ccf6-5610-4f4d-bcc6-6b94392a07bf');\n",
              "          const dataTable =\n",
              "            await google.colab.kernel.invokeFunction('convertToInteractive',\n",
              "                                                     [key], {});\n",
              "          if (!dataTable) return;\n",
              "\n",
              "          const docLinkHtml = 'Like what you see? Visit the ' +\n",
              "            '<a target=\"_blank\" href=https://colab.research.google.com/notebooks/data_table.ipynb>data table notebook</a>'\n",
              "            + ' to learn more about interactive tables.';\n",
              "          element.innerHTML = '';\n",
              "          dataTable['output_type'] = 'display_data';\n",
              "          await google.colab.output.renderOutput(dataTable, element);\n",
              "          const docLink = document.createElement('div');\n",
              "          docLink.innerHTML = docLinkHtml;\n",
              "          element.appendChild(docLink);\n",
              "        }\n",
              "      </script>\n",
              "    </div>\n",
              "  </div>\n",
              "  "
            ]
          },
          "metadata": {},
          "execution_count": 34
        }
      ]
    },
    {
      "cell_type": "markdown",
      "metadata": {
        "id": "7fylmNI5MMU9"
      },
      "source": [
        "###Методы и атрибуты DataFrame"
      ]
    },
    {
      "cell_type": "markdown",
      "metadata": {
        "id": "FEFaFiZ8MtNv"
      },
      "source": [
        "У объекта DataFrame (также как и у Series) есть атрибуты через которые можно получить индексы, а также метод позволяющий получить названия колонок."
      ]
    },
    {
      "cell_type": "code",
      "metadata": {
        "colab": {
          "base_uri": "https://localhost:8080/"
        },
        "id": "abiPbN5nN9Rg",
        "outputId": "5e09cc68-3c38-4599-f89f-bf9b19bb761f"
      },
      "source": [
        "d = [{\"Name\": \"Виктор\", \"Age\": 18},\n",
        "     {\"Name\": \"Мария\", \"Age\": 21},\n",
        "     {\"Name\": \"Иван\", \"Age\": 19}]\n",
        "\n",
        "df = pd.DataFrame(d)\n",
        "\n",
        "print(df.index) # возвращает индексы DataFrame\n",
        "print(df.columns) # возвращает названия колонок\n",
        "print(df.head(2)) # вывод первых двух строчек DataFrame\n",
        "print(df.tail(2)) # вывод последних двух строчек DataFrame"
      ],
      "execution_count": null,
      "outputs": [
        {
          "output_type": "stream",
          "name": "stdout",
          "text": [
            "RangeIndex(start=0, stop=3, step=1)\n",
            "Index(['Name', 'Age'], dtype='object')\n",
            "     Name  Age\n",
            "0  Виктор   18\n",
            "1   Мария   21\n",
            "    Name  Age\n",
            "1  Мария   21\n",
            "2   Иван   19\n"
          ]
        }
      ]
    },
    {
      "cell_type": "markdown",
      "metadata": {
        "id": "0gQt1YtXOLqF"
      },
      "source": [
        "DataFrame - это двумерная структура, напоминающая таблицу размерностью NxM, где N - это количество строк, M - количество стобцов.\n",
        "\n",
        "**shape** - атрибут DataFrame, который возвращает его размерность.\n",
        "1 число строки 2 число столбцы"
      ]
    },
    {
      "cell_type": "code",
      "metadata": {
        "colab": {
          "base_uri": "https://localhost:8080/"
        },
        "id": "83Et_c1POoHW",
        "outputId": "43b81d12-7e8b-42b5-e13a-c6966cc44c8f"
      },
      "source": [
        "df.shape"
      ],
      "execution_count": null,
      "outputs": [
        {
          "output_type": "execute_result",
          "data": {
            "text/plain": [
              "(3, 2)"
            ]
          },
          "metadata": {},
          "execution_count": 40
        }
      ]
    },
    {
      "cell_type": "code",
      "metadata": {
        "colab": {
          "base_uri": "https://localhost:8080/"
        },
        "id": "dX4SOif7Orq3",
        "outputId": "5510d3f1-e787-4b08-eb40-947da1407ae4"
      },
      "source": [
        "df.info() # метод возвращает полную информацию о данном DataFrame"
      ],
      "execution_count": null,
      "outputs": [
        {
          "output_type": "stream",
          "name": "stdout",
          "text": [
            "<class 'pandas.core.frame.DataFrame'>\n",
            "RangeIndex: 3 entries, 0 to 2\n",
            "Data columns (total 2 columns):\n",
            " #   Column  Non-Null Count  Dtype \n",
            "---  ------  --------------  ----- \n",
            " 0   Name    3 non-null      object\n",
            " 1   Age     3 non-null      int64 \n",
            "dtypes: int64(1), object(1)\n",
            "memory usage: 176.0+ bytes\n"
          ]
        }
      ]
    },
    {
      "cell_type": "markdown",
      "metadata": {
        "id": "DfVT9252O2IR"
      },
      "source": [
        "Часто при работе с данными, их необходимо проверять на пропуски (NaN).\n",
        "\n",
        "Для этого существуют методы - **isna()**, **isnull()**.\n",
        "\n",
        "Они возвращают два объекта DataFrame с булевыми значениями, где True для значений NaN в DataFrame, а False — на его отсутствие. Эти функции часто используются в фильтрах для создания условий."
      ]
    },
    {
      "cell_type": "code",
      "metadata": {
        "colab": {
          "base_uri": "https://localhost:8080/",
          "height": 143
        },
        "id": "aqh43r-JPiwe",
        "outputId": "029edfea-67a2-4d98-fdbc-4a78c4ee77e2"
      },
      "source": [
        "d = [{\"Name\": \"Виктор\", \"Age\": 18},\n",
        "     {\"Name\": \"Мария\", \"Age\": np.NaN},\n",
        "     {\"Name\": \"Иван\", \"Age\": 19}]\n",
        "\n",
        "df = pd.DataFrame(d)\n",
        "\n",
        "df.isna()"
      ],
      "execution_count": null,
      "outputs": [
        {
          "output_type": "execute_result",
          "data": {
            "text/plain": [
              "    Name    Age\n",
              "0  False  False\n",
              "1  False   True\n",
              "2  False  False"
            ],
            "text/html": [
              "\n",
              "  <div id=\"df-d6a56e21-fde7-487a-9190-0d7445beb474\">\n",
              "    <div class=\"colab-df-container\">\n",
              "      <div>\n",
              "<style scoped>\n",
              "    .dataframe tbody tr th:only-of-type {\n",
              "        vertical-align: middle;\n",
              "    }\n",
              "\n",
              "    .dataframe tbody tr th {\n",
              "        vertical-align: top;\n",
              "    }\n",
              "\n",
              "    .dataframe thead th {\n",
              "        text-align: right;\n",
              "    }\n",
              "</style>\n",
              "<table border=\"1\" class=\"dataframe\">\n",
              "  <thead>\n",
              "    <tr style=\"text-align: right;\">\n",
              "      <th></th>\n",
              "      <th>Name</th>\n",
              "      <th>Age</th>\n",
              "    </tr>\n",
              "  </thead>\n",
              "  <tbody>\n",
              "    <tr>\n",
              "      <th>0</th>\n",
              "      <td>False</td>\n",
              "      <td>False</td>\n",
              "    </tr>\n",
              "    <tr>\n",
              "      <th>1</th>\n",
              "      <td>False</td>\n",
              "      <td>True</td>\n",
              "    </tr>\n",
              "    <tr>\n",
              "      <th>2</th>\n",
              "      <td>False</td>\n",
              "      <td>False</td>\n",
              "    </tr>\n",
              "  </tbody>\n",
              "</table>\n",
              "</div>\n",
              "      <button class=\"colab-df-convert\" onclick=\"convertToInteractive('df-d6a56e21-fde7-487a-9190-0d7445beb474')\"\n",
              "              title=\"Convert this dataframe to an interactive table.\"\n",
              "              style=\"display:none;\">\n",
              "        \n",
              "  <svg xmlns=\"http://www.w3.org/2000/svg\" height=\"24px\"viewBox=\"0 0 24 24\"\n",
              "       width=\"24px\">\n",
              "    <path d=\"M0 0h24v24H0V0z\" fill=\"none\"/>\n",
              "    <path d=\"M18.56 5.44l.94 2.06.94-2.06 2.06-.94-2.06-.94-.94-2.06-.94 2.06-2.06.94zm-11 1L8.5 8.5l.94-2.06 2.06-.94-2.06-.94L8.5 2.5l-.94 2.06-2.06.94zm10 10l.94 2.06.94-2.06 2.06-.94-2.06-.94-.94-2.06-.94 2.06-2.06.94z\"/><path d=\"M17.41 7.96l-1.37-1.37c-.4-.4-.92-.59-1.43-.59-.52 0-1.04.2-1.43.59L10.3 9.45l-7.72 7.72c-.78.78-.78 2.05 0 2.83L4 21.41c.39.39.9.59 1.41.59.51 0 1.02-.2 1.41-.59l7.78-7.78 2.81-2.81c.8-.78.8-2.07 0-2.86zM5.41 20L4 18.59l7.72-7.72 1.47 1.35L5.41 20z\"/>\n",
              "  </svg>\n",
              "      </button>\n",
              "      \n",
              "  <style>\n",
              "    .colab-df-container {\n",
              "      display:flex;\n",
              "      flex-wrap:wrap;\n",
              "      gap: 12px;\n",
              "    }\n",
              "\n",
              "    .colab-df-convert {\n",
              "      background-color: #E8F0FE;\n",
              "      border: none;\n",
              "      border-radius: 50%;\n",
              "      cursor: pointer;\n",
              "      display: none;\n",
              "      fill: #1967D2;\n",
              "      height: 32px;\n",
              "      padding: 0 0 0 0;\n",
              "      width: 32px;\n",
              "    }\n",
              "\n",
              "    .colab-df-convert:hover {\n",
              "      background-color: #E2EBFA;\n",
              "      box-shadow: 0px 1px 2px rgba(60, 64, 67, 0.3), 0px 1px 3px 1px rgba(60, 64, 67, 0.15);\n",
              "      fill: #174EA6;\n",
              "    }\n",
              "\n",
              "    [theme=dark] .colab-df-convert {\n",
              "      background-color: #3B4455;\n",
              "      fill: #D2E3FC;\n",
              "    }\n",
              "\n",
              "    [theme=dark] .colab-df-convert:hover {\n",
              "      background-color: #434B5C;\n",
              "      box-shadow: 0px 1px 3px 1px rgba(0, 0, 0, 0.15);\n",
              "      filter: drop-shadow(0px 1px 2px rgba(0, 0, 0, 0.3));\n",
              "      fill: #FFFFFF;\n",
              "    }\n",
              "  </style>\n",
              "\n",
              "      <script>\n",
              "        const buttonEl =\n",
              "          document.querySelector('#df-d6a56e21-fde7-487a-9190-0d7445beb474 button.colab-df-convert');\n",
              "        buttonEl.style.display =\n",
              "          google.colab.kernel.accessAllowed ? 'block' : 'none';\n",
              "\n",
              "        async function convertToInteractive(key) {\n",
              "          const element = document.querySelector('#df-d6a56e21-fde7-487a-9190-0d7445beb474');\n",
              "          const dataTable =\n",
              "            await google.colab.kernel.invokeFunction('convertToInteractive',\n",
              "                                                     [key], {});\n",
              "          if (!dataTable) return;\n",
              "\n",
              "          const docLinkHtml = 'Like what you see? Visit the ' +\n",
              "            '<a target=\"_blank\" href=https://colab.research.google.com/notebooks/data_table.ipynb>data table notebook</a>'\n",
              "            + ' to learn more about interactive tables.';\n",
              "          element.innerHTML = '';\n",
              "          dataTable['output_type'] = 'display_data';\n",
              "          await google.colab.output.renderOutput(dataTable, element);\n",
              "          const docLink = document.createElement('div');\n",
              "          docLink.innerHTML = docLinkHtml;\n",
              "          element.appendChild(docLink);\n",
              "        }\n",
              "      </script>\n",
              "    </div>\n",
              "  </div>\n",
              "  "
            ]
          },
          "metadata": {},
          "execution_count": 42
        }
      ]
    },
    {
      "cell_type": "code",
      "metadata": {
        "colab": {
          "base_uri": "https://localhost:8080/",
          "height": 143
        },
        "id": "y67HxhXuPklr",
        "outputId": "8bdbdca3-ce84-45c4-cb91-cfe92eaf4a3e"
      },
      "source": [
        "df.isnull()"
      ],
      "execution_count": null,
      "outputs": [
        {
          "output_type": "execute_result",
          "data": {
            "text/plain": [
              "    Name    Age\n",
              "0  False  False\n",
              "1  False   True\n",
              "2  False  False"
            ],
            "text/html": [
              "\n",
              "  <div id=\"df-0fcb6d62-8730-40bd-9c59-2a63a82f93b1\">\n",
              "    <div class=\"colab-df-container\">\n",
              "      <div>\n",
              "<style scoped>\n",
              "    .dataframe tbody tr th:only-of-type {\n",
              "        vertical-align: middle;\n",
              "    }\n",
              "\n",
              "    .dataframe tbody tr th {\n",
              "        vertical-align: top;\n",
              "    }\n",
              "\n",
              "    .dataframe thead th {\n",
              "        text-align: right;\n",
              "    }\n",
              "</style>\n",
              "<table border=\"1\" class=\"dataframe\">\n",
              "  <thead>\n",
              "    <tr style=\"text-align: right;\">\n",
              "      <th></th>\n",
              "      <th>Name</th>\n",
              "      <th>Age</th>\n",
              "    </tr>\n",
              "  </thead>\n",
              "  <tbody>\n",
              "    <tr>\n",
              "      <th>0</th>\n",
              "      <td>False</td>\n",
              "      <td>False</td>\n",
              "    </tr>\n",
              "    <tr>\n",
              "      <th>1</th>\n",
              "      <td>False</td>\n",
              "      <td>True</td>\n",
              "    </tr>\n",
              "    <tr>\n",
              "      <th>2</th>\n",
              "      <td>False</td>\n",
              "      <td>False</td>\n",
              "    </tr>\n",
              "  </tbody>\n",
              "</table>\n",
              "</div>\n",
              "      <button class=\"colab-df-convert\" onclick=\"convertToInteractive('df-0fcb6d62-8730-40bd-9c59-2a63a82f93b1')\"\n",
              "              title=\"Convert this dataframe to an interactive table.\"\n",
              "              style=\"display:none;\">\n",
              "        \n",
              "  <svg xmlns=\"http://www.w3.org/2000/svg\" height=\"24px\"viewBox=\"0 0 24 24\"\n",
              "       width=\"24px\">\n",
              "    <path d=\"M0 0h24v24H0V0z\" fill=\"none\"/>\n",
              "    <path d=\"M18.56 5.44l.94 2.06.94-2.06 2.06-.94-2.06-.94-.94-2.06-.94 2.06-2.06.94zm-11 1L8.5 8.5l.94-2.06 2.06-.94-2.06-.94L8.5 2.5l-.94 2.06-2.06.94zm10 10l.94 2.06.94-2.06 2.06-.94-2.06-.94-.94-2.06-.94 2.06-2.06.94z\"/><path d=\"M17.41 7.96l-1.37-1.37c-.4-.4-.92-.59-1.43-.59-.52 0-1.04.2-1.43.59L10.3 9.45l-7.72 7.72c-.78.78-.78 2.05 0 2.83L4 21.41c.39.39.9.59 1.41.59.51 0 1.02-.2 1.41-.59l7.78-7.78 2.81-2.81c.8-.78.8-2.07 0-2.86zM5.41 20L4 18.59l7.72-7.72 1.47 1.35L5.41 20z\"/>\n",
              "  </svg>\n",
              "      </button>\n",
              "      \n",
              "  <style>\n",
              "    .colab-df-container {\n",
              "      display:flex;\n",
              "      flex-wrap:wrap;\n",
              "      gap: 12px;\n",
              "    }\n",
              "\n",
              "    .colab-df-convert {\n",
              "      background-color: #E8F0FE;\n",
              "      border: none;\n",
              "      border-radius: 50%;\n",
              "      cursor: pointer;\n",
              "      display: none;\n",
              "      fill: #1967D2;\n",
              "      height: 32px;\n",
              "      padding: 0 0 0 0;\n",
              "      width: 32px;\n",
              "    }\n",
              "\n",
              "    .colab-df-convert:hover {\n",
              "      background-color: #E2EBFA;\n",
              "      box-shadow: 0px 1px 2px rgba(60, 64, 67, 0.3), 0px 1px 3px 1px rgba(60, 64, 67, 0.15);\n",
              "      fill: #174EA6;\n",
              "    }\n",
              "\n",
              "    [theme=dark] .colab-df-convert {\n",
              "      background-color: #3B4455;\n",
              "      fill: #D2E3FC;\n",
              "    }\n",
              "\n",
              "    [theme=dark] .colab-df-convert:hover {\n",
              "      background-color: #434B5C;\n",
              "      box-shadow: 0px 1px 3px 1px rgba(0, 0, 0, 0.15);\n",
              "      filter: drop-shadow(0px 1px 2px rgba(0, 0, 0, 0.3));\n",
              "      fill: #FFFFFF;\n",
              "    }\n",
              "  </style>\n",
              "\n",
              "      <script>\n",
              "        const buttonEl =\n",
              "          document.querySelector('#df-0fcb6d62-8730-40bd-9c59-2a63a82f93b1 button.colab-df-convert');\n",
              "        buttonEl.style.display =\n",
              "          google.colab.kernel.accessAllowed ? 'block' : 'none';\n",
              "\n",
              "        async function convertToInteractive(key) {\n",
              "          const element = document.querySelector('#df-0fcb6d62-8730-40bd-9c59-2a63a82f93b1');\n",
              "          const dataTable =\n",
              "            await google.colab.kernel.invokeFunction('convertToInteractive',\n",
              "                                                     [key], {});\n",
              "          if (!dataTable) return;\n",
              "\n",
              "          const docLinkHtml = 'Like what you see? Visit the ' +\n",
              "            '<a target=\"_blank\" href=https://colab.research.google.com/notebooks/data_table.ipynb>data table notebook</a>'\n",
              "            + ' to learn more about interactive tables.';\n",
              "          element.innerHTML = '';\n",
              "          dataTable['output_type'] = 'display_data';\n",
              "          await google.colab.output.renderOutput(dataTable, element);\n",
              "          const docLink = document.createElement('div');\n",
              "          docLink.innerHTML = docLinkHtml;\n",
              "          element.appendChild(docLink);\n",
              "        }\n",
              "      </script>\n",
              "    </div>\n",
              "  </div>\n",
              "  "
            ]
          },
          "metadata": {},
          "execution_count": 43
        }
      ]
    },
    {
      "cell_type": "code",
      "metadata": {
        "colab": {
          "base_uri": "https://localhost:8080/",
          "height": 112
        },
        "id": "kChKfdezQBEg",
        "outputId": "2209b3c9-a88f-41f6-a3df-1b008c17084e"
      },
      "source": [
        "# Фильтр, который вернет все строки, в которых отсутсвуют пустые значения в колонке Age\n",
        "\n",
        "df[df['Age'].isnull()==False]"
      ],
      "execution_count": null,
      "outputs": [
        {
          "output_type": "execute_result",
          "data": {
            "text/plain": [
              "     Name   Age\n",
              "0  Виктор  18.0\n",
              "2    Иван  19.0"
            ],
            "text/html": [
              "\n",
              "  <div id=\"df-3905fec0-03c1-4e0d-a47b-52c714e887cf\">\n",
              "    <div class=\"colab-df-container\">\n",
              "      <div>\n",
              "<style scoped>\n",
              "    .dataframe tbody tr th:only-of-type {\n",
              "        vertical-align: middle;\n",
              "    }\n",
              "\n",
              "    .dataframe tbody tr th {\n",
              "        vertical-align: top;\n",
              "    }\n",
              "\n",
              "    .dataframe thead th {\n",
              "        text-align: right;\n",
              "    }\n",
              "</style>\n",
              "<table border=\"1\" class=\"dataframe\">\n",
              "  <thead>\n",
              "    <tr style=\"text-align: right;\">\n",
              "      <th></th>\n",
              "      <th>Name</th>\n",
              "      <th>Age</th>\n",
              "    </tr>\n",
              "  </thead>\n",
              "  <tbody>\n",
              "    <tr>\n",
              "      <th>0</th>\n",
              "      <td>Виктор</td>\n",
              "      <td>18.0</td>\n",
              "    </tr>\n",
              "    <tr>\n",
              "      <th>2</th>\n",
              "      <td>Иван</td>\n",
              "      <td>19.0</td>\n",
              "    </tr>\n",
              "  </tbody>\n",
              "</table>\n",
              "</div>\n",
              "      <button class=\"colab-df-convert\" onclick=\"convertToInteractive('df-3905fec0-03c1-4e0d-a47b-52c714e887cf')\"\n",
              "              title=\"Convert this dataframe to an interactive table.\"\n",
              "              style=\"display:none;\">\n",
              "        \n",
              "  <svg xmlns=\"http://www.w3.org/2000/svg\" height=\"24px\"viewBox=\"0 0 24 24\"\n",
              "       width=\"24px\">\n",
              "    <path d=\"M0 0h24v24H0V0z\" fill=\"none\"/>\n",
              "    <path d=\"M18.56 5.44l.94 2.06.94-2.06 2.06-.94-2.06-.94-.94-2.06-.94 2.06-2.06.94zm-11 1L8.5 8.5l.94-2.06 2.06-.94-2.06-.94L8.5 2.5l-.94 2.06-2.06.94zm10 10l.94 2.06.94-2.06 2.06-.94-2.06-.94-.94-2.06-.94 2.06-2.06.94z\"/><path d=\"M17.41 7.96l-1.37-1.37c-.4-.4-.92-.59-1.43-.59-.52 0-1.04.2-1.43.59L10.3 9.45l-7.72 7.72c-.78.78-.78 2.05 0 2.83L4 21.41c.39.39.9.59 1.41.59.51 0 1.02-.2 1.41-.59l7.78-7.78 2.81-2.81c.8-.78.8-2.07 0-2.86zM5.41 20L4 18.59l7.72-7.72 1.47 1.35L5.41 20z\"/>\n",
              "  </svg>\n",
              "      </button>\n",
              "      \n",
              "  <style>\n",
              "    .colab-df-container {\n",
              "      display:flex;\n",
              "      flex-wrap:wrap;\n",
              "      gap: 12px;\n",
              "    }\n",
              "\n",
              "    .colab-df-convert {\n",
              "      background-color: #E8F0FE;\n",
              "      border: none;\n",
              "      border-radius: 50%;\n",
              "      cursor: pointer;\n",
              "      display: none;\n",
              "      fill: #1967D2;\n",
              "      height: 32px;\n",
              "      padding: 0 0 0 0;\n",
              "      width: 32px;\n",
              "    }\n",
              "\n",
              "    .colab-df-convert:hover {\n",
              "      background-color: #E2EBFA;\n",
              "      box-shadow: 0px 1px 2px rgba(60, 64, 67, 0.3), 0px 1px 3px 1px rgba(60, 64, 67, 0.15);\n",
              "      fill: #174EA6;\n",
              "    }\n",
              "\n",
              "    [theme=dark] .colab-df-convert {\n",
              "      background-color: #3B4455;\n",
              "      fill: #D2E3FC;\n",
              "    }\n",
              "\n",
              "    [theme=dark] .colab-df-convert:hover {\n",
              "      background-color: #434B5C;\n",
              "      box-shadow: 0px 1px 3px 1px rgba(0, 0, 0, 0.15);\n",
              "      filter: drop-shadow(0px 1px 2px rgba(0, 0, 0, 0.3));\n",
              "      fill: #FFFFFF;\n",
              "    }\n",
              "  </style>\n",
              "\n",
              "      <script>\n",
              "        const buttonEl =\n",
              "          document.querySelector('#df-3905fec0-03c1-4e0d-a47b-52c714e887cf button.colab-df-convert');\n",
              "        buttonEl.style.display =\n",
              "          google.colab.kernel.accessAllowed ? 'block' : 'none';\n",
              "\n",
              "        async function convertToInteractive(key) {\n",
              "          const element = document.querySelector('#df-3905fec0-03c1-4e0d-a47b-52c714e887cf');\n",
              "          const dataTable =\n",
              "            await google.colab.kernel.invokeFunction('convertToInteractive',\n",
              "                                                     [key], {});\n",
              "          if (!dataTable) return;\n",
              "\n",
              "          const docLinkHtml = 'Like what you see? Visit the ' +\n",
              "            '<a target=\"_blank\" href=https://colab.research.google.com/notebooks/data_table.ipynb>data table notebook</a>'\n",
              "            + ' to learn more about interactive tables.';\n",
              "          element.innerHTML = '';\n",
              "          dataTable['output_type'] = 'display_data';\n",
              "          await google.colab.output.renderOutput(dataTable, element);\n",
              "          const docLink = document.createElement('div');\n",
              "          docLink.innerHTML = docLinkHtml;\n",
              "          element.appendChild(docLink);\n",
              "        }\n",
              "      </script>\n",
              "    </div>\n",
              "  </div>\n",
              "  "
            ]
          },
          "metadata": {},
          "execution_count": 44
        }
      ]
    },
    {
      "cell_type": "code",
      "metadata": {
        "colab": {
          "base_uri": "https://localhost:8080/"
        },
        "id": "z7QuMla2Q1sj",
        "outputId": "bef8d615-78af-4489-f30b-10afe5bee902"
      },
      "source": [
        "# подсчет пустых значений в каждой колонке DataFrame\n",
        "df.isna().sum()"
      ],
      "execution_count": null,
      "outputs": [
        {
          "output_type": "execute_result",
          "data": {
            "text/plain": [
              "Name    0\n",
              "Age     1\n",
              "dtype: int64"
            ]
          },
          "metadata": {},
          "execution_count": 45
        }
      ]
    },
    {
      "cell_type": "code",
      "metadata": {
        "colab": {
          "base_uri": "https://localhost:8080/"
        },
        "id": "Tv0OLbDyRPsU",
        "outputId": "063dd822-6d26-4656-eedd-611ecb8d77f2"
      },
      "source": [
        "d = [{\"Name\": \"Виктор\", \"Age\": 18},\n",
        "     {\"Name\": \"Мария\", \"Age\": np.NaN},\n",
        "     {\"Name\": \"Иван\", \"Age\": 19},\n",
        "     {\"Name\": \"Иван\", \"Age\": 25}]\n",
        "\n",
        "df = pd.DataFrame(d)\n",
        "\n",
        "# Подсчет уникальных значений в стобце\n",
        "df['Name'].unique()\n",
        "\n",
        "# Подсчет количества для каждого значения в столбце\n",
        "df['Name'].value_counts()"
      ],
      "execution_count": null,
      "outputs": [
        {
          "output_type": "execute_result",
          "data": {
            "text/plain": [
              "Иван      2\n",
              "Виктор    1\n",
              "Мария     1\n",
              "Name: Name, dtype: int64"
            ]
          },
          "metadata": {},
          "execution_count": 49
        }
      ]
    },
    {
      "cell_type": "markdown",
      "metadata": {
        "id": "YCIsd0CqSA70"
      },
      "source": [
        "Удаление значений из DataFrame.\n",
        "\n",
        "Существуют различные методы, позволяющие удалять сроки или столбцы из DataFrame.\n",
        "\n",
        "`DataFrame.drop(labels=None, axis=0, index=None, columns=None, level=None, inplace=False, errors='raise')`\n",
        "\n",
        "- labels - Метки индекса или столбца, которые нужно удалить\n",
        "- axis - {0 или 'index', 1 или 'columns'}\n",
        "- index - Альтернатива указанию оси (эквивалент axis=0)\n",
        "- columns - Альтернатива указанию оси (эквивалент axis=1)\n",
        "- level - Для MultiIndex - уровень, с которого будут удалены метки\n",
        "- inplace - Если False, вернет копию DataFrame. В противном случае перезапишет изменения в этот же DataFrame.\n"
      ]
    },
    {
      "cell_type": "code",
      "metadata": {
        "colab": {
          "base_uri": "https://localhost:8080/",
          "height": 175
        },
        "id": "8WPstwddSVee",
        "outputId": "9ff2c1e5-76eb-478d-acb4-1d4f78bb97db"
      },
      "source": [
        "d = [{\"Name\": \"Виктор\", \"Age\": 18},\n",
        "     {\"Name\": \"Мария\", \"Age\": np.NaN},\n",
        "     {\"Name\": \"Иван\", \"Age\": 19},\n",
        "     {\"Name\": \"Иван\", \"Age\": 25}]\n",
        "\n",
        "df = pd.DataFrame(d)\n",
        "\n",
        "# Удалить столбцы\n",
        "df.drop(['Age'], axis=1)"
      ],
      "execution_count": null,
      "outputs": [
        {
          "output_type": "execute_result",
          "data": {
            "text/plain": [
              "     Name\n",
              "0  Виктор\n",
              "1   Мария\n",
              "2    Иван\n",
              "3    Иван"
            ],
            "text/html": [
              "\n",
              "  <div id=\"df-b9b7935c-023f-4a8b-bc53-c8934337734c\">\n",
              "    <div class=\"colab-df-container\">\n",
              "      <div>\n",
              "<style scoped>\n",
              "    .dataframe tbody tr th:only-of-type {\n",
              "        vertical-align: middle;\n",
              "    }\n",
              "\n",
              "    .dataframe tbody tr th {\n",
              "        vertical-align: top;\n",
              "    }\n",
              "\n",
              "    .dataframe thead th {\n",
              "        text-align: right;\n",
              "    }\n",
              "</style>\n",
              "<table border=\"1\" class=\"dataframe\">\n",
              "  <thead>\n",
              "    <tr style=\"text-align: right;\">\n",
              "      <th></th>\n",
              "      <th>Name</th>\n",
              "    </tr>\n",
              "  </thead>\n",
              "  <tbody>\n",
              "    <tr>\n",
              "      <th>0</th>\n",
              "      <td>Виктор</td>\n",
              "    </tr>\n",
              "    <tr>\n",
              "      <th>1</th>\n",
              "      <td>Мария</td>\n",
              "    </tr>\n",
              "    <tr>\n",
              "      <th>2</th>\n",
              "      <td>Иван</td>\n",
              "    </tr>\n",
              "    <tr>\n",
              "      <th>3</th>\n",
              "      <td>Иван</td>\n",
              "    </tr>\n",
              "  </tbody>\n",
              "</table>\n",
              "</div>\n",
              "      <button class=\"colab-df-convert\" onclick=\"convertToInteractive('df-b9b7935c-023f-4a8b-bc53-c8934337734c')\"\n",
              "              title=\"Convert this dataframe to an interactive table.\"\n",
              "              style=\"display:none;\">\n",
              "        \n",
              "  <svg xmlns=\"http://www.w3.org/2000/svg\" height=\"24px\"viewBox=\"0 0 24 24\"\n",
              "       width=\"24px\">\n",
              "    <path d=\"M0 0h24v24H0V0z\" fill=\"none\"/>\n",
              "    <path d=\"M18.56 5.44l.94 2.06.94-2.06 2.06-.94-2.06-.94-.94-2.06-.94 2.06-2.06.94zm-11 1L8.5 8.5l.94-2.06 2.06-.94-2.06-.94L8.5 2.5l-.94 2.06-2.06.94zm10 10l.94 2.06.94-2.06 2.06-.94-2.06-.94-.94-2.06-.94 2.06-2.06.94z\"/><path d=\"M17.41 7.96l-1.37-1.37c-.4-.4-.92-.59-1.43-.59-.52 0-1.04.2-1.43.59L10.3 9.45l-7.72 7.72c-.78.78-.78 2.05 0 2.83L4 21.41c.39.39.9.59 1.41.59.51 0 1.02-.2 1.41-.59l7.78-7.78 2.81-2.81c.8-.78.8-2.07 0-2.86zM5.41 20L4 18.59l7.72-7.72 1.47 1.35L5.41 20z\"/>\n",
              "  </svg>\n",
              "      </button>\n",
              "      \n",
              "  <style>\n",
              "    .colab-df-container {\n",
              "      display:flex;\n",
              "      flex-wrap:wrap;\n",
              "      gap: 12px;\n",
              "    }\n",
              "\n",
              "    .colab-df-convert {\n",
              "      background-color: #E8F0FE;\n",
              "      border: none;\n",
              "      border-radius: 50%;\n",
              "      cursor: pointer;\n",
              "      display: none;\n",
              "      fill: #1967D2;\n",
              "      height: 32px;\n",
              "      padding: 0 0 0 0;\n",
              "      width: 32px;\n",
              "    }\n",
              "\n",
              "    .colab-df-convert:hover {\n",
              "      background-color: #E2EBFA;\n",
              "      box-shadow: 0px 1px 2px rgba(60, 64, 67, 0.3), 0px 1px 3px 1px rgba(60, 64, 67, 0.15);\n",
              "      fill: #174EA6;\n",
              "    }\n",
              "\n",
              "    [theme=dark] .colab-df-convert {\n",
              "      background-color: #3B4455;\n",
              "      fill: #D2E3FC;\n",
              "    }\n",
              "\n",
              "    [theme=dark] .colab-df-convert:hover {\n",
              "      background-color: #434B5C;\n",
              "      box-shadow: 0px 1px 3px 1px rgba(0, 0, 0, 0.15);\n",
              "      filter: drop-shadow(0px 1px 2px rgba(0, 0, 0, 0.3));\n",
              "      fill: #FFFFFF;\n",
              "    }\n",
              "  </style>\n",
              "\n",
              "      <script>\n",
              "        const buttonEl =\n",
              "          document.querySelector('#df-b9b7935c-023f-4a8b-bc53-c8934337734c button.colab-df-convert');\n",
              "        buttonEl.style.display =\n",
              "          google.colab.kernel.accessAllowed ? 'block' : 'none';\n",
              "\n",
              "        async function convertToInteractive(key) {\n",
              "          const element = document.querySelector('#df-b9b7935c-023f-4a8b-bc53-c8934337734c');\n",
              "          const dataTable =\n",
              "            await google.colab.kernel.invokeFunction('convertToInteractive',\n",
              "                                                     [key], {});\n",
              "          if (!dataTable) return;\n",
              "\n",
              "          const docLinkHtml = 'Like what you see? Visit the ' +\n",
              "            '<a target=\"_blank\" href=https://colab.research.google.com/notebooks/data_table.ipynb>data table notebook</a>'\n",
              "            + ' to learn more about interactive tables.';\n",
              "          element.innerHTML = '';\n",
              "          dataTable['output_type'] = 'display_data';\n",
              "          await google.colab.output.renderOutput(dataTable, element);\n",
              "          const docLink = document.createElement('div');\n",
              "          docLink.innerHTML = docLinkHtml;\n",
              "          element.appendChild(docLink);\n",
              "        }\n",
              "      </script>\n",
              "    </div>\n",
              "  </div>\n",
              "  "
            ]
          },
          "metadata": {},
          "execution_count": 62
        }
      ]
    },
    {
      "cell_type": "code",
      "metadata": {
        "colab": {
          "base_uri": "https://localhost:8080/",
          "height": 175
        },
        "id": "FSiT_yz0Ts0Y",
        "outputId": "f1bc2890-04b8-4915-89dd-62b38cf1da6c"
      },
      "source": [
        "# по умолчанию inplace = False, поэтому в предыдущей ячейке\n",
        "# операция drop() вернула копию измененного DataFrame\n",
        "# исходный DataFrame остался без изменений\n",
        "df"
      ],
      "execution_count": null,
      "outputs": [
        {
          "output_type": "execute_result",
          "data": {
            "text/plain": [
              "     Name   Age\n",
              "0  Виктор  18.0\n",
              "1   Мария   NaN\n",
              "2    Иван  19.0\n",
              "3    Иван  25.0"
            ],
            "text/html": [
              "\n",
              "  <div id=\"df-6dcc55bb-66db-43fb-906a-0ed95dcc91e0\">\n",
              "    <div class=\"colab-df-container\">\n",
              "      <div>\n",
              "<style scoped>\n",
              "    .dataframe tbody tr th:only-of-type {\n",
              "        vertical-align: middle;\n",
              "    }\n",
              "\n",
              "    .dataframe tbody tr th {\n",
              "        vertical-align: top;\n",
              "    }\n",
              "\n",
              "    .dataframe thead th {\n",
              "        text-align: right;\n",
              "    }\n",
              "</style>\n",
              "<table border=\"1\" class=\"dataframe\">\n",
              "  <thead>\n",
              "    <tr style=\"text-align: right;\">\n",
              "      <th></th>\n",
              "      <th>Name</th>\n",
              "      <th>Age</th>\n",
              "    </tr>\n",
              "  </thead>\n",
              "  <tbody>\n",
              "    <tr>\n",
              "      <th>0</th>\n",
              "      <td>Виктор</td>\n",
              "      <td>18.0</td>\n",
              "    </tr>\n",
              "    <tr>\n",
              "      <th>1</th>\n",
              "      <td>Мария</td>\n",
              "      <td>NaN</td>\n",
              "    </tr>\n",
              "    <tr>\n",
              "      <th>2</th>\n",
              "      <td>Иван</td>\n",
              "      <td>19.0</td>\n",
              "    </tr>\n",
              "    <tr>\n",
              "      <th>3</th>\n",
              "      <td>Иван</td>\n",
              "      <td>25.0</td>\n",
              "    </tr>\n",
              "  </tbody>\n",
              "</table>\n",
              "</div>\n",
              "      <button class=\"colab-df-convert\" onclick=\"convertToInteractive('df-6dcc55bb-66db-43fb-906a-0ed95dcc91e0')\"\n",
              "              title=\"Convert this dataframe to an interactive table.\"\n",
              "              style=\"display:none;\">\n",
              "        \n",
              "  <svg xmlns=\"http://www.w3.org/2000/svg\" height=\"24px\"viewBox=\"0 0 24 24\"\n",
              "       width=\"24px\">\n",
              "    <path d=\"M0 0h24v24H0V0z\" fill=\"none\"/>\n",
              "    <path d=\"M18.56 5.44l.94 2.06.94-2.06 2.06-.94-2.06-.94-.94-2.06-.94 2.06-2.06.94zm-11 1L8.5 8.5l.94-2.06 2.06-.94-2.06-.94L8.5 2.5l-.94 2.06-2.06.94zm10 10l.94 2.06.94-2.06 2.06-.94-2.06-.94-.94-2.06-.94 2.06-2.06.94z\"/><path d=\"M17.41 7.96l-1.37-1.37c-.4-.4-.92-.59-1.43-.59-.52 0-1.04.2-1.43.59L10.3 9.45l-7.72 7.72c-.78.78-.78 2.05 0 2.83L4 21.41c.39.39.9.59 1.41.59.51 0 1.02-.2 1.41-.59l7.78-7.78 2.81-2.81c.8-.78.8-2.07 0-2.86zM5.41 20L4 18.59l7.72-7.72 1.47 1.35L5.41 20z\"/>\n",
              "  </svg>\n",
              "      </button>\n",
              "      \n",
              "  <style>\n",
              "    .colab-df-container {\n",
              "      display:flex;\n",
              "      flex-wrap:wrap;\n",
              "      gap: 12px;\n",
              "    }\n",
              "\n",
              "    .colab-df-convert {\n",
              "      background-color: #E8F0FE;\n",
              "      border: none;\n",
              "      border-radius: 50%;\n",
              "      cursor: pointer;\n",
              "      display: none;\n",
              "      fill: #1967D2;\n",
              "      height: 32px;\n",
              "      padding: 0 0 0 0;\n",
              "      width: 32px;\n",
              "    }\n",
              "\n",
              "    .colab-df-convert:hover {\n",
              "      background-color: #E2EBFA;\n",
              "      box-shadow: 0px 1px 2px rgba(60, 64, 67, 0.3), 0px 1px 3px 1px rgba(60, 64, 67, 0.15);\n",
              "      fill: #174EA6;\n",
              "    }\n",
              "\n",
              "    [theme=dark] .colab-df-convert {\n",
              "      background-color: #3B4455;\n",
              "      fill: #D2E3FC;\n",
              "    }\n",
              "\n",
              "    [theme=dark] .colab-df-convert:hover {\n",
              "      background-color: #434B5C;\n",
              "      box-shadow: 0px 1px 3px 1px rgba(0, 0, 0, 0.15);\n",
              "      filter: drop-shadow(0px 1px 2px rgba(0, 0, 0, 0.3));\n",
              "      fill: #FFFFFF;\n",
              "    }\n",
              "  </style>\n",
              "\n",
              "      <script>\n",
              "        const buttonEl =\n",
              "          document.querySelector('#df-6dcc55bb-66db-43fb-906a-0ed95dcc91e0 button.colab-df-convert');\n",
              "        buttonEl.style.display =\n",
              "          google.colab.kernel.accessAllowed ? 'block' : 'none';\n",
              "\n",
              "        async function convertToInteractive(key) {\n",
              "          const element = document.querySelector('#df-6dcc55bb-66db-43fb-906a-0ed95dcc91e0');\n",
              "          const dataTable =\n",
              "            await google.colab.kernel.invokeFunction('convertToInteractive',\n",
              "                                                     [key], {});\n",
              "          if (!dataTable) return;\n",
              "\n",
              "          const docLinkHtml = 'Like what you see? Visit the ' +\n",
              "            '<a target=\"_blank\" href=https://colab.research.google.com/notebooks/data_table.ipynb>data table notebook</a>'\n",
              "            + ' to learn more about interactive tables.';\n",
              "          element.innerHTML = '';\n",
              "          dataTable['output_type'] = 'display_data';\n",
              "          await google.colab.output.renderOutput(dataTable, element);\n",
              "          const docLink = document.createElement('div');\n",
              "          docLink.innerHTML = docLinkHtml;\n",
              "          element.appendChild(docLink);\n",
              "        }\n",
              "      </script>\n",
              "    </div>\n",
              "  </div>\n",
              "  "
            ]
          },
          "metadata": {},
          "execution_count": 63
        }
      ]
    },
    {
      "cell_type": "code",
      "metadata": {
        "colab": {
          "base_uri": "https://localhost:8080/",
          "height": 175
        },
        "id": "egqM2WbJT-JZ",
        "outputId": "52c19bd6-c874-49c0-d60a-102f288deeba"
      },
      "source": [
        "df.drop(['Age'], axis=1, inplace=True)\n",
        "df"
      ],
      "execution_count": null,
      "outputs": [
        {
          "output_type": "execute_result",
          "data": {
            "text/plain": [
              "     Name\n",
              "0  Виктор\n",
              "1   Мария\n",
              "2    Иван\n",
              "3    Иван"
            ],
            "text/html": [
              "\n",
              "  <div id=\"df-81bc1670-ea04-49d3-9044-7d9fa787e56b\">\n",
              "    <div class=\"colab-df-container\">\n",
              "      <div>\n",
              "<style scoped>\n",
              "    .dataframe tbody tr th:only-of-type {\n",
              "        vertical-align: middle;\n",
              "    }\n",
              "\n",
              "    .dataframe tbody tr th {\n",
              "        vertical-align: top;\n",
              "    }\n",
              "\n",
              "    .dataframe thead th {\n",
              "        text-align: right;\n",
              "    }\n",
              "</style>\n",
              "<table border=\"1\" class=\"dataframe\">\n",
              "  <thead>\n",
              "    <tr style=\"text-align: right;\">\n",
              "      <th></th>\n",
              "      <th>Name</th>\n",
              "    </tr>\n",
              "  </thead>\n",
              "  <tbody>\n",
              "    <tr>\n",
              "      <th>0</th>\n",
              "      <td>Виктор</td>\n",
              "    </tr>\n",
              "    <tr>\n",
              "      <th>1</th>\n",
              "      <td>Мария</td>\n",
              "    </tr>\n",
              "    <tr>\n",
              "      <th>2</th>\n",
              "      <td>Иван</td>\n",
              "    </tr>\n",
              "    <tr>\n",
              "      <th>3</th>\n",
              "      <td>Иван</td>\n",
              "    </tr>\n",
              "  </tbody>\n",
              "</table>\n",
              "</div>\n",
              "      <button class=\"colab-df-convert\" onclick=\"convertToInteractive('df-81bc1670-ea04-49d3-9044-7d9fa787e56b')\"\n",
              "              title=\"Convert this dataframe to an interactive table.\"\n",
              "              style=\"display:none;\">\n",
              "        \n",
              "  <svg xmlns=\"http://www.w3.org/2000/svg\" height=\"24px\"viewBox=\"0 0 24 24\"\n",
              "       width=\"24px\">\n",
              "    <path d=\"M0 0h24v24H0V0z\" fill=\"none\"/>\n",
              "    <path d=\"M18.56 5.44l.94 2.06.94-2.06 2.06-.94-2.06-.94-.94-2.06-.94 2.06-2.06.94zm-11 1L8.5 8.5l.94-2.06 2.06-.94-2.06-.94L8.5 2.5l-.94 2.06-2.06.94zm10 10l.94 2.06.94-2.06 2.06-.94-2.06-.94-.94-2.06-.94 2.06-2.06.94z\"/><path d=\"M17.41 7.96l-1.37-1.37c-.4-.4-.92-.59-1.43-.59-.52 0-1.04.2-1.43.59L10.3 9.45l-7.72 7.72c-.78.78-.78 2.05 0 2.83L4 21.41c.39.39.9.59 1.41.59.51 0 1.02-.2 1.41-.59l7.78-7.78 2.81-2.81c.8-.78.8-2.07 0-2.86zM5.41 20L4 18.59l7.72-7.72 1.47 1.35L5.41 20z\"/>\n",
              "  </svg>\n",
              "      </button>\n",
              "      \n",
              "  <style>\n",
              "    .colab-df-container {\n",
              "      display:flex;\n",
              "      flex-wrap:wrap;\n",
              "      gap: 12px;\n",
              "    }\n",
              "\n",
              "    .colab-df-convert {\n",
              "      background-color: #E8F0FE;\n",
              "      border: none;\n",
              "      border-radius: 50%;\n",
              "      cursor: pointer;\n",
              "      display: none;\n",
              "      fill: #1967D2;\n",
              "      height: 32px;\n",
              "      padding: 0 0 0 0;\n",
              "      width: 32px;\n",
              "    }\n",
              "\n",
              "    .colab-df-convert:hover {\n",
              "      background-color: #E2EBFA;\n",
              "      box-shadow: 0px 1px 2px rgba(60, 64, 67, 0.3), 0px 1px 3px 1px rgba(60, 64, 67, 0.15);\n",
              "      fill: #174EA6;\n",
              "    }\n",
              "\n",
              "    [theme=dark] .colab-df-convert {\n",
              "      background-color: #3B4455;\n",
              "      fill: #D2E3FC;\n",
              "    }\n",
              "\n",
              "    [theme=dark] .colab-df-convert:hover {\n",
              "      background-color: #434B5C;\n",
              "      box-shadow: 0px 1px 3px 1px rgba(0, 0, 0, 0.15);\n",
              "      filter: drop-shadow(0px 1px 2px rgba(0, 0, 0, 0.3));\n",
              "      fill: #FFFFFF;\n",
              "    }\n",
              "  </style>\n",
              "\n",
              "      <script>\n",
              "        const buttonEl =\n",
              "          document.querySelector('#df-81bc1670-ea04-49d3-9044-7d9fa787e56b button.colab-df-convert');\n",
              "        buttonEl.style.display =\n",
              "          google.colab.kernel.accessAllowed ? 'block' : 'none';\n",
              "\n",
              "        async function convertToInteractive(key) {\n",
              "          const element = document.querySelector('#df-81bc1670-ea04-49d3-9044-7d9fa787e56b');\n",
              "          const dataTable =\n",
              "            await google.colab.kernel.invokeFunction('convertToInteractive',\n",
              "                                                     [key], {});\n",
              "          if (!dataTable) return;\n",
              "\n",
              "          const docLinkHtml = 'Like what you see? Visit the ' +\n",
              "            '<a target=\"_blank\" href=https://colab.research.google.com/notebooks/data_table.ipynb>data table notebook</a>'\n",
              "            + ' to learn more about interactive tables.';\n",
              "          element.innerHTML = '';\n",
              "          dataTable['output_type'] = 'display_data';\n",
              "          await google.colab.output.renderOutput(dataTable, element);\n",
              "          const docLink = document.createElement('div');\n",
              "          docLink.innerHTML = docLinkHtml;\n",
              "          element.appendChild(docLink);\n",
              "        }\n",
              "      </script>\n",
              "    </div>\n",
              "  </div>\n",
              "  "
            ]
          },
          "metadata": {},
          "execution_count": 64
        }
      ]
    },
    {
      "cell_type": "code",
      "metadata": {
        "colab": {
          "base_uri": "https://localhost:8080/",
          "height": 175
        },
        "id": "-6G4rwk-UByu",
        "outputId": "1175d31e-116a-407b-dbff-7aa54b822632"
      },
      "source": [
        "d = [{\"Name\": \"Виктор\", \"Age\": 18},\n",
        "     {\"Name\": \"Мария\", \"Age\": np.NaN},\n",
        "     {\"Name\": \"Иван\", \"Age\": 19},\n",
        "     {\"Name\": \"Иван\", \"Age\": 25}]\n",
        "\n",
        "df = pd.DataFrame(d)\n",
        "\n",
        "df.drop(columns=['Age'])"
      ],
      "execution_count": null,
      "outputs": [
        {
          "output_type": "execute_result",
          "data": {
            "text/plain": [
              "     Name\n",
              "0  Виктор\n",
              "1   Мария\n",
              "2    Иван\n",
              "3    Иван"
            ],
            "text/html": [
              "\n",
              "  <div id=\"df-22348e25-21f4-41da-98d7-c364845970fe\">\n",
              "    <div class=\"colab-df-container\">\n",
              "      <div>\n",
              "<style scoped>\n",
              "    .dataframe tbody tr th:only-of-type {\n",
              "        vertical-align: middle;\n",
              "    }\n",
              "\n",
              "    .dataframe tbody tr th {\n",
              "        vertical-align: top;\n",
              "    }\n",
              "\n",
              "    .dataframe thead th {\n",
              "        text-align: right;\n",
              "    }\n",
              "</style>\n",
              "<table border=\"1\" class=\"dataframe\">\n",
              "  <thead>\n",
              "    <tr style=\"text-align: right;\">\n",
              "      <th></th>\n",
              "      <th>Name</th>\n",
              "    </tr>\n",
              "  </thead>\n",
              "  <tbody>\n",
              "    <tr>\n",
              "      <th>0</th>\n",
              "      <td>Виктор</td>\n",
              "    </tr>\n",
              "    <tr>\n",
              "      <th>1</th>\n",
              "      <td>Мария</td>\n",
              "    </tr>\n",
              "    <tr>\n",
              "      <th>2</th>\n",
              "      <td>Иван</td>\n",
              "    </tr>\n",
              "    <tr>\n",
              "      <th>3</th>\n",
              "      <td>Иван</td>\n",
              "    </tr>\n",
              "  </tbody>\n",
              "</table>\n",
              "</div>\n",
              "      <button class=\"colab-df-convert\" onclick=\"convertToInteractive('df-22348e25-21f4-41da-98d7-c364845970fe')\"\n",
              "              title=\"Convert this dataframe to an interactive table.\"\n",
              "              style=\"display:none;\">\n",
              "        \n",
              "  <svg xmlns=\"http://www.w3.org/2000/svg\" height=\"24px\"viewBox=\"0 0 24 24\"\n",
              "       width=\"24px\">\n",
              "    <path d=\"M0 0h24v24H0V0z\" fill=\"none\"/>\n",
              "    <path d=\"M18.56 5.44l.94 2.06.94-2.06 2.06-.94-2.06-.94-.94-2.06-.94 2.06-2.06.94zm-11 1L8.5 8.5l.94-2.06 2.06-.94-2.06-.94L8.5 2.5l-.94 2.06-2.06.94zm10 10l.94 2.06.94-2.06 2.06-.94-2.06-.94-.94-2.06-.94 2.06-2.06.94z\"/><path d=\"M17.41 7.96l-1.37-1.37c-.4-.4-.92-.59-1.43-.59-.52 0-1.04.2-1.43.59L10.3 9.45l-7.72 7.72c-.78.78-.78 2.05 0 2.83L4 21.41c.39.39.9.59 1.41.59.51 0 1.02-.2 1.41-.59l7.78-7.78 2.81-2.81c.8-.78.8-2.07 0-2.86zM5.41 20L4 18.59l7.72-7.72 1.47 1.35L5.41 20z\"/>\n",
              "  </svg>\n",
              "      </button>\n",
              "      \n",
              "  <style>\n",
              "    .colab-df-container {\n",
              "      display:flex;\n",
              "      flex-wrap:wrap;\n",
              "      gap: 12px;\n",
              "    }\n",
              "\n",
              "    .colab-df-convert {\n",
              "      background-color: #E8F0FE;\n",
              "      border: none;\n",
              "      border-radius: 50%;\n",
              "      cursor: pointer;\n",
              "      display: none;\n",
              "      fill: #1967D2;\n",
              "      height: 32px;\n",
              "      padding: 0 0 0 0;\n",
              "      width: 32px;\n",
              "    }\n",
              "\n",
              "    .colab-df-convert:hover {\n",
              "      background-color: #E2EBFA;\n",
              "      box-shadow: 0px 1px 2px rgba(60, 64, 67, 0.3), 0px 1px 3px 1px rgba(60, 64, 67, 0.15);\n",
              "      fill: #174EA6;\n",
              "    }\n",
              "\n",
              "    [theme=dark] .colab-df-convert {\n",
              "      background-color: #3B4455;\n",
              "      fill: #D2E3FC;\n",
              "    }\n",
              "\n",
              "    [theme=dark] .colab-df-convert:hover {\n",
              "      background-color: #434B5C;\n",
              "      box-shadow: 0px 1px 3px 1px rgba(0, 0, 0, 0.15);\n",
              "      filter: drop-shadow(0px 1px 2px rgba(0, 0, 0, 0.3));\n",
              "      fill: #FFFFFF;\n",
              "    }\n",
              "  </style>\n",
              "\n",
              "      <script>\n",
              "        const buttonEl =\n",
              "          document.querySelector('#df-22348e25-21f4-41da-98d7-c364845970fe button.colab-df-convert');\n",
              "        buttonEl.style.display =\n",
              "          google.colab.kernel.accessAllowed ? 'block' : 'none';\n",
              "\n",
              "        async function convertToInteractive(key) {\n",
              "          const element = document.querySelector('#df-22348e25-21f4-41da-98d7-c364845970fe');\n",
              "          const dataTable =\n",
              "            await google.colab.kernel.invokeFunction('convertToInteractive',\n",
              "                                                     [key], {});\n",
              "          if (!dataTable) return;\n",
              "\n",
              "          const docLinkHtml = 'Like what you see? Visit the ' +\n",
              "            '<a target=\"_blank\" href=https://colab.research.google.com/notebooks/data_table.ipynb>data table notebook</a>'\n",
              "            + ' to learn more about interactive tables.';\n",
              "          element.innerHTML = '';\n",
              "          dataTable['output_type'] = 'display_data';\n",
              "          await google.colab.output.renderOutput(dataTable, element);\n",
              "          const docLink = document.createElement('div');\n",
              "          docLink.innerHTML = docLinkHtml;\n",
              "          element.appendChild(docLink);\n",
              "        }\n",
              "      </script>\n",
              "    </div>\n",
              "  </div>\n",
              "  "
            ]
          },
          "metadata": {},
          "execution_count": 65
        }
      ]
    },
    {
      "cell_type": "code",
      "metadata": {
        "colab": {
          "base_uri": "https://localhost:8080/",
          "height": 112
        },
        "id": "eijfXA16UMgf",
        "outputId": "c8764857-03a3-44a6-dba0-435c94549897"
      },
      "source": [
        "df.drop([0, 1])"
      ],
      "execution_count": null,
      "outputs": [
        {
          "output_type": "execute_result",
          "data": {
            "text/plain": [
              "   Name   Age\n",
              "2  Иван  19.0\n",
              "3  Иван  25.0"
            ],
            "text/html": [
              "\n",
              "  <div id=\"df-d21d30cd-e367-4acc-8a53-8880edc6a507\">\n",
              "    <div class=\"colab-df-container\">\n",
              "      <div>\n",
              "<style scoped>\n",
              "    .dataframe tbody tr th:only-of-type {\n",
              "        vertical-align: middle;\n",
              "    }\n",
              "\n",
              "    .dataframe tbody tr th {\n",
              "        vertical-align: top;\n",
              "    }\n",
              "\n",
              "    .dataframe thead th {\n",
              "        text-align: right;\n",
              "    }\n",
              "</style>\n",
              "<table border=\"1\" class=\"dataframe\">\n",
              "  <thead>\n",
              "    <tr style=\"text-align: right;\">\n",
              "      <th></th>\n",
              "      <th>Name</th>\n",
              "      <th>Age</th>\n",
              "    </tr>\n",
              "  </thead>\n",
              "  <tbody>\n",
              "    <tr>\n",
              "      <th>2</th>\n",
              "      <td>Иван</td>\n",
              "      <td>19.0</td>\n",
              "    </tr>\n",
              "    <tr>\n",
              "      <th>3</th>\n",
              "      <td>Иван</td>\n",
              "      <td>25.0</td>\n",
              "    </tr>\n",
              "  </tbody>\n",
              "</table>\n",
              "</div>\n",
              "      <button class=\"colab-df-convert\" onclick=\"convertToInteractive('df-d21d30cd-e367-4acc-8a53-8880edc6a507')\"\n",
              "              title=\"Convert this dataframe to an interactive table.\"\n",
              "              style=\"display:none;\">\n",
              "        \n",
              "  <svg xmlns=\"http://www.w3.org/2000/svg\" height=\"24px\"viewBox=\"0 0 24 24\"\n",
              "       width=\"24px\">\n",
              "    <path d=\"M0 0h24v24H0V0z\" fill=\"none\"/>\n",
              "    <path d=\"M18.56 5.44l.94 2.06.94-2.06 2.06-.94-2.06-.94-.94-2.06-.94 2.06-2.06.94zm-11 1L8.5 8.5l.94-2.06 2.06-.94-2.06-.94L8.5 2.5l-.94 2.06-2.06.94zm10 10l.94 2.06.94-2.06 2.06-.94-2.06-.94-.94-2.06-.94 2.06-2.06.94z\"/><path d=\"M17.41 7.96l-1.37-1.37c-.4-.4-.92-.59-1.43-.59-.52 0-1.04.2-1.43.59L10.3 9.45l-7.72 7.72c-.78.78-.78 2.05 0 2.83L4 21.41c.39.39.9.59 1.41.59.51 0 1.02-.2 1.41-.59l7.78-7.78 2.81-2.81c.8-.78.8-2.07 0-2.86zM5.41 20L4 18.59l7.72-7.72 1.47 1.35L5.41 20z\"/>\n",
              "  </svg>\n",
              "      </button>\n",
              "      \n",
              "  <style>\n",
              "    .colab-df-container {\n",
              "      display:flex;\n",
              "      flex-wrap:wrap;\n",
              "      gap: 12px;\n",
              "    }\n",
              "\n",
              "    .colab-df-convert {\n",
              "      background-color: #E8F0FE;\n",
              "      border: none;\n",
              "      border-radius: 50%;\n",
              "      cursor: pointer;\n",
              "      display: none;\n",
              "      fill: #1967D2;\n",
              "      height: 32px;\n",
              "      padding: 0 0 0 0;\n",
              "      width: 32px;\n",
              "    }\n",
              "\n",
              "    .colab-df-convert:hover {\n",
              "      background-color: #E2EBFA;\n",
              "      box-shadow: 0px 1px 2px rgba(60, 64, 67, 0.3), 0px 1px 3px 1px rgba(60, 64, 67, 0.15);\n",
              "      fill: #174EA6;\n",
              "    }\n",
              "\n",
              "    [theme=dark] .colab-df-convert {\n",
              "      background-color: #3B4455;\n",
              "      fill: #D2E3FC;\n",
              "    }\n",
              "\n",
              "    [theme=dark] .colab-df-convert:hover {\n",
              "      background-color: #434B5C;\n",
              "      box-shadow: 0px 1px 3px 1px rgba(0, 0, 0, 0.15);\n",
              "      filter: drop-shadow(0px 1px 2px rgba(0, 0, 0, 0.3));\n",
              "      fill: #FFFFFF;\n",
              "    }\n",
              "  </style>\n",
              "\n",
              "      <script>\n",
              "        const buttonEl =\n",
              "          document.querySelector('#df-d21d30cd-e367-4acc-8a53-8880edc6a507 button.colab-df-convert');\n",
              "        buttonEl.style.display =\n",
              "          google.colab.kernel.accessAllowed ? 'block' : 'none';\n",
              "\n",
              "        async function convertToInteractive(key) {\n",
              "          const element = document.querySelector('#df-d21d30cd-e367-4acc-8a53-8880edc6a507');\n",
              "          const dataTable =\n",
              "            await google.colab.kernel.invokeFunction('convertToInteractive',\n",
              "                                                     [key], {});\n",
              "          if (!dataTable) return;\n",
              "\n",
              "          const docLinkHtml = 'Like what you see? Visit the ' +\n",
              "            '<a target=\"_blank\" href=https://colab.research.google.com/notebooks/data_table.ipynb>data table notebook</a>'\n",
              "            + ' to learn more about interactive tables.';\n",
              "          element.innerHTML = '';\n",
              "          dataTable['output_type'] = 'display_data';\n",
              "          await google.colab.output.renderOutput(dataTable, element);\n",
              "          const docLink = document.createElement('div');\n",
              "          docLink.innerHTML = docLinkHtml;\n",
              "          element.appendChild(docLink);\n",
              "        }\n",
              "      </script>\n",
              "    </div>\n",
              "  </div>\n",
              "  "
            ]
          },
          "metadata": {},
          "execution_count": 67
        }
      ]
    },
    {
      "cell_type": "markdown",
      "metadata": {
        "id": "ZuQneaHSUO0N"
      },
      "source": [
        "Также существует метод dropna(), который позволяет удалять строки или столбцы, содержащие пустые значения.\n",
        "\n",
        "`DataFrame.dropna(axis=0, how='any', thresh=None, subset=None, inplace=False)`\n",
        "\n",
        "- axis - {0 или 'index', 1 или 'columns'}, по умолчанию 0. Определяет, удаляются строки или столбцы, содержащие отсутствующие значения. 0 или «index»: удалить строки, содержащие пропущенные значения. 1 или «columns»: удалить столбцы, содержащие отсутствующее значение.\n",
        "- how - Определяет, удаляется ли строка или столбец из DataFrame, когда у нас есть хотя бы одно NA или все NA. 'any': если присутствуют какие-либо значения NA, отбросьте эту строку или столбец. 'all': если все значения - NA, отбросьте эту строку или столбец."
      ]
    },
    {
      "cell_type": "code",
      "metadata": {
        "colab": {
          "base_uri": "https://localhost:8080/",
          "height": 206
        },
        "id": "OxbqFdmwVC3s",
        "outputId": "62c63e4a-41fc-42f8-a305-192561f7a30a"
      },
      "source": [
        "d = [{\"Name\": \"Виктор\", \"Age\": 18},\n",
        "     {\"Name\": \"Мария\", \"Age\": np.NaN},\n",
        "     {\"Name\": \"Иван\", \"Age\": 19},\n",
        "     {\"Name\": \"Иван\", \"Age\": 25},\n",
        "     {\"Name\": np.NaN, \"Age\": np.NaN}]\n",
        "\n",
        "df = pd.DataFrame(d)\n",
        "df"
      ],
      "execution_count": null,
      "outputs": [
        {
          "output_type": "execute_result",
          "data": {
            "text/plain": [
              "     Name   Age\n",
              "0  Виктор  18.0\n",
              "1   Мария   NaN\n",
              "2    Иван  19.0\n",
              "3    Иван  25.0\n",
              "4     NaN   NaN"
            ],
            "text/html": [
              "\n",
              "  <div id=\"df-8e8a6716-3749-4f05-b1ff-7fe48e6949e6\">\n",
              "    <div class=\"colab-df-container\">\n",
              "      <div>\n",
              "<style scoped>\n",
              "    .dataframe tbody tr th:only-of-type {\n",
              "        vertical-align: middle;\n",
              "    }\n",
              "\n",
              "    .dataframe tbody tr th {\n",
              "        vertical-align: top;\n",
              "    }\n",
              "\n",
              "    .dataframe thead th {\n",
              "        text-align: right;\n",
              "    }\n",
              "</style>\n",
              "<table border=\"1\" class=\"dataframe\">\n",
              "  <thead>\n",
              "    <tr style=\"text-align: right;\">\n",
              "      <th></th>\n",
              "      <th>Name</th>\n",
              "      <th>Age</th>\n",
              "    </tr>\n",
              "  </thead>\n",
              "  <tbody>\n",
              "    <tr>\n",
              "      <th>0</th>\n",
              "      <td>Виктор</td>\n",
              "      <td>18.0</td>\n",
              "    </tr>\n",
              "    <tr>\n",
              "      <th>1</th>\n",
              "      <td>Мария</td>\n",
              "      <td>NaN</td>\n",
              "    </tr>\n",
              "    <tr>\n",
              "      <th>2</th>\n",
              "      <td>Иван</td>\n",
              "      <td>19.0</td>\n",
              "    </tr>\n",
              "    <tr>\n",
              "      <th>3</th>\n",
              "      <td>Иван</td>\n",
              "      <td>25.0</td>\n",
              "    </tr>\n",
              "    <tr>\n",
              "      <th>4</th>\n",
              "      <td>NaN</td>\n",
              "      <td>NaN</td>\n",
              "    </tr>\n",
              "  </tbody>\n",
              "</table>\n",
              "</div>\n",
              "      <button class=\"colab-df-convert\" onclick=\"convertToInteractive('df-8e8a6716-3749-4f05-b1ff-7fe48e6949e6')\"\n",
              "              title=\"Convert this dataframe to an interactive table.\"\n",
              "              style=\"display:none;\">\n",
              "        \n",
              "  <svg xmlns=\"http://www.w3.org/2000/svg\" height=\"24px\"viewBox=\"0 0 24 24\"\n",
              "       width=\"24px\">\n",
              "    <path d=\"M0 0h24v24H0V0z\" fill=\"none\"/>\n",
              "    <path d=\"M18.56 5.44l.94 2.06.94-2.06 2.06-.94-2.06-.94-.94-2.06-.94 2.06-2.06.94zm-11 1L8.5 8.5l.94-2.06 2.06-.94-2.06-.94L8.5 2.5l-.94 2.06-2.06.94zm10 10l.94 2.06.94-2.06 2.06-.94-2.06-.94-.94-2.06-.94 2.06-2.06.94z\"/><path d=\"M17.41 7.96l-1.37-1.37c-.4-.4-.92-.59-1.43-.59-.52 0-1.04.2-1.43.59L10.3 9.45l-7.72 7.72c-.78.78-.78 2.05 0 2.83L4 21.41c.39.39.9.59 1.41.59.51 0 1.02-.2 1.41-.59l7.78-7.78 2.81-2.81c.8-.78.8-2.07 0-2.86zM5.41 20L4 18.59l7.72-7.72 1.47 1.35L5.41 20z\"/>\n",
              "  </svg>\n",
              "      </button>\n",
              "      \n",
              "  <style>\n",
              "    .colab-df-container {\n",
              "      display:flex;\n",
              "      flex-wrap:wrap;\n",
              "      gap: 12px;\n",
              "    }\n",
              "\n",
              "    .colab-df-convert {\n",
              "      background-color: #E8F0FE;\n",
              "      border: none;\n",
              "      border-radius: 50%;\n",
              "      cursor: pointer;\n",
              "      display: none;\n",
              "      fill: #1967D2;\n",
              "      height: 32px;\n",
              "      padding: 0 0 0 0;\n",
              "      width: 32px;\n",
              "    }\n",
              "\n",
              "    .colab-df-convert:hover {\n",
              "      background-color: #E2EBFA;\n",
              "      box-shadow: 0px 1px 2px rgba(60, 64, 67, 0.3), 0px 1px 3px 1px rgba(60, 64, 67, 0.15);\n",
              "      fill: #174EA6;\n",
              "    }\n",
              "\n",
              "    [theme=dark] .colab-df-convert {\n",
              "      background-color: #3B4455;\n",
              "      fill: #D2E3FC;\n",
              "    }\n",
              "\n",
              "    [theme=dark] .colab-df-convert:hover {\n",
              "      background-color: #434B5C;\n",
              "      box-shadow: 0px 1px 3px 1px rgba(0, 0, 0, 0.15);\n",
              "      filter: drop-shadow(0px 1px 2px rgba(0, 0, 0, 0.3));\n",
              "      fill: #FFFFFF;\n",
              "    }\n",
              "  </style>\n",
              "\n",
              "      <script>\n",
              "        const buttonEl =\n",
              "          document.querySelector('#df-8e8a6716-3749-4f05-b1ff-7fe48e6949e6 button.colab-df-convert');\n",
              "        buttonEl.style.display =\n",
              "          google.colab.kernel.accessAllowed ? 'block' : 'none';\n",
              "\n",
              "        async function convertToInteractive(key) {\n",
              "          const element = document.querySelector('#df-8e8a6716-3749-4f05-b1ff-7fe48e6949e6');\n",
              "          const dataTable =\n",
              "            await google.colab.kernel.invokeFunction('convertToInteractive',\n",
              "                                                     [key], {});\n",
              "          if (!dataTable) return;\n",
              "\n",
              "          const docLinkHtml = 'Like what you see? Visit the ' +\n",
              "            '<a target=\"_blank\" href=https://colab.research.google.com/notebooks/data_table.ipynb>data table notebook</a>'\n",
              "            + ' to learn more about interactive tables.';\n",
              "          element.innerHTML = '';\n",
              "          dataTable['output_type'] = 'display_data';\n",
              "          await google.colab.output.renderOutput(dataTable, element);\n",
              "          const docLink = document.createElement('div');\n",
              "          docLink.innerHTML = docLinkHtml;\n",
              "          element.appendChild(docLink);\n",
              "        }\n",
              "      </script>\n",
              "    </div>\n",
              "  </div>\n",
              "  "
            ]
          },
          "metadata": {},
          "execution_count": 68
        }
      ]
    },
    {
      "cell_type": "code",
      "metadata": {
        "colab": {
          "base_uri": "https://localhost:8080/",
          "height": 143
        },
        "id": "C1VHCxFOVNan",
        "outputId": "bc357feb-e638-4a9c-cff5-8647e539c218"
      },
      "source": [
        "# удалить строки (axis=0), которые содержат хотя бы одно пропущенное значение\n",
        "df.dropna(axis=0, how='any')"
      ],
      "execution_count": null,
      "outputs": [
        {
          "output_type": "execute_result",
          "data": {
            "text/plain": [
              "     Name   Age\n",
              "0  Виктор  18.0\n",
              "2    Иван  19.0\n",
              "3    Иван  25.0"
            ],
            "text/html": [
              "\n",
              "  <div id=\"df-651315dd-5e66-4bf6-bdd8-675653ec999c\">\n",
              "    <div class=\"colab-df-container\">\n",
              "      <div>\n",
              "<style scoped>\n",
              "    .dataframe tbody tr th:only-of-type {\n",
              "        vertical-align: middle;\n",
              "    }\n",
              "\n",
              "    .dataframe tbody tr th {\n",
              "        vertical-align: top;\n",
              "    }\n",
              "\n",
              "    .dataframe thead th {\n",
              "        text-align: right;\n",
              "    }\n",
              "</style>\n",
              "<table border=\"1\" class=\"dataframe\">\n",
              "  <thead>\n",
              "    <tr style=\"text-align: right;\">\n",
              "      <th></th>\n",
              "      <th>Name</th>\n",
              "      <th>Age</th>\n",
              "    </tr>\n",
              "  </thead>\n",
              "  <tbody>\n",
              "    <tr>\n",
              "      <th>0</th>\n",
              "      <td>Виктор</td>\n",
              "      <td>18.0</td>\n",
              "    </tr>\n",
              "    <tr>\n",
              "      <th>2</th>\n",
              "      <td>Иван</td>\n",
              "      <td>19.0</td>\n",
              "    </tr>\n",
              "    <tr>\n",
              "      <th>3</th>\n",
              "      <td>Иван</td>\n",
              "      <td>25.0</td>\n",
              "    </tr>\n",
              "  </tbody>\n",
              "</table>\n",
              "</div>\n",
              "      <button class=\"colab-df-convert\" onclick=\"convertToInteractive('df-651315dd-5e66-4bf6-bdd8-675653ec999c')\"\n",
              "              title=\"Convert this dataframe to an interactive table.\"\n",
              "              style=\"display:none;\">\n",
              "        \n",
              "  <svg xmlns=\"http://www.w3.org/2000/svg\" height=\"24px\"viewBox=\"0 0 24 24\"\n",
              "       width=\"24px\">\n",
              "    <path d=\"M0 0h24v24H0V0z\" fill=\"none\"/>\n",
              "    <path d=\"M18.56 5.44l.94 2.06.94-2.06 2.06-.94-2.06-.94-.94-2.06-.94 2.06-2.06.94zm-11 1L8.5 8.5l.94-2.06 2.06-.94-2.06-.94L8.5 2.5l-.94 2.06-2.06.94zm10 10l.94 2.06.94-2.06 2.06-.94-2.06-.94-.94-2.06-.94 2.06-2.06.94z\"/><path d=\"M17.41 7.96l-1.37-1.37c-.4-.4-.92-.59-1.43-.59-.52 0-1.04.2-1.43.59L10.3 9.45l-7.72 7.72c-.78.78-.78 2.05 0 2.83L4 21.41c.39.39.9.59 1.41.59.51 0 1.02-.2 1.41-.59l7.78-7.78 2.81-2.81c.8-.78.8-2.07 0-2.86zM5.41 20L4 18.59l7.72-7.72 1.47 1.35L5.41 20z\"/>\n",
              "  </svg>\n",
              "      </button>\n",
              "      \n",
              "  <style>\n",
              "    .colab-df-container {\n",
              "      display:flex;\n",
              "      flex-wrap:wrap;\n",
              "      gap: 12px;\n",
              "    }\n",
              "\n",
              "    .colab-df-convert {\n",
              "      background-color: #E8F0FE;\n",
              "      border: none;\n",
              "      border-radius: 50%;\n",
              "      cursor: pointer;\n",
              "      display: none;\n",
              "      fill: #1967D2;\n",
              "      height: 32px;\n",
              "      padding: 0 0 0 0;\n",
              "      width: 32px;\n",
              "    }\n",
              "\n",
              "    .colab-df-convert:hover {\n",
              "      background-color: #E2EBFA;\n",
              "      box-shadow: 0px 1px 2px rgba(60, 64, 67, 0.3), 0px 1px 3px 1px rgba(60, 64, 67, 0.15);\n",
              "      fill: #174EA6;\n",
              "    }\n",
              "\n",
              "    [theme=dark] .colab-df-convert {\n",
              "      background-color: #3B4455;\n",
              "      fill: #D2E3FC;\n",
              "    }\n",
              "\n",
              "    [theme=dark] .colab-df-convert:hover {\n",
              "      background-color: #434B5C;\n",
              "      box-shadow: 0px 1px 3px 1px rgba(0, 0, 0, 0.15);\n",
              "      filter: drop-shadow(0px 1px 2px rgba(0, 0, 0, 0.3));\n",
              "      fill: #FFFFFF;\n",
              "    }\n",
              "  </style>\n",
              "\n",
              "      <script>\n",
              "        const buttonEl =\n",
              "          document.querySelector('#df-651315dd-5e66-4bf6-bdd8-675653ec999c button.colab-df-convert');\n",
              "        buttonEl.style.display =\n",
              "          google.colab.kernel.accessAllowed ? 'block' : 'none';\n",
              "\n",
              "        async function convertToInteractive(key) {\n",
              "          const element = document.querySelector('#df-651315dd-5e66-4bf6-bdd8-675653ec999c');\n",
              "          const dataTable =\n",
              "            await google.colab.kernel.invokeFunction('convertToInteractive',\n",
              "                                                     [key], {});\n",
              "          if (!dataTable) return;\n",
              "\n",
              "          const docLinkHtml = 'Like what you see? Visit the ' +\n",
              "            '<a target=\"_blank\" href=https://colab.research.google.com/notebooks/data_table.ipynb>data table notebook</a>'\n",
              "            + ' to learn more about interactive tables.';\n",
              "          element.innerHTML = '';\n",
              "          dataTable['output_type'] = 'display_data';\n",
              "          await google.colab.output.renderOutput(dataTable, element);\n",
              "          const docLink = document.createElement('div');\n",
              "          docLink.innerHTML = docLinkHtml;\n",
              "          element.appendChild(docLink);\n",
              "        }\n",
              "      </script>\n",
              "    </div>\n",
              "  </div>\n",
              "  "
            ]
          },
          "metadata": {},
          "execution_count": 69
        }
      ]
    },
    {
      "cell_type": "code",
      "metadata": {
        "id": "GL8flIZawWW7",
        "colab": {
          "base_uri": "https://localhost:8080/",
          "height": 189
        },
        "outputId": "c5bd42e2-daf5-46bf-cd0e-b85b525247fe"
      },
      "source": [
        "# удалить столбцы (axis=1), которые содержат хотя бы одно пропущенное значение\n",
        "df.dropna(axis=1, how='any')"
      ],
      "execution_count": null,
      "outputs": [
        {
          "output_type": "execute_result",
          "data": {
            "text/plain": [
              "Empty DataFrame\n",
              "Columns: []\n",
              "Index: [0, 1, 2, 3, 4]"
            ],
            "text/html": [
              "\n",
              "  <div id=\"df-6fe5e082-b323-422f-851d-a71ee09246a3\">\n",
              "    <div class=\"colab-df-container\">\n",
              "      <div>\n",
              "<style scoped>\n",
              "    .dataframe tbody tr th:only-of-type {\n",
              "        vertical-align: middle;\n",
              "    }\n",
              "\n",
              "    .dataframe tbody tr th {\n",
              "        vertical-align: top;\n",
              "    }\n",
              "\n",
              "    .dataframe thead th {\n",
              "        text-align: right;\n",
              "    }\n",
              "</style>\n",
              "<table border=\"1\" class=\"dataframe\">\n",
              "  <thead>\n",
              "    <tr style=\"text-align: right;\">\n",
              "      <th></th>\n",
              "    </tr>\n",
              "  </thead>\n",
              "  <tbody>\n",
              "    <tr>\n",
              "      <th>0</th>\n",
              "    </tr>\n",
              "    <tr>\n",
              "      <th>1</th>\n",
              "    </tr>\n",
              "    <tr>\n",
              "      <th>2</th>\n",
              "    </tr>\n",
              "    <tr>\n",
              "      <th>3</th>\n",
              "    </tr>\n",
              "    <tr>\n",
              "      <th>4</th>\n",
              "    </tr>\n",
              "  </tbody>\n",
              "</table>\n",
              "</div>\n",
              "      <button class=\"colab-df-convert\" onclick=\"convertToInteractive('df-6fe5e082-b323-422f-851d-a71ee09246a3')\"\n",
              "              title=\"Convert this dataframe to an interactive table.\"\n",
              "              style=\"display:none;\">\n",
              "        \n",
              "  <svg xmlns=\"http://www.w3.org/2000/svg\" height=\"24px\"viewBox=\"0 0 24 24\"\n",
              "       width=\"24px\">\n",
              "    <path d=\"M0 0h24v24H0V0z\" fill=\"none\"/>\n",
              "    <path d=\"M18.56 5.44l.94 2.06.94-2.06 2.06-.94-2.06-.94-.94-2.06-.94 2.06-2.06.94zm-11 1L8.5 8.5l.94-2.06 2.06-.94-2.06-.94L8.5 2.5l-.94 2.06-2.06.94zm10 10l.94 2.06.94-2.06 2.06-.94-2.06-.94-.94-2.06-.94 2.06-2.06.94z\"/><path d=\"M17.41 7.96l-1.37-1.37c-.4-.4-.92-.59-1.43-.59-.52 0-1.04.2-1.43.59L10.3 9.45l-7.72 7.72c-.78.78-.78 2.05 0 2.83L4 21.41c.39.39.9.59 1.41.59.51 0 1.02-.2 1.41-.59l7.78-7.78 2.81-2.81c.8-.78.8-2.07 0-2.86zM5.41 20L4 18.59l7.72-7.72 1.47 1.35L5.41 20z\"/>\n",
              "  </svg>\n",
              "      </button>\n",
              "      \n",
              "  <style>\n",
              "    .colab-df-container {\n",
              "      display:flex;\n",
              "      flex-wrap:wrap;\n",
              "      gap: 12px;\n",
              "    }\n",
              "\n",
              "    .colab-df-convert {\n",
              "      background-color: #E8F0FE;\n",
              "      border: none;\n",
              "      border-radius: 50%;\n",
              "      cursor: pointer;\n",
              "      display: none;\n",
              "      fill: #1967D2;\n",
              "      height: 32px;\n",
              "      padding: 0 0 0 0;\n",
              "      width: 32px;\n",
              "    }\n",
              "\n",
              "    .colab-df-convert:hover {\n",
              "      background-color: #E2EBFA;\n",
              "      box-shadow: 0px 1px 2px rgba(60, 64, 67, 0.3), 0px 1px 3px 1px rgba(60, 64, 67, 0.15);\n",
              "      fill: #174EA6;\n",
              "    }\n",
              "\n",
              "    [theme=dark] .colab-df-convert {\n",
              "      background-color: #3B4455;\n",
              "      fill: #D2E3FC;\n",
              "    }\n",
              "\n",
              "    [theme=dark] .colab-df-convert:hover {\n",
              "      background-color: #434B5C;\n",
              "      box-shadow: 0px 1px 3px 1px rgba(0, 0, 0, 0.15);\n",
              "      filter: drop-shadow(0px 1px 2px rgba(0, 0, 0, 0.3));\n",
              "      fill: #FFFFFF;\n",
              "    }\n",
              "  </style>\n",
              "\n",
              "      <script>\n",
              "        const buttonEl =\n",
              "          document.querySelector('#df-6fe5e082-b323-422f-851d-a71ee09246a3 button.colab-df-convert');\n",
              "        buttonEl.style.display =\n",
              "          google.colab.kernel.accessAllowed ? 'block' : 'none';\n",
              "\n",
              "        async function convertToInteractive(key) {\n",
              "          const element = document.querySelector('#df-6fe5e082-b323-422f-851d-a71ee09246a3');\n",
              "          const dataTable =\n",
              "            await google.colab.kernel.invokeFunction('convertToInteractive',\n",
              "                                                     [key], {});\n",
              "          if (!dataTable) return;\n",
              "\n",
              "          const docLinkHtml = 'Like what you see? Visit the ' +\n",
              "            '<a target=\"_blank\" href=https://colab.research.google.com/notebooks/data_table.ipynb>data table notebook</a>'\n",
              "            + ' to learn more about interactive tables.';\n",
              "          element.innerHTML = '';\n",
              "          dataTable['output_type'] = 'display_data';\n",
              "          await google.colab.output.renderOutput(dataTable, element);\n",
              "          const docLink = document.createElement('div');\n",
              "          docLink.innerHTML = docLinkHtml;\n",
              "          element.appendChild(docLink);\n",
              "        }\n",
              "      </script>\n",
              "    </div>\n",
              "  </div>\n",
              "  "
            ]
          },
          "metadata": {},
          "execution_count": 70
        }
      ]
    },
    {
      "cell_type": "code",
      "metadata": {
        "colab": {
          "base_uri": "https://localhost:8080/",
          "height": 175
        },
        "id": "q-nVbxseVjbq",
        "outputId": "6afd75f1-8e47-4f25-b9ad-0ae55016a03d"
      },
      "source": [
        "# удалить строки (axis=0), которые содержат все одно пропущенные значения\n",
        "df.dropna(axis=0, how='all')"
      ],
      "execution_count": null,
      "outputs": [
        {
          "output_type": "execute_result",
          "data": {
            "text/plain": [
              "     Name   Age\n",
              "0  Виктор  18.0\n",
              "1   Мария   NaN\n",
              "2    Иван  19.0\n",
              "3    Иван  25.0"
            ],
            "text/html": [
              "\n",
              "  <div id=\"df-f4f56a6b-04f6-4461-9133-8515e329a608\">\n",
              "    <div class=\"colab-df-container\">\n",
              "      <div>\n",
              "<style scoped>\n",
              "    .dataframe tbody tr th:only-of-type {\n",
              "        vertical-align: middle;\n",
              "    }\n",
              "\n",
              "    .dataframe tbody tr th {\n",
              "        vertical-align: top;\n",
              "    }\n",
              "\n",
              "    .dataframe thead th {\n",
              "        text-align: right;\n",
              "    }\n",
              "</style>\n",
              "<table border=\"1\" class=\"dataframe\">\n",
              "  <thead>\n",
              "    <tr style=\"text-align: right;\">\n",
              "      <th></th>\n",
              "      <th>Name</th>\n",
              "      <th>Age</th>\n",
              "    </tr>\n",
              "  </thead>\n",
              "  <tbody>\n",
              "    <tr>\n",
              "      <th>0</th>\n",
              "      <td>Виктор</td>\n",
              "      <td>18.0</td>\n",
              "    </tr>\n",
              "    <tr>\n",
              "      <th>1</th>\n",
              "      <td>Мария</td>\n",
              "      <td>NaN</td>\n",
              "    </tr>\n",
              "    <tr>\n",
              "      <th>2</th>\n",
              "      <td>Иван</td>\n",
              "      <td>19.0</td>\n",
              "    </tr>\n",
              "    <tr>\n",
              "      <th>3</th>\n",
              "      <td>Иван</td>\n",
              "      <td>25.0</td>\n",
              "    </tr>\n",
              "  </tbody>\n",
              "</table>\n",
              "</div>\n",
              "      <button class=\"colab-df-convert\" onclick=\"convertToInteractive('df-f4f56a6b-04f6-4461-9133-8515e329a608')\"\n",
              "              title=\"Convert this dataframe to an interactive table.\"\n",
              "              style=\"display:none;\">\n",
              "        \n",
              "  <svg xmlns=\"http://www.w3.org/2000/svg\" height=\"24px\"viewBox=\"0 0 24 24\"\n",
              "       width=\"24px\">\n",
              "    <path d=\"M0 0h24v24H0V0z\" fill=\"none\"/>\n",
              "    <path d=\"M18.56 5.44l.94 2.06.94-2.06 2.06-.94-2.06-.94-.94-2.06-.94 2.06-2.06.94zm-11 1L8.5 8.5l.94-2.06 2.06-.94-2.06-.94L8.5 2.5l-.94 2.06-2.06.94zm10 10l.94 2.06.94-2.06 2.06-.94-2.06-.94-.94-2.06-.94 2.06-2.06.94z\"/><path d=\"M17.41 7.96l-1.37-1.37c-.4-.4-.92-.59-1.43-.59-.52 0-1.04.2-1.43.59L10.3 9.45l-7.72 7.72c-.78.78-.78 2.05 0 2.83L4 21.41c.39.39.9.59 1.41.59.51 0 1.02-.2 1.41-.59l7.78-7.78 2.81-2.81c.8-.78.8-2.07 0-2.86zM5.41 20L4 18.59l7.72-7.72 1.47 1.35L5.41 20z\"/>\n",
              "  </svg>\n",
              "      </button>\n",
              "      \n",
              "  <style>\n",
              "    .colab-df-container {\n",
              "      display:flex;\n",
              "      flex-wrap:wrap;\n",
              "      gap: 12px;\n",
              "    }\n",
              "\n",
              "    .colab-df-convert {\n",
              "      background-color: #E8F0FE;\n",
              "      border: none;\n",
              "      border-radius: 50%;\n",
              "      cursor: pointer;\n",
              "      display: none;\n",
              "      fill: #1967D2;\n",
              "      height: 32px;\n",
              "      padding: 0 0 0 0;\n",
              "      width: 32px;\n",
              "    }\n",
              "\n",
              "    .colab-df-convert:hover {\n",
              "      background-color: #E2EBFA;\n",
              "      box-shadow: 0px 1px 2px rgba(60, 64, 67, 0.3), 0px 1px 3px 1px rgba(60, 64, 67, 0.15);\n",
              "      fill: #174EA6;\n",
              "    }\n",
              "\n",
              "    [theme=dark] .colab-df-convert {\n",
              "      background-color: #3B4455;\n",
              "      fill: #D2E3FC;\n",
              "    }\n",
              "\n",
              "    [theme=dark] .colab-df-convert:hover {\n",
              "      background-color: #434B5C;\n",
              "      box-shadow: 0px 1px 3px 1px rgba(0, 0, 0, 0.15);\n",
              "      filter: drop-shadow(0px 1px 2px rgba(0, 0, 0, 0.3));\n",
              "      fill: #FFFFFF;\n",
              "    }\n",
              "  </style>\n",
              "\n",
              "      <script>\n",
              "        const buttonEl =\n",
              "          document.querySelector('#df-f4f56a6b-04f6-4461-9133-8515e329a608 button.colab-df-convert');\n",
              "        buttonEl.style.display =\n",
              "          google.colab.kernel.accessAllowed ? 'block' : 'none';\n",
              "\n",
              "        async function convertToInteractive(key) {\n",
              "          const element = document.querySelector('#df-f4f56a6b-04f6-4461-9133-8515e329a608');\n",
              "          const dataTable =\n",
              "            await google.colab.kernel.invokeFunction('convertToInteractive',\n",
              "                                                     [key], {});\n",
              "          if (!dataTable) return;\n",
              "\n",
              "          const docLinkHtml = 'Like what you see? Visit the ' +\n",
              "            '<a target=\"_blank\" href=https://colab.research.google.com/notebooks/data_table.ipynb>data table notebook</a>'\n",
              "            + ' to learn more about interactive tables.';\n",
              "          element.innerHTML = '';\n",
              "          dataTable['output_type'] = 'display_data';\n",
              "          await google.colab.output.renderOutput(dataTable, element);\n",
              "          const docLink = document.createElement('div');\n",
              "          docLink.innerHTML = docLinkHtml;\n",
              "          element.appendChild(docLink);\n",
              "        }\n",
              "      </script>\n",
              "    </div>\n",
              "  </div>\n",
              "  "
            ]
          },
          "metadata": {},
          "execution_count": 71
        }
      ]
    },
    {
      "cell_type": "code",
      "metadata": {
        "id": "xgqupXZvwbbV",
        "colab": {
          "base_uri": "https://localhost:8080/",
          "height": 206
        },
        "outputId": "d6784b1b-5c66-4d89-e21a-676f41d88630"
      },
      "source": [
        "# удалить столбцы (axis=1), которые содержат хотя бы одно пропущенное значение\n",
        "df.dropna(axis=1, how='all')"
      ],
      "execution_count": null,
      "outputs": [
        {
          "output_type": "execute_result",
          "data": {
            "text/plain": [
              "     Name   Age\n",
              "0  Виктор  18.0\n",
              "1   Мария   NaN\n",
              "2    Иван  19.0\n",
              "3    Иван  25.0\n",
              "4     NaN   NaN"
            ],
            "text/html": [
              "\n",
              "  <div id=\"df-b381559f-005f-4076-8489-0c39ec37f8d2\">\n",
              "    <div class=\"colab-df-container\">\n",
              "      <div>\n",
              "<style scoped>\n",
              "    .dataframe tbody tr th:only-of-type {\n",
              "        vertical-align: middle;\n",
              "    }\n",
              "\n",
              "    .dataframe tbody tr th {\n",
              "        vertical-align: top;\n",
              "    }\n",
              "\n",
              "    .dataframe thead th {\n",
              "        text-align: right;\n",
              "    }\n",
              "</style>\n",
              "<table border=\"1\" class=\"dataframe\">\n",
              "  <thead>\n",
              "    <tr style=\"text-align: right;\">\n",
              "      <th></th>\n",
              "      <th>Name</th>\n",
              "      <th>Age</th>\n",
              "    </tr>\n",
              "  </thead>\n",
              "  <tbody>\n",
              "    <tr>\n",
              "      <th>0</th>\n",
              "      <td>Виктор</td>\n",
              "      <td>18.0</td>\n",
              "    </tr>\n",
              "    <tr>\n",
              "      <th>1</th>\n",
              "      <td>Мария</td>\n",
              "      <td>NaN</td>\n",
              "    </tr>\n",
              "    <tr>\n",
              "      <th>2</th>\n",
              "      <td>Иван</td>\n",
              "      <td>19.0</td>\n",
              "    </tr>\n",
              "    <tr>\n",
              "      <th>3</th>\n",
              "      <td>Иван</td>\n",
              "      <td>25.0</td>\n",
              "    </tr>\n",
              "    <tr>\n",
              "      <th>4</th>\n",
              "      <td>NaN</td>\n",
              "      <td>NaN</td>\n",
              "    </tr>\n",
              "  </tbody>\n",
              "</table>\n",
              "</div>\n",
              "      <button class=\"colab-df-convert\" onclick=\"convertToInteractive('df-b381559f-005f-4076-8489-0c39ec37f8d2')\"\n",
              "              title=\"Convert this dataframe to an interactive table.\"\n",
              "              style=\"display:none;\">\n",
              "        \n",
              "  <svg xmlns=\"http://www.w3.org/2000/svg\" height=\"24px\"viewBox=\"0 0 24 24\"\n",
              "       width=\"24px\">\n",
              "    <path d=\"M0 0h24v24H0V0z\" fill=\"none\"/>\n",
              "    <path d=\"M18.56 5.44l.94 2.06.94-2.06 2.06-.94-2.06-.94-.94-2.06-.94 2.06-2.06.94zm-11 1L8.5 8.5l.94-2.06 2.06-.94-2.06-.94L8.5 2.5l-.94 2.06-2.06.94zm10 10l.94 2.06.94-2.06 2.06-.94-2.06-.94-.94-2.06-.94 2.06-2.06.94z\"/><path d=\"M17.41 7.96l-1.37-1.37c-.4-.4-.92-.59-1.43-.59-.52 0-1.04.2-1.43.59L10.3 9.45l-7.72 7.72c-.78.78-.78 2.05 0 2.83L4 21.41c.39.39.9.59 1.41.59.51 0 1.02-.2 1.41-.59l7.78-7.78 2.81-2.81c.8-.78.8-2.07 0-2.86zM5.41 20L4 18.59l7.72-7.72 1.47 1.35L5.41 20z\"/>\n",
              "  </svg>\n",
              "      </button>\n",
              "      \n",
              "  <style>\n",
              "    .colab-df-container {\n",
              "      display:flex;\n",
              "      flex-wrap:wrap;\n",
              "      gap: 12px;\n",
              "    }\n",
              "\n",
              "    .colab-df-convert {\n",
              "      background-color: #E8F0FE;\n",
              "      border: none;\n",
              "      border-radius: 50%;\n",
              "      cursor: pointer;\n",
              "      display: none;\n",
              "      fill: #1967D2;\n",
              "      height: 32px;\n",
              "      padding: 0 0 0 0;\n",
              "      width: 32px;\n",
              "    }\n",
              "\n",
              "    .colab-df-convert:hover {\n",
              "      background-color: #E2EBFA;\n",
              "      box-shadow: 0px 1px 2px rgba(60, 64, 67, 0.3), 0px 1px 3px 1px rgba(60, 64, 67, 0.15);\n",
              "      fill: #174EA6;\n",
              "    }\n",
              "\n",
              "    [theme=dark] .colab-df-convert {\n",
              "      background-color: #3B4455;\n",
              "      fill: #D2E3FC;\n",
              "    }\n",
              "\n",
              "    [theme=dark] .colab-df-convert:hover {\n",
              "      background-color: #434B5C;\n",
              "      box-shadow: 0px 1px 3px 1px rgba(0, 0, 0, 0.15);\n",
              "      filter: drop-shadow(0px 1px 2px rgba(0, 0, 0, 0.3));\n",
              "      fill: #FFFFFF;\n",
              "    }\n",
              "  </style>\n",
              "\n",
              "      <script>\n",
              "        const buttonEl =\n",
              "          document.querySelector('#df-b381559f-005f-4076-8489-0c39ec37f8d2 button.colab-df-convert');\n",
              "        buttonEl.style.display =\n",
              "          google.colab.kernel.accessAllowed ? 'block' : 'none';\n",
              "\n",
              "        async function convertToInteractive(key) {\n",
              "          const element = document.querySelector('#df-b381559f-005f-4076-8489-0c39ec37f8d2');\n",
              "          const dataTable =\n",
              "            await google.colab.kernel.invokeFunction('convertToInteractive',\n",
              "                                                     [key], {});\n",
              "          if (!dataTable) return;\n",
              "\n",
              "          const docLinkHtml = 'Like what you see? Visit the ' +\n",
              "            '<a target=\"_blank\" href=https://colab.research.google.com/notebooks/data_table.ipynb>data table notebook</a>'\n",
              "            + ' to learn more about interactive tables.';\n",
              "          element.innerHTML = '';\n",
              "          dataTable['output_type'] = 'display_data';\n",
              "          await google.colab.output.renderOutput(dataTable, element);\n",
              "          const docLink = document.createElement('div');\n",
              "          docLink.innerHTML = docLinkHtml;\n",
              "          element.appendChild(docLink);\n",
              "        }\n",
              "      </script>\n",
              "    </div>\n",
              "  </div>\n",
              "  "
            ]
          },
          "metadata": {},
          "execution_count": 72
        }
      ]
    },
    {
      "cell_type": "markdown",
      "metadata": {
        "id": "VrNE6glJ2327"
      },
      "source": [
        "Добавление строк или столбцов в существующий DataFrame.\n",
        "\n",
        "Добавить новый столбец в существующий DataFrame можно воспользовавшись следующей конструкцией:\n",
        "\n",
        "`df['new_column'] = values`\n",
        "\n",
        "- values - значения в новом столбце (числов, список, Series)\n"
      ]
    },
    {
      "cell_type": "code",
      "metadata": {
        "colab": {
          "base_uri": "https://localhost:8080/",
          "height": 206
        },
        "id": "_ZBenIni38_4",
        "outputId": "c1771274-80a6-4511-d1cb-ac2b1086306b"
      },
      "source": [
        "d = [{\"Name\": \"Виктор\", \"Age\": 18},\n",
        "     {\"Name\": \"Мария\", \"Age\": 21},\n",
        "     {\"Name\": \"Иван\", \"Age\": 19},\n",
        "     {\"Name\": \"Иван\", \"Age\": 25},\n",
        "     {\"Name\": \"Алексей\", \"Age\": 20}]\n",
        "\n",
        "df = pd.DataFrame(d)\n",
        "\n",
        "df"
      ],
      "execution_count": null,
      "outputs": [
        {
          "output_type": "execute_result",
          "data": {
            "text/plain": [
              "      Name  Age\n",
              "0   Виктор   18\n",
              "1    Мария   21\n",
              "2     Иван   19\n",
              "3     Иван   25\n",
              "4  Алексей   20"
            ],
            "text/html": [
              "\n",
              "  <div id=\"df-12f1845c-8b7c-4289-87f0-a0681b0fabda\">\n",
              "    <div class=\"colab-df-container\">\n",
              "      <div>\n",
              "<style scoped>\n",
              "    .dataframe tbody tr th:only-of-type {\n",
              "        vertical-align: middle;\n",
              "    }\n",
              "\n",
              "    .dataframe tbody tr th {\n",
              "        vertical-align: top;\n",
              "    }\n",
              "\n",
              "    .dataframe thead th {\n",
              "        text-align: right;\n",
              "    }\n",
              "</style>\n",
              "<table border=\"1\" class=\"dataframe\">\n",
              "  <thead>\n",
              "    <tr style=\"text-align: right;\">\n",
              "      <th></th>\n",
              "      <th>Name</th>\n",
              "      <th>Age</th>\n",
              "    </tr>\n",
              "  </thead>\n",
              "  <tbody>\n",
              "    <tr>\n",
              "      <th>0</th>\n",
              "      <td>Виктор</td>\n",
              "      <td>18</td>\n",
              "    </tr>\n",
              "    <tr>\n",
              "      <th>1</th>\n",
              "      <td>Мария</td>\n",
              "      <td>21</td>\n",
              "    </tr>\n",
              "    <tr>\n",
              "      <th>2</th>\n",
              "      <td>Иван</td>\n",
              "      <td>19</td>\n",
              "    </tr>\n",
              "    <tr>\n",
              "      <th>3</th>\n",
              "      <td>Иван</td>\n",
              "      <td>25</td>\n",
              "    </tr>\n",
              "    <tr>\n",
              "      <th>4</th>\n",
              "      <td>Алексей</td>\n",
              "      <td>20</td>\n",
              "    </tr>\n",
              "  </tbody>\n",
              "</table>\n",
              "</div>\n",
              "      <button class=\"colab-df-convert\" onclick=\"convertToInteractive('df-12f1845c-8b7c-4289-87f0-a0681b0fabda')\"\n",
              "              title=\"Convert this dataframe to an interactive table.\"\n",
              "              style=\"display:none;\">\n",
              "        \n",
              "  <svg xmlns=\"http://www.w3.org/2000/svg\" height=\"24px\"viewBox=\"0 0 24 24\"\n",
              "       width=\"24px\">\n",
              "    <path d=\"M0 0h24v24H0V0z\" fill=\"none\"/>\n",
              "    <path d=\"M18.56 5.44l.94 2.06.94-2.06 2.06-.94-2.06-.94-.94-2.06-.94 2.06-2.06.94zm-11 1L8.5 8.5l.94-2.06 2.06-.94-2.06-.94L8.5 2.5l-.94 2.06-2.06.94zm10 10l.94 2.06.94-2.06 2.06-.94-2.06-.94-.94-2.06-.94 2.06-2.06.94z\"/><path d=\"M17.41 7.96l-1.37-1.37c-.4-.4-.92-.59-1.43-.59-.52 0-1.04.2-1.43.59L10.3 9.45l-7.72 7.72c-.78.78-.78 2.05 0 2.83L4 21.41c.39.39.9.59 1.41.59.51 0 1.02-.2 1.41-.59l7.78-7.78 2.81-2.81c.8-.78.8-2.07 0-2.86zM5.41 20L4 18.59l7.72-7.72 1.47 1.35L5.41 20z\"/>\n",
              "  </svg>\n",
              "      </button>\n",
              "      \n",
              "  <style>\n",
              "    .colab-df-container {\n",
              "      display:flex;\n",
              "      flex-wrap:wrap;\n",
              "      gap: 12px;\n",
              "    }\n",
              "\n",
              "    .colab-df-convert {\n",
              "      background-color: #E8F0FE;\n",
              "      border: none;\n",
              "      border-radius: 50%;\n",
              "      cursor: pointer;\n",
              "      display: none;\n",
              "      fill: #1967D2;\n",
              "      height: 32px;\n",
              "      padding: 0 0 0 0;\n",
              "      width: 32px;\n",
              "    }\n",
              "\n",
              "    .colab-df-convert:hover {\n",
              "      background-color: #E2EBFA;\n",
              "      box-shadow: 0px 1px 2px rgba(60, 64, 67, 0.3), 0px 1px 3px 1px rgba(60, 64, 67, 0.15);\n",
              "      fill: #174EA6;\n",
              "    }\n",
              "\n",
              "    [theme=dark] .colab-df-convert {\n",
              "      background-color: #3B4455;\n",
              "      fill: #D2E3FC;\n",
              "    }\n",
              "\n",
              "    [theme=dark] .colab-df-convert:hover {\n",
              "      background-color: #434B5C;\n",
              "      box-shadow: 0px 1px 3px 1px rgba(0, 0, 0, 0.15);\n",
              "      filter: drop-shadow(0px 1px 2px rgba(0, 0, 0, 0.3));\n",
              "      fill: #FFFFFF;\n",
              "    }\n",
              "  </style>\n",
              "\n",
              "      <script>\n",
              "        const buttonEl =\n",
              "          document.querySelector('#df-12f1845c-8b7c-4289-87f0-a0681b0fabda button.colab-df-convert');\n",
              "        buttonEl.style.display =\n",
              "          google.colab.kernel.accessAllowed ? 'block' : 'none';\n",
              "\n",
              "        async function convertToInteractive(key) {\n",
              "          const element = document.querySelector('#df-12f1845c-8b7c-4289-87f0-a0681b0fabda');\n",
              "          const dataTable =\n",
              "            await google.colab.kernel.invokeFunction('convertToInteractive',\n",
              "                                                     [key], {});\n",
              "          if (!dataTable) return;\n",
              "\n",
              "          const docLinkHtml = 'Like what you see? Visit the ' +\n",
              "            '<a target=\"_blank\" href=https://colab.research.google.com/notebooks/data_table.ipynb>data table notebook</a>'\n",
              "            + ' to learn more about interactive tables.';\n",
              "          element.innerHTML = '';\n",
              "          dataTable['output_type'] = 'display_data';\n",
              "          await google.colab.output.renderOutput(dataTable, element);\n",
              "          const docLink = document.createElement('div');\n",
              "          docLink.innerHTML = docLinkHtml;\n",
              "          element.appendChild(docLink);\n",
              "        }\n",
              "      </script>\n",
              "    </div>\n",
              "  </div>\n",
              "  "
            ]
          },
          "metadata": {},
          "execution_count": 73
        }
      ]
    },
    {
      "cell_type": "code",
      "metadata": {
        "colab": {
          "base_uri": "https://localhost:8080/",
          "height": 206
        },
        "id": "OkzW64DG4XXq",
        "outputId": "6cde1b8c-bf0e-49ea-8264-3e9888465980"
      },
      "source": [
        "# Добавление нового столбца - значения которого переданы в виде списка\n",
        "df['University'] = ['NRNU MEPhI', 'MIPT', 'MITP', 'NRNU MEPhI', 'BMSTU']\n",
        "\n",
        "df"
      ],
      "execution_count": null,
      "outputs": [
        {
          "output_type": "execute_result",
          "data": {
            "text/plain": [
              "      Name  Age  University\n",
              "0   Виктор   18  NRNU MEPhI\n",
              "1    Мария   21        MIPT\n",
              "2     Иван   19        MITP\n",
              "3     Иван   25  NRNU MEPhI\n",
              "4  Алексей   20       BMSTU"
            ],
            "text/html": [
              "\n",
              "  <div id=\"df-fe37389b-57a2-40be-8898-e2b035d88a3f\">\n",
              "    <div class=\"colab-df-container\">\n",
              "      <div>\n",
              "<style scoped>\n",
              "    .dataframe tbody tr th:only-of-type {\n",
              "        vertical-align: middle;\n",
              "    }\n",
              "\n",
              "    .dataframe tbody tr th {\n",
              "        vertical-align: top;\n",
              "    }\n",
              "\n",
              "    .dataframe thead th {\n",
              "        text-align: right;\n",
              "    }\n",
              "</style>\n",
              "<table border=\"1\" class=\"dataframe\">\n",
              "  <thead>\n",
              "    <tr style=\"text-align: right;\">\n",
              "      <th></th>\n",
              "      <th>Name</th>\n",
              "      <th>Age</th>\n",
              "      <th>University</th>\n",
              "    </tr>\n",
              "  </thead>\n",
              "  <tbody>\n",
              "    <tr>\n",
              "      <th>0</th>\n",
              "      <td>Виктор</td>\n",
              "      <td>18</td>\n",
              "      <td>NRNU MEPhI</td>\n",
              "    </tr>\n",
              "    <tr>\n",
              "      <th>1</th>\n",
              "      <td>Мария</td>\n",
              "      <td>21</td>\n",
              "      <td>MIPT</td>\n",
              "    </tr>\n",
              "    <tr>\n",
              "      <th>2</th>\n",
              "      <td>Иван</td>\n",
              "      <td>19</td>\n",
              "      <td>MITP</td>\n",
              "    </tr>\n",
              "    <tr>\n",
              "      <th>3</th>\n",
              "      <td>Иван</td>\n",
              "      <td>25</td>\n",
              "      <td>NRNU MEPhI</td>\n",
              "    </tr>\n",
              "    <tr>\n",
              "      <th>4</th>\n",
              "      <td>Алексей</td>\n",
              "      <td>20</td>\n",
              "      <td>BMSTU</td>\n",
              "    </tr>\n",
              "  </tbody>\n",
              "</table>\n",
              "</div>\n",
              "      <button class=\"colab-df-convert\" onclick=\"convertToInteractive('df-fe37389b-57a2-40be-8898-e2b035d88a3f')\"\n",
              "              title=\"Convert this dataframe to an interactive table.\"\n",
              "              style=\"display:none;\">\n",
              "        \n",
              "  <svg xmlns=\"http://www.w3.org/2000/svg\" height=\"24px\"viewBox=\"0 0 24 24\"\n",
              "       width=\"24px\">\n",
              "    <path d=\"M0 0h24v24H0V0z\" fill=\"none\"/>\n",
              "    <path d=\"M18.56 5.44l.94 2.06.94-2.06 2.06-.94-2.06-.94-.94-2.06-.94 2.06-2.06.94zm-11 1L8.5 8.5l.94-2.06 2.06-.94-2.06-.94L8.5 2.5l-.94 2.06-2.06.94zm10 10l.94 2.06.94-2.06 2.06-.94-2.06-.94-.94-2.06-.94 2.06-2.06.94z\"/><path d=\"M17.41 7.96l-1.37-1.37c-.4-.4-.92-.59-1.43-.59-.52 0-1.04.2-1.43.59L10.3 9.45l-7.72 7.72c-.78.78-.78 2.05 0 2.83L4 21.41c.39.39.9.59 1.41.59.51 0 1.02-.2 1.41-.59l7.78-7.78 2.81-2.81c.8-.78.8-2.07 0-2.86zM5.41 20L4 18.59l7.72-7.72 1.47 1.35L5.41 20z\"/>\n",
              "  </svg>\n",
              "      </button>\n",
              "      \n",
              "  <style>\n",
              "    .colab-df-container {\n",
              "      display:flex;\n",
              "      flex-wrap:wrap;\n",
              "      gap: 12px;\n",
              "    }\n",
              "\n",
              "    .colab-df-convert {\n",
              "      background-color: #E8F0FE;\n",
              "      border: none;\n",
              "      border-radius: 50%;\n",
              "      cursor: pointer;\n",
              "      display: none;\n",
              "      fill: #1967D2;\n",
              "      height: 32px;\n",
              "      padding: 0 0 0 0;\n",
              "      width: 32px;\n",
              "    }\n",
              "\n",
              "    .colab-df-convert:hover {\n",
              "      background-color: #E2EBFA;\n",
              "      box-shadow: 0px 1px 2px rgba(60, 64, 67, 0.3), 0px 1px 3px 1px rgba(60, 64, 67, 0.15);\n",
              "      fill: #174EA6;\n",
              "    }\n",
              "\n",
              "    [theme=dark] .colab-df-convert {\n",
              "      background-color: #3B4455;\n",
              "      fill: #D2E3FC;\n",
              "    }\n",
              "\n",
              "    [theme=dark] .colab-df-convert:hover {\n",
              "      background-color: #434B5C;\n",
              "      box-shadow: 0px 1px 3px 1px rgba(0, 0, 0, 0.15);\n",
              "      filter: drop-shadow(0px 1px 2px rgba(0, 0, 0, 0.3));\n",
              "      fill: #FFFFFF;\n",
              "    }\n",
              "  </style>\n",
              "\n",
              "      <script>\n",
              "        const buttonEl =\n",
              "          document.querySelector('#df-fe37389b-57a2-40be-8898-e2b035d88a3f button.colab-df-convert');\n",
              "        buttonEl.style.display =\n",
              "          google.colab.kernel.accessAllowed ? 'block' : 'none';\n",
              "\n",
              "        async function convertToInteractive(key) {\n",
              "          const element = document.querySelector('#df-fe37389b-57a2-40be-8898-e2b035d88a3f');\n",
              "          const dataTable =\n",
              "            await google.colab.kernel.invokeFunction('convertToInteractive',\n",
              "                                                     [key], {});\n",
              "          if (!dataTable) return;\n",
              "\n",
              "          const docLinkHtml = 'Like what you see? Visit the ' +\n",
              "            '<a target=\"_blank\" href=https://colab.research.google.com/notebooks/data_table.ipynb>data table notebook</a>'\n",
              "            + ' to learn more about interactive tables.';\n",
              "          element.innerHTML = '';\n",
              "          dataTable['output_type'] = 'display_data';\n",
              "          await google.colab.output.renderOutput(dataTable, element);\n",
              "          const docLink = document.createElement('div');\n",
              "          docLink.innerHTML = docLinkHtml;\n",
              "          element.appendChild(docLink);\n",
              "        }\n",
              "      </script>\n",
              "    </div>\n",
              "  </div>\n",
              "  "
            ]
          },
          "metadata": {},
          "execution_count": 74
        }
      ]
    },
    {
      "cell_type": "code",
      "metadata": {
        "colab": {
          "base_uri": "https://localhost:8080/",
          "height": 206
        },
        "id": "71Z0mIt05lV_",
        "outputId": "59f35473-770e-4b6b-e259-9e53ebceabd7"
      },
      "source": [
        "# Добавление нового столбца - все значения будут одинаковы и равны 'bachelor'\n",
        "df['level'] = 'bachelor'\n",
        "df"
      ],
      "execution_count": null,
      "outputs": [
        {
          "output_type": "execute_result",
          "data": {
            "text/plain": [
              "      Name  Age  University     level\n",
              "0   Виктор   18  NRNU MEPhI  bachelor\n",
              "1    Мария   21        MIPT  bachelor\n",
              "2     Иван   19        MITP  bachelor\n",
              "3     Иван   25  NRNU MEPhI  bachelor\n",
              "4  Алексей   20       BMSTU  bachelor"
            ],
            "text/html": [
              "\n",
              "  <div id=\"df-d4d6df13-8686-425b-850d-98f15643cc75\">\n",
              "    <div class=\"colab-df-container\">\n",
              "      <div>\n",
              "<style scoped>\n",
              "    .dataframe tbody tr th:only-of-type {\n",
              "        vertical-align: middle;\n",
              "    }\n",
              "\n",
              "    .dataframe tbody tr th {\n",
              "        vertical-align: top;\n",
              "    }\n",
              "\n",
              "    .dataframe thead th {\n",
              "        text-align: right;\n",
              "    }\n",
              "</style>\n",
              "<table border=\"1\" class=\"dataframe\">\n",
              "  <thead>\n",
              "    <tr style=\"text-align: right;\">\n",
              "      <th></th>\n",
              "      <th>Name</th>\n",
              "      <th>Age</th>\n",
              "      <th>University</th>\n",
              "      <th>level</th>\n",
              "    </tr>\n",
              "  </thead>\n",
              "  <tbody>\n",
              "    <tr>\n",
              "      <th>0</th>\n",
              "      <td>Виктор</td>\n",
              "      <td>18</td>\n",
              "      <td>NRNU MEPhI</td>\n",
              "      <td>bachelor</td>\n",
              "    </tr>\n",
              "    <tr>\n",
              "      <th>1</th>\n",
              "      <td>Мария</td>\n",
              "      <td>21</td>\n",
              "      <td>MIPT</td>\n",
              "      <td>bachelor</td>\n",
              "    </tr>\n",
              "    <tr>\n",
              "      <th>2</th>\n",
              "      <td>Иван</td>\n",
              "      <td>19</td>\n",
              "      <td>MITP</td>\n",
              "      <td>bachelor</td>\n",
              "    </tr>\n",
              "    <tr>\n",
              "      <th>3</th>\n",
              "      <td>Иван</td>\n",
              "      <td>25</td>\n",
              "      <td>NRNU MEPhI</td>\n",
              "      <td>bachelor</td>\n",
              "    </tr>\n",
              "    <tr>\n",
              "      <th>4</th>\n",
              "      <td>Алексей</td>\n",
              "      <td>20</td>\n",
              "      <td>BMSTU</td>\n",
              "      <td>bachelor</td>\n",
              "    </tr>\n",
              "  </tbody>\n",
              "</table>\n",
              "</div>\n",
              "      <button class=\"colab-df-convert\" onclick=\"convertToInteractive('df-d4d6df13-8686-425b-850d-98f15643cc75')\"\n",
              "              title=\"Convert this dataframe to an interactive table.\"\n",
              "              style=\"display:none;\">\n",
              "        \n",
              "  <svg xmlns=\"http://www.w3.org/2000/svg\" height=\"24px\"viewBox=\"0 0 24 24\"\n",
              "       width=\"24px\">\n",
              "    <path d=\"M0 0h24v24H0V0z\" fill=\"none\"/>\n",
              "    <path d=\"M18.56 5.44l.94 2.06.94-2.06 2.06-.94-2.06-.94-.94-2.06-.94 2.06-2.06.94zm-11 1L8.5 8.5l.94-2.06 2.06-.94-2.06-.94L8.5 2.5l-.94 2.06-2.06.94zm10 10l.94 2.06.94-2.06 2.06-.94-2.06-.94-.94-2.06-.94 2.06-2.06.94z\"/><path d=\"M17.41 7.96l-1.37-1.37c-.4-.4-.92-.59-1.43-.59-.52 0-1.04.2-1.43.59L10.3 9.45l-7.72 7.72c-.78.78-.78 2.05 0 2.83L4 21.41c.39.39.9.59 1.41.59.51 0 1.02-.2 1.41-.59l7.78-7.78 2.81-2.81c.8-.78.8-2.07 0-2.86zM5.41 20L4 18.59l7.72-7.72 1.47 1.35L5.41 20z\"/>\n",
              "  </svg>\n",
              "      </button>\n",
              "      \n",
              "  <style>\n",
              "    .colab-df-container {\n",
              "      display:flex;\n",
              "      flex-wrap:wrap;\n",
              "      gap: 12px;\n",
              "    }\n",
              "\n",
              "    .colab-df-convert {\n",
              "      background-color: #E8F0FE;\n",
              "      border: none;\n",
              "      border-radius: 50%;\n",
              "      cursor: pointer;\n",
              "      display: none;\n",
              "      fill: #1967D2;\n",
              "      height: 32px;\n",
              "      padding: 0 0 0 0;\n",
              "      width: 32px;\n",
              "    }\n",
              "\n",
              "    .colab-df-convert:hover {\n",
              "      background-color: #E2EBFA;\n",
              "      box-shadow: 0px 1px 2px rgba(60, 64, 67, 0.3), 0px 1px 3px 1px rgba(60, 64, 67, 0.15);\n",
              "      fill: #174EA6;\n",
              "    }\n",
              "\n",
              "    [theme=dark] .colab-df-convert {\n",
              "      background-color: #3B4455;\n",
              "      fill: #D2E3FC;\n",
              "    }\n",
              "\n",
              "    [theme=dark] .colab-df-convert:hover {\n",
              "      background-color: #434B5C;\n",
              "      box-shadow: 0px 1px 3px 1px rgba(0, 0, 0, 0.15);\n",
              "      filter: drop-shadow(0px 1px 2px rgba(0, 0, 0, 0.3));\n",
              "      fill: #FFFFFF;\n",
              "    }\n",
              "  </style>\n",
              "\n",
              "      <script>\n",
              "        const buttonEl =\n",
              "          document.querySelector('#df-d4d6df13-8686-425b-850d-98f15643cc75 button.colab-df-convert');\n",
              "        buttonEl.style.display =\n",
              "          google.colab.kernel.accessAllowed ? 'block' : 'none';\n",
              "\n",
              "        async function convertToInteractive(key) {\n",
              "          const element = document.querySelector('#df-d4d6df13-8686-425b-850d-98f15643cc75');\n",
              "          const dataTable =\n",
              "            await google.colab.kernel.invokeFunction('convertToInteractive',\n",
              "                                                     [key], {});\n",
              "          if (!dataTable) return;\n",
              "\n",
              "          const docLinkHtml = 'Like what you see? Visit the ' +\n",
              "            '<a target=\"_blank\" href=https://colab.research.google.com/notebooks/data_table.ipynb>data table notebook</a>'\n",
              "            + ' to learn more about interactive tables.';\n",
              "          element.innerHTML = '';\n",
              "          dataTable['output_type'] = 'display_data';\n",
              "          await google.colab.output.renderOutput(dataTable, element);\n",
              "          const docLink = document.createElement('div');\n",
              "          docLink.innerHTML = docLinkHtml;\n",
              "          element.appendChild(docLink);\n",
              "        }\n",
              "      </script>\n",
              "    </div>\n",
              "  </div>\n",
              "  "
            ]
          },
          "metadata": {},
          "execution_count": 75
        }
      ]
    },
    {
      "cell_type": "markdown",
      "metadata": {
        "id": "1E3c6sz46Vpn"
      },
      "source": [
        "Также существует метод позволяющий объединять объекты Series и DataFrame.\n",
        "\n",
        "`pandas.concat( objs , axis = 0 , join = 'outer' , ignore_index = False , keys = None , levels = None , names = None , verify_integrity = False , sort = False , copy = True )`\n",
        "\n",
        "- objs последовательность или сопоставление объектов Series или DataFrame\n",
        "- ось {0 / 'index', 1 / 'columns'}, по умолчанию 0. Ось для объединения (объединение по столбцам или по строкам).\n"
      ]
    },
    {
      "cell_type": "code",
      "metadata": {
        "colab": {
          "base_uri": "https://localhost:8080/"
        },
        "id": "c2mbuPiK7FQI",
        "outputId": "e648dee4-0857-4cc2-f1e7-0346ceea28b8"
      },
      "source": [
        "# Объединение двух Series\n",
        "# так как параметр ignore_index по умолчанию False\n",
        "# то сохраняется старая нумерация в Series\n",
        "s1 = pd.Series(['a', 'b'])\n",
        "s2 = pd.Series(['c', 'd'])\n",
        "pd.concat([s1, s2])"
      ],
      "execution_count": null,
      "outputs": [
        {
          "output_type": "execute_result",
          "data": {
            "text/plain": [
              "0    a\n",
              "1    b\n",
              "0    c\n",
              "1    d\n",
              "dtype: object"
            ]
          },
          "metadata": {},
          "execution_count": 76
        }
      ]
    },
    {
      "cell_type": "code",
      "metadata": {
        "colab": {
          "base_uri": "https://localhost:8080/"
        },
        "id": "8G-tofzE7cGF",
        "outputId": "24e6c103-96dd-4065-eb0b-1d3098f90719"
      },
      "source": [
        "# Объединение двух Series\n",
        "# очистить существующий индекс и сбросить его в результате\n",
        "# можно задав ignore_index=True\n",
        "s1 = pd.Series(['a', 'b'])\n",
        "s2 = pd.Series(['c', 'd'])\n",
        "pd.concat([s1, s2], ignore_index=True)"
      ],
      "execution_count": null,
      "outputs": [
        {
          "output_type": "execute_result",
          "data": {
            "text/plain": [
              "0    a\n",
              "1    b\n",
              "2    c\n",
              "3    d\n",
              "dtype: object"
            ]
          },
          "metadata": {},
          "execution_count": 77
        }
      ]
    },
    {
      "cell_type": "code",
      "metadata": {
        "colab": {
          "base_uri": "https://localhost:8080/",
          "height": 112
        },
        "id": "hCwKeyS2-0EO",
        "outputId": "eaf4f3fb-110f-4a3d-fe34-23c03c6c3b36"
      },
      "source": [
        "# Объединений двух DataFrame\n",
        "df1 = pd.DataFrame([['Петр', 19], ['Иван', 22]], columns=['Name', 'Age'])\n",
        "df1"
      ],
      "execution_count": null,
      "outputs": [
        {
          "output_type": "execute_result",
          "data": {
            "text/plain": [
              "   Name  Age\n",
              "0  Петр   19\n",
              "1  Иван   22"
            ],
            "text/html": [
              "\n",
              "  <div id=\"df-a90df753-3e27-4f1c-8214-0b0c88e0f97e\">\n",
              "    <div class=\"colab-df-container\">\n",
              "      <div>\n",
              "<style scoped>\n",
              "    .dataframe tbody tr th:only-of-type {\n",
              "        vertical-align: middle;\n",
              "    }\n",
              "\n",
              "    .dataframe tbody tr th {\n",
              "        vertical-align: top;\n",
              "    }\n",
              "\n",
              "    .dataframe thead th {\n",
              "        text-align: right;\n",
              "    }\n",
              "</style>\n",
              "<table border=\"1\" class=\"dataframe\">\n",
              "  <thead>\n",
              "    <tr style=\"text-align: right;\">\n",
              "      <th></th>\n",
              "      <th>Name</th>\n",
              "      <th>Age</th>\n",
              "    </tr>\n",
              "  </thead>\n",
              "  <tbody>\n",
              "    <tr>\n",
              "      <th>0</th>\n",
              "      <td>Петр</td>\n",
              "      <td>19</td>\n",
              "    </tr>\n",
              "    <tr>\n",
              "      <th>1</th>\n",
              "      <td>Иван</td>\n",
              "      <td>22</td>\n",
              "    </tr>\n",
              "  </tbody>\n",
              "</table>\n",
              "</div>\n",
              "      <button class=\"colab-df-convert\" onclick=\"convertToInteractive('df-a90df753-3e27-4f1c-8214-0b0c88e0f97e')\"\n",
              "              title=\"Convert this dataframe to an interactive table.\"\n",
              "              style=\"display:none;\">\n",
              "        \n",
              "  <svg xmlns=\"http://www.w3.org/2000/svg\" height=\"24px\"viewBox=\"0 0 24 24\"\n",
              "       width=\"24px\">\n",
              "    <path d=\"M0 0h24v24H0V0z\" fill=\"none\"/>\n",
              "    <path d=\"M18.56 5.44l.94 2.06.94-2.06 2.06-.94-2.06-.94-.94-2.06-.94 2.06-2.06.94zm-11 1L8.5 8.5l.94-2.06 2.06-.94-2.06-.94L8.5 2.5l-.94 2.06-2.06.94zm10 10l.94 2.06.94-2.06 2.06-.94-2.06-.94-.94-2.06-.94 2.06-2.06.94z\"/><path d=\"M17.41 7.96l-1.37-1.37c-.4-.4-.92-.59-1.43-.59-.52 0-1.04.2-1.43.59L10.3 9.45l-7.72 7.72c-.78.78-.78 2.05 0 2.83L4 21.41c.39.39.9.59 1.41.59.51 0 1.02-.2 1.41-.59l7.78-7.78 2.81-2.81c.8-.78.8-2.07 0-2.86zM5.41 20L4 18.59l7.72-7.72 1.47 1.35L5.41 20z\"/>\n",
              "  </svg>\n",
              "      </button>\n",
              "      \n",
              "  <style>\n",
              "    .colab-df-container {\n",
              "      display:flex;\n",
              "      flex-wrap:wrap;\n",
              "      gap: 12px;\n",
              "    }\n",
              "\n",
              "    .colab-df-convert {\n",
              "      background-color: #E8F0FE;\n",
              "      border: none;\n",
              "      border-radius: 50%;\n",
              "      cursor: pointer;\n",
              "      display: none;\n",
              "      fill: #1967D2;\n",
              "      height: 32px;\n",
              "      padding: 0 0 0 0;\n",
              "      width: 32px;\n",
              "    }\n",
              "\n",
              "    .colab-df-convert:hover {\n",
              "      background-color: #E2EBFA;\n",
              "      box-shadow: 0px 1px 2px rgba(60, 64, 67, 0.3), 0px 1px 3px 1px rgba(60, 64, 67, 0.15);\n",
              "      fill: #174EA6;\n",
              "    }\n",
              "\n",
              "    [theme=dark] .colab-df-convert {\n",
              "      background-color: #3B4455;\n",
              "      fill: #D2E3FC;\n",
              "    }\n",
              "\n",
              "    [theme=dark] .colab-df-convert:hover {\n",
              "      background-color: #434B5C;\n",
              "      box-shadow: 0px 1px 3px 1px rgba(0, 0, 0, 0.15);\n",
              "      filter: drop-shadow(0px 1px 2px rgba(0, 0, 0, 0.3));\n",
              "      fill: #FFFFFF;\n",
              "    }\n",
              "  </style>\n",
              "\n",
              "      <script>\n",
              "        const buttonEl =\n",
              "          document.querySelector('#df-a90df753-3e27-4f1c-8214-0b0c88e0f97e button.colab-df-convert');\n",
              "        buttonEl.style.display =\n",
              "          google.colab.kernel.accessAllowed ? 'block' : 'none';\n",
              "\n",
              "        async function convertToInteractive(key) {\n",
              "          const element = document.querySelector('#df-a90df753-3e27-4f1c-8214-0b0c88e0f97e');\n",
              "          const dataTable =\n",
              "            await google.colab.kernel.invokeFunction('convertToInteractive',\n",
              "                                                     [key], {});\n",
              "          if (!dataTable) return;\n",
              "\n",
              "          const docLinkHtml = 'Like what you see? Visit the ' +\n",
              "            '<a target=\"_blank\" href=https://colab.research.google.com/notebooks/data_table.ipynb>data table notebook</a>'\n",
              "            + ' to learn more about interactive tables.';\n",
              "          element.innerHTML = '';\n",
              "          dataTable['output_type'] = 'display_data';\n",
              "          await google.colab.output.renderOutput(dataTable, element);\n",
              "          const docLink = document.createElement('div');\n",
              "          docLink.innerHTML = docLinkHtml;\n",
              "          element.appendChild(docLink);\n",
              "        }\n",
              "      </script>\n",
              "    </div>\n",
              "  </div>\n",
              "  "
            ]
          },
          "metadata": {},
          "execution_count": 78
        }
      ]
    },
    {
      "cell_type": "code",
      "metadata": {
        "colab": {
          "base_uri": "https://localhost:8080/",
          "height": 112
        },
        "id": "DGfjaKTv_LAH",
        "outputId": "efb4786f-bab0-40db-d6a9-dc694bdaf942"
      },
      "source": [
        "df2 = pd.DataFrame([['Мария', 20], ['Анастасия', 18]], columns=['Name', 'Age'])\n",
        "df2"
      ],
      "execution_count": null,
      "outputs": [
        {
          "output_type": "execute_result",
          "data": {
            "text/plain": [
              "        Name  Age\n",
              "0      Мария   20\n",
              "1  Анастасия   18"
            ],
            "text/html": [
              "\n",
              "  <div id=\"df-32454f15-fbd5-45a2-8be1-6741a596c28e\">\n",
              "    <div class=\"colab-df-container\">\n",
              "      <div>\n",
              "<style scoped>\n",
              "    .dataframe tbody tr th:only-of-type {\n",
              "        vertical-align: middle;\n",
              "    }\n",
              "\n",
              "    .dataframe tbody tr th {\n",
              "        vertical-align: top;\n",
              "    }\n",
              "\n",
              "    .dataframe thead th {\n",
              "        text-align: right;\n",
              "    }\n",
              "</style>\n",
              "<table border=\"1\" class=\"dataframe\">\n",
              "  <thead>\n",
              "    <tr style=\"text-align: right;\">\n",
              "      <th></th>\n",
              "      <th>Name</th>\n",
              "      <th>Age</th>\n",
              "    </tr>\n",
              "  </thead>\n",
              "  <tbody>\n",
              "    <tr>\n",
              "      <th>0</th>\n",
              "      <td>Мария</td>\n",
              "      <td>20</td>\n",
              "    </tr>\n",
              "    <tr>\n",
              "      <th>1</th>\n",
              "      <td>Анастасия</td>\n",
              "      <td>18</td>\n",
              "    </tr>\n",
              "  </tbody>\n",
              "</table>\n",
              "</div>\n",
              "      <button class=\"colab-df-convert\" onclick=\"convertToInteractive('df-32454f15-fbd5-45a2-8be1-6741a596c28e')\"\n",
              "              title=\"Convert this dataframe to an interactive table.\"\n",
              "              style=\"display:none;\">\n",
              "        \n",
              "  <svg xmlns=\"http://www.w3.org/2000/svg\" height=\"24px\"viewBox=\"0 0 24 24\"\n",
              "       width=\"24px\">\n",
              "    <path d=\"M0 0h24v24H0V0z\" fill=\"none\"/>\n",
              "    <path d=\"M18.56 5.44l.94 2.06.94-2.06 2.06-.94-2.06-.94-.94-2.06-.94 2.06-2.06.94zm-11 1L8.5 8.5l.94-2.06 2.06-.94-2.06-.94L8.5 2.5l-.94 2.06-2.06.94zm10 10l.94 2.06.94-2.06 2.06-.94-2.06-.94-.94-2.06-.94 2.06-2.06.94z\"/><path d=\"M17.41 7.96l-1.37-1.37c-.4-.4-.92-.59-1.43-.59-.52 0-1.04.2-1.43.59L10.3 9.45l-7.72 7.72c-.78.78-.78 2.05 0 2.83L4 21.41c.39.39.9.59 1.41.59.51 0 1.02-.2 1.41-.59l7.78-7.78 2.81-2.81c.8-.78.8-2.07 0-2.86zM5.41 20L4 18.59l7.72-7.72 1.47 1.35L5.41 20z\"/>\n",
              "  </svg>\n",
              "      </button>\n",
              "      \n",
              "  <style>\n",
              "    .colab-df-container {\n",
              "      display:flex;\n",
              "      flex-wrap:wrap;\n",
              "      gap: 12px;\n",
              "    }\n",
              "\n",
              "    .colab-df-convert {\n",
              "      background-color: #E8F0FE;\n",
              "      border: none;\n",
              "      border-radius: 50%;\n",
              "      cursor: pointer;\n",
              "      display: none;\n",
              "      fill: #1967D2;\n",
              "      height: 32px;\n",
              "      padding: 0 0 0 0;\n",
              "      width: 32px;\n",
              "    }\n",
              "\n",
              "    .colab-df-convert:hover {\n",
              "      background-color: #E2EBFA;\n",
              "      box-shadow: 0px 1px 2px rgba(60, 64, 67, 0.3), 0px 1px 3px 1px rgba(60, 64, 67, 0.15);\n",
              "      fill: #174EA6;\n",
              "    }\n",
              "\n",
              "    [theme=dark] .colab-df-convert {\n",
              "      background-color: #3B4455;\n",
              "      fill: #D2E3FC;\n",
              "    }\n",
              "\n",
              "    [theme=dark] .colab-df-convert:hover {\n",
              "      background-color: #434B5C;\n",
              "      box-shadow: 0px 1px 3px 1px rgba(0, 0, 0, 0.15);\n",
              "      filter: drop-shadow(0px 1px 2px rgba(0, 0, 0, 0.3));\n",
              "      fill: #FFFFFF;\n",
              "    }\n",
              "  </style>\n",
              "\n",
              "      <script>\n",
              "        const buttonEl =\n",
              "          document.querySelector('#df-32454f15-fbd5-45a2-8be1-6741a596c28e button.colab-df-convert');\n",
              "        buttonEl.style.display =\n",
              "          google.colab.kernel.accessAllowed ? 'block' : 'none';\n",
              "\n",
              "        async function convertToInteractive(key) {\n",
              "          const element = document.querySelector('#df-32454f15-fbd5-45a2-8be1-6741a596c28e');\n",
              "          const dataTable =\n",
              "            await google.colab.kernel.invokeFunction('convertToInteractive',\n",
              "                                                     [key], {});\n",
              "          if (!dataTable) return;\n",
              "\n",
              "          const docLinkHtml = 'Like what you see? Visit the ' +\n",
              "            '<a target=\"_blank\" href=https://colab.research.google.com/notebooks/data_table.ipynb>data table notebook</a>'\n",
              "            + ' to learn more about interactive tables.';\n",
              "          element.innerHTML = '';\n",
              "          dataTable['output_type'] = 'display_data';\n",
              "          await google.colab.output.renderOutput(dataTable, element);\n",
              "          const docLink = document.createElement('div');\n",
              "          docLink.innerHTML = docLinkHtml;\n",
              "          element.appendChild(docLink);\n",
              "        }\n",
              "      </script>\n",
              "    </div>\n",
              "  </div>\n",
              "  "
            ]
          },
          "metadata": {},
          "execution_count": 79
        }
      ]
    },
    {
      "cell_type": "code",
      "metadata": {
        "colab": {
          "base_uri": "https://localhost:8080/",
          "height": 175
        },
        "id": "OSi_Krnt_Rp8",
        "outputId": "7e0099cc-3d95-48fe-f88e-a1650551b4dd"
      },
      "source": [
        "#  объединение по строкам\n",
        "pd.concat([df1, df2])"
      ],
      "execution_count": null,
      "outputs": [
        {
          "output_type": "execute_result",
          "data": {
            "text/plain": [
              "        Name  Age\n",
              "0       Петр   19\n",
              "1       Иван   22\n",
              "0      Мария   20\n",
              "1  Анастасия   18"
            ],
            "text/html": [
              "\n",
              "  <div id=\"df-05f8843f-9896-463d-9c52-51d803aca393\">\n",
              "    <div class=\"colab-df-container\">\n",
              "      <div>\n",
              "<style scoped>\n",
              "    .dataframe tbody tr th:only-of-type {\n",
              "        vertical-align: middle;\n",
              "    }\n",
              "\n",
              "    .dataframe tbody tr th {\n",
              "        vertical-align: top;\n",
              "    }\n",
              "\n",
              "    .dataframe thead th {\n",
              "        text-align: right;\n",
              "    }\n",
              "</style>\n",
              "<table border=\"1\" class=\"dataframe\">\n",
              "  <thead>\n",
              "    <tr style=\"text-align: right;\">\n",
              "      <th></th>\n",
              "      <th>Name</th>\n",
              "      <th>Age</th>\n",
              "    </tr>\n",
              "  </thead>\n",
              "  <tbody>\n",
              "    <tr>\n",
              "      <th>0</th>\n",
              "      <td>Петр</td>\n",
              "      <td>19</td>\n",
              "    </tr>\n",
              "    <tr>\n",
              "      <th>1</th>\n",
              "      <td>Иван</td>\n",
              "      <td>22</td>\n",
              "    </tr>\n",
              "    <tr>\n",
              "      <th>0</th>\n",
              "      <td>Мария</td>\n",
              "      <td>20</td>\n",
              "    </tr>\n",
              "    <tr>\n",
              "      <th>1</th>\n",
              "      <td>Анастасия</td>\n",
              "      <td>18</td>\n",
              "    </tr>\n",
              "  </tbody>\n",
              "</table>\n",
              "</div>\n",
              "      <button class=\"colab-df-convert\" onclick=\"convertToInteractive('df-05f8843f-9896-463d-9c52-51d803aca393')\"\n",
              "              title=\"Convert this dataframe to an interactive table.\"\n",
              "              style=\"display:none;\">\n",
              "        \n",
              "  <svg xmlns=\"http://www.w3.org/2000/svg\" height=\"24px\"viewBox=\"0 0 24 24\"\n",
              "       width=\"24px\">\n",
              "    <path d=\"M0 0h24v24H0V0z\" fill=\"none\"/>\n",
              "    <path d=\"M18.56 5.44l.94 2.06.94-2.06 2.06-.94-2.06-.94-.94-2.06-.94 2.06-2.06.94zm-11 1L8.5 8.5l.94-2.06 2.06-.94-2.06-.94L8.5 2.5l-.94 2.06-2.06.94zm10 10l.94 2.06.94-2.06 2.06-.94-2.06-.94-.94-2.06-.94 2.06-2.06.94z\"/><path d=\"M17.41 7.96l-1.37-1.37c-.4-.4-.92-.59-1.43-.59-.52 0-1.04.2-1.43.59L10.3 9.45l-7.72 7.72c-.78.78-.78 2.05 0 2.83L4 21.41c.39.39.9.59 1.41.59.51 0 1.02-.2 1.41-.59l7.78-7.78 2.81-2.81c.8-.78.8-2.07 0-2.86zM5.41 20L4 18.59l7.72-7.72 1.47 1.35L5.41 20z\"/>\n",
              "  </svg>\n",
              "      </button>\n",
              "      \n",
              "  <style>\n",
              "    .colab-df-container {\n",
              "      display:flex;\n",
              "      flex-wrap:wrap;\n",
              "      gap: 12px;\n",
              "    }\n",
              "\n",
              "    .colab-df-convert {\n",
              "      background-color: #E8F0FE;\n",
              "      border: none;\n",
              "      border-radius: 50%;\n",
              "      cursor: pointer;\n",
              "      display: none;\n",
              "      fill: #1967D2;\n",
              "      height: 32px;\n",
              "      padding: 0 0 0 0;\n",
              "      width: 32px;\n",
              "    }\n",
              "\n",
              "    .colab-df-convert:hover {\n",
              "      background-color: #E2EBFA;\n",
              "      box-shadow: 0px 1px 2px rgba(60, 64, 67, 0.3), 0px 1px 3px 1px rgba(60, 64, 67, 0.15);\n",
              "      fill: #174EA6;\n",
              "    }\n",
              "\n",
              "    [theme=dark] .colab-df-convert {\n",
              "      background-color: #3B4455;\n",
              "      fill: #D2E3FC;\n",
              "    }\n",
              "\n",
              "    [theme=dark] .colab-df-convert:hover {\n",
              "      background-color: #434B5C;\n",
              "      box-shadow: 0px 1px 3px 1px rgba(0, 0, 0, 0.15);\n",
              "      filter: drop-shadow(0px 1px 2px rgba(0, 0, 0, 0.3));\n",
              "      fill: #FFFFFF;\n",
              "    }\n",
              "  </style>\n",
              "\n",
              "      <script>\n",
              "        const buttonEl =\n",
              "          document.querySelector('#df-05f8843f-9896-463d-9c52-51d803aca393 button.colab-df-convert');\n",
              "        buttonEl.style.display =\n",
              "          google.colab.kernel.accessAllowed ? 'block' : 'none';\n",
              "\n",
              "        async function convertToInteractive(key) {\n",
              "          const element = document.querySelector('#df-05f8843f-9896-463d-9c52-51d803aca393');\n",
              "          const dataTable =\n",
              "            await google.colab.kernel.invokeFunction('convertToInteractive',\n",
              "                                                     [key], {});\n",
              "          if (!dataTable) return;\n",
              "\n",
              "          const docLinkHtml = 'Like what you see? Visit the ' +\n",
              "            '<a target=\"_blank\" href=https://colab.research.google.com/notebooks/data_table.ipynb>data table notebook</a>'\n",
              "            + ' to learn more about interactive tables.';\n",
              "          element.innerHTML = '';\n",
              "          dataTable['output_type'] = 'display_data';\n",
              "          await google.colab.output.renderOutput(dataTable, element);\n",
              "          const docLink = document.createElement('div');\n",
              "          docLink.innerHTML = docLinkHtml;\n",
              "          element.appendChild(docLink);\n",
              "        }\n",
              "      </script>\n",
              "    </div>\n",
              "  </div>\n",
              "  "
            ]
          },
          "metadata": {},
          "execution_count": 80
        }
      ]
    },
    {
      "cell_type": "code",
      "metadata": {
        "colab": {
          "base_uri": "https://localhost:8080/",
          "height": 112
        },
        "id": "Mo4Ym1mA_ckJ",
        "outputId": "b35c0b3f-53b1-48cc-b5ae-a1627bc23598"
      },
      "source": [
        "# объединение по столбцам\n",
        "pd.concat([df1, df2], axis=1)"
      ],
      "execution_count": null,
      "outputs": [
        {
          "output_type": "execute_result",
          "data": {
            "text/plain": [
              "   Name  Age       Name  Age\n",
              "0  Петр   19      Мария   20\n",
              "1  Иван   22  Анастасия   18"
            ],
            "text/html": [
              "\n",
              "  <div id=\"df-82d481a7-8716-4b57-929c-6ac14bdbe25b\">\n",
              "    <div class=\"colab-df-container\">\n",
              "      <div>\n",
              "<style scoped>\n",
              "    .dataframe tbody tr th:only-of-type {\n",
              "        vertical-align: middle;\n",
              "    }\n",
              "\n",
              "    .dataframe tbody tr th {\n",
              "        vertical-align: top;\n",
              "    }\n",
              "\n",
              "    .dataframe thead th {\n",
              "        text-align: right;\n",
              "    }\n",
              "</style>\n",
              "<table border=\"1\" class=\"dataframe\">\n",
              "  <thead>\n",
              "    <tr style=\"text-align: right;\">\n",
              "      <th></th>\n",
              "      <th>Name</th>\n",
              "      <th>Age</th>\n",
              "      <th>Name</th>\n",
              "      <th>Age</th>\n",
              "    </tr>\n",
              "  </thead>\n",
              "  <tbody>\n",
              "    <tr>\n",
              "      <th>0</th>\n",
              "      <td>Петр</td>\n",
              "      <td>19</td>\n",
              "      <td>Мария</td>\n",
              "      <td>20</td>\n",
              "    </tr>\n",
              "    <tr>\n",
              "      <th>1</th>\n",
              "      <td>Иван</td>\n",
              "      <td>22</td>\n",
              "      <td>Анастасия</td>\n",
              "      <td>18</td>\n",
              "    </tr>\n",
              "  </tbody>\n",
              "</table>\n",
              "</div>\n",
              "      <button class=\"colab-df-convert\" onclick=\"convertToInteractive('df-82d481a7-8716-4b57-929c-6ac14bdbe25b')\"\n",
              "              title=\"Convert this dataframe to an interactive table.\"\n",
              "              style=\"display:none;\">\n",
              "        \n",
              "  <svg xmlns=\"http://www.w3.org/2000/svg\" height=\"24px\"viewBox=\"0 0 24 24\"\n",
              "       width=\"24px\">\n",
              "    <path d=\"M0 0h24v24H0V0z\" fill=\"none\"/>\n",
              "    <path d=\"M18.56 5.44l.94 2.06.94-2.06 2.06-.94-2.06-.94-.94-2.06-.94 2.06-2.06.94zm-11 1L8.5 8.5l.94-2.06 2.06-.94-2.06-.94L8.5 2.5l-.94 2.06-2.06.94zm10 10l.94 2.06.94-2.06 2.06-.94-2.06-.94-.94-2.06-.94 2.06-2.06.94z\"/><path d=\"M17.41 7.96l-1.37-1.37c-.4-.4-.92-.59-1.43-.59-.52 0-1.04.2-1.43.59L10.3 9.45l-7.72 7.72c-.78.78-.78 2.05 0 2.83L4 21.41c.39.39.9.59 1.41.59.51 0 1.02-.2 1.41-.59l7.78-7.78 2.81-2.81c.8-.78.8-2.07 0-2.86zM5.41 20L4 18.59l7.72-7.72 1.47 1.35L5.41 20z\"/>\n",
              "  </svg>\n",
              "      </button>\n",
              "      \n",
              "  <style>\n",
              "    .colab-df-container {\n",
              "      display:flex;\n",
              "      flex-wrap:wrap;\n",
              "      gap: 12px;\n",
              "    }\n",
              "\n",
              "    .colab-df-convert {\n",
              "      background-color: #E8F0FE;\n",
              "      border: none;\n",
              "      border-radius: 50%;\n",
              "      cursor: pointer;\n",
              "      display: none;\n",
              "      fill: #1967D2;\n",
              "      height: 32px;\n",
              "      padding: 0 0 0 0;\n",
              "      width: 32px;\n",
              "    }\n",
              "\n",
              "    .colab-df-convert:hover {\n",
              "      background-color: #E2EBFA;\n",
              "      box-shadow: 0px 1px 2px rgba(60, 64, 67, 0.3), 0px 1px 3px 1px rgba(60, 64, 67, 0.15);\n",
              "      fill: #174EA6;\n",
              "    }\n",
              "\n",
              "    [theme=dark] .colab-df-convert {\n",
              "      background-color: #3B4455;\n",
              "      fill: #D2E3FC;\n",
              "    }\n",
              "\n",
              "    [theme=dark] .colab-df-convert:hover {\n",
              "      background-color: #434B5C;\n",
              "      box-shadow: 0px 1px 3px 1px rgba(0, 0, 0, 0.15);\n",
              "      filter: drop-shadow(0px 1px 2px rgba(0, 0, 0, 0.3));\n",
              "      fill: #FFFFFF;\n",
              "    }\n",
              "  </style>\n",
              "\n",
              "      <script>\n",
              "        const buttonEl =\n",
              "          document.querySelector('#df-82d481a7-8716-4b57-929c-6ac14bdbe25b button.colab-df-convert');\n",
              "        buttonEl.style.display =\n",
              "          google.colab.kernel.accessAllowed ? 'block' : 'none';\n",
              "\n",
              "        async function convertToInteractive(key) {\n",
              "          const element = document.querySelector('#df-82d481a7-8716-4b57-929c-6ac14bdbe25b');\n",
              "          const dataTable =\n",
              "            await google.colab.kernel.invokeFunction('convertToInteractive',\n",
              "                                                     [key], {});\n",
              "          if (!dataTable) return;\n",
              "\n",
              "          const docLinkHtml = 'Like what you see? Visit the ' +\n",
              "            '<a target=\"_blank\" href=https://colab.research.google.com/notebooks/data_table.ipynb>data table notebook</a>'\n",
              "            + ' to learn more about interactive tables.';\n",
              "          element.innerHTML = '';\n",
              "          dataTable['output_type'] = 'display_data';\n",
              "          await google.colab.output.renderOutput(dataTable, element);\n",
              "          const docLink = document.createElement('div');\n",
              "          docLink.innerHTML = docLinkHtml;\n",
              "          element.appendChild(docLink);\n",
              "        }\n",
              "      </script>\n",
              "    </div>\n",
              "  </div>\n",
              "  "
            ]
          },
          "metadata": {},
          "execution_count": 81
        }
      ]
    },
    {
      "cell_type": "code",
      "source": [
        "pd.concat([df1, df2], ignore_index=True)"
      ],
      "metadata": {
        "colab": {
          "base_uri": "https://localhost:8080/",
          "height": 175
        },
        "id": "3YbQ03fmm2qq",
        "outputId": "604af8b8-d534-4465-ca58-cd320fa9cd95"
      },
      "execution_count": null,
      "outputs": [
        {
          "output_type": "execute_result",
          "data": {
            "text/plain": [
              "        Name  Age\n",
              "0       Петр   19\n",
              "1       Иван   22\n",
              "2      Мария   20\n",
              "3  Анастасия   18"
            ],
            "text/html": [
              "\n",
              "  <div id=\"df-590a21fb-2038-454e-a504-79797cd91125\">\n",
              "    <div class=\"colab-df-container\">\n",
              "      <div>\n",
              "<style scoped>\n",
              "    .dataframe tbody tr th:only-of-type {\n",
              "        vertical-align: middle;\n",
              "    }\n",
              "\n",
              "    .dataframe tbody tr th {\n",
              "        vertical-align: top;\n",
              "    }\n",
              "\n",
              "    .dataframe thead th {\n",
              "        text-align: right;\n",
              "    }\n",
              "</style>\n",
              "<table border=\"1\" class=\"dataframe\">\n",
              "  <thead>\n",
              "    <tr style=\"text-align: right;\">\n",
              "      <th></th>\n",
              "      <th>Name</th>\n",
              "      <th>Age</th>\n",
              "    </tr>\n",
              "  </thead>\n",
              "  <tbody>\n",
              "    <tr>\n",
              "      <th>0</th>\n",
              "      <td>Петр</td>\n",
              "      <td>19</td>\n",
              "    </tr>\n",
              "    <tr>\n",
              "      <th>1</th>\n",
              "      <td>Иван</td>\n",
              "      <td>22</td>\n",
              "    </tr>\n",
              "    <tr>\n",
              "      <th>2</th>\n",
              "      <td>Мария</td>\n",
              "      <td>20</td>\n",
              "    </tr>\n",
              "    <tr>\n",
              "      <th>3</th>\n",
              "      <td>Анастасия</td>\n",
              "      <td>18</td>\n",
              "    </tr>\n",
              "  </tbody>\n",
              "</table>\n",
              "</div>\n",
              "      <button class=\"colab-df-convert\" onclick=\"convertToInteractive('df-590a21fb-2038-454e-a504-79797cd91125')\"\n",
              "              title=\"Convert this dataframe to an interactive table.\"\n",
              "              style=\"display:none;\">\n",
              "        \n",
              "  <svg xmlns=\"http://www.w3.org/2000/svg\" height=\"24px\"viewBox=\"0 0 24 24\"\n",
              "       width=\"24px\">\n",
              "    <path d=\"M0 0h24v24H0V0z\" fill=\"none\"/>\n",
              "    <path d=\"M18.56 5.44l.94 2.06.94-2.06 2.06-.94-2.06-.94-.94-2.06-.94 2.06-2.06.94zm-11 1L8.5 8.5l.94-2.06 2.06-.94-2.06-.94L8.5 2.5l-.94 2.06-2.06.94zm10 10l.94 2.06.94-2.06 2.06-.94-2.06-.94-.94-2.06-.94 2.06-2.06.94z\"/><path d=\"M17.41 7.96l-1.37-1.37c-.4-.4-.92-.59-1.43-.59-.52 0-1.04.2-1.43.59L10.3 9.45l-7.72 7.72c-.78.78-.78 2.05 0 2.83L4 21.41c.39.39.9.59 1.41.59.51 0 1.02-.2 1.41-.59l7.78-7.78 2.81-2.81c.8-.78.8-2.07 0-2.86zM5.41 20L4 18.59l7.72-7.72 1.47 1.35L5.41 20z\"/>\n",
              "  </svg>\n",
              "      </button>\n",
              "      \n",
              "  <style>\n",
              "    .colab-df-container {\n",
              "      display:flex;\n",
              "      flex-wrap:wrap;\n",
              "      gap: 12px;\n",
              "    }\n",
              "\n",
              "    .colab-df-convert {\n",
              "      background-color: #E8F0FE;\n",
              "      border: none;\n",
              "      border-radius: 50%;\n",
              "      cursor: pointer;\n",
              "      display: none;\n",
              "      fill: #1967D2;\n",
              "      height: 32px;\n",
              "      padding: 0 0 0 0;\n",
              "      width: 32px;\n",
              "    }\n",
              "\n",
              "    .colab-df-convert:hover {\n",
              "      background-color: #E2EBFA;\n",
              "      box-shadow: 0px 1px 2px rgba(60, 64, 67, 0.3), 0px 1px 3px 1px rgba(60, 64, 67, 0.15);\n",
              "      fill: #174EA6;\n",
              "    }\n",
              "\n",
              "    [theme=dark] .colab-df-convert {\n",
              "      background-color: #3B4455;\n",
              "      fill: #D2E3FC;\n",
              "    }\n",
              "\n",
              "    [theme=dark] .colab-df-convert:hover {\n",
              "      background-color: #434B5C;\n",
              "      box-shadow: 0px 1px 3px 1px rgba(0, 0, 0, 0.15);\n",
              "      filter: drop-shadow(0px 1px 2px rgba(0, 0, 0, 0.3));\n",
              "      fill: #FFFFFF;\n",
              "    }\n",
              "  </style>\n",
              "\n",
              "      <script>\n",
              "        const buttonEl =\n",
              "          document.querySelector('#df-590a21fb-2038-454e-a504-79797cd91125 button.colab-df-convert');\n",
              "        buttonEl.style.display =\n",
              "          google.colab.kernel.accessAllowed ? 'block' : 'none';\n",
              "\n",
              "        async function convertToInteractive(key) {\n",
              "          const element = document.querySelector('#df-590a21fb-2038-454e-a504-79797cd91125');\n",
              "          const dataTable =\n",
              "            await google.colab.kernel.invokeFunction('convertToInteractive',\n",
              "                                                     [key], {});\n",
              "          if (!dataTable) return;\n",
              "\n",
              "          const docLinkHtml = 'Like what you see? Visit the ' +\n",
              "            '<a target=\"_blank\" href=https://colab.research.google.com/notebooks/data_table.ipynb>data table notebook</a>'\n",
              "            + ' to learn more about interactive tables.';\n",
              "          element.innerHTML = '';\n",
              "          dataTable['output_type'] = 'display_data';\n",
              "          await google.colab.output.renderOutput(dataTable, element);\n",
              "          const docLink = document.createElement('div');\n",
              "          docLink.innerHTML = docLinkHtml;\n",
              "          element.appendChild(docLink);\n",
              "        }\n",
              "      </script>\n",
              "    </div>\n",
              "  </div>\n",
              "  "
            ]
          },
          "metadata": {},
          "execution_count": 82
        }
      ]
    },
    {
      "cell_type": "markdown",
      "metadata": {
        "id": "MXBtu4fJ_5oC"
      },
      "source": [
        "## Импорт данных"
      ]
    },
    {
      "cell_type": "markdown",
      "metadata": {
        "id": "BLs9OEcBAVfZ"
      },
      "source": [
        "Для создания DataFrame можно использовать внешние данные, например из файлов .csv или  .xlsx.\n",
        "\n",
        "**CSV** (Comma-Separated Values — значения, разделённые запятыми) — текстовый формат, предназначенный для представления табличных данных.\n",
        "\n",
        "Каждая строка - это отдельная строка таблицы, а столбцы отделены один от другого специальными символами - разделителями (например, запятой).\n",
        "\n",
        "Для загрузки .csv файла с данными в pandas используется функция **read_csv()**.\n",
        "\n",
        "У функции есть ряд ключевых параметров:\n",
        "- filepath_or_buffer - путь к файлу, который необходимо считать\n",
        "- sep - Используемый разделитель\n",
        "\n",
        "По умолчанию предполагается, что поля разделены запятыми."
      ]
    },
    {
      "cell_type": "code",
      "source": [
        "import pandas as pd\n",
        "\n",
        "df = pd.read_csv(\"my.csv\", sep=',')"
      ],
      "metadata": {
        "id": "WB1FgPKrnTc0"
      },
      "execution_count": null,
      "outputs": []
    },
    {
      "cell_type": "markdown",
      "metadata": {
        "id": "Dn8KnEOIBFzD"
      },
      "source": [
        "Существует анологичная функция для чтения данных с Excel."
      ]
    },
    {
      "cell_type": "code",
      "metadata": {
        "id": "VSerg2GsBLnU"
      },
      "source": [
        "import pandas as pd\n",
        "\n",
        "df = pd.read_excel(\"my_fires_dataframe.xlsx\")"
      ],
      "execution_count": null,
      "outputs": []
    },
    {
      "cell_type": "markdown",
      "metadata": {
        "id": "PkaYOncOCgbs"
      },
      "source": [
        "## Экспорт данных"
      ]
    },
    {
      "cell_type": "markdown",
      "metadata": {
        "id": "r2NDSDxjCo4p"
      },
      "source": [
        "DataFrame и Series можно сохранять в виде файлов .csv и .xlsx\n",
        "\n",
        "`DataFrame.to_csv(path_or_buf=None, sep=',', na_rep='', float_format=None, columns=None, header=True, index=True, index_label=None, mode='w', encoding=None, compression='infer', quoting=None, quotechar='\"', line_terminator=None, chunksize=None, date_format=None, doublequote=True, escapechar=None, decimal='.', errors='strict', storage_options=None)`\n",
        "\n",
        "- path_or_buf - пусть к файлу\n",
        "- sep - Строка длиной 1. Разделитель полей для выходного файла.\n",
        "\n",
        "Чтобы записать отдельный объект в файл Excel .xlsx, необходимо только указать имя целевого файла. Для записи на несколько листов необходимо создать объект ExcelWriter с именем целевого файла и указать лист в файле для записи.\n",
        "\n",
        "`DataFrame.to_excel(excel_writer, sheet_name='Sheet1', na_rep='', float_format=None, columns=None, header=True, index=True, index_label=None, startrow=0, startcol=0, engine=None, merge_cells=True, encoding=None, inf_rep='inf', verbose=True, freeze_panes=None, storage_options=None)`"
      ]
    },
    {
      "cell_type": "code",
      "metadata": {
        "id": "fw-19iieCvhB"
      },
      "source": [
        "d = [{\"Name\": \"Виктор\", \"Age\": 18},\n",
        "     {\"Name\": \"Мария\", \"Age\": 21},\n",
        "     {\"Name\": \"Иван\", \"Age\": 19},\n",
        "     {\"Name\": \"Иван\", \"Age\": 25},\n",
        "     {\"Name\": \"Алексей\", \"Age\": 20}]\n",
        "\n",
        "df = pd.DataFrame(d)\n",
        "\n",
        "# df.to (\"путь/название файла.расширение\")\n",
        "df.to_csv(\"my.csv\")\n",
        "df.to_excel(\"test.xlsx\")"
      ],
      "execution_count": null,
      "outputs": []
    },
    {
      "cell_type": "markdown",
      "metadata": {
        "id": "1i7vZO4h_qIK"
      },
      "source": [
        "##Задания"
      ]
    },
    {
      "cell_type": "markdown",
      "metadata": {
        "id": "-EbFuvS-_y8x"
      },
      "source": [
        "\n",
        "\n",
        "**Задание 1.**\n",
        "\n",
        "Задан Series объект s, найти индекс первого элемента отсортированного s, где значения больше 5."
      ]
    },
    {
      "cell_type": "markdown",
      "source": [
        "### *"
      ],
      "metadata": {
        "id": "AlzJHVgE90NM"
      }
    },
    {
      "cell_type": "code",
      "source": [
        "1,3,4,5,6,7,8"
      ],
      "metadata": {
        "id": "MbF_vdyoCklj"
      },
      "execution_count": null,
      "outputs": []
    },
    {
      "cell_type": "code",
      "metadata": {
        "id": "tkabp1FIoOVz"
      },
      "source": [
        "# задано изначально\n",
        "import numpy as np\n",
        "import pandas as pd\n",
        "\n",
        "r = np.random.RandomState(1)\n",
        "s = pd.Series(r.uniform(0, 10, 100))"
      ],
      "execution_count": null,
      "outputs": []
    },
    {
      "cell_type": "code",
      "source": [
        "s"
      ],
      "metadata": {
        "colab": {
          "base_uri": "https://localhost:8080/"
        },
        "id": "nxY4w-TKWgQV",
        "outputId": "5781c6a0-7207-4a81-c109-3d0cf81f8278"
      },
      "execution_count": null,
      "outputs": [
        {
          "output_type": "execute_result",
          "data": {
            "text/plain": [
              "0     4.170220\n",
              "1     7.203245\n",
              "2     0.001144\n",
              "3     3.023326\n",
              "4     1.467559\n",
              "        ...   \n",
              "95    2.370270\n",
              "96    9.033795\n",
              "97    5.736795\n",
              "98    0.028703\n",
              "99    6.171449\n",
              "Length: 100, dtype: float64"
            ]
          },
          "metadata": {},
          "execution_count": 7
        }
      ]
    },
    {
      "cell_type": "code",
      "source": [
        "sor_s = s.sort_values().reset_index(drop=True)\n",
        "print(sor_s[sor_s>5][:1])"
      ],
      "metadata": {
        "colab": {
          "base_uri": "https://localhost:8080/"
        },
        "id": "PdK1Wp_bqjsv",
        "outputId": "5a9aacf3-5249-4855-efe8-a951089e869f"
      },
      "execution_count": null,
      "outputs": [
        {
          "output_type": "stream",
          "name": "stdout",
          "text": [
            "51    5.148891\n",
            "dtype: float64\n"
          ]
        }
      ]
    },
    {
      "cell_type": "code",
      "source": [
        "s[51]"
      ],
      "metadata": {
        "colab": {
          "base_uri": "https://localhost:8080/"
        },
        "id": "HyjRY6ewW_Tw",
        "outputId": "bf9f2b3d-9880-4ca5-f060-12f62d299565"
      },
      "execution_count": null,
      "outputs": [
        {
          "output_type": "execute_result",
          "data": {
            "text/plain": [
              "6.788355329398909"
            ]
          },
          "metadata": {},
          "execution_count": 9
        }
      ]
    },
    {
      "cell_type": "code",
      "source": [
        "sor_s[51]"
      ],
      "metadata": {
        "id": "U31aClc6XMmr",
        "outputId": "662bbfd5-d5b6-4384-96e2-14f11042e5b2",
        "colab": {
          "base_uri": "https://localhost:8080/"
        }
      },
      "execution_count": null,
      "outputs": [
        {
          "output_type": "execute_result",
          "data": {
            "text/plain": [
              "5.148891120583086"
            ]
          },
          "metadata": {},
          "execution_count": 10
        }
      ]
    },
    {
      "cell_type": "markdown",
      "metadata": {
        "id": "V-m7B2IxoeWO"
      },
      "source": [
        "### **Задание 2.**\n",
        "\n",
        "Имеется небольшой игрушечный DataFrame, в котором необходимо провести несколько типов фильтраций и отобразить результат:\n",
        "\n",
        "* всех, кто старше 40\n",
        "* всех, кто имеет доход выше среднего по датасету\n",
        "* всех, кто имеет доход выше среднего по датасету, но надежность ниже среднего по датасету\n",
        "\n",
        "создать новые столбцы:\n",
        "\n",
        "* важность клиента = доход * надежность\n",
        "* возможная долгосрочность клиента = важность клиента * (средний возраст по датасету - возраст клиента)\n",
        "\n",
        "`подсказка: двойные условия записываются так: (условие 1) & (условие 2)`\n",
        "\n",
        "\n",
        "** примечание: столбцы не имеют отношения к реальным формулам или моделям, они необходимы только для наглядности"
      ]
    },
    {
      "cell_type": "markdown",
      "source": [
        "### /"
      ],
      "metadata": {
        "id": "ZFPFfK6J-BhH"
      }
    },
    {
      "cell_type": "code",
      "metadata": {
        "colab": {
          "base_uri": "https://localhost:8080/",
          "height": 175
        },
        "id": "78ojtEWTowvT",
        "outputId": "ad7a433d-56cd-49ab-ef25-e3be6bd6a4a2"
      },
      "source": [
        "# создадим тестовый датасет\n",
        "df = pd.DataFrame({\n",
        "    'имя': ['Петя', 'Вася', 'Аня', 'Света'],\n",
        "    'возраст': [45, 26, 41 , 21],\n",
        "    'доход': [100000, 80000, 150000, 60000],\n",
        "    'надежность клиента (0..1)': [0.65, 0.74, 0.87, 0.68],\n",
        "    'пол': ['муж', 'муж', 'жен', 'жен']},\n",
        "    index=[0, 1, 2, 3])\n",
        "\n",
        "df\n",
        "\n",
        "# ваш код тут"
      ],
      "execution_count": null,
      "outputs": [
        {
          "output_type": "execute_result",
          "data": {
            "text/plain": [
              "     имя  возраст   доход  надежность клиента (0..1)  пол\n",
              "0   Петя       45  100000                       0.65  муж\n",
              "1   Вася       26   80000                       0.74  муж\n",
              "2    Аня       41  150000                       0.87  жен\n",
              "3  Света       21   60000                       0.68  жен"
            ],
            "text/html": [
              "\n",
              "  <div id=\"df-f577d556-1234-40d3-aa0c-1955e7809ab4\">\n",
              "    <div class=\"colab-df-container\">\n",
              "      <div>\n",
              "<style scoped>\n",
              "    .dataframe tbody tr th:only-of-type {\n",
              "        vertical-align: middle;\n",
              "    }\n",
              "\n",
              "    .dataframe tbody tr th {\n",
              "        vertical-align: top;\n",
              "    }\n",
              "\n",
              "    .dataframe thead th {\n",
              "        text-align: right;\n",
              "    }\n",
              "</style>\n",
              "<table border=\"1\" class=\"dataframe\">\n",
              "  <thead>\n",
              "    <tr style=\"text-align: right;\">\n",
              "      <th></th>\n",
              "      <th>имя</th>\n",
              "      <th>возраст</th>\n",
              "      <th>доход</th>\n",
              "      <th>надежность клиента (0..1)</th>\n",
              "      <th>пол</th>\n",
              "    </tr>\n",
              "  </thead>\n",
              "  <tbody>\n",
              "    <tr>\n",
              "      <th>0</th>\n",
              "      <td>Петя</td>\n",
              "      <td>45</td>\n",
              "      <td>100000</td>\n",
              "      <td>0.65</td>\n",
              "      <td>муж</td>\n",
              "    </tr>\n",
              "    <tr>\n",
              "      <th>1</th>\n",
              "      <td>Вася</td>\n",
              "      <td>26</td>\n",
              "      <td>80000</td>\n",
              "      <td>0.74</td>\n",
              "      <td>муж</td>\n",
              "    </tr>\n",
              "    <tr>\n",
              "      <th>2</th>\n",
              "      <td>Аня</td>\n",
              "      <td>41</td>\n",
              "      <td>150000</td>\n",
              "      <td>0.87</td>\n",
              "      <td>жен</td>\n",
              "    </tr>\n",
              "    <tr>\n",
              "      <th>3</th>\n",
              "      <td>Света</td>\n",
              "      <td>21</td>\n",
              "      <td>60000</td>\n",
              "      <td>0.68</td>\n",
              "      <td>жен</td>\n",
              "    </tr>\n",
              "  </tbody>\n",
              "</table>\n",
              "</div>\n",
              "      <button class=\"colab-df-convert\" onclick=\"convertToInteractive('df-f577d556-1234-40d3-aa0c-1955e7809ab4')\"\n",
              "              title=\"Convert this dataframe to an interactive table.\"\n",
              "              style=\"display:none;\">\n",
              "        \n",
              "  <svg xmlns=\"http://www.w3.org/2000/svg\" height=\"24px\"viewBox=\"0 0 24 24\"\n",
              "       width=\"24px\">\n",
              "    <path d=\"M0 0h24v24H0V0z\" fill=\"none\"/>\n",
              "    <path d=\"M18.56 5.44l.94 2.06.94-2.06 2.06-.94-2.06-.94-.94-2.06-.94 2.06-2.06.94zm-11 1L8.5 8.5l.94-2.06 2.06-.94-2.06-.94L8.5 2.5l-.94 2.06-2.06.94zm10 10l.94 2.06.94-2.06 2.06-.94-2.06-.94-.94-2.06-.94 2.06-2.06.94z\"/><path d=\"M17.41 7.96l-1.37-1.37c-.4-.4-.92-.59-1.43-.59-.52 0-1.04.2-1.43.59L10.3 9.45l-7.72 7.72c-.78.78-.78 2.05 0 2.83L4 21.41c.39.39.9.59 1.41.59.51 0 1.02-.2 1.41-.59l7.78-7.78 2.81-2.81c.8-.78.8-2.07 0-2.86zM5.41 20L4 18.59l7.72-7.72 1.47 1.35L5.41 20z\"/>\n",
              "  </svg>\n",
              "      </button>\n",
              "      \n",
              "  <style>\n",
              "    .colab-df-container {\n",
              "      display:flex;\n",
              "      flex-wrap:wrap;\n",
              "      gap: 12px;\n",
              "    }\n",
              "\n",
              "    .colab-df-convert {\n",
              "      background-color: #E8F0FE;\n",
              "      border: none;\n",
              "      border-radius: 50%;\n",
              "      cursor: pointer;\n",
              "      display: none;\n",
              "      fill: #1967D2;\n",
              "      height: 32px;\n",
              "      padding: 0 0 0 0;\n",
              "      width: 32px;\n",
              "    }\n",
              "\n",
              "    .colab-df-convert:hover {\n",
              "      background-color: #E2EBFA;\n",
              "      box-shadow: 0px 1px 2px rgba(60, 64, 67, 0.3), 0px 1px 3px 1px rgba(60, 64, 67, 0.15);\n",
              "      fill: #174EA6;\n",
              "    }\n",
              "\n",
              "    [theme=dark] .colab-df-convert {\n",
              "      background-color: #3B4455;\n",
              "      fill: #D2E3FC;\n",
              "    }\n",
              "\n",
              "    [theme=dark] .colab-df-convert:hover {\n",
              "      background-color: #434B5C;\n",
              "      box-shadow: 0px 1px 3px 1px rgba(0, 0, 0, 0.15);\n",
              "      filter: drop-shadow(0px 1px 2px rgba(0, 0, 0, 0.3));\n",
              "      fill: #FFFFFF;\n",
              "    }\n",
              "  </style>\n",
              "\n",
              "      <script>\n",
              "        const buttonEl =\n",
              "          document.querySelector('#df-f577d556-1234-40d3-aa0c-1955e7809ab4 button.colab-df-convert');\n",
              "        buttonEl.style.display =\n",
              "          google.colab.kernel.accessAllowed ? 'block' : 'none';\n",
              "\n",
              "        async function convertToInteractive(key) {\n",
              "          const element = document.querySelector('#df-f577d556-1234-40d3-aa0c-1955e7809ab4');\n",
              "          const dataTable =\n",
              "            await google.colab.kernel.invokeFunction('convertToInteractive',\n",
              "                                                     [key], {});\n",
              "          if (!dataTable) return;\n",
              "\n",
              "          const docLinkHtml = 'Like what you see? Visit the ' +\n",
              "            '<a target=\"_blank\" href=https://colab.research.google.com/notebooks/data_table.ipynb>data table notebook</a>'\n",
              "            + ' to learn more about interactive tables.';\n",
              "          element.innerHTML = '';\n",
              "          dataTable['output_type'] = 'display_data';\n",
              "          await google.colab.output.renderOutput(dataTable, element);\n",
              "          const docLink = document.createElement('div');\n",
              "          docLink.innerHTML = docLinkHtml;\n",
              "          element.appendChild(docLink);\n",
              "        }\n",
              "      </script>\n",
              "    </div>\n",
              "  </div>\n",
              "  "
            ]
          },
          "metadata": {},
          "execution_count": 170
        }
      ]
    },
    {
      "cell_type": "code",
      "source": [
        "df['возраст'].mean()"
      ],
      "metadata": {
        "colab": {
          "base_uri": "https://localhost:8080/"
        },
        "id": "cOMIwuTk8J_9",
        "outputId": "f34bf97c-ce71-4bd0-8a86-d3bc32e853da"
      },
      "execution_count": null,
      "outputs": [
        {
          "output_type": "execute_result",
          "data": {
            "text/plain": [
              "33.25"
            ]
          },
          "metadata": {},
          "execution_count": 181
        }
      ]
    },
    {
      "cell_type": "code",
      "source": [
        "df['возраст'].mean()-df['возраст']"
      ],
      "metadata": {
        "colab": {
          "base_uri": "https://localhost:8080/"
        },
        "id": "PBb3_HTu8FXt",
        "outputId": "ec505d2f-f84e-43d4-9d4f-bce43abe3ddd"
      },
      "execution_count": null,
      "outputs": [
        {
          "output_type": "execute_result",
          "data": {
            "text/plain": [
              "0   -11.75\n",
              "1     7.25\n",
              "2    -7.75\n",
              "3    12.25\n",
              "Name: возраст, dtype: float64"
            ]
          },
          "metadata": {},
          "execution_count": 180
        }
      ]
    },
    {
      "cell_type": "code",
      "source": [
        "df[(df['возраст'] >= 40) & (df['доход'] > df['доход'].mean()) & (df['надежность клиента (0..1)'] < df['надежность клиента (0..1)'].mean())]\n",
        "df['важность клиента'] = df['доход'] * df['надежность клиента (0..1)']\n",
        "df['возможная долгосрочность клиента'] = df['важность клиента'] *(df['возраст'].mean()-df['возраст'])\n",
        "df"
      ],
      "metadata": {
        "colab": {
          "base_uri": "https://localhost:8080/",
          "height": 175
        },
        "id": "AeCVQyMI5uEV",
        "outputId": "75341f9a-3431-4d93-cabd-0b25f774d06e"
      },
      "execution_count": null,
      "outputs": [
        {
          "output_type": "execute_result",
          "data": {
            "text/plain": [
              "     имя  возраст   доход  надежность клиента (0..1)  пол  важность клиента  \\\n",
              "0   Петя       45  100000                       0.65  муж           65000.0   \n",
              "1   Вася       26   80000                       0.74  муж           59200.0   \n",
              "2    Аня       41  150000                       0.87  жен          130500.0   \n",
              "3  Света       21   60000                       0.68  жен           40800.0   \n",
              "\n",
              "   возможная долгосрочность клиента  \n",
              "0                         -763750.0  \n",
              "1                          429200.0  \n",
              "2                        -1011375.0  \n",
              "3                          499800.0  "
            ],
            "text/html": [
              "\n",
              "  <div id=\"df-988bff2b-bc60-4647-b49e-5e7789c92ec6\">\n",
              "    <div class=\"colab-df-container\">\n",
              "      <div>\n",
              "<style scoped>\n",
              "    .dataframe tbody tr th:only-of-type {\n",
              "        vertical-align: middle;\n",
              "    }\n",
              "\n",
              "    .dataframe tbody tr th {\n",
              "        vertical-align: top;\n",
              "    }\n",
              "\n",
              "    .dataframe thead th {\n",
              "        text-align: right;\n",
              "    }\n",
              "</style>\n",
              "<table border=\"1\" class=\"dataframe\">\n",
              "  <thead>\n",
              "    <tr style=\"text-align: right;\">\n",
              "      <th></th>\n",
              "      <th>имя</th>\n",
              "      <th>возраст</th>\n",
              "      <th>доход</th>\n",
              "      <th>надежность клиента (0..1)</th>\n",
              "      <th>пол</th>\n",
              "      <th>важность клиента</th>\n",
              "      <th>возможная долгосрочность клиента</th>\n",
              "    </tr>\n",
              "  </thead>\n",
              "  <tbody>\n",
              "    <tr>\n",
              "      <th>0</th>\n",
              "      <td>Петя</td>\n",
              "      <td>45</td>\n",
              "      <td>100000</td>\n",
              "      <td>0.65</td>\n",
              "      <td>муж</td>\n",
              "      <td>65000.0</td>\n",
              "      <td>-763750.0</td>\n",
              "    </tr>\n",
              "    <tr>\n",
              "      <th>1</th>\n",
              "      <td>Вася</td>\n",
              "      <td>26</td>\n",
              "      <td>80000</td>\n",
              "      <td>0.74</td>\n",
              "      <td>муж</td>\n",
              "      <td>59200.0</td>\n",
              "      <td>429200.0</td>\n",
              "    </tr>\n",
              "    <tr>\n",
              "      <th>2</th>\n",
              "      <td>Аня</td>\n",
              "      <td>41</td>\n",
              "      <td>150000</td>\n",
              "      <td>0.87</td>\n",
              "      <td>жен</td>\n",
              "      <td>130500.0</td>\n",
              "      <td>-1011375.0</td>\n",
              "    </tr>\n",
              "    <tr>\n",
              "      <th>3</th>\n",
              "      <td>Света</td>\n",
              "      <td>21</td>\n",
              "      <td>60000</td>\n",
              "      <td>0.68</td>\n",
              "      <td>жен</td>\n",
              "      <td>40800.0</td>\n",
              "      <td>499800.0</td>\n",
              "    </tr>\n",
              "  </tbody>\n",
              "</table>\n",
              "</div>\n",
              "      <button class=\"colab-df-convert\" onclick=\"convertToInteractive('df-988bff2b-bc60-4647-b49e-5e7789c92ec6')\"\n",
              "              title=\"Convert this dataframe to an interactive table.\"\n",
              "              style=\"display:none;\">\n",
              "        \n",
              "  <svg xmlns=\"http://www.w3.org/2000/svg\" height=\"24px\"viewBox=\"0 0 24 24\"\n",
              "       width=\"24px\">\n",
              "    <path d=\"M0 0h24v24H0V0z\" fill=\"none\"/>\n",
              "    <path d=\"M18.56 5.44l.94 2.06.94-2.06 2.06-.94-2.06-.94-.94-2.06-.94 2.06-2.06.94zm-11 1L8.5 8.5l.94-2.06 2.06-.94-2.06-.94L8.5 2.5l-.94 2.06-2.06.94zm10 10l.94 2.06.94-2.06 2.06-.94-2.06-.94-.94-2.06-.94 2.06-2.06.94z\"/><path d=\"M17.41 7.96l-1.37-1.37c-.4-.4-.92-.59-1.43-.59-.52 0-1.04.2-1.43.59L10.3 9.45l-7.72 7.72c-.78.78-.78 2.05 0 2.83L4 21.41c.39.39.9.59 1.41.59.51 0 1.02-.2 1.41-.59l7.78-7.78 2.81-2.81c.8-.78.8-2.07 0-2.86zM5.41 20L4 18.59l7.72-7.72 1.47 1.35L5.41 20z\"/>\n",
              "  </svg>\n",
              "      </button>\n",
              "      \n",
              "  <style>\n",
              "    .colab-df-container {\n",
              "      display:flex;\n",
              "      flex-wrap:wrap;\n",
              "      gap: 12px;\n",
              "    }\n",
              "\n",
              "    .colab-df-convert {\n",
              "      background-color: #E8F0FE;\n",
              "      border: none;\n",
              "      border-radius: 50%;\n",
              "      cursor: pointer;\n",
              "      display: none;\n",
              "      fill: #1967D2;\n",
              "      height: 32px;\n",
              "      padding: 0 0 0 0;\n",
              "      width: 32px;\n",
              "    }\n",
              "\n",
              "    .colab-df-convert:hover {\n",
              "      background-color: #E2EBFA;\n",
              "      box-shadow: 0px 1px 2px rgba(60, 64, 67, 0.3), 0px 1px 3px 1px rgba(60, 64, 67, 0.15);\n",
              "      fill: #174EA6;\n",
              "    }\n",
              "\n",
              "    [theme=dark] .colab-df-convert {\n",
              "      background-color: #3B4455;\n",
              "      fill: #D2E3FC;\n",
              "    }\n",
              "\n",
              "    [theme=dark] .colab-df-convert:hover {\n",
              "      background-color: #434B5C;\n",
              "      box-shadow: 0px 1px 3px 1px rgba(0, 0, 0, 0.15);\n",
              "      filter: drop-shadow(0px 1px 2px rgba(0, 0, 0, 0.3));\n",
              "      fill: #FFFFFF;\n",
              "    }\n",
              "  </style>\n",
              "\n",
              "      <script>\n",
              "        const buttonEl =\n",
              "          document.querySelector('#df-988bff2b-bc60-4647-b49e-5e7789c92ec6 button.colab-df-convert');\n",
              "        buttonEl.style.display =\n",
              "          google.colab.kernel.accessAllowed ? 'block' : 'none';\n",
              "\n",
              "        async function convertToInteractive(key) {\n",
              "          const element = document.querySelector('#df-988bff2b-bc60-4647-b49e-5e7789c92ec6');\n",
              "          const dataTable =\n",
              "            await google.colab.kernel.invokeFunction('convertToInteractive',\n",
              "                                                     [key], {});\n",
              "          if (!dataTable) return;\n",
              "\n",
              "          const docLinkHtml = 'Like what you see? Visit the ' +\n",
              "            '<a target=\"_blank\" href=https://colab.research.google.com/notebooks/data_table.ipynb>data table notebook</a>'\n",
              "            + ' to learn more about interactive tables.';\n",
              "          element.innerHTML = '';\n",
              "          dataTable['output_type'] = 'display_data';\n",
              "          await google.colab.output.renderOutput(dataTable, element);\n",
              "          const docLink = document.createElement('div');\n",
              "          docLink.innerHTML = docLinkHtml;\n",
              "          element.appendChild(docLink);\n",
              "        }\n",
              "      </script>\n",
              "    </div>\n",
              "  </div>\n",
              "  "
            ]
          },
          "metadata": {},
          "execution_count": 179
        }
      ]
    },
    {
      "cell_type": "markdown",
      "metadata": {
        "id": "jlID1qvxpNFh"
      },
      "source": [
        "## **Задание 3.**\n",
        "\n",
        "Как объединить два DataFrame по двум столбцам так, чтобы остались только общие строки?\n",
        "\n",
        "Объедините df1 и df2 по столбцам fruit-frukt и weight-ves.\n",
        "![image.png](data:image/png;base64,iVBORw0KGgoAAAANSUhEUgAAANgAAAH6CAYAAABlM4JkAAAgAElEQVR4Aey95Zed153vmb9hZq3bvWZ6OmRZUtGBh5kPnwKB2eGkA2a2YycxM9sxo2zZksXMjFWSClUllkxJp3vu6jvzYmbNzIvPrL0rup3rlbh8b0WJ0q4Xzzqn6oHz7L1/3x/tH3zFNE3O58MqdGBGPo6hU1Q6ME0dy3DJ2w6BrRJELrZWRNUVCq5JUdewDBPPcbFVfcKx+W5AR1HDChxsS8UoFPC8AM0ycWwT1zTkcxPLls8t6EUcy0YLQjzVmPD553puVc3CNXx0zca0LQLXQNdNCqqHbdsTvp9na9iOTrGgoykqpmdgOTaeYaEZ6nk/frH2uqqh2x66Y6AaeUkjtmVQLKoTjv9cr89XzvUPTPb5uu3QXsij5VUsP8L1HVxDpWBb2JqFpmmkjo/n+OQUFU0zcF0X03Uk6Cb6fUdXKPmuJK6OgollB2hqkWIhh677iIXKW6b8LfEsXdexVRXV0nA066++gLaj4XgunqWTU/NcWNAwVY1YFwxpYuZZzCv4tkHg+fiBjeNr6LqKpdo4bnjej1/1Slimil6cTlEtYHsxvhvh6jqW9ddfn/MfYGGMH1hkfobhxhSKbRj5FhRDx7MTirqFVbQwdYc4KVNKyxRyeWZ0tBBk0cQA0A380JPgdL2IOE5xHYs0iaTEcj0T0/IkcIWEcO0AR9MwrA58K5z4+edYQ3AcD1UVxORIoAnGEkUJSRx+IQLTVQNb16Sk0k0D01ElWHXNkRLwfB+/po9rK46toyomiuLIuXBtD8v662sY5z3ACoaBbXTgKibFYlGqQGkYoJsaruFhBZ5UBxVFY2YuJ4Hgux6GUBfVwoQAcCyXVkNB8y1iz6J1xteZ3tqBF6VYTl4+w9VNxEI6rkHiZ5Kzm3aOYm5iFXQiCTrp80aAlsuhm6mU3EFxJjNa83w9bxB5E6uIUehS0EwMpUhHR16CNQsiDNNF09rP+/GH6gx0zcPwS4RBGcvU0ZwCuuOjqsUJ13/S8z8BAz3vASbsAkXtIApifEclr5kU7TKaXpC6t2sU8PM5Yt/BTwJUob4VFVzfw7WdCSdY2Ha62SpVzIIS42VlGtUUtaUVzXLlc1LbZKaikstNR2tto01zpe3nngcSzDQ0nNCSXLsj346TVqmVO3GVCzD0icffMnMa31AS5vZ00khccrkCvmljConojM/j+Tz+DiNEMFRb+zqFjpkYpi0Zo5Bmlu1OuP5feoDFfkDRsQnClPaOGSi1y3j5g618eqKPg0OHGN62iVu+9S301pmYlorvOZi6gVB31KI24QRrtk/qFlBnhOilO1i29zBjOxfyIzdPoAjA6hjFDi6IqjSaZep2C99oz0mngjh3rhdoouc7pkIhSzBybVKa37FgN0f697HoDg8h/Se6X6jUnbe8zNZtG/jgxdtIYk8yKCGxXVdIgfN7/HcsOMzQwC6Wv3Qpmd9GXi+RujZ2u4qw3yca/7k+f95LMOHIKFiO9BwWNJ3LHniL3iMfsv3NW7F9j9AoEuRyBIaGaRvkO3LSYeGHAY4z8QQrboLrK+SmB6Td97B+4AinepdzezMmUYUjxcGJAnoefpOtu3ez5uWbqXWXiNxEeu3O9QJN9HzPdGl1bNSOImmlzGOr+/j4xCiL7y9juBMzAOk8umUxYycOc2DRz/F9nVy+iG2b2E543o//znf2cXiojzVv/ZjMKzKzzUN6RvMmuj3l5JiQwxi6KtU0r6DhJ2XuXDnEyNFhlt6sSfugGJhYjonh2CiuUJUsbNOSXj5F+wI6uFqg6LdIdcLWy9IlrxtF3IKFYisEmsdMy6T01GpGP/yU/e9ch+/MQJ2h4nwBG2cigEz2vACYbrfiOGVpowrXvOeVacv9I541sQ3mGgozblzFoZEBDsy7FsvW0EyPKBz33p7v41d1Dc9Nce1W7LyJbwXoXisF3cV2pwA2IcB825ESqd10scrdPL+yn+He7bxzrYMThJSjhK+1X0D5xb3s2b+GTS99nwXrVrOs7wwfjS7jicghN1Ph+R1HOTa0lccKbeh+yJPrRhkY2MXCq8Xez018sOUAw4OjDJ0eZWhwNU/7NrpbxE2fZOmm3fQdOcUno4cZ69/EnsMnODUyxCs3TX4BNcXEMa9n4aFD9K95gnys4rUFzFAvJPXv5P2DZzi98iammWVmPbucbcMfcfjAZj78+CNWPB5QUYrMtCzuXjLGoYP7GDh2go8PH2bBk3npVRMqc8cFZcLuR1k0PMQnJwZZ13uIk6cHGRw8zuInHCp3fsC2vf30b1rHoYHdbD32IaeGV/OYoeKXnmDp5j3sO/kRH504weGhrewcOc6Z4YO8c+vEEnLcVS5sOhVD9+XeothacZynWTsyxOYF73NodC8HD/+/HDq0iPn3BtRaNHLpg6wcPsOeBY/y03dW8O6e3/Jfjvax8BkXzUrRX1rCyMAgg4ePcHK4l+0LbidyTQzdJS4W+aZmULt5IYdGRjgwNsjHY0cZ3P4mNyVlWr5RwClfy1u7Bzlz+CgHj33EwIZ53DPLYfrXZuDEFazcN3GcZEL6nIhBnvcqovAECmDd9+r77Nq+gWMf/itHP/odH/atYmD4BO89fzWdTYvg6bUc++j/4cSG57nrkW9z1ZPv0nv6EwbfuAbfs7hnWS+Hj27jKS8nvWaPLRvi+IkDLLvR5cJ8EbPiU05vZP7WYY6cWM8DHS1Yioc+QyOc20324AI29x9l47xfEoYqiRfgaTMmvQCxF6Grl/Peno8Z3vQscbtPMUzoigt8s/0+lh0ZY9Pim7j4hRVsHT3A0DM/oF71mPXr3Zz86ADP3TKLWv6rKKqO40Zc/+5Bxo6fYs1TDn7mU9QuoFq/gXdWjDG4cz63VOYy+6pFHOofZu/86yh1tPCP33uL4Y8+5cMd8/n5zy5n7s2vsn1kG4cW3kFxmkHY3aRx/5v0DQ6y9507SP0inh2hacqE458IYP/X2Aj33tHF7Isu582tg/TtmMePbY/WlofYf3qIMx+f4K377+Gyi29h3t7fcmrkLe7KTaNNNwldj9pzu9k91EffvBtwihoFp4jlVPjWr+axeN8gh1Y8SpqmFNt0KlWDwvQZdP/gQZas6WN0bC23thp0NW9gwa6DbN/4Ll2OTV5zyAUqmjmxF/pvHmBhGKIXFQpOSlrv4aUlW9k/sJ+XbuvC1hUuroa0XKgx/fYnOXjiY4aWPkst8bCqD/L+rt0cWPM4WbnE/Yv6GD2+m6ccHUv3eHLFIQ6P7mPZbQ6qVZTRD0ruKl7ZNsSJ0zt4SnGkm1tECShJjH3fco6fOcax+VejFr9Jh2Jh+N0TEthECyD2aoTH67kNp+nd9ii/7Lyf57csY3jZqzjJY2wf62XFfRUeWrmTffs2Me/yjHwxwr/mDQ4fPEbfvG/RTDOma5rcovj+q3s5cuwoOx4roeYvoMWooAf3sWX0I47vuAHlf/5P/N3c19k6+Cl73vkhql2i9ZbXGT48xMCCX5B6rfg/WcLGkSMcXvcETrGVYuSi3LeS0U8+ZfSD2ygo06Sd5n4BDj8RwPZveJLu5Gu0zdB5aMP/zae/O8T712l49vMs6j3McP8Knq6l+IWYx9ePMNC/gSezlIYb8M0ZreSe2MTI6aOMzbtR2umG00JhpsndS45w5KNeFtwitnl8ec53SkzLWdg/ns+anX30r3+Ihp1npj2HVzbv4cP+tdzhK/itOdQ4I1W8Sa/veS/B2ttaKDsOtukwUw94bPUgH340xIrbxN5NC9Nm/j1+fCXdr+zkyJnD7HnvB/jK1/nq18vUmzVKYci0lnZeXN/LsSPbua+ljcAt8+KWwwwM7uf1q2fIjeTYTIi9m3lrTz9jw+t4JKejGUVspZ0g8jHuXcW+4X4Ovn4DVpbghC52qwjdmjha4vOuKdgRhprj5qUj9Pa/xys37WT94C5+OzLKfTe/yv4jx3n/+iv44NBHnPmXD9m3ag17xk4xeOoAh0f30Pvu9Rh+hQsKBo2KxzUL9tI7cID1j6RYfkxkF7FzP2H+9iFWr3qAIPs2tYcXcrBvDVtfbqCaFvFdrzHUe5jt82+nVZ9BduNydg3u5dSGX0tHgZ1mFO9ZyZ7B/Rx6/WqcSoSbuFiF3ITjnwhgO5c/TCPzUAyTW5f1cWD3Rhb8wCOtP8uaoyc5tu9Ffmq4FIrtRL6BsKvbp43b1m4cYz2+gCNDI4y+8RMUzycMfUI15OldpxntW8xD4Qxso4YbtaJ2dKCXDRr3b2Lgk0/5zZ619B8ZY8fOvZw6eYSxzUv4VU+VVFf4hq6hufGE4/u8tRXnznuABaHJdC0mp+hUApPHl/exp7+X964zEZvEjlfESkPiR9dxoG+AHW/8hFpkovsKxfYW2me2oIcB7+4ZY+TIam4tTMOIajyzrp9jR0dY+QtbRm/MvODr5JTvs2Lgn/nk1CYedgqYeoqutFB0PbwnNnLsXz9m5K0baGu7gBkdbQRBedILkLN1Qs2i+sJGdg2u5YM397H3g3v54MBJNi1ayrHe+dxfr/Hw4n6O7lrKsz0RWbtNbDjYehPb9CgoHZRNEUupceX7+xgZPcy6R2agGDZthtgfvItV/Wf4cGQ5vTsGOflvp9mx4m1iu51YVfFufJudB0fZv/ZmScClG9ewdWAbg+uewtJzctM2eHgNJ35zkiNvXku+/UJmiL3GtGvC8U8EsP+840VaWnP8/YUJv965jw8HtvFYVyczCrewsf8Q/b2LuMorE4Q2Zus3Mc2YUqOBkb9QajD68zsZGh5j5K0fMz2fo0PNY/tV7tt2hA9Hd7DymjJK0abdmoZlpCieRnjtPLYM72LrwrvoMlJEuFlbqNHhe+QLOmUnwM3n8eyJVeC/eYCJEBixS69rBRnC88Taw4yMHWLJ9UW5T5P6Db7a0oFx3zI+/PgM/Yt/SZBvUrRzeL5JObTR/Tq//HUvfSd388GjN3DtQ48zb/MIn5wZ4ZUfTkPtqOH7JRpX3sqbG/aybcsCHmhExJZKYgcy/Ma5+gl2DAwwsPhJZtUTuSh2cfqEBDbRArhuHjcX0nbN2/SP9nNwYC/bfhXzvfe303fgEEf7P+BH7Sr1u9/j4KefsuWVn5NYOaZZeYwgTzN1aFW/jqLVsC2f615fzanRD9nwShW3kCNzA/zLHmFJ/xEWv/BDmr6DUvh7HDtANSrkDIuOG5ayb3SMoeXfQW8v4t++lb3HTnF4+ePEqkKhaKBf8ywbBsfoXfYSPZ1VPLuA0/G/Tjj+iQC2Z/5duD0Nvn3j++w+fJgNC37Opa7PTPNhdhz9HYd7F3FjsYNc0cLwPBmmli/maNFj6T1uPLWZzfs2sGPBr5jV7KGRfpW29mlUfjWPTSd/w8DSO0jKJVrzbcROjDezFbt2P++t382xD9dxg2qRabqMxaymIRfmZ6B6whPr0WZMLKEnWt/zXoLlcyo1R8dUcrSqFs+vGuD08QHeud5E1fIY7gxEBEb3kxsZHB1gy+If4lsaitaCZfroBY3WDoOLr3yFZTu3M7R/A0t37mLlmt3s2bOJF6+vcPllD7Bw0Tq29Y8yeGqMD//5Q36z/yB9exZwhW2RKQrFaA73vC7Us9McHDlG/44NLP3VnAkJbKIFCK0QIx+jVh9i374hduzfwUOzTOp3v8vI6KcMH1rCHVoHHVGFu9/dzNFjpxk90MexYyc4uX8Hj35Ppasn4en3tnDy6DEOnz7F8IFTHBjZyuChw7z1s3b0i7/Fiyu2c/LAMvpH/wtjR49wYOgQgyvvwg10spsWcuDgEFvfuIbQibCufZQde3s5se0VQitCxCUWkot58PVlHBo9wuDhUQ7sWs87v5w94fgnAth/Pj3C0m0bOHDiKFvWvsbsis6F0zSCyuMsObib4W1vc1PmUXDKGL5OvnU6QanBQ/N3sH94hJ2Dx/jNb45x8tQAW1av4bWHLqceK1wQzebSB+ZxeHiEwcGjfHzyJPv3v8stc0wu/LpJc+4DrNo5yscnDzJ4/BhHDx1g57znuLjqk8u1y0BuT/EnHN9E63veA8wOEjryOYxSHbswA980ybkZem46jp+hGi5Rrp1/LDlYhSqpUaA955NkoXTvq06GF0wnP72E5iekIo0ldHHaFMwwpqbn+IeZNrWmi6GnMl2lGBZQCzaBb2EZIorEQW+fIW0a01fH7bJsNoWWCya9AG1tbTS6LTq+7hBlKk4pxpo+nel+g1hvod1poaKUUBOXDs2RaRlGfgZeklBUQ0JHozhdwy03UTSVDrOdyDDRbI/AyWN4Dsa97zF0+lPWPZZgKl+Te4V3vNXL0Ngwr/+0gOpEuJGHY7VjGxVmmhpdTkqr0YqiKDIszMy3S1tPpIQ4Sp6sfBFq68Tjnwhg+9c8Qd1rYGptNN0iHYUYvW6iXODgBS6mF1GYMVNurbhWC5ZXwS7mUYomjgifc/NYBZ823aCWiUDsmeh6iK5Oo+jUsIMYs3gharuHWY6ptuWpRBbTWxysVEXLFbD9moxd9X2VfN7EEFkEXhHV+hKoiBNxiKnzn+9kCUrd3P7cexwYPc3yN7vxW/4nlEqV5xYfYOzYfh7/aUx3UiRfLEjgidQVEZkvwowMER0zSSeOyEww7fEoG9vMiCKNGdMtwuhpNg1+xNjmF8mCHBe0C5s2kKlItu2SV0QkyeS9eJN9/8nef95LsMkO8Mt+f0vxm2SXfo9fv7Ofw2P7GR38Z8ZOnqRv2wbe+kVJgkvVC7TrjoxmsTRVblmIQFmRZzXZ+ROROOIZhqVSzItUkhzFok2z8wGW7tjP6rceppK54xI3CDCUvHwP4d30RFzpJAH+175/CmB/4ws4EQF5pkqhtRWzkGB7beQVoSIXycISekuLlFwCXJqfybQfs1jEMCwpPYRjaaLnT3he1bBMDzcwZQqMULdFJsS06SFJs8Fl3WXaROaCALhhouQ6fg8wA8uePMAnfL9zvP5TADvHE/zXXmDhebOsAqmdkAS6tC3zxQsw7AA7qku1UEgrUWLBMzUsRcGyfSwv/PPkU6kaquKgmTkKShHfi0kSR6bzF5Q8SqFIW/t4mQbfthASz/YDmVAr8tH+2vM32d+fAth/cIA5dkjRUMgVDRRTxXIjbBEgbZiY+Q5ZLkCohUJyCXCJ9BThOBKgE+USJktgAjQirMoXe5OmIfekLFNBHKIeiilyuVwHT6SY6IosV2A4LoZlYhqTdzJM9v0ne/8UwP6DAyxSQpkj5wU2tt2Bpucp6ob0mPpGMO7Q0E2pFgrJJcClqCaG2BuyJw+wfK4VpaDLwjqOY2GZosyCjmkUZfiSKP0gaoAUC+1o6njBGgEu4X38czhZJguQyd4/BbD/4ADLazkUs4hp+ThaJEsvOKojq3TZ5kzpLZTSyvGkWii+C3BZmi7D0yZLYFEUyGxx8Uyp/gnJ+PtMY1H9SjxfVO8SIBNZ6GKDV2Zp26aUppP9/b/2/VMA+w8OMBFxbms5DL1I0XZR3ZxU/TwzQNF/74o3FBkpI2pYCLVQSC4R+6nok3eT5wp5mWEuE1cNXeab6YYjU/tFvpalitJ4FqKmiqgDIrIClGKeMPCm3PR/be4w9fufvwc2NT+Tnx9RAtD4femFcbX139VmUf9lojn+irhp6piagyka+OM0cBZAAmjiEHUxZW1M25a4OXv+T31+5bvf/S5Tx9QcTNHAH6eBb3/725w95s6dSxz/96WwfEVke04dU3MwRQN/mgZKpRK1Wo0sy6RKeFY1/CKlyb9SLpeZOqbmYIoG/jgNCHAJYIn5EUxIgErYZEKl/lNq4R/+/yvi5qljag6maOCP04BQCUXZiiiK5OdZYInPs86PPwTUZ79PAWyKwUwx2M+hAaEaCulVqVSkBBOOjrMOIeHs+CygPvv3FMA+Z3KnuPof5+pfpnlJkkQ6NsSYhTQT4DoLrD+LBKtkDXyRqFatU45LxOWIRr2HZtxNWrHPOffrrJaI4pQwq1It16ikGUlaolSuyu9BWqFciqjUUyrlBp1RhVIWElQjSkmNzlKKm1RJyhWqWSzvrVTr1Eqioq9DuZYQVCukcUY58KhUQqrNThqlEmEppewHBOUa1WpEVvGIozJJXMatl6injXM+/skSc5gmlKq+fOfGrIosyprE3ZRKPmm5kyitEtRKxIlHLU2pVJuy1mTFD3DShGrUiZ/aXNLVTRSWKNUzSuUIP03pCjOypEQ1KcsjTUtEWUnOsXjvUqU86fnpbFZlOYe4HBKXypSyiHrZwfcrJKW6XG/Rcqo+u0SYVKh0ptTSbspRRJbOQgCkUrLI0phKtRPd06g06lTKXZRLMeVSSpxkdJXKuNk4nTUqGXbJpVzuQdhgwvYSn+JZf2iD/VkAlmWJTCsXD8/iKlESSl00cBMJuskSwET3C3C5UUpULlOtlCgnIWkaUyqllOKAUpZIoMVpghsmBP74hCWVmFKaEQqAxOP31soxfpxIwNbLKfV6nSwIJEHUag2a9QZxpYQnqjF5PkklpVKqEtYaCOIRv1HLqnSlFaJSKME30fv/tc8nWUq1XsFzhIoTk2YB9WaDKDEpZU3JUMTapllVElKU+GTVCrV6F41yJ81Kp2xGWI4yOW+VWlnWhBRAqpdLxJWKZF5ZqUJJHGlZgk6MOypPXgIaniXfrae7ThyV8L2Eer1KpdykWgrQ51ToyrrpCQJiJ6FZi2SpiKDkU67XaJS6qTd6sIJArncpTkgjlyi2icsJ1TCStNWo1SVDSMJxZhGWA6ol7y8AsGqDUuIjUF2rdiIIUXCxMIvorDYnzaEmIkAhuQS4ytXSuASKQ6IkJspSKbKb1RJZXCeJUrJyTKneOc6FS6nkpqVyfXzhI19yv0yAqlwii0ICP6Gz2iUnUTwzTsc5syj1Vi01JSHGUUBSzShldbK0RrVcoZGUEIRbqVXP+fgnmp+JzgvwCEmSJlVKUZmoFEip7ca+lNqVakToR1RrXaSljDBwSBpV/EpVNjasVlKyrElXrUeugfi9ipfR7OwmrWZyLkVNfHGI3ylnJcnYzkqzid5vovPiN9JMePBi4lD0PRO0UEEARZT3rnqBBF7WVSbKKgSZRdxoMuuSOWSuRzkxqTSaWKFJtZZSDhpkYUq9UaJSnktPpSoll+W5JKlPvRLREDRT7ZbXnXMJJkpkVeJUtgcSbVpFqbS4lBGUAurZuScwoRYKySXVuygmjEpEpRpppS45WxSXpAohANOoxmTVGnEYyXqISW0WaSmhUs6IfY8kyajWGmRpSDmJScsNRG09IZX9OJLcvFQv05M6RGlTBr1WKjXKTcH1KoReShh7hEEqm9yVm/XzHmD1aqd852ZPQj3plHVIEt8mrvZQF2pylMmuLEKqlctV6S0Tkkh4zYRqKSReOa3L1BI3chAMq57WqVUzmVLSiDKpQQhwCsYlKjiJI8vK0qSYCEATnRdSUnQvFd1NuzprCJVR1D6sJxG1zouZ2+hBCS2yWometHOccXohnhNiVSuEiUuaVOT7SLqNywgpXK76uK4t1d6k1EUp7pFtn7J6gBcaBFEox3POARYLURo3yLrn0Liokytmz+GiehXfMwlD8eKTVwM+7xnC5hJqoejYKMAVZzXKlbOgK0nOW202aDSFilKSjfMEFy5L9bEpbYtGo0ap3KBUEgsQE9g65XJGrbubcjWlJrh1uZvOWhVHSCcrRzjrW1w2u04lrEt1IvIzaaPUuiqUa13y+VEQnvPxf97cfJFzpbQq00OCkk5ozKF5+RVc0tDxsy6y0KOSdRLXAirVcUkVVitybDU/pjynSZJEdDeapFk4rkU0uyXTEnZuV7Nb2jbiGnFkidAiSkS1MkJlrEXje0hf5D3/1DWifVWjnFCqCZXQQxftgZMqF3WVMUT57izm0s4aZS9DESZMrYvOWpmurERn6JFVG9KkESplkKTSVhfMUtRI7LpsFmHJpkuAM84IzBA3a1DrmoUwIUSH1HMOsMBI+c5VD/DKkk3s6T/EUO8+lr32BD/9VgU3PvcEdlY9CIRaWPo9uDKXLDIl6ISRnWUeThRh+akETvesLqq1TmJTl6qFWDyRoVvKanQLZ0e5IotX6lZRTm4tyDDtqgSQWZpNz6wmt766hP1bFnJ9rYvZUhev0CwJ+9PHjqryuzCC/xRhnC//F27meqWLalcXc5sPMX/DOt5/5hJqnU2qWUpnUiVLDHRNkU6CUneFSjmRDhxRXUnMr2BeYbUkaweKSltCckfBeORDWIvxKjGB0AqiaFyaVcrSLqskk3dyhGnGrE5hWyd4WpHm5T/imfc3s3HpG8yqR5TdkO4wInfJFTy4aimjuwY4fGyE7UO9PNdTpVs4L3xLmhlJ7NMl3tWay5VX3svS9Rs4/eEZBvbuY/UHz/CjK0PyqkZamU13KqTfONM+p06OtHkLry7bx29/98+cHj3KkVP/O7/57RhLX7udiyrBOScw4S0UDg1hcwm1UKiLAlxCrUt6rpD6eRbaxFkDYah2Rx2yHHQ+mcWcWRlB1Em9IQzdMj21UPYTU+yU6pzLqKcqpptJe0sYxJfWFFnCrN7o5NaFuzk9uIZfCi7m2hRLXVJvF95Goet3ltvRrficj3+yQBXEVQprsnNns/Iiu08dZ+cbPYSi4bno7xzV6KnXpV02e3adql5EUQI6r/gh3YEmvYOKZeF0zpHX1exWOptz8Z2LiDpTLi1VEHZaWIplX+tqMh71ILy20uExSQ1H2FuxKDEQdHHFt67knqdeYufIJxzZ/R6Zl6czq9EWZFz57Bvs79vMi91XUMsa3LFgJcf3reemrippXJYdUxpZIFX70hU3MX/pFkbWzaMcXMxFl9zN8k1LmP/qT6iVTWmTlXyFrPIXkGBdN77HjhPHOb33XX7aaND1T4+y48xHHNn5PrfWz72bWqiIwlso9iCEp6sq3MBxSDrrSprXPE7fyHFGDg1w/MjHHOndzNv3XCrtrJnmHFQAACAASURBVItvf56dA1t48dW19PUNc+bUEBsWv8wVc5vYtct49NX5DO5YzOsbD3Lg+Cn2D29k0bNX0lXxqZcrXL/gAEf7lnFtFBE0L+GyJ+axtf8QvznzCUcHd/HBCz9glrD5JklA5/r+ckPYryX8SkASPc/qgTE2P5lSinxp/P9y0U4GBk5w9PQgh3Yu5tHZVzC7eS2vbNrJ0PKHpEMnqHXy+ILV7N64npsvTfDUKhfN/gWrDq7lDq/JlWmFuBpLkAnPbUW400uV/+pNnMwYq0mCXylz+S9eZdvAAH2jQ+zZu58DSx6hq14hiKukc37G8rVjbFv5FJelbdhGg9qlz7F6oI/5NyRc3FnGi0JmV0MK8RxmP/kBA6dO83TUQr1aZJrzA17duI3NK5/k8mYTJ+shCR0Eoz3nKmL69OLxSrbL7pBEXo0fYMnwAY4Nr+XxwDvnBCb2KZxaRs2v4VcdhNMhCZp03foKfcOn2PCE8PaZlLObWDL0LwyOLeAaPSK97X1Gjx9mcN9b3Frrohb/hA8GjjC08VX5rGsXjzJ29BAHFvyTdHbEv3qXrUMfcvC12biewd0rj9C/az5XxSmXvnOIfTtf4Yk5s2mWq9Rue4bth0dZdPu5V5EnQ5zi3molkUVYA8+nGj/DyqMn2PVcTMW6jFuXb+bYsW08Ejn0hN3cvH4TIwf38mpD4wdv7Oe3W1+lGfvEwW28veOg7FbyjOsRzWpw0TO7OLTq6XO+/rVSGTup8cNbnuHp+77L3Nku9y08xIltL0qNRjiuksqr7Dxzgo2PVUiqDvWwh87oKt7sP8rg6nsR5RISNyWJYmk6/HL1cU7sfIVryhXpFReOnPDhTXx8Ziv3B4bcG2smKXZqnXuA/WLlYU6NnGD7+zcQVixq4U28sekAI8f7WH7vrHM+waVKJj1Bwm5K0gpJ1EW9yydoNvHKLqlfo9LTSeZcxF0vLubAnrd5uDlXNpXbc6CXJb/opBrbzNBKXPryOgb2L+WZb5W4843dDO+Yz40XXUaW15hT7+b1NdvYteFhymmTaxb280nvAu5MbuOJbZtZP/9Svu+UUPIW2pwf8diitRxZ88o5H/9kASbUI+F46Gw0mdu1gFUDx1n/YpXapfexeM8x1j0W0bwowbErxMFVrOw9wbbF9zDn8XWs2rOEB+s1yhc/w9beDazYtY+N95aoNefw2IZ17Hru3K+/8PiKPmdp94+YUzWIYo+nV49xYvszBGFMZ2rTXXuOVcN9LLy7LqtWyeubF/HCkoPsfO0WStUYYZdnzRg/sLjx7U30b3uJ7qiEF1bpLvsYd7zD0MG1vFTrolGdJb2KlUiYJ+d4o/nqD3ZxZGiIPQvvkU3ARbOyd3cMMHT4EItvPfdueuE5FIZqXC8RhT61dBZuWcfXMzq7ryCbfR/b9m1k9OAeBv7l/+PDIxu5RVSEve55ho/28bRrkFWadGcJwV2L6Duyl6U3lLjxjR2c6H+ZxDGp9pQouzWuf2+Yk4c28mi9zjXv7eLg/iX8PHqe9WP/xu9G17G9/xhHf3OA340eY8/+AY7teuS8B1i9MpsozIhCl1L5BVb17mPNm3Mo3TBPruGauwNipcTFtRSnOofXDpxg76s3UPJuoO+Tf2X5DVXK9y1n7OCr3P7SPvZvuJ1q8BDr9u/ksdnn3kQQ2yz1ZiC9nqIfd1adxUubjjGy4WG5J1ZqlvCSx1mxZxerf1VjdlqVkT2i5dLLm8YYXvkrymLz2Q4ohQ2q8SzufH83A73vU/JUwqAp98Li+5fSd2gzL9XrhJ4u2zPNboxHcJxTJ0fy+AoOHhlgeNkDVNQAs3QjS0bGODGwi6fL7l+AwMp0lar4pSpRakn3qxZU6LnySTZs2s/R3tMsX/Ikl31nFje+tIx92xZwX083lXveZ8+htTxXK0sPWmcWot7wFn1HDrH6rku4Z8EQh9Y8gggFyy4SYUA+v1ixl+G9i7k5cbnhvWE+HtzIvbWnWd27nnXPX4le7sFuNLgkcGTYTk3su5znNpjYA5IbzYFD1nyeLUcOsuW1y/B/uoCh43t4/1cNbL9MZXaGZsW8vWQXY8vvIazN4eG1/Qwv/TlXrxikd/6PmXPTYvYdWcntt65hYNdzNCznnI/fj0rSPS9C9eqVgPKsS3hm1UH6Vz5KV3MWsZGRNp6n98QZljxVxi2106xcQTO8iqUDH7L95RtpNmqUswoXdwttp5tr393MSO8Wbo4jejoDNDtkzgurODC4gce7uqmVQ5K6CM36C0iwntvXsnv0JMf3vMK1cy5l1o9fYOfx0xzbv5TbGsk5n2DRKsfxFdK4i7irQs11SGqXcdEzazg4upG7axmRNo0ZoifU0kEGdi/gZuEUuXUxI8cGWHFnE1O7gDa3zg/f3cfw4AZub6rc/U4vpw5t4b5uB62tQLvX4P1d/fSvfYXuksv184cY3vUK12f38M7uEU6vvI/L4q+RlJoUlJBwboksPfde1MkC2Pd9OueM70kFpddZOXyIDQ9FhLOfYNOxT1j/VCfd9Q40pU7jsl/y/v4htr59m4zfa7y6nf3rF7LqwACLf1ah3PMES/dsY9HyVWx5sAu3rp7z9ReeY9GHu15qkKRiDyzjmWX7GFr/MqmIMKo1Cas38MH2Q/StvpfvN03sQifVix7ng/17WXvfxTSrFSzPJ3AVilmV7768lv69u3htrkstcdDC7/D4uj52bXqeKz1fMpw0DEjKs8+9itjVcxuvLOrl+G/OcHJogAPHPuWfTw+w7PU7aNbOPcBqcRdOWZFRI0FnnXoQEJWqpI++wb6Rbfw8DfjWpd/h6gdeZuXgv3Kifx53dvr4V89j4OgRdq18nit7eph10bW8vXEb2xc+Qlfo8Itlgxwa7GXZfXO57Fvf5Yq7X2XDhnXMv/0KShWPR1cfZ/jwEq5LDa58YRP7RwZ46pdlvt/TQ7PzTjau2cT29x8+5wQ2WYBlaZVaZ4BnZ6Tp66w7dpS9L7qUq5dwy8srONS/mUcvqjA7upiHV69j+97NvP69S+iyXOyr3mP/wCgfn1nN3fWILPs57244yNEje3it0iWjJyb9fhNoACIYu5rWqSZNgsAjqTT4YOdxTvcuJYpVgnqEEVf43qNvsH37Vh6bfQVpkHDPwjWcPLCJq+ptFLSQStfFXNGs4eopwZV38+7Sjexe/gSeVeOiy+9nw7YtLHrhezRFhEdzrtyaqaZ/gX0w03D5wY/v5401+zg8eoTDR/vYOv8pfvK9Crp17r1ooVuTsY+1TGw0B9SrDUxfxb/8at5dup5/HhlmV98gyzas572VO9m7421euuvHzP7lInYc3M/GLavZtn+Ik8PH2bFhKT/ussh3uNy7dEiqCQcPHmV97y76h/az6t1ruKLRSiGtc+9r2xjatoabPR999qU8ungNfQMjnOg7yfZ929iz4U1m1869ijRZAhab67GvEVU6uWLWAyzcsYsVL3RTLjs4jTk8uKqPA9t3s/9UH32963ixs4uGksOYO5dq522s3neAdasfozuLqNYv5un3VnGwbxV3VmeRBufeRBD7dSIANw4zGefY0z2XZ95bx7r3nqWzqyYdFSJWtnDpD3li7Xr6dx9i7KNB9gzt45GyTyWYxZU/epBla1axav6jfGd2wozpBt+/6lmWbe/jzJmP6OsdYvXS5/nh3IIMbHdqPZKhC6l5zp0ccbWLupvglUU0dknGcYmwEi126KyceyO3WveJ3ZKc5HrqE1fmEFcNalZA2Nk53j62mTG3aaLk65S6u7iomlC+6XX6j42w9LYeGrM6ZXhUrauK4yg0Oi/jzvd3cqhvEdelGbWyzuzqdzHDAmGU0ZU08apVKjURTd1JMw0IvYpMW2lUAuJmwNywLHs1TxYA5/r+ai0jsWyiOZ0kqkNlznfoLnk4fnk8lcf3mNu8DLfkSTVMRGN4zYRMC+ksJXJTvRnVCctdlJI8WnYFjXoZOyoQyxi/cxsq16w0KFeahJEjtxwCx8TtvpjLO32ioClD52o1n0j3ScVeXNKQwQiVIKWz7JHFogbjuO0l3O5BJaEzKcsN5qicEAQR3ZUSXc0IUSuys9GFiLkUweV+9peIpp9AhJ9rApno+SKNotysysBVAb5KLcAIajRvf5+9JwdZeGdIl+jh7CV0djcJ7Q6i6kXc/PoGxsZWc11U5hLhii0lMt9H5LzJeLqy2D86/zeSJ5qfqfOTYwDnXIKd9wsUxQhOFLk6ppfIREKR//PtX81j896tvHjLbGY1a+OJgc1uyqHJnEsu5xevraB35zK+l4ptgFTmBonUDhk/VxaAy2Qg63k//vOcAf6tz9+XHmAyNKezU4p4kaoiAlhFakoxmyOBdXktwQ/G076FHRJ7ltzncJqXMruW0SOylivjYT5iv0O4c4UEE4RRiack2N86QCb7/l96gIlkQbFXkolEu3JCOa5QL8Uyfq3ketI4FvFqYqKTeqe0H3pqMXF9FpUkpFSOZRkEoQ4KsIqEwbMAq0VTAJssgf6t3/+lB5gwgrNEBGX6RKWYwB/fnyo1M+qZSK6ryloMIu1C1JFI0kDmO8kg0SyQWcwiW1bWbPgMwMoiv2lKBftSz8GXHmBizyP0SjJAs1qvkaQiKzcgzHyZmuBH9nj2cVySnqFarSLVQBHXKNIRZK0RkYgnosBF5H7670bxH36fAtq/z8uXaS6+9AA7C5hyNl7aWFQIEhHWImO5VKsjz5dSKaHSJJJgE9eI85WKCOQcryHxh2D6rKr4ZSKoqbH+t4zkSw+wtBRJ6SUqXqVxIm0qAbZSlMk6G6J0myhmkpVCKaFEZSJRSKVWTeXe2tlqSMLuEjUbRDEbkfoui7f8GcqOTRHsf0uwf2vz8aUH2N/agk29798W4M5G0ot1E4WARF3Esy2MvlBdRIHQqWNqDqZo4I/TwB8CTGTVny2dLUpkf6HuKsLInzqm5mCKBv44DQipJYAlDtEE4izARAntLwQwx3GYOqbmYIoG/jQNCFCJQ8yRkFxCNfwi6qG49itnL576HJ+0qXmYmofP0oAAytlDnPvvssHO3jj1+e+TODUXU3Px56KBqSboU03g/2u/q7N9r6Y+/70h+meBdtb2EvaX+P7Z85/9e0pF/L0+/Vm1YOrvKVVR0IAAzFlaEN/PAuyLgEtc/5XPIu6zfyumSmLFmFYBzQvQzBzFXCxrzRnWxB3+Pvu8z/49I6fhhAmOWcA1RQnnAr7roesmlulhanlZqVckxnmuTcHQsJ2A0PYpqgVsy8BwNQp6Dsey8UwfTdNk7y/BZdxiAcOxcTxTXqtagXyGrnRgGz5ahybHZpiePG9aKrrlo5hFTN3BMzUsPUDXVTTdwbJdXF/Bsn1US5mQgzlBjGiabeiigpGHY48vmDCYLVNHd3wcU0FxPGKzg6IT4xg6up0QWzZ6oYM0jNA0A9sP6CgWMG1jvE+VpmOruvxui0papo1SzKMbRTzfwtQNHF3BDkPyLW3EpoXuGMwsKCRJHSXfKsejtOdktxxT1dAcg6KrkhRd2kwV3XBwvRxaEOLlDfKaiW+a6FEBxwwmHP9n1/u/92/LcBElzl0vQLc9CvZMXNcn1DKMdh1Hs9DEfLlFdKUkkyWLukYUF1HaDToMlSBSsRQNW/VR9YLszqMWxXzp2I6GpnlERijpQrEMOb6Zage6Hk96fBMCLHQ0TMVmRqEN1YzwbAVd8zA9HU1RJ/0C5cDFc1w6ihqKG5HXddlYwjNVbEuTHU0M00UvKhi5dhQtj+PZBEGAHvg4io/vpBKQgrAMQayaimk5qLqG60XkjQBV1bHkpKk4joXIjDVMmzgpY7g6AmBiwlUtj65aOLaGZ9myCKmhO5iWIktNG4aFouYwdP+/epU+j2gEuCTQnfHOiIWiSlHR0A1LEnebbuJq7YjONeL9OpyEwCxKQCmF4jigXZ/21jYsw5RAFYVsHM9F001sXaFYzJPXChiuiRcIBuBh2y6aomNpOnnbwg5iPC/Adh3UfIHizDbZlkpcZxQKeKKRgppDALVYsHCVNiw3kr9hKQqCMfm2QTEw8YohgojPdnr8vPFP9tx0ZSaRE2AoKsVCTmZlmwWTdruAXrHpMIokjlgvk6KakNp58l9rIW/paFUfUfJC9I0TjEkwOFc3MdWCXEPBLMXY2oua7OBiu5acs9BwMQMT1508fU8IMMFNHTccL6DvZMS2gROEGKmHWZz8C3TkWjDUdhTBiQNHimPX0RHEZRgBhmZi2poEmy8IxRWEqqIpJkXNRVUKxF4q29UI0LuxmBgXS/fGQWXqaKqLZ7pEvoZuKgiQiLrs7bqGYYmFa5OtioT0MoSEND0pAVTNQkhwSch2EdcWblqxk6/KJm9CYk5EQEJyuc74nol4jmhCIaSa4MaCCRRNk8i3JGBcQ0H3RPCyGLOFZaqIdxBEL95ZpOboqiGJQEhpIcmE9LaEhBZFanRDHkL666aBE9okfkwu3yrnUFwvfjcRBTcNQ3JsMVemGHMxoGh24LkRXjHGDXOS49t+JLUFw3GxXYO8p2LmhUQfl5wTjX+y50VNDlV16bAK5KMcdlQnCUJcLYddzOMHNh0FG8vRyRcLaGFR9jYTOYHhtBbJtIS20a62EcRi7kw0NU+cWrIQUClMaTMU8sV2LKuAo+fxTRfbS1EKk9fQJgRYq2bghgGZr9IxM8eM6dMoGgVyYk/gzwAwLy5RjV001aJYvJBiXsGJAsnBQz+RQLM9FdXSUIW6YDtomoJnOCR2QMHqwLI1eV2ukEczVGwhuXRddgMRUtA1LQkg3bYoGIZ8tlBDBWEatiJVNQHeQrF9XBKqBo4rCNBAs1zCMMY1NdR8ThKWkB4CHAKMExGQ4JqCGAW4xCEkl7inWCyOq45qTqqJBdPHKnRgqgp51aBD0QnMPLpmS2kkfk+qpZot/yfUS8/WMA1FMg9TcynkxfvY2KZDPteKZrRxwTdb6a5XMI0i7S1fl1JMEWq0msOKA3RTwwt8fMtDcccZiKdamImHUB2FlBfv267MpFgwUK2iZE5eaEn1caLxT/a8UTRp01QyzybV8rTnHPLqhag5BS2t0jAtvtlqYoV5Ar0dS/Fwiwr5tq/TWq3K9zdEPU/BGB2NvK5iCyns52lvmUah4Mn5F+aAa3iYjkpemSE1JVPOx+Q8qhMCTHBBoZbl83kuNGPSzi7m1G0U1cQVXPgP9gj+R75bhk3HjBnk/Nmyv66dM7B8WxKOUWxDVRx8z0HVDAkwYUsJ4pcA0QvofohlGdJ+E03XhH5umHkUtQ1LqImWJ6Wvogl1K5DN81xLxTaKKLk8RUMALJQqpwCMKHMmOJxh5HBcnfb2nJRAQnoJe0/s6PtBJPX+s8T3eeMWqotQC4XkEuAq5DskWIWKGviuVFU100PTx4EUOqYEtQCjkHyiL7KQtsLQLhQK8tPzPKmeKopCoFsI26mgqXTYOm45kipwR1uBOOuU2drtHQozDRHsbOF1TCeXayeLBOhtOjra5HhMYf+poVS1HKsN1agQBYq0UYRUFTQQWGXJaIXdaPgGSnFyxPd583b2nNASRD3EttYCthEThZ3kva+PN0Nsa2VasVW2GrILLbQZDmbcSeoXKbuChjRM35eMUDTxE6aDG5gIwM2c7pJ19ZDTc9SrHiWrQG5aO6pdkn3EhO2vuBN7Cc++55/6nBBgid5Ba64Du3YpP3zibVZv28EHT1xFbBoIteFPPfiL/j8IHfQw4K43NrJx/dv8TDSazs3Ec2Pyli/VPKH7m7o1rqJpbeRyOXQvo2iqOHYodXMBGN+0MQSHF2qPF+K7ZQpFYcgqKGoHjm7jKir5fMfvgRnhWwpaUdhYKu1tLbh2xsz2Nqka+n4o1TdxvyBGYdMJIs93KFIqBWE24fgFMITNJdRCMSdCElbTUIJVAs9yKOTyWMU2aYMKtVDc4xoq7arLzJY2ikVVRvgLKSscIkWlA8UQNUgiOkxLShUhUYRkdQyVXMsFRPU5PPbBPjZ/cC/leoN7561j15YVXN2VSrvE802UgqjtH8rWrAW1FStn4rkmdqzRMU3H9nSpVehWDUMv4jlVHGUG37iwICW9qFP4Rdf5f/Q6qdbNbGVG3MXTq1cydug0vaNbEOX2ns40HKHSWibfCGs8Mn8jh/b1sv/kdvb0HuZRZTqOUkDRc5iuJ22vxDLIzajS1X0nS9ZvZXTsOMOH+li58HEu6yrQ0prDcso4hSIFfWITYKJxTQgwbYZN1xXf48EX5rP44DH+z//jP9O/+C4CsZCF/KQnWEiQXOBz/5ID7N/5BtcGAaaSJ4rL6Op0otjF0opSz/ayipQquQ5Vdpl3tGkIohNGqiBgMdHtbQUUN8H2PZyO/43YE5NkU7Qi0qyGLZ6l6PjlEmbbP6IXWslpEUEtpqOjA8coYYeuzCNTp7UQuhat+RY0r4KblikIQ9v2aGQe7TNbJhy/8BYKySVsH6EWCsklJOG0lg6sUhee2k7edGRKjRt5qDP+HuH4EI0HRUP3eklBzc2UjqV80ZctX8fV5bxUjYW7WEhszbIpaiVCO8VVWog7O3lw0V4+3vG4ZBx/785idknD+Ye/Y4Y9Cy20KaktGEWLmdNn4NS66I4tvvrNb9AaV8iMNlqtVHpuRVKrVfxPtBl16SgQ/QLqkUlr+4wJxz8RAU50vkNrx3cu4f3V+9i7ax7/5FXxkohfvbFFdr+5zbH5h9aQ+rNvcaB/H4+XGpL53/X2ZsYGF/NPggkUXVl8NDR1ioqJOesnvL1oDUNrX0YvlGl238WytUt549nvErkz0RxHqpvC+TXR+010fkKAucFNvLxsC5/+5l/oGxzk9IHdbHr9x9LZYNuTVxGcvIri+Nzw2l4OHdnGgTV9HProdwweWMfapytSsuTaTUo9V/Py0m0MHj/GkdHjnOjfz65Fd0oDPun6Nk+89AHbtu1gz769DB4/SV/vEla/drH0dHZYTS678RlW7x5i7OgoR06cZqxvM+/eUabdSbn4xkdZuHc36zdtZ3DPKEcP99K7biHXpj6FtiJRtcFz89YxcPJTBocO8uHoEBuWvkIlmHgBhK0kvFUCYMKjKNRCKblKXTz7/np2L36exbsH6T12jL3bFrP0met4dvEGdgyd5viBvSx7/RZ6KhbTpuuEnT9j3qo9HD59hmNH+hjYvZIfWwnlYoG8X6b7+qdYfeAEH340xJYNS9ix6ygHlz+G4yT88o1VjO1eypVxmZ5bX2dX/1bevSXGMBLplX1x+V42LH2arHsWN/56BUO7X+LllYMcG/2Ukf2rWfDGd3nk7U3sPniED08Ps+G9B4nTZNIEOBGBpnqZr1nXsn3oBCtfbVBp+0fyRpWC/SDbRwZ461qVJL2JhRsG2bb2FhLlm1zYVsItPcqa/f0suNajbBekFpb5Jl/VK9Qfnc/gmZM8qPwdvv8N/q7tcl5eu5sNyx+h4mi0G4lk1kWhfk/SBJoQYH75OuYvXcSb93yL5NHl9I+M0f/O9YSuN+7hm+QLtGshVd3kR+/u4uSZg6z79c8JUh/9+pfoPfZb1j3eQZt7nQTH3r3PUyroXKCb/PS1DXx46jDzr/ekjfarFX382/EBnrwmoxbZXPHqOo6f3MfDQrW5cwVjY0dZ9ZRJq1pAC25g2faTDPe/yU+F+vjTeRw/9W/s+uBnsiBnat7BsuHf0bfoKlTb5LltJ9m/+02ut1ysvELlqR3sHvuUDU/kJlwAS9hzjo3nh+TympQ0okd00fB4ct0o/zK8m8d/ltHjtHPjisP8l08/ZsVT36eznhI8tJqBsdU831agNbiP5Tt3s3f+7RjtrbK+yEPLRhjd9AJBvp3pt65g4PhB5j1g4nlV9Hte5tTpT+hbez+aZXLz2330Dy7iJ04J46pf0zcyyMLrfHzNpmBrPLP5NMPrH5JetO+8PcKZ0c0sebwk3fpXv7SPY58c5/DCh2irWFz8/dfYdHyURTeNB79Olgg/935feHFtbKWd6X5KbJs4eR//hrc5cPwIb1xtU1QfZP3IQdY/ktJq/i9ESkwU/RMv7jjGnvk34+liz1Oo1TFJ4HPjgiMc3PQU13jR+NZM0IH2wGY+OrGO+41WHN0llM6QvwDAOi7USDubJO5MWu5fzsixIxyYd7U08guFiTdaP3fyTJMkUKRx/U+LDjO2ZSG/7CzjfPUfMcIenlm8g+OrXqDDbiPneVitMUVHx0s9Zv18M6v2bea9m02pJj68dJi+jS/TcL5Ka6tG/aGtbD+wiVXX/f/svWeUXeWZ79nfZ826a829s25f9+02GIRU8eSwc9777BPqnCplstsBMCbnIDC2wYAAIUAgIZGUc84lVZWkyjkrAzbGbnf39Xyb+fibtbea6R6uoXAXZey+9eGsqnP2Cft93+f/Pun/Po9FLHIN0VgVc+t1FhgLw6DGXdtPMNrezANB/uehTXQMd7Pr50Xi0RTRZIl3OkaY3PvClShj0GY2Xh3m0yK6iNC4ggNHT9C8IWgw/uVaPEiO1yUCny0IDwthjsqUUiTSEssPDNB14DWavBTVdXG8t7rpObmFFxcmSF47lxrnNVoutPP2fQ7ltTs4eGIjryxwiVbFSNZmSOu/oGWwnVV3CTx16ChDx4/wmFmHk5iD0NjIi5sHuLhvdei73rOxnfHOt3g4ZmE8sJfBi+O8c9c1Ya6rPplkxZ4JBg88F/pg9+w+y+SZ/dyrzqU+EsNcdoi2kVaOPbqE6kgVseyTbOrs48RLXz72qebmq1xPRjWsVBIxHsHymhDnXkXM9XnmUC8f7fkFvlBLWn6VvcMd7FhmokvlcFOollXePN5Nz7t3oChOSDxIpGuIJudw3/u9DLW9RV4wyCbNsFZm9KGdjPTu5TVDRRJcYjGBbOIKk+Or3OcXvWdKDZbXJOqiKSKxWuKrWrn84XkGN99PWgvo+9N3clORGJG0bw/iSwAAIABJREFUyiPHumjf82gYvYtkhLC52t07zjHRuYX7Mi526io8TQl7Pp1rH+Dg6GX+4bdjvHtXnGQiwtqjv6Kv+RcEuaS50QzWw0fonexnx48t6jQtLB9d8Z7n0GgLzR0nufQpnG17gx9H4wiPH+TMwGm2P6KTzUapz8i8sreHkYMv4Ucdrk7MJeP6PL69jaG+Xvqaf8U//j/n2fXk1E5wkBAPwv1BFDJIXAfJ7CCJmxVUXjsyysjx50mlY1QnsjjrRhk68w5PmxrJehFFWM2xsWE23KPwgw/O8MmvR7l0+Az9v/ktH53roGdgkguXhthxZ4Xl+zoZaXmDgiRzTX2S2LV1PHCkn9Hm18gI9fxg4wAX+tbzYEal/gdr6ehvZ8+jGtFEbRhJffvIBGMnXwkjkD/e3MJ4y2Z+lLhyqDB2/06ae/aw0qq7YrUIj7G9c5z9r06twb9I8L7q60FONC6r5ByVZNU1VEsF1h1t50L/GX5iy8yLiYjySlrGBtnx8HUk52aJy8GGavHG8Y8Y3PpdYrJJpD4dJqkVxeOJLYOMdb1DtGZuGODSMyLZJ/bS13s4BFgqFqdeSGGofwKABXSooKtjkIfIvH6UieF+ut+/5wpz4GsI0wbBByMr8cC2M/TvWUnRa0A2PNLxKm7/oIWRvrXcq93Iq8eGGBwe4tiZrTzql3HvfIu29sPsfNAhIcZ55/hv6Nz7ILroEpEiKLe/w/iFQd6/7Tv4xbUc7Omns+cCvYeep8F2uOftHYz37eY+MYXx6FG6+k6y5T4rpBkJmsLaA2cZaH45ZDA8vvsEI0PjdHQeZtX3vk8l9VPe7xmgdc3UO3gikQqTyWGyOZ0JE8jBJiCoNiuPTzJ+4tUwcaxJEYw3Ouk5/Qb3JfJhyFlKP8/+8ROc/LnGPZtGaDmxge8lxbDpdwAkLZWkNh4nr9Sx7MAEIydeJhuxqfdsynKWH68fZOjoS3jZGPdtu8TZge3c6eqIj62nd6KLLQ/poR8pGQYr9vWGc6MJFvdvauNi/w4ezbkYQZDonq1c/LCV57MxVMsnK/6IA92X2fva1OP/qkD6ovcFebdE3KSmWsTJ26w70cdAVw/LGyIkq1Mh/UvJPEPb2d+yb6VIIiuTCkqe19zOpo5RutfciWEFUdskrpBgXiLFrWt3cWHwIPeJOrZXy1U1MfKvHqR3+CA/tzSMkGigE/9TaLC4rKAKOrYsEHl+L+NjIwxsuI9suhpNnr6TGyR/9VSCmz8Y5NLJbTxgV3Pt3/wXquQSazo+ZuzwK5TE+1nVM87pFxux0/+Za76t477cTO/YMLvuFqjO1LOm+R/oO/AQtuyRNFMod75H10g3G5/RsB5o5tTwNp4rWOhX/Wf+JlFi2b4Wzo+c4K5UmvS96+kcO8behyuko0nSlsg7x8/Rc+Al0toPWd86ROebS7Dlv+Zv/6uCU3yDvROfcnD51CZySBSVRISAvpXIIBtBmDxFbUrluf1DDB56OWSF2GYa8dVT9HWt5qFUsGkkUMVfsG/gPG/dHsV78SCXL3ayYZFMdN7/STKjM0/PkzSy6IbAw6vP8snARm7LXsuca/4r6fxCXj50jv69y8lG4tyxdYyBlte5NVpP5YEDjJ+/zOof/i1V19YQVX3eOjbK6PFXEBMOd23oYrL/ALdWfSfUuFXfXcf4+WZ+Vj8XWTGpS3yP7WfOs2d53ZQm8hcB5yu/bugUq2vQinfzwdEW+prXc2fJwpp3NYKdI540SGqP8Oapcdo23cr1iSRXzxMx/JUcuHiG3feX0FJV1CQjJLIxqiSNm9bup7urg1eU7yDJ9Vwbu4HnDw7Q1rySxmgV0UgGLX0l7/qV7/MLXIUpTcRMNk40SGQGrI2VJ/n415/St/0R5NScMPE73RtIxeoxZIHbD1zk00utrPtJhcL3FnHjyzvo7jzOm3fnKRor2D/Sw6kX4tSmdSrXr+D9A8cY/3ic3Y9mqU7U8+bRDzl7+uUwShfsSPr9exi8fI71d6YwVx9g/NxJXhIM6i2Zm9/Yy6nO33C24x3uk+uR79tC76VhDj3lkKr+a65JCaw8eIGzJ1ZiZR7hndZzHNlwM0kjg934LKs37eCj316i7dmpfbAgahhwJwPOYJBUT8pamA5IShar2y7wccsrIbOkJppAfe0U46M7eMRUSdTFkMS3aPtkgB23zSNauJ2Nh4Zo3bCKiiWRtRdQeHYNn7Tv4SHDQtFXsLOnnT1v3MLicgl72VpOTYzxaferVGVEfrR7jH+a2M1dsSoS2hPs7P0NgweexCgsZumPH+DwwEeMHX2BRDzD/ds7+ORcO3dFa4hnRIRHdzPyUTfLhRqMILmtP8a+0V9yatXUUdTpykd1ZB5x2eXFXT309Jzi4fka8bkRbLNEXV0KOXM1kWSOm1Zvp6f3OK8UHAQ1w2ObWhhs3sVtRjW1c+sQzPl4ukj1VTXEG5fxwb4Jhg/+nFi9QKH0FEdOHGXzazcRWBIx3UJLJBCk6WvoKQGWrq+hVsqGPX4bVx6ku7OLbW89gGsFZNOpfZApJ1hMocoa97x9gs7mVjrae2kbHORIXz89a8rMN+P8b9dFaHhlP0Pnf8XQrycY3n+C08sPsbv/NIfX3MP8hU08v/EYhze/hO3oxOMiDY9t4HR3O3vurUHSF/DC1hN0n/2Q//HxWfYf3cnT6w8zPjjIynsWsGTZNo6e6mT1gzp5O4lqV3hpRxdjJ97mumiM619pYXD4IwYGznD5VAvNWzZz5MRp2g8/NOUOnk6mrrD+0wHHUSKSzIZ5vaAe4/Ktxxnc9WJowgQ0qOKz6zm0ey3fKxhICR1Z+ymbBg6x66Ebqa82sBe9wclzY4yOjtLfc5yuj4Z4ZuEC5s/9Ft+JCiz+xRFOnDrJyPgZWi6N03G0l94dT4dthu57cx89R7dyb8HkuojKd9ceoL33BF1DIxw7c5wDbcMceu9x/EKOB9/dzpmDH3B3ziOWSlN+7D2OtB/gZ0Un3CiszA94/dBhtr9YmnL8U67/F+z8n30umLPCY+/QdvH3/MNEF6M9/Ux8+CmDva1cPn+BIysa8TLV/Ke0w8/3nqW3rZXhcz10XOjidVsjMVeicclD7Np3kkNbfs6NvsR/++t5LLx1NXvbWrn44Vn6Ogc4uPN5luarqIvUhjTAgNCcTKrTHt+UAAvMw7hjIdf+Ld8SSniKhCZXhb6JlJk+whXZpnbeXJSiT7L674iqBYpiLbKaJxubGyaF865DjaggRq9DjWpk8yrp2pqQhOypAnPnXUO6UKSs2iHLw8lGmWO6qKnakM51de08mmyDQFtWRUUss45oUgmTyDkpzn+ZW0el5CJVX4OgLCFddy2JnIYUieCpGv+95jpcxaRKU0LCcF39f6c+oI0p9pQLEJBpAxpTkAQPCLmxtICrCSRrq0jm5uNrOt8JjosE/oGRY75tEInXoAlKeIxCEwTUgPtpzSP+LRnDj1MbHB/SMihRgWztf0fMLEK05hGr18LSYgGh1crMpTqjh1HCSF0cJUisJxPIsQx2ci5Xaz75jIIWEF/lWuZEclTMDPU1aWr1AkU5QjYhhCcb5sSCgq0Z1JoYtZaE8J00+o0ltEhgQk5fBr7sOwLmSzojh6cIAm5gQCELrCrRMsMjKMlMPYruoNZ/m7Q6H1GrIpfUqcvUowZHa+QIcxJpZM1FTF5HVjJRMnNJ1+lEDYFoSsDRDEwjwrw5AfHaR8xWoUkikezULsCX3XtwbUqATfUFs9dnVsBm5/cve35nATbDO/AsQP6yATLd9ZsF2CzAZtzMm66Q/iV/fhZgswCbBdgMysAswGZwcv+Sd97Ze/96TNtZgM0CbFaDzaAMzAJsBid3Vgt8PVrgL3keZwE2C7BZDTaDMjBb2Xe2su9sZd8vkYGASxpU8Ar+BqfHPytV91U6qwSad1aDzeDu9Zds2sze+xXzNigwFNa1/JcOK5/NS/BaALrPnn/R37+a7bj4l9VxcXa9/rTrFTTg+6xHWNAf7DPN9W+12ReBK3j9r2Y7G/7hzoaz8zI7L4EMeJ5HsKkF/wdNCj/rEfaVARYgdPYxOwezMvCHZeDLAPaVTMTgC2Yfs3MwKwN/WAYC7RVsPp9psM98r0CDfZlp+Nm1v5rduf7wzjU7L7PzEsjAZwALNqDARPyqpuH/B7BZp/lP6zTPzvdf1nwHmitYs1wuF2qyfwuwr2QiTrXgfs7GUy1cw8PO57BdA0d3cUwfM3flx6f6ji+7nnMW4ToFCsXAmfRw7Dy+76MbMqapU/JzYS8r08rhuQblvIefKyHZFparkcu5+N4CXM/EcDUst4Dn5MlZCq7VQDFwTm0Z121AkGMU/EWYqkTBb8DwHBQ9Qy63gGLOwS424NpZ8oKPU3bxTBfXNMj5JbK2GV7PKza+ZZG1NMqlpnDyv2x8M33N93IYtoTt+NjhOJvwixaOoV+ZtwYTV2kgl/fQHAPbdPALKqajkvMb8Ewft5gnnytQ0r2wmpedz1PJuZiGhtWg4hkWqmkh6TKe10iDXQp7A+RLV3b4mRxj3vHDuv5uwcO0nPCgZbFUDsuPO5aL7SiYhk/B0sNT9lZxYdjMouRJYWsqNa/j+x7l3BJErSY8eFksORimgm42hmNzXRnbt9Asl4LkoC2q4EhxXK8YmoZfZCJ+LQCTTT2cdM0OBLxI2fXJl32cBh9ftqYtYLm8HNaNLxQK+H4hjNLYgTA7OpVKA5odNGZIkcvpYY31oIlCAPCFlcUUcuUQaIqfwHJ0bKVMUObZ9U2cvItqychaDq/oUMg3hUUny8XFFBsMcp6DLYs0NiwO2wWpiTp8dyn5kotmeogNDo4pEWwAZccKS0XnC2VEp4BdKmLaBkFd/ZkUrq/y3aZpX9lo/BKWJWFqOdycgmtaIWiCzaAYCGDBQLU0dD1HPr8I027E8ARKFQdX0cNiNnoxh5ezsBQF3bAwCxUMuenKWjSVydkSkpjGzBex8yp2Rp/x8RdKeUyzGK65Z4kUfZO8U8BSA63iYpZ8Mp6IYVWwVIl8QUK3cjhuAdtuoGyVsQwzbF7YUPbJ2QuR1BS5kkfOtyg0eJhKI0Yw3opBxcqj5GzKRSeMTQQabEYBVqosJu97ODmNYDG1jI2gGih5g2LuSgjzqwjCF70nyC3k/UY8twFVlcn5Bo2NZYKaFYE6towGKqUcjmNh2T6m64Sg8x0X3ZDIm9eHu7Gd8yjmy2H9PM2Uwi4cJbOCb/rYRjYEXkOg5k0HxRKQtBwNlTKOcQWMOb+A5SwIO4o4QV+tYJfTbBw3j26mQk1WKS1AsbRQqMpOA35x/owL2BfN22evB/PkeCY5r4jjKDR4DZRKFqpmY+sKObcR2TSxTJWS2UTRzZFzM+iGg24Vw84zgdUQaDPRMUKwNviB8ObDrivzCz6iHMM2iuHGYlhZcqpLOWeSL94w4+MPmloUPDtcN9e7sjEGm6ys+/iFPEWvFHaz9IuNKKZKIe9S8BeHlpatZ1AdFT9vk/dUCo6HaTag5xTy3hIcSUawRCytgbLjopY9GvwKsXgtuUIl3NRnHGCqdoUiEoCr2LiAXFMjRVMnL0th69fPFvrf+9c0XMrlUgimwJHM5/Nh473AbCsUK6EK9xtyYQeWwFQtFz20nEfOaSDv27iegGs4GHoOOxfscE1XNgRXJ5+TsQM17+TRHAfL91GlNEsaC/iB4KkJvLyFbTUSNDSwfI18XqdomwR1QIq5RTh+oK0sVKNCg+VTCCpLhRuLF+6E/95xf12fC7R+ADDL9FANEVdzrzSlUxtoaqqw0PVRA/PHTeLYJrpawDB83IZGCgWNxVYZPV+gqeSTV01010ULTG/XD81rV8vglJdQtFwE1bwyP14pbMoXCOfXNY4v+p5SIdhgVUTTRs014ruL8YsGjfMbKKQTuI6FmfFoWlhEtGVMsYyvW6EWL/gLcH0dWbBDbR64GYF52FBUiNW5FBblyJebKDQ6NOlJaqqj5BtvCLVgQ/G7aEZ65k1EVali0T0Psm7DSfr7J+m/3Edf80beve9unKz5NUxwoJlkLMshn1uIZbuYtobn26TF2rAGe6A1gqItjV45FHxdVykqJoqhk3ZMKoUyJW8+spXAVvP4rhZ+LmOqV8Bo2uRyMqZfDmvEB+amoprk3AKiZoWAKlsB0FSMYi5s9qArgZ+phL+xyNZpKDbimhq2JJMJzI9yYHYVvobxT8/pN3UDy9bwvcBsc0MNFgjNLU+tpbWnlzX3x1hQqCApeXIL8mh+Hrfxezy3eiM9bfv4+2C+VYWmghHWubSMYqjttHwFS/ewdJ9NHeO0HnmeG8teWARIbiqj6uVw1/8iYHxdr/vOAtKpKN6S23l32x4udIxzMagadaqNV3+wMNwsFix8k93N7fzq8id8eu6X9E4coX18jKGJCfrXP87NS/Ik3AS6beEpMkqmkaW3vM7h7l7Ghs+H83R6/wZ+MF8hrjkYTpqCMz+s9jXjGqyoLuaF3UeY/M1v+GX/GINj5/ntP37C8J53ebAyfRvcClrlOA6NlSVhryevoFBqKhBPqTQtvD7UPIt9n8aChiqk0XPzKS1aSIOqki2WKDs348s1YUDDX7gwdEw1tRrHaGJJsYjbWMJWi5SKIrLo4dplrEYTw5dZIHqUcg1ITi0Zp4JtLsF1DLyCTNleSKlsUCka6JkoEbeIVi7TWF6AY2uUnKAxd+M3DjDPCYI4WqjFFdcKNZhgepSf3ET/pUu8t6zEolIDsmBSKefxs7Gw3ar9w9uY7xW4tWIhRiX8pjJC43wWuY0s0FSMxkqorXVTY1PHJVr3PotfLoffk8+rVLQMplea8fEHzc+9YoVXt57mdP9Bnrl1KfmGEs+9f4yB5k38pCKSUXz0xR4V2w1bxGaWfo83toxytm8fz5dzmEEfNTHL9aVFodmv3fQ0Hxxspm/7chzJ4oZbX6S5o5O96xaHXVGDNlIF1wrN6BkH2PxFazjYP8zg4HYeXrSYRZWn2N1zicvnW9jxwPSjaK5rh0504EjqVjaMiCUTTSxd9CynO8Y5d2GAodZ+9m1/i5vKSRJGA4+9tYe2w6309PTw+4v9/PzxRXz/h0+wcddBxoc/4vJvJhgbP8eJLY+imQJu8Xn2tHfRdaaN8x2djJ87T1//cZYvsgn8jSo/x52rNjEx2sfF4UFa+09zqqWDk/vfRRN1Uk3f58F3DtB3qo0L4+doH+zgwLr7KbupGRewqTRBEHEN/FNHt1F9hyavgO6V8B7fQsf4EP3Ng3T0tnP2Ujfdpw/zSEOeBrPCM3uP09b8LreYMsaiO9h+6AjjwwNcGBylo/kMB04c48Db3w0d/Bd2jPCbvlFOD3QxONjPpclzHF1/OzkzOePjdz0NzS/wxoFhzvRs4EdyhL+rSXDzqhb6J46z2mjENzQ0zw/dloTpceMza2ntPc2hjYvwxRTFxgIlP88Sx6dONrjxlQP0nevizaKGrcno9m08saeL/pan+W7gkzsehaKLZVxJMM9okEO7dyuD585yqfMDrhcddPFhdg5/yNiFZla5Vxz+qYTgy64HLVkL+fKVZnOlHBnR4qYlr9B66gK7Tj6JbpYpNbxC/9h5WjY/ilUs8NT+XiYG29n8VB5JtVh404PsP/ExZ9rXsdiyiRs2yze3c3ZyhB1PlCiYr3Py4m/oPh1oXRvTuZtD3WeZOLoa2Xa5+bG9HBoYYu97jfheEwtX7qDt7AgfnXgDo1jh+rc3s/tMJxtuslHSLk0v7WewfQcbnvnmNVjgG7s5D9/OIXsWZcMIo6C5J7YzcG6YwdY3wshZoWElXeOXObbpdorlHLe9c4ZPJg+y3Cxw3/YDjAz3saIhj5fL88q+Di598juOvC1T8nyeOtHHP/X3svYnBUqewMNbPmJw9D1W52Y+yBOE6ZOaxfJdowz07OXVhjLFUhP3fnCa4b4d3Gu5+CWZvLmUghLHXXIjqza1MtSzBV8ScXIl1MD31OxQ00uVAi9t7qFvdC93mxpB4ES1RZy3W5kcbOb50nxcXSdo9hhosRnXYI4Zw3SbqPgG9aYeCtfkp//I0J4XwqjMl4Hnq1wzdQvdlZnvN2J6gU9j8cT2c1xu38y9nkVes9Dz89HfPMblX7awXIpy385zfNi/lfttL8x5BQGJwGwLIpJB7kLKW1z/8FpOne9n12N5FO8V9g99RPNbVpjTKpgeD+4b5mz3Fh7yPB7e2c3k9hWh8yvlHYTCYxzrPEv/sZX4uZ+yo3OI469XyBdcZN+k4le4b1t7WMv9q4xxJt/jm3l028HL6dg5P4z0WqaO+7M9DE8MsWtZEP3N49oe646MMtb6dhgRvX9bF5ND+7lTu5d940GFXI+8l8WqeDh3buPMuYu0vZnHc21eO36ZX554Dd1vCHNjpcf30Xuui53Lpuc/fpV5qTiLMDwFPZPD+WA3vf199Ez08Lu23ehWPTnFQKzYLLQXoyhzWPqLDobOtrHh7oYwpO9bHp6ZQ3dFrJwZrv+D2wf56MS6MNfqF1zKymLMZVsYGT/ES04J15DwnCZMPzPzAMv7S/G1FGL+em5edYAzn45z9vg6nlqyECU3/SBH4/wmbCuHLTqkTZXGpiLL9/Qw3LbiSrIzr4XN0KRH1jIy1sHqUo5HdvYz2LaGh60iVqmIbGdwjRyF+bez5vBxLo6McnLwn/nV2Wa2PWTh5FbRcv5jmlfbYRlpXze4f3sfE73beVJ0ea1jkuG9LyCaJRosA1kyWHWyh1+1vEvWfJrjYxf45S976O8a5PLFQQb6e5n8eILLLetn3ESaSggt1Q7TFo6rh21nAx8yZzs4y3bTPdDJrifyYQjf9CxWHx1h9Pib4fWHd/Ux0rmdZaU1tPcMsOMpC8kshpWGK+XXOTN0kea1NpYms6rlEheOrwy1vaYKNDyxn77z/Wy8f/oWzFTjCwIwTmOZXZ0D9Bxt45VCIPhl7tqwi5GzY6ybXySnWNi6RjpX5Kl3BxjsfI/HlvhIjhxGjmXFCEP6JatIg2bzwJZWhg6/RSnnYGp5FCOO8dPtjAyeZGWlSM420OV8mLyfcQ2W1GJkKou5ZcUG2s5Pcv7Yep6an0dLKBQKC6ctYKIaCcPglUIO2ZXCaN0bh0cZ7FiHnbVDc8bXHfLLd3BmsI03bIvnNnYy3hton8CfSJJwF/LOvh4mxwZp6drPS0uup+nx1zk1NsGBn+bxnDWcmBhl30oZWdIp+jaP7Bhmon8Xjzo2r7Wdpf/9e0hqBo35JhY6ZV4/OcbE/jdxvB2cHupm6/olOGaEQvl6fHlRmG9zrMy0xz+VgE11PZ/zucKosNA0A9dVw0Rs4alDDJ3tZ/sjRYJAiOhorD4+wcSxNyjlijx5aIzJrq083rCWo13tbP2pFSbuS26JXOFVDp0a4NDbPjnPZFXrWQYOvkS+XAjD3rlHdtEzOcCux6afB51qfLmGBuzU8xwYnGDfWpdsIcWipINVfIAjnRfpWPMj8kFC3Eni3bKcg2cm6dz6IIsCzaVqIX8wyH8FjeBNvYBrOzx0oJuLPQd40JEo+wUy+SRLXz/FYMdBflYq4XnzyTk6+fyfgMkRLM7trx/iwOQFLp/ewi+WLg3zVP4NZTx1+k5+3gk0kEdDycc1VFytzLO7gqDKTh4qyyFFqy7ZyKK3djEwuJvlRY+nNgwwOXqEZW7AJCmTL6+gZaiLwy9qYVI4fk0DTa9vo2tsiB2Pasjya7ScHaHt/VJoXxcqeR7eMsRwxybudlUe3R10OVnDLZUY1VEdKXc/u/o/5KPWNeS829jS+yF9W5/iBk8nbQhYchJx/vXk9PI3DrCgwZ/jyTi2j2v75IsGtlXAfmgP7eM97Fzmkzd1krrKupazjB9ZQRC5fWB7D+Ndm3jAvI/1o5Mce/82FibnEJMUyg/voefcCK1vNYba8e3WUfr2vUKx4IWJdvOhnXRM9LFv2cxTpTxbIld4m6Nnz9O1RkJ3TUqqRaryNJtO9NK7/TEWlRejaQmK9++ld/QMWx4tEjCPyuVGPMum0cshGmJIjVM9l4VvHaHrdAsryylMNYXk3cKLuwbobVvBrbqBqBQpOAKGoc28iagvWMP+nhF+/U+/5uLwJF2dpxi5NMmlsXY2/WT6eaBKaQmiroaCWnAchLRG8Y5V7Nl9kPHDb4dBjO/fsYI9p7s5vfNZmmyLH2/tZ3LsIMtUgZQgM7/0OtsunmPHy40UK/NZ+t3n+eBoL7+81MOupwvo7mscGx3k5LqFyIl60qbOoxv7uDy0nycNh+KyrZwYHmTD8jv40a230PT0+zSfG+PSoRfDAMGN77bRObCT9c/djSfbLFn0LFtOnGJg913fOMAKfp5C3gnTD7bpYeWCRg0+pce203N5nO3PGCHAFDPHplNnGTvxGsXiIh7Z2smlycM8qRZ4fn833af28ex3F3LDkjIvbh7k8j+eY/9P02Q0g22d44wdezfkYMYkkaafHghNxO1PTj9NM5UGS+kihYb5vHO8l/5Te3jcWoJVlHh48zj/+KsDLF9YoCgo4ZouWd3OyLnDrCoZYRsrVTMoNDYii07Io13U5GIlY6jffYH1u04xevQdDN3hlhteZs/RA+zc+EPmF9Qwn7gg14Sfb5h5gN30yjG6+vqZmByme+w8H16+yK8/+oSB0y1seyI/bQGTQ4dSwPMcnLIX0p8SiaXcdtvLHGo7ztmxUUb7LrJ3y5t8r5QmY5VZvn+I0a4t/ChwUBtlJKHMzeuP0d7dx4eT47Q37+fke0do7unl5NuPc8ttq9nZdoodb/w9laJFcdESnt3YxmjXPp4sFklKBR7beIT24dN8ev4UO9t6aB/opWPLz8JuHanizSzf0s/l8fNMTh6nfXCY5u0vsdCb+R18KgEMqF9BY29VzWGqWkglCwRjyZPraO3rYu2TLk2lxnA3f2tnK807XmDR0lt55O1ddJ0X85TRAAAgAElEQVTeyT16mvzi29hyoJWJyYsMtuyj9dAF+i6MseWnKoXKAtbsOU7LtjdZVF4UclBvfGojB1r28t5TMx9FLc6/ASMRxbWv5+WOds4PnGd0vIWzZy7x5jI7DHLkCw75hTdw//qjNLe9z7N+IwuLHkGAI+gj3jj/xxw63c2unW9zi6eQTJdZ/N2fc+zMaSYmLzDYPcmR/au4scklI2QR9ChWphzSxmbcB0tYafJ2hYC1XfAkvKyGIOXQKnlKrjxtgAVUpEq+GBKKBcegsSlP0cqRDpzMpU2U/4W2FADJFDOIhoesNbGgEPy2RcYtYXtpbL8cMvEDnpyx0Mevc0P2x9KcTlVEoenGm1mQiyKoYthnWPIX0JA3WFRwwrauamEBkqHhFxQK829ly7ajdG57mmJhKW42gl5yUT0TtxJw+W5giVlNwpn5MPVUAAsEoOjmyZeaKOWdkOQaNDSs0orMnz+fG/wUWdlBztaSW/hDbllsEo0kkUqNLF3QEIbhg7aruqdjNTZS8IvctPRJNh3by85nbgnzgM6CG7hlYYFMUkLR4kS1RSy+fj6L8zNPlfIFMQxyOIpEqZwnrxfIejYVx8KzNTKOi12w0FIqhfISFiyuYGQFZCegfdksLAbM/wWUFi4Oyc2mkqGpGDBbmnBLi/HzTsh/rRSyxKqyLFhwK/MXlSjkKximOPMarMG2MIo2WuAfGR5OpYibk8gpgT08/URzGFK2VPScFOYrHLtIPm+GwuzIBoZrhhy4wNl1ZY9yRUXUAsJvjoLhM18toxYMLMHGafLJJw3MxTaepGA35sl7lTB5nfcbELIJ3AULQ5s8SB4qhhmy7V9obqf7xE6ebyghShX8R1Zw7Pyv2fekGLLQI0aBhlwRJ5MLza3giEfWu8JZnAoAM33dcuwwyRxwCE01Efpf83MmUsDrVHVysovTeBONhRhxqYhvyqGjH/A7jYyGWnyMU73nadn6DCV5Htn837Ns7REGL7fwUy3DglyepObguwaqkWPxQh1DK2Logdac/nGlKeenXAkZ/Jbnks8vwJKiNFVuRrBVyq5Ho+6SL3oYlopnaqiiT67kY5vl0IeSHJFScQFmNkLO0gmOs+h6OjzCYlpKeCQpLTqUGyuh/14pFsKe2UZRJm83zTzAppwAZ+ZzITN5D4JsseiGn/H+kR7GLp3n3LlzjA4e4p1nv0fBVKavof/c58dv4vrHVnG0Z4QLE+eZvDRK38n1PHl9I6b8NVgof+7jn+L+ZtxEnEnh/nP47ryjIWRdzEoFJ2eErPpKY5H5joyi/GVvHl9lfnOqjGhXKDUVsTUp5H7Ob3SwsyKSPf0g1le5hz/n98wCbIodaKrFW1gphaHc4FCmZSrhwUMjCHkHBxbL0zeBp/r9b/p6yfPC096Oq6IoqfAcWXA8Pud65INNZ5rz+5f++VmATVMAgoOJmqaQz+co5gsUAwa+54eN2QOe2l+6gEx1/4JhEfi9QSmIwJcp5RsJjuJbtootC//hxz/V/MwCbJoACw5hBiUGgoR6eILZ1sOj4obpfS0ntqdawG/6ei7vEGix4FyZ49lhsjo4K2f5QW5t5pka3/T4p/r9WYBNF2COHebg8lYeIyhy4wXsfhfdD8oLTL/myFQL+I1fd3VyloZt5MLKSYFABcVlgsObQSmBb/z+prm+073/WYBNdwECcyhgmxtB1SWL4PhM3jGxyhZ+EAKf7vf/uX/e9lFMGTswE00LzZDxnBx5z8TzgrNm//EDPV82xlmATVMAAgZJUEXKcQ2sclBJysdXryQvi0Heb5rf/+f++YJdRLKy4Zk8z9JDsAVFiIKcUZBb+3O//5m+v1mA/QcHwEwL0Oz3f7mGDiya4BGcNVRVFVmWww4rX7l0dlBre/YxOwezMvCHZSAAVPAIuqoEc/RvgfWVCo8GHftmH7NzMCsDf1gGAhD928dnNee/6t/ZFrJf0j402K1mH/9rz8Fn4PoMUJ+Xh89e/6K/sy1kZ1vIfqU2PF8kQP/RX/88oD7/fKrx/9VnCJ39+/83BWbnY3Y+Ahn4PIA+Lxefv/7557MabFaD/U9C9HkhmX1+pSH6v2ceZjXY55zYz+9Qs8//19Zk/xZUn5mHn0VcP+vX/G/f8/n/p9RgiUwVsUSQA5BJS8krp1olFSWZIZOsmfHdT03VI2TTpCWNjKSG/6tCCknMks4IGKpDsi6JmdKIaRr1mSRaMkpcjKAqFsl0gqSQwBVt5kbiYdEaub4+rNkgSCL1mTRKTELTs6SjSeJWAillkc2kkASVTFKjXqrGTqfISB41mQRG9DqycZWMaMz4+D+/YH/s83g0FtbXFxIJgvEmEqmwPn8ibIEqUifGwjFI9SZpKUU2mcDI6BhmknhMIJNNkEymUUyJuroUQjKLoGaIZA2SmXoEKUtKypCSrgRD5OyVv5msSCLz79/5/3Wc9aSrTdJGjGAsQlqhTkhhx3PhuLKxLAnDRopnyKREzLhGTE5iG1GErIoY15ClNNWRFGpWJC4niSSSmFmdhCyhaR6xdBRZiKPIIrF4HZIik5KT6Gl12us7JcDSioMoRzDTaeL1ddQk5iHJKoqkk9C0ad/Av07kFyyGYpDMSqTS2SsRvWyaTDoZAi3IT9QlqkiK2ZCsms7EyabksNVOWhZJRutQdIeqZBQ5nUXJyqFwpVJBxxgJNaOS0eKI6WriGZF0XdBQoohQX000UR0mFxMZHV81iWYlkqlrMNMiSX0RKU8gG50z8+OfpgmrqwYZSUbOZkiLCvFkgnSsDkFUUQQRL+0jKXFi0RpExabOk7mmvprs3AxJI4MqZtCkLMlkbZgH0jUFQUySTkmoooScToebUTadIXyIQgi2AGBi6qv1Mf5SGcjIJJQUmWwURc4TdOMxxCSxSJLayHUIikomHUfLaiRtESU1j+qsRCxbQMgmiSeuIa1nCVpaCakk2YwW9nXLinXEY7XUReeSTutkkyZZQUKzVaSUQDyaIiJWT3t9pwSYLidIRQokVQ3FMrCNPLpYTW30apLJ6SP8Syc3myUaS4SAChZaVSQEUSYRgCEjXMmqayai4CFkZIRklHQmQl2mllgijiy7JOpiYbXbgBKVjCS4dl4NWSMolCMTjaWQsj6ZSC1pVUdSryGeyBCvrSVtXk8yNi8seppJRInG1bAeSCIbo37O32FKNdRLhWkvwFTjn+51RTaojcZCzVQbc2hasoi8/B0SsTjJ+ig1iTSClkJqkDCrNJzrUoi2QMbIIybTVEfrw2aDkbp6dFUjmxZIJ1OEm5mih0IbbnipNEIqTUrIkpCFUFjltDjt+YnFbVQviTYvG5ZGmBP7WxKRWqqDjjlekUS0iqyQRImlEBUTMW2jpOKU5SyRdATHqBDJ2IiZeqoTcUxFQEvG+bt5cQy/gKALBH3jtOw8rvn2VWSUAJgJ9IRIVJ7+/U8JsJrrrmHxkrW8cWQfkxOXudwzzu41d7NofpFsPD3tCZxKgAJzUJcFRCFDLJ4kmsyE2iyVShEIfiQzDzGZDEEoSR6yWgq7GWqiSjqdRJNExGiW2vqaf2mFFNS9S1I3tyo8AyXLcbL1c0jElmCoAomUjeAmeWZDC6N9x7ghGSEpGViBGRGNI1pxkopL1GjES0ZnfPxTzc9U10VBJZ1NYWg6qvYQu44dY+2zBQqejKWaSG4K+1v1JOJZokIaxS2ERYDq6uagSi6xRD2GZVJdFw9fr6+Phr3Ikqk6ItFqsmKGjJAOk7GBBhMyWdLiFYAJmekLqJrKkkglSZtPsu90D52TPXxy8R8ZOz/EeNtWXnU9zEiC6lyFl/YcYmzyd0x82MeZY3u4R84iVSepjlXjqREieg5NriFRZVNY8i47j52mc2ic/rZ+Du98nlvKdcQiNtWZOrysFJYQnGp+p7o+JcBi6gOsPjzKP//f/8TvBy/Tf/ksv798il2vvBCif6ofmO71wAwMTZuMFJqmtmWEJktgMgaCn8kYoRmYUSKk0vNIz/s2mWgW1b4eKTuXaNYK6wTKcmDWxKifezVZRUCwyqjRuVwXsygW0siihlD/LbIRk5Sv88DmDgbOvM+PZRGrJkvUMvhOSg67IipRgZrU/0GgHaY7vpn+fGABxBN1ZLMimczLdF+4xJE1GunMHKrrktSm5JDom9BzKHVXEc/WM69aw66YaLHrsLJxIrUpkkGTjkYHIXJdWFp8Xr1IyVTJZQNTUQhBFZY8y2QRs4FpGPze9E1EVRPIpEySP36H5pN7uH9hGenaJKKUIu3KpOquQsjmef1wPxe6jvGqqhMTZCrrDtPZvoPblXRo8fiKRlIoE4nMRVh4F2t3nWHo8FOhH7ek4WfsPHKA9St98hmBGk1HD2hRqT+BiXjzg7s4MtpHx4513KJL1Dz3ARcv/Z5f7b2TlKjMuIAFUbx4IkUimQ79gcAMnHPdPOr0MpX7X+ZXw5109J2lf/Ayly72sP6nZRJVV6Hfv4re0S7WvLGDtrZu/uHCWY7u3cXNOYn6jMw9m05yZt8GNh/p4Ux3P+39p9i97TYalb/mv307wr1bP+HS8Pv8SKznuqzLD99pZvjUOBfOjzM4OkHXmiLXxf7nPMlMA+aP/X5FU8OqTMFGJYrv0jwxyaGVUeri9WT9+Szb1EpvZzPdl8aY6Gxl1dJGGq9rZGX3EH0fPIKqK8Qyi3lh/WYObd/Iw65MfU0a8cYX2X1oF9fHlRBkmSCAIgtX6gpmsoTaKz19gFULgX+lU3x9G8f3vcHCdIK51Vfj5ixS1wkI2Rymu4LjfaNsey9HPltLNK4R9R6gufs8HStzoQ+Xis1BTga+pkrupX109LfzmlaHkK4jEruep/f1c/rks9xQm2RuIkZaqA8toT92vj///ik12Ldrk5RyQVvOQENkcd7pYLS/n8MrDaS0POMAC6KFipBGSsdRssnQVBStPN97/CU+OPMhG14tYOXiKMnvsqX5Eh+f3swdbpG6+96n7+IIH7Uc4oZKA432It4+2sapvW/iJwVu3dLB737Zz5b1t9NQuJUFP1xN30AvO1c1YchZ7tl5nsnuD7gzLZNbd5iNzQfYWrGJCVeTfnwHnZ0n2Hv/nyDIM80gRyyVDIM7iWQ9aeFN9g33cfxlkYx6PU+u2cLIR8O8mNQoSRJPHD9D28ntrMnfxJ3r2hk9vZJsfbDu97Br/DwfDg/wZknm2muvpfHZVvpGNlBOSpiBxhIFktl/3XCCINLXYSLqhkAylmXp+tNMfnyOju4R+j4ao6/vFGtyCZSIStp7iaMnWtmyLIGe1nDSEqlYE2+evsjAxr8nHtOQBBFLiSAqLrds7ODD4V3cE8+gCRK1iVq8lUcZG2vmJ6KDKMbJSoE/709bvqcEmJLLkv6bWmpKGivfHWXowz4OrQj6ZCmk0vXTvoHPI/7zz4NghqIoIbACQmoQnYok0qEvZpg2XsYgGqtCzjTwcHMf7S3rWCZapG9/h6HxYd57TMSMXc135lQobT3O2Mh2fqGZPLyxk9727TxtGqTn1PBt32P94UFOb32Wimly83uHuDR4kLuF+9jZNcyxtxJk4zKJeAY7bnLHnh4mDyyf8fF/fj7+2Oe18Si+VSaWmEdGfoWD5wZpfbmBjPoQe8Z/zaFfxLH0DFXxGInMUxzs66Bz05OI96xlaLSVpxWNpdIzvDcyyJm+E2y/U6eyOMtPNo9xdEWCVOC3yhkSQhAmTyOl/gVkghQGOv7Y+/38+xP1SdKazcpTZ7lwdB33GhJmXOGB7d30Dx9ihRQjGRNZ0X2RiZad/EiMUq8JeC90cu7iMC3bfoQhaVh6gTk1cxEUmcc3dTFxaAURIRuan4paS919e5mYaGa5FkFJCohZBTF1JYXx+Xv6Y55PCTBZsjAVC0mJcF1VFr/0EvtPj9Lb+QGPWf+6Y/0xP/rHvDdwmoPFU9UkUtIOcyuKEEWO+ET1BJLyBh3j5+nobmXkwkf8U/dWvp+uIvrwfsbOHWWVnCUeBDpicdJ37abvNxNsvSvFvXv7mdzzGoaQIZq2iae/zR27JxjuXsPj6QI3vnuQyf6t3Bd5lQPng1r4vVycHOPC6DA9wx9zbnSUkUPP/dkDTBZ0gshnECjKJFdwrOc8+97PErtnK8Njvey+16AuGw83sJSW5uWjFxjf+ADX1T3E6clxtj+SIvrsCX53+i2uf6+Fjzc9Rr36Op2XD7AsM/MaPJkSSYs1BDVSgoCKnrWIR65C0p5mQ9cYY7ufIVb3HVR9Gbtauhm4dJaP+gYY73yP13ZPMPT+g9SlEyGwrFiMtG5y9+rTDB9fiZSNffMAu33NMbpHBunZ9lOKkRh10qNsG/0Nn35ykg+WWjMuYMFOEpXjSOEOrKFpKeZeEyPZ9Byn20fo6+vh+JanuSFvcveq/ZzpPc4Ddhz1rg10jx3iufo6LMEkLsrUPbSW9uGjHLwjT9Afa/Doc8RjdaiSHe5ay7ZNMnDmVe73DB7ePcL57u08KK2h9WI7e1+8gUQiRkp1cNLXkBRSiFZxxsf/x2xGf+i96WSQLBYJoqqC8SKtZy9y5HWF9E3v0//xOGvv+g6K7yOnddS4zvKDw/TtvYOoXuHlI0MMbXycO7a10/P23eiPbmHg9GbufGgzJ4+9iB0LgidfkL/8ml4PTprPiUioqs7V1/zvJDJNFC2RVHWRV090cGptE4aWJxochsxmwlLfdbEoUekGtvdc5sQbCkamnkxWQYgLRB2Z27Ye5+Phw9xbp37zJqL5xH4GfvUp/9C9nrtzHvnFP+Pg+V8yObid57zUjE9wKq4QkQT0hEx1RkEWqjGcRqwXN4cmwpN6Frnmar6V8HlyzyDjfce5J5UkftNOzv7yHDufSCNVX8XfVml8791uhnpOssL3uPH140wO7+Y+LY0QuYYaweT9U6O073kNtS7Bbe+dY2jwTW5L383q3j4Gt91Pg/AtauIysdoodUYRJzF9E2KmBVQMWC+SQKo+RZX4NHv7B9j/dBTV/wUtl37L4bddmiJ1/M1fX415w2Ns6r5I18q/Jx0wG1YcoXfPxtBs3HVnjpS7nH0j/ezctIt9Ty4IywvM+P3XZxH8ZRzt7uLQtsWUU9dy7by5ZP0H2dI2Sd/bS8hEbCJ6HVaqmuQ1VdTl5lO6azOnRtpZcX8UK5okKiUQMiaxjEVx+XZ6+tp4067/5oMcCfFeVu44zflff8zl0XN89Mvf83/9jw85+N7P8dPxGQeYqqaJpiIoGSlU71K8hohg4T23mqGLHTxRLeA2LmTBK2+zb+wS/9y5nqfyKep/sJneiQHOHFyFbzSQz3+fTSfa2bLpIW4wktz6Tg8fX7rIlp+buItLmLev4eipFrb9bBG1mf/EY5s/4mLvUR7Sc1Re3klH7xlWPlRCzcqU5z/KzuYW2tffP+Pjn64Ai0FuSk4gxGS0wipOX/yI06tEDHUpD67YSUvXdp53PZy8xZPrj9F6dD+bbl4SVjWuum01o5Pn+fjSGZ5Uq8jMvZ2NF3/FhyNtvJVPk44nZnz86UQ1knoTb+07Tfupd/mBmAytiF9s62CsdSMLI99CTMms2XqS/p42ippAtXgD6w+3crb1HcqmTM11LqlSBl9TSPxdHfHS42za10Xvrme/+TC9Mldm/m0/4Y1dpxiavMT4aCf71r3Aj5eUmBubfiJxKgHKZOMhNy6aiYZ0maDLxlU1EVLOjazb08ZvJi7SPdzMgdZDbNzTQdveDSx/oEz+ma20D/QzcaqXQyc6w+6X7Uf2kS/UcG1VHXdu6WOk7wDj3aO0DPbRNdHJgfduZVF9PVfFZZZt6GWibzU/zNRxdabMq7v6mOg/w+jAGP2nRjixfwVZ+ZoZF7Cp5meq62JSJZZJkY1KmPYzbDjYzOaXDLKZBDGzyKvHJhg70sHQhR56T7bz4k15Mn/7d1QJWWzlPra3tHJk3xoKmVrM5BIe37aHk4c3cK+qEST7p/r96V7PGCap676N5C/ircN9XJj4Hecnh2g/08rT5Zqwm2ddfRVmw8PsPNHMyEgX5yd+z9nhk/xIqmHutXUUKo/y/sGt7H53BTfmk3znmhQ3/P2r7Gpu+eYTzel4FdUxAVF08R0T1UySTUVJBdnz5MwzOaLxCGbKJamIZKMBXcdANDNItVXUmDlikowiJrBTcWqrdSy3ED5P/XgjfeMjvHGHjNYgYJhx7IhOXX0C3bueZfvHGWpdy01iEk80yCtlxNhVZKIZlEKcmGOHVCpHEqmZey11ahNKfQzVdEiLEr72N6Syf/5UqYAoHRMFpFSKufNk/Moi5nuxkBUTmIFXJxR0pSGkjznpCGY8TlZQMK0E2YiNYgaFSSWuC/JmgsqcrEzRUZBr02H0cLoAmurzouCHXMMgWS5oGinNIC3Xh9rIrxOu0J/kgLVjUicbIfE4nYqiBQGRSAbXTFNdpyJaeigjaWku2XiS6rkmakPDN0+VMnJ6yDyXYnFitfOoi9eSEoPqOjaqMv1E4lQTrOqJkIga/JatG8TTQXIxjZlJEA+Y3NFaAkKuoomkUjXoepK6WJLYXTvoO9fO3gcUYqmA01gV8hU1K0msvorvr2vl0+GT3JNIIYi1JMQEcd0gozai1IlEa+biKjr1goJjZMMIlllXHS5UXVZlTuRaipncjO/gU83PVNcT6ZowXO67GrF0JOwNFq1OkszIWIqCKwdE6DSJhEZEThBVC2Ti6XADixkZUpEYQjRGXFTCFlZ1dXUhhzFkvqgzG+AIxhb43NXJVMg7deMx0rVJ6rIydUFaQDRQpTRa0kQRYyFLPuh4Kmkx6uJZ4oqBocRIJeNhJFqMpKgPaG+yTTIVJSPO/ebJvulIOmSiJwWFuKIRsKnVVDokiwrCzIfp00mTmJzFTGRD9kFMiobM6dqEhJqUryQ4MwFLIU4kGg/DsQEnznl4L2fGutlyfz1K2sUxFeZGUyEj3E3r3L3/LKPt73FPWiaqK6SiGbSkSDR7NaIok3LVML8SkFuNdJJ0JkZW85mbjtAgJElYJtH4zEfRpgLQVNdFVSFeKyJlsqGjrwQdHIN102MhpSwpWcQyVdhSQxi2lqNJDDNKUiiGhN54Nh3W6VcTEvFkDN3UiAd+nZhCSM28Dx4A21XU8GjJHFELo4l6NkV9ch6ipKOkEuEGKwZl1aQk4v/L3ns/13leeZ79N+wPM57Q3bYkignh5vDmHG9CYhSVbFm2FWzlLFEOsixZOVCJEiVSophJMEeQBAkQAJEIAgSTlex2d89Oz9bszNZW7VZ9tt6XrSlPl8fXawhut/v+cAsA33sv3+c853vOec457/lmCnHbW9Qaly+2kM4U4k6WhFQg+lxrpoCaKZA38+ST8j//4yr1NrBxffateEPG/3JlXLfQ3Njcf7mb29i7f/69awDsKyqINpT5n1+Z/xT3oAGwBsD+5BM1f4rA+X3vqQGwBsAaAJtFHWgAbBaF+/taucb7/nzDywbAGgBreLBZ1IEGwGZRuA3P9OfrmX7fvW0ArAGwhgf7HTrw5ZDRiBssevA3euj3/08P5l+Ypknj1ZBBQwd+uw7ouh7Px4zkE/0eTfeN5sT8U66w/5VH+wvXdWm8GjJo6MBv14GIQjZiAf2SSjYCVgSmCGj/K1D95r//hWVZNF4NGTR04LfrwJfAin5GXiwCVhQmRiCKPNlvgum3/f4XDY7e383R25DPv275RIYnAlakBxFX85ch4pc/fxuofvPf/iJCZuPVkEFDB367DnwJsC892JeMKr/3Gaxhof91W+jG/tff/whkXwLs//cZrGG5frvlasilIZdIByID9CXAvgwRY16EfP5/nMV+MyT8p7/XPYO5JQ9dMPAcF8Wt4Ng6i8IOLK+IpIXxDczECuq+QKfeiajruHaAbFUoWz6akcFwbAK3guHrqJ6JbfiYuoXtyYShiaaEBI6LZCiYjhoTHJiqRlgu4RgqoeqjGCFOWSYULLSghOgoLHHL2JZG6JTjR+IdV8Uu2dQcG8tUMEshHWYZw7QpeT6yaWKVKvhugKXJ2J6KoqlUnI666zd0Fc3241Rv2bPxvABVM/AiRg/TitdVMX30sIThmriKGZMteJZN4Ng4brT2KlVVjedPZJVo7TpmWMFQVDTfISjpGGqAZIq4gY5phgiWGL/fNSQMt4xkGJi+TxBW8UwNx/FwzICS6mN7VRRDj8cxtPulWKaK6RC4Born4rmRLBQ01SYIbSrlLnRNjKmEZrL3v89nXbWCbRdx9CWU23JYxmJMuZmKtjjeB9NXY+6BrtCP2XfKpXZUXaNUMbEMG830qDo+ohUxA0lUjRK26aE7Kq5nUHNLiLaLY5sYgYyqCLRbbaj+FX2MQPYlwKKzWOTBouTG730Gq7fIUFdRLAO/alLyDXQ1hSL46IaEG7TVVbB6369YNdoci6IrUAlC1EDCtC0krURbbRGmkKXsB1SqnViRIAIf3XXJFgW8wMU1VAwtJPC6qJSqhH6AafnIuoFbca5ctyV8pUR7OUBRkyiqTtG2CStd2KZFqJoxkYOpO/H3C5aJISn4NR/RtSlrPiXZQjZV1JJNW7kSb1pWzdddfyl08cu1OMQIXSumUopm/Pmeg247yJ6FL8tomoIfVOisduG50bBXAdF10S0fQzORdBkr0GhvK8VlFU0z4mlZhq1QLdq4VogVimi2imcvY7FXxfbyqKpOpW0Jge+iyTl838cPSvGTyZHRNCPj5FkEJTeWZ1TriQyA6ZQJnRKmYmPaBkZZxnPaYgMkKCq6JbKk2ll3/fX2v971sLMNy7HRVAtVE3BdH7vqIjgGmmXHdFqGGxCGkU4KOIGEIxYpKzZqJHuvgqkqVKI9VR1Uy411WbVNFNOPx7JH8zo8w8F12wirFaLxCqqjoBvy/0jPR0CbFYDVnDYq7R1ouoRcULFrJdrbr6PTz6Kq8swFXLIx9RTpMKTTWYyWFSmHNexSZ/zIt5lwqE0AACAASURBVFcz49FakRWRVSm2JrVKB64eUrN9ir6KFQSxsKL5f7ZlULE9fLcUW93IavsVN/YioVWialcoVZdgOSKaNZ+UmiPwynR2LcV0vZgF0jJVOoIQSzVxJS32NkboEHlz33Tj+efRRhu1K9ml36Uk0XepphMDK7KSkZHwXY9aycfyIk+dxyh3ILhlzEIOT8liuu0EbjsdoYcWAcgQMMJ2sgWdklahkLcxHZmgbOFZJm4EirJCzapQ0tsQ/ULsYSR7EV3tZSLKId3x6apYmIUMluUQBB6m5aHbVmy9ozVYtoZiyhieF39vZOk7rBDDcxDsPJoUELgKnl+ODVHEqvK71v5VXItYVdu0IDbuYeUmyoGNatvobXmqkoHvWbTbKoYSRQBlsrYQ369l1QhCk6rtkBY02v0KZqkLI1ApKTJC2qZr0RKCwKDU7lE2ixSa0+hOgOnLlEudcdQx6x6soDu0+Q66ZLD45h/ywf7+ePD+x68upa3izljAuuLiOdfz020HmejbyQOLqjiF1lh5IisfeSdL96hEXtQKYrdv2gKSr8WW1bQ78RQptuptYUhQ7SDi/JJckzDyWJJPp6uiWRGFai4OHyKPHM0r18PFVDrKaLKFKRaIwrnIC7quiF6yUJ0KbsmJlTx0TEJJj8NEoeyihS5uTqm7/mgSVzRDP1K2aLNcrxR7L1OVyEsarttBoClUIy9bWo5U8tFlCS+aBOUEsWdWZY1qLcRyNZYvrmDrCm5QRVYM/LIaD2ItyHk8S6ezUiOaquTUruOt/UMc2vQcN65YwtNrt3L4wA7uWdaBJuqEgYftteGVqrE3joYYmUoB1zOpdCzFUwVk28VURNywEiu2ZdRwPBEzrxP6nURG56sA0e/6DqO9Gs/kMNu7WLVxPxcGhzk/PM7pE8d4ecki7JqHltFwr1/JriOnmB4e55dffEL/9BiTvbt51EtT1k0qmoxQsXGMPFbhRpZ+9x02Ht7P5MQ0g/0jHNq1mu8uk2Pa4OjI0eGuiPnTZh1gZkVGLxRRa0t49K1uTl/+z/ztp8PsfKeEJhZmLOBSWSUoLeGxrYfpPfw2t1ccymZIV+d1eMUMrl0kLFVicjwnKFMtdaBrCqJXwVNUwjDEVtM4lbYYaKrdRilsI+i4GSuVIvRUovnsgtNOWF1OEJbRXZGaa8TWTRYllMpyatUAVVaoVZbj2QqKU6Qka5TbajHtqluqxueeIAgINYGKrVGuRueD352Fiixs5LWiz9m2i+0E8fkwGh5UWf4tKraC6pVxyz6BaqIqV+FVllFdvAxdyeJLOSTPi41cc0ZB9m3KdoH2tqWUdBElpdBVK7GsbJHwK7HRaMtmCLsW89qOAT47uRox38JV3nJu/eYSyokFFPVOOjsqeHIew9CwNQmvfTnLaha5VBLJu56ybVL0/RjU0XmxpLYiWW0YHSF2NkeHV4rD8Hrrn+l1SdYxA4OnPjxBz8heVi5dRlBp44UtE5zvfZf7yiGqHOL/5D0OH9zKI0uuw0m3krFlSm1dLIsig2AFlmojVst4Ypbq4sdZvWkPl/e8gG1WuGn5E+w+uJf3Xr+BTsdGD2wCM4ijgFkHWLtvkCxez40/e5sDY8OcOfspZwf62f12hfZSfQWrJ2AxIpcwPb7/3iiXpic523uIkxNnOdB7nD0bb6Yt0PjGgjbalz/IpsM9DI/0MX12nLOfnOfQuntxHQPbWcaLG8YZPNLNiRP7GB/pp29ikKNrb6DD0pln3sRdz37A8ePHmRwc48L5v2N8fIAPHjHocEMqj77Ozt5eTh49zLHjU1w4+wtGTx3nyXYDJSFTu+FbvLtvL0dP9POL8WkuTU2zY9sHdFZTdQEWecUodo/PQNHZxvJiD1Rr6+CZ97ZzeOsL7O49weCF84wcP8GOd+/l/Xc3sPP0GNOXz9Hz0WPcsMilaa7I9be+yK6jY5we7qenr4czZw7wRNdiEqk5zJPb+eaP3uB4/1EuXOpj21gPp47/krE9r7G0rcojaw8xsH8Dd7a3sfyxtew/vI0Pf3hdHC6WylWeW7+HYzve58blS3j4jV0M9R9k4+4P+eyTTzk6OMSWD59k1Zr32D8+zvS5CfqP7WSR/RUcEeoYqOtKZbK6zNsH/56J02u4K9PK11M5wp+f4Pjkel6Ti9hORNaxh57tb7K4sxofZ5Z0dqAlcwgR0bmj0mlKlKqLUBWLRS/v4sjYUV6tOAhaDk2/gRe7R+jp+Rk3GRqCqaDq0pVk2WwnOSLG+dot77D+2BhTp3dwpG+C4dMX2Pm8hmHVP4PUA5jnhzh+gXs2neBvPj/Jllcfp7Z8BTfd8RpDp8fY+PNFfPPmu9mxq5eD/YfpqPkIegcr1x7ji0/Hee8Ji8ARebf3U74Y6+aZH95BtXMJd76xg/OT23jcrnDzfa9xsO8omzffT8VLYPu38+bBs/zt6A7utUPs+9Zy9vwnjOx6k2qtnbYld7Ond4C+jx7DDMu8ubGb4d4hfnTDTQiSx5KXPuDM31/m+E+qdQH25frLvnclpndDNEnErXTyXs8Uf/fJJK/cWuHGNoFn9n7KxKcRvdD9fPt7Hdg/2sVnZ0/weE1DqH2HPSdOsveDFygv6iColHnn4xFObV8ZJxvKPzpG71gfB9+9Gef6G1n66AucOXeRkT2vxpnQlduG+eXpXdykypRWdnPh80k2PaijSyaaW+Wdngmmj2+iHOjc+9ExPp0+xvvP/4Aom7nygyN88ulR9nz0c5Z/89vc+IOfcnjoCGsfn/0kh6IXkIKQZ7b3s6tnKys7u1jWtognV+9mpH8395fKiJrDrR8O8qszvfT1H2dgapSz44O8fENAu1tGDBVc28M0oiSXzt3dI/zy3BbuKxbxfB1BU1j8whEmznXzw8CPz++6a+PZpdlPcpg1n1c2DXNxvJ/NP13Osx/vYeqL/5P+V7Q4RfylAv2hP6O0f+BXuWvTBKNHN/BMZzu5xFWYy2/h1T2jXNj3DLpVRrOiZkwRO9+CW1uK/fCbHB0ZZ8ejEe9umpeOf8Hg9je5uSyQLogseekQg6Nn2PmoieDXCJV2Qi8fZ9JKpe/w2JaDjJ7czN2qiP/TPfQP9LHtJz5K/hok+3bW7RvnzNHn8a0obd8VH/5LVjOS3I7W9QYnTp9j+yqhLsCijGhUP4nOR4amxwCWJYGiFbDq0Dn6dj7LdTWD/6AU+NZ7PQz2fsSbK64j11LEKr/FoYsDbLinjaUvbuPIwD5eLKdi4nZHEjGqqzkyPswHD5VZ2b2NI/v38GqHyryFKTqWfYun9w9ydu+zBEGJ73zQz+entnCPZ2A/uIPTU8NsetCk4lhxCeK1fUOMdb+OZxV5cPsE507s5NEgyrgWCX/YS8/J/Rx4fgURBVCr/xQ7JiY59urMDWw9vYnKAiXJZZ5n89339tI3PMlnE6c4evxt2k0PyzJo1ySe673M9JEP+WHn4pine+WuHgb79/G8alGyRVT7ytEiLCk8uGGc0Z3PYkdndm0Jlp8m88AmJs8f4XlToyx72L4Xn/1mHiJaARFFjG2b2NHv/9PfJTpfOcXAhX561t7L8vYunvtohIvTJ9n5eg3fluoqWD0BRlk/w7N4eOsU03teQS1FqWaPkm7z/U0nGT61kZ/qKlJ5MaGq8+bhCabO9PP59KcMjw2w9WGFoqTz4pEpPjn0ehwymoaL9chORqf62PaoTEYIqJTa8ILX6J04w+kTx/nk1/8vQz2v8Vjgoj34NsMXL7HlYT2u/biSxdNHprh84OU4vFBVl85aG3e9f5JPx8YZn/p7Jqf72flK/UN+4Plxlq7kuXE2UY/WZquYbsAbBya4fOhtVEuJs4zGGzv4xeh2HrbLKL6NrT/PwU8m2fqAzt3r+/jk4t9zdrify7+aYvzkKFMX/obps0Osf1zj1T1nGD32Fu2ei1bJExYWceeOA0wfeDWuXf7g4yE+69/O3bZKx6O7GBwdYN39xpXyQBjw9u4RRva+EZNA3LNhiOnjG7nHtvENn4hhp//MLlY5BqpmEXgPsanvXEyDVHd/64SA9T7vmAqBsZRnj57iFwc/5D7Xjelj71k/xdmJvbxu67RrJbRKBTuq7VWKFFUZv/QEm/onGN1yZ8xvp5Y6UV0Jr+zw8Jp+Tp9YjadafwyAlf4RJJE1irKC0U8T22zDVm9h1cBZzp+/yN+cu8SJwSNc+uwiF8//A6OnjjK6/ckZA8xzwvhwf//GHob3Pk+700lodBGWXB78aJCzJz/m7ko7r+47xfToIIOnd3HH8jLebWsZ/sUQG58sEynx64fGGdzxSpxirnkO7v3rGJg6zYaHQkpLn2fPwElOHB3h9N63WNxZ5q63N/HJRC8P+h2Y965m6MxgrHDRbPtO22PV0SnG9ryEEyziJxv7GRw9yODYCV5Z1oat3MuBgUsMra9fB1RVNR497hh6XLiOMnKlqM7lhry+b+KK1/AjpfUxXtnK8In13Gu6sdFx9WfZNtJD98Mhj23q5UzvR9wT+ohSDaeqYAppSkZAWPN5ae8I5/Y+jVQsIXsat4Ye3147xtTul/EDg3u7h7g02M2tuoL+yCZ6z53m4JNtVP2Qohvw3M5TTB55l2rg8sDHA/xieBsr20LCUg3vkY8YPbOTV8ISTtBB1b+P3afOseOVmTca1ANY1CjQFb7IvpHz7FqzlEqHREW10I2H2T4yRe+We5GKAV1RQiabICOXaC8twciVeOHYKQY3PxivybQkXFHGDsrcs6GXL6b3cbfp/xFCRMv/n0ESebPoZXRgK99j9/AoZ4YHuTD1S/rHzzB5borRiU8YHT7KxOaZA0zy21BlLw5LPhvcxH2BjtDaHGd83tlzjosHX2aJ+ywfH+/l45/VCKQiat6h+vwBekcO89EjXlz7is4Qw/vexvJcQtfBue99Bs5Psf5el9ozBxiZ6ue5Dhe1+A1ayjfwsw1HGBv8iLsUG/f+zYxOn2TzYzaG6RJ1XLxzaJKx/S9Ssm5je99FDr99Hdd3qEhXqZSve5/Dl/4PVj927f8su99iraOOiaigG3dlRI3VbpSGFxBNJw6Bz+x6GcuS4jpe6c29nBnYzKN+VPS08YO3OPDFJO89Wab83A5OjW7l7VvbsK5V8Esm1fI30dp0HC3gyY8muDS5j4fa0yTnplDaV/DewQkmd72Eqtl8b/0Jzg9s5wFLY/ET3fROj7P1bgmlKFMoLeadYxNc7v2AkmFy5/tHGD+1ngcVAdVwcR9cw/jkAZ6Jog3dR9fvofvU5O/lwesBqN71qEaZU1dyZHyaQ6/VUKWFOGZkRO5n/dBFhjf8hPLyn7PlxCG6193CYn0BlljCDr7H9tOfs/PZxdQcC8VOx10ccqmDzpc3MN5/kFeqhT9mksPF/hJsjnbFm5lRB0INr+rha8U4nb6qe5TLnw5z4P2bMHLz6ipYPQFW9aj9Jc0jmyf59Ug/qx9vZ8ltt3DDzz7g2NQoax4OcUpr2H9uksOrKijKEpYseZi3dh/hl7/8nO4nPERV441DZ5juWYNtFCmoLtbDHzF0boI9Pwlpf3E9vSf38hPXwyxX+PYLW9jVd4HPp7byiJOh8uQB+s73sXOljynlYoKH13aOcunYy2jGPbx79DzH378T267SsezHvL+9n7HPxjm1un6SIyrqRu1RrmnEoaJpObFH86pdrD12ns9Pvh0Xb5sVh2XvHeXccDeP+3rMQyY6b3A8yizeq+Ate4aNe0Y4uO01rusISFXa8Z9fzaVT23i2WqW05GXe2d/PvpdqfPumW/B+/ibDk+eYPvgCgdPFA5tPc3m0m3tSTejhU2wZOMvA7h9RXtTGLXf/iL395xjZ+VqcDHh4ax8TZ3byhG1hST7hyo2cuXyan3tiXLoQrCfYNjzNsXev1Pfq7fFMroeuQtboYM3x05w9sIXvVKosu+Fmnlp/gDOnd/GMlKCm3cLbPUMMDXTzQFlGry7hvg93MjKwm4e6sjF/t9HusqgUkBEz5Jc/wbbNA/RveeaPlab/x8NqBLDfBJmjxDUbyanGXQZR28/z3YOcGetl/+vXYVf+iff7LRa8nnAds4K1pMqDGwYZOD1OX99GTo5NcexQL/2bbqLTaGKhUuam97Yy3ruPX/zdrzh5tJ/udz5m37E+jrxxFx3LV/DKtpOc2P4G7VWPStsiFq9cw5HeHl68U6dj+Z10n+xleGSCz8+Oc7i3l1d27Gf82AneuKvGTc/uZseR3ax/YjlLorBoUY1XPz7K6X2rcCyfJS/uZmLyDGMj5xk8coSefR+z8/Bupva/XdfA6LpJBKqo7uU6VnxOMA0tLog/s243Rze/RGc1RPYq3PD8x+zqXs29VZ8wqp21Pc2B6RE+eLKCnFa49dY3OTwyyeXzYwwfGGb0l+O80NVGZzFFQa7xwEu7OD54mIGRQQ4O7ONUzy/o2f4Tblx0PY+t7qa/bwePtYfk1W/x8Pvb6Rk7Ss/gcXqOjdDXd4a965+ja9kKfrzhEPv2fsD91RodpQ5qD73J3iN7+VFbwIpqCbPyCG/v2s+m5788XvzuWmA9Hfhd16P+TCOXw7/xTt7be4zh4WHODvTSP3Saj59ail/VkcVW1M6lvLt1lDMnJhkbH+Ds2DCrFpeRcgIrrn+Gzft20b3mVb65yKY1UeGb33mPLccP/hEKzf8DUF8mOiKQfVkU1fFcI+79C/wKmiGjBR3xgbzmpa/UdP4AUP2mQMueEReso/5BSS6QNyzKbStYWutAEeeh+TUW20WuKS1CER1qbT6RgvrFIkHbUlZ0hmQKedyOm1jaVaI5l8UR8yRUh6VLF8fczcmWbOyRc4pPOTBp8yUSokrJr7EszJHU2+hor1DTBQqSSrGQodx5PbVS9N4McwuRB7cplUpUKk5MnSSplbiX8DfX8tt+j9qiHDeMG5FLoY/rRYkkA0mRqV3/Xbo62zGKElFmUSqvYPkNbdiCEicmPKcTO/QJJRVPzSEUHFJWO6WOkKoShZ5JvKyI1RlgOTrJghdny6IewqW2gKi4tHV4MQF8IeqGaW+j3TKJGoZbTZ1SaQmdXTW8qBlW0gnCIvObW3DKK1i2pESUqZQNkVY95JsrVhBkNCxbJpsxWHTDdXQ6s98qFTUNdJYC8tkcou9TWtRFSZcpuRZlNYNplqkFJYRsCsutEHYtwgqkuMuo2FrAqlQRhRJOzcZXBDxHIGquzmbLeB1df4xWqS/bncx/zCbaV7xYDDwXXbOJOLqscokoAxboVtyio4U2tlI/i/bblO43/61oaRhKlS6/TMU3qUZd5WIaz5YwrUUIVpmlRYfQ02n3LTQtwLJK+KXIcikounOlh0658lMNKiyveHFzrKHIcS3DqpVYZBmEik06av8xTXzFwgyVuM9QFAoxF5ji+IRtbQSWE9f4sjkB1SzRFTi0WzrJCAjVjriu1BY94WqKdT1Y1CsYFZejZEc5LF3p6vDduCtfUE2kKI3slimFkZdz0c0CRckmKPmxDALVRlI6CLs6cauR7ItYURYy8oqyFSdLXEenzakQtZBd53jIpo7tdlLoyKDbNdqq7URZzGxOjFvNOjpcfEemTfaInj6IniaIwuxF1y27cvYz3Zj7LcrK+aETyzJQZQytglezcTQrbvrVlJlHML+pC7/td1PWkaP1mVrcZeGbNlGjs+y7uOEiPCOHWWrDKlWxNSG+N0VyEVSR8uJIJgU8XYy7Qczos7Va3Pmi6jk8ufhHaPaNz1v/CKrfzCJGmURHj5tro3afKJukGsW4Jy06ZDpe9JnorDaz8KCiGrhWObbAWUWk6pcpKgZqJYzbiDxPQbSrGKZM2Q0RPZWKYRA1c3q+GT9aUWsrockOoSUhmjahE6CXKoSmjm4qcUd1MWrratfj0MuL2m/Ccgw0y61R8mQCu4QYPS7iiqiSe+UxkmqAb1ZRtRTWoiX4StReJaEFOoqpYnvluuuP6l+RB4sAEbVLiZJCGDh0lBx0XcW2o45t70pXveFTCxRMLcpuleNHKqLHcNygiK3YcZG0w4vkVUVwNdodj9AvkZdFfL8NM8xRNRfTaidYrNXwDItIIWVViVvG/MDGdJ34nKUbTixzWdKpdTrIsooXdsZdEPFTE2b0OE+Ap0cgC7DUYtwwbdhCLBNNF+NHX2a6//U+70RN17ZGqLhIbiQTI76naB2hUYwfLYr426JOGTt08YyoP7OE4ptUlEh/HWpOJTbKFVOlYJg4ko1Wjpqcg3/+x1XqCaBxfWYGpiG/P235zbzQPEMP1FCQP20FaezPzPanAbCGgagbpjZA9oeDrAGwBsAaAJtFHWgAbBaF27D8f7jl/3ORXQNgDYA1PNgs6kADYLMo3D8XK9xYxx/uiRsAawCs4cFmUQdmDLB/Oiix8XeDNK6hA1+dDjQI+H4H+VpD0b46RfvXKssGwBoAq0vB868VHF/FuhsAawCsAbBZ1IEGwGZRuF+FBWx8x7/sMLUBsAbAGh5sFnWgAbBZFG7D+/zL9j5fxf41ANYAWMODzaIO1AeYkCVTVJFaZIqFHIotI+eLJBIpJEmZ8eYYWZW0di3NeZPW7FzkohAP6sxLKplUmkxuIWrOJScVKOREMoqMJhoI8/+anHmFd6uQSiFZxZh9JJ3OUlDzyCmB6DuKeZsW6SqEjIadLSDlRQqKRK5lIREd6NxsDqOllYxTQEiICEKBbNFmYaEVvSCSyRkxi0whdQ3JdIqiLKGKKdKZAvmMPOP1z9RKZqVsPDs/ny9STC2gtaATqEVEQSWXSJCVHBwlTSatU8y1ksiKKOlmWoxcLJOCWiCTl5DyGTJpESH/NfJyGSmhkM8WULIC85JNMcXTfKlAKtuCnJbICQvJp4qzvn4xm6Ug5xALKpl8glZpIYHiITRnyGg5sgsz5DUVQ3JobvpaPCCnLF5NU1MOtaBiKgLXZgUUJUUm0UpzcxFHy5AoZpCzKRTRIiMIpBMiXkRnpLSQSLSQkQXyhfSM11cXYFomw0IhjWNmsMUUc+emSafF+GnbTFaY8Q1kskWy2YUYeRtNzJNslkgk0+QEEUFUY8qiVGuBbH4BQqZAKt1CWvTiGYOp1gWkWxaQL0hkijJCIhmT0smGjdCSiAVkZyTEYjN5USAl5kgISYpFEzGfI1kU8fQiecFnbjaLlM6RFhVKxTSWIJIq5GJWmVzzNSRTFnnVIJ9LkUqI5IVWLFWc8fpnDDAhF8+riJhWIvkl8jKploVclb4yyEhKN5FM5WnOCOhSjqJiISZyzEu7pHNzUFoX0JKXSMspjKKCIFtIgosszCejZGMixGbVx80kWLCwOR5pENExZYsGuqDP+vqLQpYFrTaCLZMu5kknbHRJo5ArkkplsNtDmq6+hpbcX6MWAjQlyfyvCeidFYRUK8lMkWJORWrN0ZoX0Mt6zKQzZ66CYrokM80oSg4lM4/mq9LkchqqIZLPq6Tz82e8vroAS+QsnAdWsbP/DH/3+SUmJj/j17+8zPje17kzl53xDRTkYqzEkbVszTTHQJHUFrRCjkImS8T5lcwWKFg5ChGVkZCkee5cRElDkIqks5n4kfJ81kBsmUexmCeRkGLvl3d8crJJJqWRLraSLBgIcoZic5Fc8VryxRxNC6+N51G4qTwlQeAvkxKp7NfJpR0MIc8CIYFXMNDMAulkCkswiMjb8gmNiEp0pgCZ8eeLIoVMmnROJp/LUBCKyLoVT4I60t/He3eL8XjsZPTvgk5TvhiPflj53HamLx7iRsemEhkyKY+VaGVeVqHY2hyDSy2aJLJF3to5zmD36/GwnkQySyaTIdeaI1GcN+vrz2cDOirPs37/fiYvj/H5xXFOTu5j9NO/55fTn3Pg5RuoGBYL5CKVYomWBXNxl6xhXf9Odr9gkcqn0Y0MxUwh1gU110zL13WWXP8i23pPcPHyNMMnPmH3thfoChM0N2cRjDxSxiSdn/kZsi7AUlKGe9eOcunz/5tfTRzmwPETnLv4C84cWsdDJXfGAk5nmmJq0gW5FGkhjesrcajYNF9CDUNyWTEe7qJK8/na1XNjDq8IdJHnmptLIhkaSuLf0LRQRA+uMB/mm7OIUoZMdi4FoRVhoYfjtCC2uuRyhXgqUr4moCcV3LxFa3oO/z4lIfsqdt7Bt5Kx1cyLC7AUhVxTnmbFJpdNxpZzQes8hJavkffLM17/VwEwuZAhXVDIZHLk0i0sSBYp3vUBQ2cnWHWzgCtnSOeaKWYEhOa5FIUU2Y7v07zwf8MtpJn7H/8NC6QgJqdo1rMYqTlcrfjI6flkxTyrj05wbPOTZKUMhbwfkyS25ReQkWa+//XWn8z+Fa3zs0h+lYgnrZBo4Sq1jZ+v62O8fy2vODlyBZvmRBQmfo2r9RJvbxujb3qaUy/lkQWTdLGZllQWVTLJz59HqvoAqzbspW/7s/H+tYXPsvvYblav8jGzKRLZAnJME2vOeH/rAiw6k7y+e5zBY/t48R43pt4RsyZScQHzWhbM+AYy2URsdVuKWYKChZbM8JfzHBbf8BwfHtjB0JkhxgYHOb75p5SNa2jNmtz2xnH6jw8wNnyKLz65xHP3L2bJNx/i3e3b6R05yuWJs5z79DLH3n0QS5UoKD/nnYN7GOobZnCgn3PDUxw7uZUXtCTZosQcIeS7rx2gb7Sbs0d76Jka4eCBHk7sfgN1YYZ/o2X49qt9DPQfZHp6irPn/wtHNiwjc/W/m/H66ylYveuZbD4OcQRFj8/EjponVzTI37uJ0ckJPhmY5MiRPqbP/4LBvgM8Vs7RfFWKu9Ye4NzgXla0tqIsX8qqg0NMnhihv+8Yl3uG2H30BN2rArKtMk9uucR/mpigp2cv589Nc2LsBDs/6EScO/MQqt76FDlEyiRJ50TyiQWksxblO96hd3KAbR9WyMxN0CSJmM0J5ms1bnxuI8Nbj9I3OMGWn4uxQS3k8ij5yEsLzMkkM9GDJgAAIABJREFUCd8+xKmxg7wqXUMu2cK8ZDs/3z3B8UM/5PpchqYWmXxhQfz+evdX73pdgKUz32NN7xd89usv+OTccc6dG2bPh69x/woXI6HNWMEk0SSbaSUt5THTCvPnZ3FueI1d2wcY3/cm+WxIreMpth4e4/D6lSwW83z740HGB9bx7soKibTA4orNWxuPceLAVpa0qSxoznD7O8f53z8Z5Y1vZXC01zn6yeec3PYUoapSC2/jo75PuND9JqKZw/3eGg73jvPRS8vwO9rxfvoxJ/tO8evjr5MVNG5es4XNJzby1GKXXItJ5YFnOXBgH+seKs14/fU2qP51AUHOxeFqlHgqZFvIRp7q7k2MTAxzcP3PY+pXy/0BO/pP0P/BnSiKx3c+Osjl/u2szJa4/aMd7N+3lmfaAkqVMj958wgj06Mce6kVT8/z5MEJPh3Yy0O3VVhUa+f2t09y/tx6HpNnP8nTnJTI5loQxCxKcQ5C5du8tKmPoUOvYTXNI2lm43maUmoezc4aNu3bxnOdb7DzzFmOvCOQEqJkVhFNsCiIKVqzaW77cJhPx3dxR6qAKwVclf1r7J/up//odn5iSzGXcyqXRSrkZ7y/dQGmeq+wuX+aixemGDg+yPQXf8f/9d9+Rf+Wd/jOV5HkSIvkW1pjkrVCMcNCxeCx904yemw9dwhzyOcXclWzSdtbh5ma6OaHhVa+/9Ew0xERglSkJa+RLajxSK8wPZdr5jeREgUqP9rN/qFRuh83mJ94mh3D05xYXcNJpMkkDR78eITBY29wazbHve+Ocar/BWru1/kP/+FqMvZj7Oi9SN/+H5JXvsOq7jH2vN/OinlXMeeqPP/Ws3hszTTjhx+f8QbUB1Cdc0A6T1bIIRWyceZQUKJsr4x898f0jZ1iy+MJ1GyOpsxSXu+ZoK/7CTJ6njs+PsXlU5u4Pfc9Vp+9yPH3luPM/3f82wXXID64jRNfXGbHswVUQedHe8Y5u+dl2uxmrrnqapL3bGf83BDb7vgjZBGVdMz/FWWD8ykP6/YXOTLaw84nHXItTYjpJGKzQm7JUn72xm4Ob7iTauoFNpy9yIGfZpBkg1Q6S2urSLqQwVckVq7uZ2Lfc2TzGVJNAqKaIPP4Fs5ND/KzYgtCbiHzW6Ns9cyTOHUBJn57I8c+HeHSiTXcoocUcsv5aM8Yv/7lJB/em5q5gqkF1EQ2Bkk+vYCcavH85lOcGnodtUUhKxbRkykWPrSawfEeXipkuGPLGBdOf8j305EFTaBJMtc2X4shWzy7+yJ/89kwPf1n+OQXg3z43TQ5+Vl6zl1k27MLKeQlEkaG733Qz7nxbdxZKPDS7klOr7+JdEsJy4i8QZ6n905ysftVcsXX6R49zKcXLnHw9BR/9w8X+PTkINOXpzjTfSWGnzFIZlCHkbISyXweMZeiKKgkRDnOrsl3vU/f1GnW3ibE8xcXZBby1u4znNv9DqKQ5a53Jxkb+pA7pGfZd3KID78/h4RcoSw55NWXOXByiD0vSyxY2MpbPReY3Pw8guCQU9JIj77HyRNn2PjozMs09WSnZNJxGj2Z+nrseb/7wU7Gzp/iwflXkdI0CpKIlJVJfe9Nek5u4nZXR06/wpHJUba+rCAmJRR5Praqk8xnSQpZ7lw7ytl9LyEUZApCE1VpGd+49Q3GLxzkhwuTcVkjrwYx13W9+6t3vS7AWgtZJN3C0Qxa5l9L1vd4fuskw2OfsPedhbMOsFQxhZzJsvCeD+OZ428Uitz24RBjwx9wWyGDWGjlqkSSDw5cYmhiikund3KvOJfsbevpnxpl3d1pVOF1Dl88z46fCOSy0d8Kt68Z5ezQB3w/k+O5E+c5vf4e1FyR5ojvOWHzxKERLnU/jSy8QvfQKQ6/7pOaN5d5ukgp20pUoohqT/UEPNvXc9H+5DREJU8684+TasUcuds3MnzhFJvv1WlNp3AKWZ7ZMcbU/lXkiwUe/Pg0w/1ruTH/FCNnJll/51zmCDKFpgJ5/yUOTpxj53NNce3xxb1TDHU/hJpVSBezqHdsYuTCad6/p453nYHh+FJuUl5hgZLCaGohYf6U3aMn6Fn9A0QhR1GIsqZZ5pgPsX/fEVY9rKCnNfTgTXYe6mX3Wya2lOcbV82NWS6VnM4c8RrufneI0amN3NGaQCjqpKIU/7sjTA0e4FE5SnDoCIJEOsoPzHANdQHW8cxRjo0e5+i2JzHyHin1HvYPnuUfPjnN6ntmnkWLipu/K0R0RJVrk2UqL+zlzMgOfiwkuWv9AFMD67mnoJBIW9jmjzk+Ps3bDyXJNs3h31+r0fn0XgbHjrPuB1Ht5GfsmRri6Ms2QlZEkPJ8/+NeRns3cJdmctvrxzi84SmWOtfyjWYTS/kWmwZPMHTsXYqFu1jdN0jPtru4XkqRSamkizYpV0Fumf1Dfr0NFqXIe8kUpSy5vIQiyTEvcWRg+qYGWPeDHLligly+yNO7z3Jpzwtxmv2BjZOc613Dj5WHeep4LwdWt9GeuIbWYoHgjm3sPnqcnasDsoUkL++7xNjeFwhFJ64jZu9cy8mJE2z+/uwbmGIiS16+Uo7Jfedtjg0dZc8Di2L+gGQ+jZCVqP7gJY6d+QfOnxnk/OQA248e5Vf//b9xse8k3at/wPUdbbSkW8k3JZgviix7+hCnBw/ycpAiSoA0L2znzvUHGdm/kqX5HKlCBlUUYjnWk3+963UBtqDyDLsOTvPf/+snDI9fYHTsv/Bffz3BrnUriYrQ9f6DetfrJTma5xcoL3+cg0ODHNj8GH46x52bJzhzfAM/SCTjboy88CyrT19i13MagRJQueUF3lp3mPO/OsfGhwXE7Jt0j4xz9E2FZMscmhISd398gnMjW7g93cSSlTvZd+4S7zwp0FXtwHtkO8cv/Fc+33ofTbkWvvnyUQ6cGuLNR2vk5/8Vuv8wG3d2c3zTkzNefz351L0eK1mRgpwnlxfj80ZLKo38/XWcvjzJpnsl9GILCzMiLx2+wGeHXqYlleS2j0a4dHojd6cr/GD9IS4Pb+a+nEIxyPPclik+/U+X2flEOi7UvnHwPGMHX8RMZ7i6uQXl/p0MnD3NznuTs75+VbzSTTI3n6d91T5Ghg7xkpclkUgg6xrZTJGFUgrV0sglC+RSXajWU3T3nGLbOzKB0cqcq64QVnToC0m0pEl2PMR7Gw/Rv/HpuG66qOsl9vfuY9MLFVKtOVrkeWi5ryb8rQuwzDyJ5Ste5/VNRzn76Vl+eWmUze/+mKWLTJrTM28lqZemn778WRzvH/nwKVz9G1zdovGjzafoO7CO2y0DMT2Pea0h31pzgqnxw5zqG6J33wC7V61lz6lT7HhxBSsWrWVjzwm6X63geCKO3cEjaw4weHI9t2ku85uy3PzyPg6fHeRvL51m/Z5VHD1+nr7tT5BMJ1jgLuanH27nk8vjXJ64yNjIRY51v4SeaZp1BasHsHQ6STFiHlEVZFGiKCsomkzlrjdj4vdVd7g4ajEmmXhmw2H6N7+AGwbc8/5BBo5/zHeEq1HV5by+vYeLk/8Pn5zdx9Z3NtNz8SQb7pPime4vbjjM7vU/JNRVCrJO7b4N7Dq8j/fuN2Z9/a2FNGpGiufi3//RIY4d2cTdZpGmVAo1l4+5B6LOFTWTQijOpaU5TRA8zdH+C2x9U6E5laO0+D52HOhh09p7CQWDv5qTp7b8FXb1n2Rg8DQ9fVP07nyLxeY85iSj+fXzkfM22XxuxuurCzAlG1XsDTKaFJM9mKpEonClcKclZ34D9QrNYnY+YlGiZiZYkMlSEDVEUcazCqSaWsindfLZa/mrBQYFRSFrF/BVjez85piJpU0rcM3VadSyhpu8lm/MS9A05y9pUiISBTXOvs1NXkvErCLlCuhpA7km8OqHvRxacyeWqJHNXcvVSYmFrQVE1UPIJ/CLX2decuZlinoAqnc9InaIekSjREc+mYyVIpNcwNczJdzAJFCbWZhIk022kLdKlHSROVdfQ04LsJUCiiyiJQRSxhwWpAtxmGmaD7FpdIit97ssXHg1ktNO1ZFJJgokU03MSYmEZQ8lO/sGJitG/aESmUSSpoKHZacRm5vjTLFRyMcdO8lElqJkInlOTFKRmDsPyfNINs2P+cHmzEmiWTaCeQ1C2sbVEsy/2qVoGqimFZdqrOQC/uNffw3b74x7TTMFkYLwR0jTZ6Jet+JCpEIT6SaJBQsyVzJ7ejlWznoKUPd6nVYpTSyQzmtxD2Iyq2GLrTRfM4e8pGEWC3GdKmIfURfmkMQ8TdkEuUwxbnFSE3kkUYuzQRkpidAiUHRKBKpI1AOZyiQpignuWXeS48e28HBwLfOv9qk99g49Yxc4+KBJa2srupLFkjoQsq2olkwiUSDinpLtmfdi1pVPnUN2UZCunEeKEkouHXsyS87GTb+5dBO5Qp7WnBKDKZloIZUuxLRPspAllc7TpN7KO/uGOb73GarpvyKh1Vj53hCDJ/bxvcx/RBFzcYdIPp2IWW8sU435xqK2rAWREta5v5leTydzpMQCuqaQbxXI5efHlMNRw3Y61YwkR141H+/xgtYsuZRPPimSVtPISgFZMrA1CyFRjM+XrTkPQ/kGQi5PLr0gPpulckWMgkmLmcBWTZquWkgq6gCSZr6+uh5MEHNkE1EvV9SRHCBJAmIuQT6n0CrNPE1fr9m3JXmFz1jTCkRZIFFspSBaqIaP0LqQohidL9IUWnJxF37UdS0kCmTVDLpUJJlLxOnYqBMgSmUn5DRKRkXMSWTFJOm5aeSun7Bu9yFGx85w9rO/5/TRbj56qoPkgqsoClUWFq6JM4zF1jz5vEkhIgbUJaTUzEPkmSpg1PoVlSpSRRU1l6Qln6OYaSEnyEhiMaYlitYqFgXEfIZiQSEvSiSyrVeeNlhYoPLkGnr6prk0Mc1nE4PsP7iWp5Ya5NJW/H4hl4472ZO5VvJZIVbGKMUdtdHN9P7rfV4VJTK5ZNw3qhQ18vlmcgU3LjxHfZepVCKOavxCRAqfJFFYGAMj6lVtvWZe3G1UNEUKrSkU1SSVF8nmkmQkFaFgomoiuaiDSNRp1RJomSjcNlB0ITYs9e6v3vW6AItuNO5Wz1+xhsWiSC7fSiGdR83NHOH1HlcRc2kKxWTcCFzMhWS1Amo+G2cLk4qDVtRIJyNOrWL8CEJTLo8kyFgFiaZ8Mi66xp3XxVRMxNZcyMQeTtWjBlkRSRdpWjgf06sgLiyg2t8gJVcRkleRk12UbAutRRG9ENJSnEdOl8mnmshkffQoTTzLFrze9wuCQDHXHHfRG8UMSVG+Ur+J90kkm0+hSwUWFhQijjQ1m4nbhxIFAbUoIslZrsknCUWFBYZBYX4T2dCj+I1vkFZlcoV03NEgii6yVCATNXgLRaKwLOqBrHd/M70elWkizxwZElExyRVb4nYpWU6TS+bRWovkXTl+AkMSdXJiNs4WRun9mBetINGcj0LbHJKsx40LmhQyL7sQVcoi5gSakguQ8wtJpjWE1iwZXyCxIIciqTNeX12AzVRAjc/Pfq2oIeM/XRk3APbP7IEa4PjTBcdXsTcNgDUANuMw6KtQxD/X72gArAGwBsBmUQcaAJtF4f65WuXGun7/sLYBsAbAGh5sFnWgAbBZFG7D0v/+lv7PVVYNgDUA1vBgs6gDf9FgP/zD2Q8bsvvzl92MCfgaSvLnrySNPf7D97gBsFmkD20o5h+umH8usmsArAGwBkfzLOpAA2CzKNw/FyvcWMcf7okbAGsArOHBZlEHGgCbReE2LP8fbvn/XGTXAFgDYA0PNos6MOsAsxw7HgVWawtxLBtdCAiqXWi+Rcl0Zn1zXdfFNLR4Jr5vG0R/R9bRsqyY7cOwJUpKmdDriCmVFFXHcMvYnk50LWi3CQoVHFnBqdQI/QqWksIth6iGi+NUqFQcTLkVzVmEUZZwxQ5KYRHTtPFkE6tWIzDyqLqEFpRo8x0iuajqlXv5U7bWphvEcyeWVjqRtSKu6yNKLbhuB5ZvIClJyl4JNXqfU8IzjHiehe741HSHsFZCldKEahdpK8WSYDEJS2S5sxjBEfCsK3sR74dtY7oORjQbw7FxTWvG+lEueUi6TSU0UPUKkpWl5LlXZnV6Nr6lI5o2ZbOCH1gYikhJt1GrBqHtUzVtTF+mrIcYpkvGNQksD8/zCGwd13DICTbVthqakaVWCsmmc+glicBqZ9YBFgbVeLaBabgYpofvq3imRiEt4JZmH2DRLAbXsQjDEM8PibipRM1CtTwsv4zjqlc21AsJbD82ArYh4xgqdriYtK7jegHlqoEZDbmRdVzHiDeh5lRiFhbVbY8Vwrc78IwU0dwJs7Y0fiK2y3bIGTlMZykdlU48VUMXfXSvQNXTZqxAsw3OCFCaphBoIamiz7Lrv0dHOR0T1kmSRLWyCE21CIOIgUZCLuZos306HRvZNMmYCqWKT63soXkBNSWgKGuogYOntxFYTizzCGCRAXZtB9u9AjD7KwBY9Dj/4koHpqDGg4lq3mIqlkF5mYcr2jHjSlctwDcERFvG9Eo4ZgnLt9FFkYRhxMZjiWPgOT5um4erFUi2WvjVKn5g4/k6tbBAcn6Bzs4b6VhUJgxq6IYw+wALJImOm2/lhQ92MjrxC3792QSHNr7K9xbXYmbB2VaQ0L1iBRXDRtUMXFOj5JpUfJtK4BJqDkJJIa/kUUQHN6xQqwaEth0zcbb7FpqWIatJVIM2amGVsFohn84gl1y62hxUvYahmZTCNkzDQ64oPPzqbi5d7IlHwy1yfBxfQcsWcSwXs7OCYnXiWfqfPMAipXJsLbbGfueTrNt+lLWvrmBZrYIXGR7fQ1AL2EZI4FvYtSAmMYxmsXhhDVOyqNoVivl5KFoZyVFY3tGG5GcpSQ6+72P6LqpnY9pXQPZV6sSS2goyhb/E6LglZsgZGTrL5HgfA33DvNTm4geVeDR2c3gLP3rnDJ9euMDU+DlOHR/h6PoObupyEYsOBTGBont4so0hd3LTLevYdrSfyakLjJyaYm/3a1zX7sRTj4taAjNfxXTU2QeYapZ4YfMRpv/210yNjTE28gWffzrOrg8eZok1+x4s8F1My0GzXIIgImMLYtcuR8weqo0tVfE6qtTKkRW2Y4bDiMxPLS9hSYeGrPksXdSGV+vAty1y87+OGdTwa0swtCQZ4YrF7fIMNHUBSsEiWN7Bk+tGGDz5Nj8rl+Pxy7kgxHNtrMAho+QIiknaOm78kweYY/k4phRPYgo7V3Fy8nN6N3XgKMl4rnurYtO1vEwYLo4nT7mSgKmFeLfeTi3bEhskW/XRAp8bF91Ai5Kmy41YZhzKXQ6L7JDQ9eLQMAJY5LUiTxZ5sfg1w/NRoMoUrYDteyc4M/gRd/gdeB02T344wOToFu7zQkqCw53vfUTP+EnW/riC6Kl8c+U+jh3v5p3v12jzfOSyScfyGq6awrj5Id7edJDTh55F12xuWP4c2/btZPO6b9MRKvEed3rtMXhnPUQMnnifsV//Zz49tY67FoV86563OHXpC870fsDt5WDWFSzyWFH4EYHMst14TFdrQUVs/xZLH32DyfODDAyOMNR7honzw2x56XbaJJ3SQ2+xp+8gr605xNkjQ5wfHOZ4/05uuU6lVQtYue4QZw59yL5jYxwaO8HZiYts/vgRbrFbyOVyPLbxLOdHtnOPpHN1tcB9b41yfuQUFy6cYWrkbzix4WaMbNOsr3+m3iAKjz1Pi5lXNPNVDg1PcvDtAplUlvKym3lh6yCnjx3m/2PvvYLjOrM8z37ZiI3Y2KeNmd3p7jJSiQYufeZ1eX3e9JnwNGJJFKVSyZRKnlKJElXyohwpQ4qiE0XvPQmCBEgABEB4T5AAraRy3TXd0zETG7uPv417WZqpqKgW1IFBd0UvHjISwE0A9zv3/M853znnO//+/kGGBs7zyYMPcncoy9oLVxk+uIJoQUdLVfHmwXO0HNrBEyl335Ol7seHOHjxAA+pORbraW8/7u65/vu+638SwLS0TvK+LRxqbmf/tjruU6u9CVP2kk00X+xm9+s6dvVqVjc00HrgFV7I1uEPxxDTKbI1dVQ5JrpuoklV5BI5BFWlfl0bAwOdrM+KWFoUJbWUdw8N0Nu6hvsME1nNk3MkjzRjxgGWWd3I0OQgXdvfZKFjU646XnKhVlO8sGq6CjDV79u2zTcvdy/mbk5zdUt48s1P2dV+jXVrqllUWyBbeI6dHSNcafqUR5NpUiv2eV73Stt+XvjxfVQnF/DF+W5aDq2j1nF4Yt8QE2OtNH+2iqofL+LeZ7fQ2t9I49r7SBgqTx3sZ7L3EE9lanh820mOnN3P+4vTSGKaRS+8T2t7I/veW/gXDzA7nfCGhKYySXKZLZwdHKd5o4mT+zmrd5ykvfMQ7z94H4XKe/ngyDE6Th3lw8UL+OXBAUa736NSS5BQH+HIxO8ZGzvDgXqNUtlP/aoWBrs+YqGVoZBIeXtY00l4726Cw32ubgJkquc71fVMWPcmD1cW8+RrI6hZm1hWZ+lTZ2id7ODzR3SWvdbI8NUL7Hwlj2o4ZBcWWZLPEAtrHtAyNSoF2yKdUNCTOk8fGuJ340f4uWhQmckhZCMs/qSNwc6TvF4oeAmgtBtWZ/MzHyK+enyU9v4ues+dZmT0Cr/9+5u0HdzEymX3YRnTF+BUAnZcsLiZw4QrIBM3k+gyFaqaQVXdQqqcMFZCJ6Ys5o3DF5noPszL9Yuxfr6RzoFWjryS9jh6S2IZfrptgFtDF/igzmbl3jEmB5tZWRlFCskIhQf5ovUKXafepjJp8tTeLq707ObZ7NNsOXmTUzsW87gRQLUXE1p6Nx/sm2DizOvTVqAp1z/NEMuwdOxEmmTOIZ/ZyNH+ARrWp3DqPuDQxQHOrEux1JIpLdOR73mBU5evcXHrcyx5aR/nBo6zppjHKX5ES08bezou0L9qIWpVHe9eaKPt3RqMTBI14xBPJzBTt7OIbibRXVfamn4W0SgWUYs+byBoTluES3FVWLCULQd76D+/nvsqHYTn1nO2vZeTnx3m0JHzXL8xTl9nJ0c/rmFhsgpJSGCYjpdFTBsFVuxoZ+Tsh14iw9KzqGYI87X9jAye46OqvKdnRjxLwk2aJZNeBOW+u4beHZMnePSykvc+1Tm2KY+rvLKzg97x33H12mUGh/sYHbvCl9dH6Du1hVfyM7/JN0zbW6SbqncXmMsXvWyil120DazMNpqHr3FzbIC+GzcYOf85vyhWkX32cwZudfF+wiGfLVCVyqK88AW9E21sezbHywcHGGxejaSr1GQXoyZLeHVHD9e697O8toaVWwcY6TvGyvRGzk8MefxgbX39fP2bm4w0t9P7ZR+jDV/8xQPMzQ4aRh4jZZBLr+PwSB/NO2qpeXg7nV+Nc/T1LIKhUFO0SIhVfNY0RO+uFzDz79N2eZIjKw2Md44z3rGB1w5epn3PL8il3uD0cC8fF7TbHsstmdgJMrZD5g9ZRCv5h1LKNA1E0U6RSuaxkwVMU6C+sIgNJy5x/uYhNqRqMVIFUs/t58pXk3Sd2MSqRQtwM97ZDY2MDQyw5yV3VHaaTKWNbWkkjSy/PDXAwPG1pNIWmVySSnUh1so9jFw6xftOgaSpkHJqsDLCzANMW3+K8YmvmDy32qs1qMn3ODp8jRu/7uTI8pn3YCnTRMyYVBtJLDODUYySiBWorNnKocF2Rq9dpnX7k9xTvZQV+88z1HuIl5JJ0i/vZ+DSBd4zZOoylWipJLnVjfQMtXnUr28eaGW86VOEeA33VdkYTprn9nUw2X6KX1TneWlXJ5d6j/Fi4jOahnvo27SYqEuwUFnJAlv1xkgnU9ZfPMCyhoaWzXpAKNrbaLjcQvPGu8k8vJWLNy+y+xdxYvmFLMqaxLUCW88O0H34HXKJOB+cG2N4/0qeOXGOrt0rya3YSU/rNl5+o5X+5lVe3XGmPXBGS3hJrHhMRs9W8Wn7eS51nuej2jqvNqppGjWvnWBgvJXPawtEJZnK2gU48Uc4NDRC15HXb5chaixyapZ4VuX5bV10XznI22qRZMpES8g4G1u4PNjEqkItScNAddLkkreNu1eCmCkPVnhpI63to7Q1rqE6lyOZfoH95/oZHmlnz4ramVewdCUJt8aVcdDsDNUJjXimhsTKjUzeamdFJk/RDFKWWMQ7J9q50nmEJ9W4R98zPDFA8/tL0LQQc+ca3LfuJMN9jXy07B6e39VDf/chXqkPIZbNIZy4lx1d44ycWU+lofLItgtc6dvFL/PPs6V/lNa9L7HE8qFpBqZzL06xlqLpm/n1T9MDuIVjJ++g6RIJczPHRy5w6l0Hs/5tzo//jvaNOWoVgeh8Cfne1zjirnXbci/9XrWuhaHGvey72EbDs9VYhfdoH+/ii73naPhgIZlEbsbXnys6lJZILHv8VRov9tDRcIKVS+tRy+8inSmSyizAXrCR3U372b/yPuq1cq8hIFL1Cge6bnFpz0+pyaaJGjKqSxxSKPDwx810DTfxSS5EQo9jJB7ixSNd9J//JctM12imyOWT2C7x5EyHiEZxCVsPD3Dz97/n0qXLjI9e4z//w00unjrEi7Uz38ngbpzd2lMia6DYSer0BGp1Dc47H3N1oo+3EmnqF93D4lff4djANX4z2Mpbi9Jkl++lb/wSp7e/Td3SxTz54NtsPXeOI3te4V41zdP7B7h2Y5Rja5ZRc89SHlmxmqbzB9j/Vh1pK8kLxy4z1LeXp408D28+ycW+Tva+8SiOrFFcupKGhv20HP1kxhVs2h7CynlFerfDIVe1kwvXJ7n4WRY9vZBXN5ygs+MIb9yzgIXV9byz8zTD586w5p4Etl7AWrGPsRs3GZnsYE1lDFN4hqM3JhjobWfLj2M4ysyXacyMhpN/mE8Pd9Pc2uLda40UwS4mSeYqyRrfIyn9hHXNp2npPMOjUp9KAAAgAElEQVRL99xNImOzZNUmbo338PnKOgwtR6q4gIV5GVlUiC9aya4Tw4w3bMBRbJbc9y5NnRc5unkhuqoRN1XPe7n7thkHmNs2svTxD9h+5AKDQ5e4dKmbcw0befOxh0n4gjOvYIbsdW+k/kA14zi2twktLn2C1Z8f4jdjY/QPD3Gqq4mDZ3poPXGAD5+pZsmbp+gcG+OrkUsca25lrKOPU+eO8vQjaWKhMM8e7eVKTzNDF1s40z/K0FAX+zavYGm6BE1O89bBdkZGTvOoZRMrLGX1rlPcvNzHYP8APX1XuHh8PemkPPPrn6YHsxMZsukCrvwyhffZfqqJY2uq0B0Jq24Ba89cYrKzg+HLvXReOMeGnz5Aas6PcGtfdtWTHGpvo/H4Tu7J2hSzD/LyoV10Nhzh1WzK65aYtgGYYn2mabNs5XtcuPQlv791je6OJgbGxrh+4xa9/T2c2LaMKsWgorqaN7YfYrx1iBs3rnF2bIjdby7C3WKkiz+l8WwXp/e9wQO1tZTHdGrv3UxDayNjw5O09PRy4fgOHqxVCekOphMj59Ri2sbMA6yQyKCZWY8brKqyQL6+jpy7n4nbaImZbxVyi5hqsuB1bLhFUz3vkFIjOLJB5scPIKayVKYtcskw5WGbmuo8tYUo1nNH6Brr4eNHU2SKWWoLKplkATUYRUplefX0JGOt23k8U00+W0lNxsI2BKxkCjNbS7zG7WIoodaxsOMhYvnFWPkclbV1FJ0kCxNRFLPwFw8wt9/QStikHQ0lXk3VkmX8tN7BSNgeUd883aQmnUGvrCTpmORlmWxdPYvvrkcJ2WSLBe6vKjIvJpGwbAJJm58/cD96WPf2MzMNsJTpEMrnSKRTVJoG8XwOJZMnFTfIZZMU0yKGS5trxMnXLfTS8aYpUVO1BFvxeal2l6apdsFSNLscTbHIFV3q23tJ1bl9tTXkqh1qjAhlpQGy1UvI5hSK+WXoZmzmAZZxawEJh7QWx1Q1orqB20XhNvpm6qpmXMFcpXaV3u0tdNt+vPaddALVBYMeQ9dz5CyHQj5FXE9SqMwjWwnkZ09y6foALW9YVCYzhKUKr7G3xiliF2t4cc8gV0ZP8rKtktAsLCuPk8h4BW3ViqOlDRbmKoknUtQ4UZz8AlRJ9FK2cVnxipC1dQtmfP3TVeBMLousqaRTttfRERFd9pkUyXQdOStFMZcgJSeQzATpQtKrIwlGymOOSRVTuF0xBVUlmkhRm8sQCcpU5dJEdIfa7MwbmFTSJJl2PHkbmkkuXUkhk/VqlW620DbzpKurqDS12+l1R0MyRApmATGdJplOUVVIkktXozsmCbuarB0gZ2ZRE3EkW8bWi1Q6SbTKFMVMlUcy6OqZW6Cf8RAxFhe9Oko+W08+V0Um75DNWl49yjJmPk2vp20SiTiWo3mtN7lknkS+EquQIWvK1CcLXo+i2/hraLpn6RKJPPUv7eFC93k2PVugJl2NG2q4HfS5tI2dSvPCuv0MDl7giWIGt+Pccopkkw5ZWyFrqxiWSUKtJJFf6NHcZLM1VOs6iUyefCGFU6hClgN/8QBz082G2/ycyns9mpl0AitZSTqdxPUOaStPxq4mZYtknDiGZlOfr/aMlpE3cA1sJuc2eae8vsW0kaPgKnzKplLNzPj6kxmDpGJ6JxtShQKViTxZ0/L2WW6Sw02pW+kEeT1J3EmQylZju028hoKR0j3KI7cBWRcsMrZN1s6iizoucJ10gVwxhaXe1g+ryqTKzqKmE1S6kVLKPW0xw3Wwqj8U2+KOgWGLpG23AbLG49Nym0ina2Gn+v2Ulfa66ROpvFf4M0yJpGWTT1R6SY9CUiPs3le+QN7UvY7vguvZ8nU4mTSptIFlq96DcelC3abhhJ3BWeAeYTFIqbf/fiZhYKVsr2M77eRJuCnaVIZMIo1mx8kUiqREhVimipwdI5UokEnPvAWfSj5TXXd77bIF0QvzDSPtdbt7HRe2HyeZJWGbnswSpkhlqsbrzUvnVWQzQ8JKec3VUTtBlWUimzJufcuNZLJVCbR/heNKbj+j2x2fSaW9I0hxwz2OlCNTWcAtomdzSS/6KKbrEJMSBRc82UovhV+wbx+/SabckxhFLEvEshXS+Yew0jIZwybl1VnjHmDdkxo5t0N/QRWOEvKM0rQB5v6B2desDGZ14M/rgGvAvqmDWZaFJElEo1Gvi8PtWZ12J8dUFnL2+swX22dl/G8r428A9k2rlAsqF2hTgcu9/lezluvPW65ZuczKxdUB7ySH/Yd2PdtGUW7TJnvUvd8BZFP2Is5az39b6zkr/39b+X8DMPc5fBMi/ouafd0/MPualcGsDvx5HfjGi7nvbojohobf7L1coE0VJv6Vm4qcfc3KYFYH/rwOuMByvdc3QHNDw3/RHsxF5exrVgazOvDndcA0TQzj9lEp92vXg7me6zvvwaZycbPXZ0nk/v+sAy6Q3Jd7LMbtYHLDQzdN/11lMkvAN4Pka9/1Icx+7t+vEZsF2CzAvrM1njUE/3JDMAuwWYDNAmwGdWAWYDMo3FmL/y+3+P/eZDYLsFmAzXqwGdSBWYDNoHD/vVnj2fX8yz3yLMBmATbrwWZQB2YBNoPCnbX4/3KL/+9NZlMCTBVswtF5mHEbUQgRiITRdBk1XERU5k7b+ilxk1jZHH4UcyimKgjMiZIsVuOTRcLheZiiwnxZQ1NKiQsKomogRn1oEd37OqqGvOlGYUEkGg2jhQViUhZHVbwpsHJcIOaPoYhhBCmNYPiJCX6UgIZhxhEECUUPYkTSRIQ47t8JxyrQNZtAyI8dEaiIxBEllagQImoniYsVaLKPaNiccv2KICKIMpIYI64IlPpDxDUVTYqiCDHEaMAbwyBoMdzZf76yuZgxjbgmEYoJhNU4IdFHeTSBP/QfsII20bhFNKSgxGMoikQgFiEuJSiLBJEkG1vXCAUrEGMKmily59wSkk6OsBpBr6hAjkvEpQh+QSISEtB1FSEqE5dKUXSL8pAPIaiiKCqKbhALlnkUVkJMQzAqUH1Rj5FFjISnXP90AeOT76Jg3ccdoR+QlOoRrVLm36XgZERETUaL+nAJLPwhiaxm4BN/iCRY3kFSf0TEiJmosokYFgiHg4i6QDzsw18hE3eyBKISjsspZ/qZP0fE1DLIYgm6IuMXp7++KQH22N5+rvZfY3DkKld+c4mveq8zMNDOlYkGNj5bNW0BB6MRRK3IC3svMty1myfUJPHv/Q2RSATLWYRe6sdKmMQiJsGI5IE8LqsIVhx/oJR4OIHskyl3K+5Wwpsl4QvcSTjiQzSzBIQAmpb0lFqJCsTLFBRVJmxI3u+HxRARJYIcLEUQS73RBMESjXBYx53NEYqZaErIG4ASLJlHPBglJKcIGe6D+NHU648JRKIC0UgATZW8wZguwEK+CkKuUiu2B6zyih+gGw66YxOPJ/CXz/OUXZ3vR5E0cnrGI0KMaAYRdT6+SARJMolFFVx5BOIhMqFS8rbG9wMRDDXJW2e7aTn4Hj9edg9vrtvJF/u38dLSJQQCASKBIKqVRNJkoqKfQDiOFPGhiDZxVcQUg0SVCmJimJDsIEQUBDHukfFVzNcIxTU0a2oDM12ACVGbQOlfe8bUilZQ7qtg0ZIv2NF4hAPvpigJxim4p7KD5ZSXhJiTrWH11jOc3PEOSSNCWA6hCOWEgyFPnnFBpWJumsX3rebI2Vau3bxC38UBTh5cxeJsCRX+cvyKghoyiES0qZ/vFBHQlABbfqCdy19dY3Swj/6eVvqv/TeufTnJ6OF3KQr+ad+AHg0jx6I8u7uNtubN/DyTQxM0rGwe/4/+D+bKJkmrhMiccsykganKCCUyZULYI2CLxP1EhDuJmCLhkEA4GMfJFr25ftG7/taz6HLcz5xyHSmT9DyTKPyIaEQmGZMwYhoRI49jBQnNE4kqEroSx6oMEywNYSTjhMt+SEiLE4ln0JUA4VgZlqATEG+fDfo2JXK9gCi53jSArohI6u2HVlbuI71g2W2lVrOELBFHjjHn//pfKInnUPQ0esSHqsXwWwZyrJTSeTJ3hcK4lD4uSN11xQIRb5ZGuSJSVuYQNAWiZREWaBprTozxu/aP+MFd3+eH8Rru/nGR5A/+mjt8GvlCJZH5f00sLFNWOhcru5CMHeauO0rxq4ZHVuhTDcIxxeMFyJT+R9wJVKqexxBE0kopPyzxTfv5f5vs3GtJu8i84H8kZy/CV/p9opU/5r3N3Uz843+h/ZOgN29eqPBxV0CjZunDPL96M0M3/l9+3fohMSGIX5DRZYFoVEXWTKJBH0rdM6zbfZaBU58Q9EnkCi9zurmR3R/fg674CRo2ejiMpEw/xJ0SYIFSkTI7SlqWkYxaVhxr5FLnYd4qyNwVnv4NROQaonqEh3cMcelyH+MXT9DY3U3nxT769t3vUb+W3BGjuPAVjrddpLVnkJs3v6TvWiudu55DiQWIW0U+2trB6IV2Os42MnCpn7auTlr2VKJFopSn67jn2S8403WIvp7LfH3zFtcGBti0PIGtWSiPfMD+zpMMnJugo2eAawNX6evbx7OSwry7vkei6mG2H2lhYvAy45Pd9P1qjK79mzETUxsY13vFBMkDmBxzH5rbjR3zWDrf2HKMo0c+oul8O21X+hgdHuH4uufZf+QEPb1DjE5+RcP2J6gXKvhPP/Jz/5Pr2H32DP09v6bj4hmGL5/k6aRNydzvcWdgIQ+tOsaZscP850s3OTrQxLmWCQYP/tJTrFe2NtHeuJ3HEgnyz22mqaOFbS+kcdS0N3tk/cFzHNj1JjXVC3jq0700tpxm575dXL38a1p7ezi19hHe3buZxvOXuPzlBEPNn5OSAjMOMMn1oLqDHo0xtzzBzzbtYdfu/UxMfM2eNwJo0XLmhzSyL22he7idgdZGWof/nqF9vyAimmhRESUueIZTlaOUhMuoX3+I3qEePkmWe3S6dwWXsOrkAK1NH1EdKCHgF9DdyEOIT3t9UwKskHCI+EIIIQl5+Sc0DA5y5fPXMYKlyIox7RuQfT6isbv42Y7LfHm5l4YNL5K/ewmVD33A4e4ujr4roWfu5/3jPfSe301aihGLp3l2Sw83xkf5/JEooqbx7rEJfnXpFG89tYD6hXke/6CJyYkzrNQjFB/dyIFzPbQfWYThk6nQH+JQ+yDXBrfxSDhM4fFTXP6767R+/qY3p1w3X2JnXy9DR18gmU/z3u4mmpqOsbzaxvejeRTeOcel0XGOfKhOuX5v/6XIxMUoQizifT4W8iOaSTadu8x/Hj3Pxp8tozalsGJ7J9cvn2f/x89Rv8gh9suDfHXzFKuUKMHM85w4dp6jmx6nkK3Gydp88Hk/bbvWkM8qFJ7fx/GOi2x83WBRfgHSO6sYGbzFzbYNhGWDl3Z2Mdq2i/tFGeW5w/SPD3N4eYDyinnMi4XZ3HKNrtOfYGsOT+/q4Oq1Mxxe8wC2IPDo1i5+86tBGo69R31lLfFHVnG686LHXDOVB5ru9ViFDyOeo8J/B7m7P2LP2Qbe+cmHtHeNcmKt6clUMHOkH3uNV35Rx/3VKV7c3cPwibdvj+MTYwSjMcLRgEekWC5ZLNvbwc2R8zwwZz6JVDk/LAuS/fAkvcMnecPWMUXVY+9x5ylO9/6nBFhYCSCGIoTEJKtar3Fl6Czv5k1Cku0lFKZ7AzElQkRL8czBrxjt2MbjOZG77vhbYmqKbZ2/YfDc26gVKYxkgoz4fUrKw8Q1hcrn93Os+wInn9TxR3y8e2qcyfaNVGkh/qbs++jPH2fg8ggnHja9fYZpKMRL5niJitJ4ktc+O8e5i8d4WAoSfuIQLePdHH3RQYnOIeJfxCfNw1w58hLzK+aSTRmktRClokk8pKD+ZKsXv19YN7WBkeOKd8QhrkiIMeH2kfOwn/KwxOoTw1w8v4GUXspd/hLyW3uYGD3LBzkF7fs/QMjvYd+VXrbdr1O75iTtLSf46Mcyc7/3fX70ozvI1+xm9OtuPvqJzBN7GhnoOsJrlSFKfngHc5L1bGm6wsjxNygLx1h+5Apfjp3g0ZhI4NF9dA/2sueJEElTIxCL8dnZGww2vIUcjPGz3cMM9+7mGe0HBMPziS4/RefF8+x4Oovim09Z5k2O9/+K46/OmbYCTqU/mhZH9JdSlvoxb63v5MSmF6gt/ZA9o300r1URQiKyJCDZeTTtToRojFVNV7nZ/inlpWXentelL3J1OC5EEJUsj209z5XWT72kk5ssMgQZ8cWj9PU28LGpEQ2G8ElRTO1fAWCxoICUSJJ/6GOGr/yOC0efxiyZ42VZgpGyaQtYlSq87ODK3RdpO/EGejSC7GRws38/23Kea/2HeDQaJBYUmWc4fHp+gon+fs4N/p7f/a6TXc/GcUH62ekxeg6/ih5JUGFo2L9soq29gZ0vhynzzSOiFJDVzfSPdjM23MbEzf+HW8PrWa4aGCv20j08yu6HIkgxN8sW5IPOS4w3fUbSzlJWIhDxxXn5cAdfDXbR2nKLL/9hgtMfW1Ou381c+f0ViEKUcDiKqsRJKBHCYpzVp0b58uQHCGIIRSugfdhA17kNPK1oxCSLsuCbtE22c/wXIkt3dTH49SSjTUPc/O1/5bd//yX9bT309HVz4hmHjedGaD+0ioKQJyaWYosaP93dw9Uz73t7wIf3DDPcvo0nYxHM508xNjHCzmckDMn0Eh6rj4wyeOY1LzR68vAVJgeP82BEJiDFsJ45wMTlFjYWTQLlZYTL7+PYxSs0rf1ug1+mAtG3Xjei+HwxFr6wmz27PuOluzXE0KfsvT5E43uiFwIKsSBC1MAvBYlE4qw60sq182tRDBuf7PPI0GUpij9YjiYZPL2zi+Eza24ProlYHil6YPlBRnqPegBzOZ2DQcnLPH7rvU2R4HB/d0oPFo/6kRNx7v9ikqtjfTR+qCAZaWSxHEVITqlgU91gTE9SGony7M5uBlo2IwbLPAYTYX4Zzx4dZbxjP486cT47fIWxG6NMdB3iASFGfvkOzg71suvpgJew+Oz0rxhsep20kiAQmI/61CGGro+y6/EoUvAz2q4NMtTfTte+5UStLA990cRk634ejkYIP/4pvSOTHH4+4qWlBZ+fd0/eZPz0m553fGJ/N5PXrjI40sArZhxTWk3zxCSn3glNuX5VVYjFIl4GMBCMehbWlgKERYUPT19i6PRHlMslOJKN/+0jjA8f5blwHMFNsctrOHm5m63LbV78vJsrnVt4MpkiUvbXlIkGmi6Q1JOURX7A+yf/K7can0FUqygT5yH7XZn2MnZ8DaaieoyeY+1beUoIE33iML3DF9j5nIhPiHgGZc2pqwy0fIgSi/Potlau9WzgEdNCjsZRl+/kwtWzvF0eRdNtTPmnbO+Z4PT7U4fIUz3/qa6HIkGM9HNsOd7O0TUWse/7CCfXcX5kiKbVEr6YREgXsaJxBDGMrmRY09jP+NktKKEKz4MpwRBR1SDgcndHYzxyeIhrHZv4mejef4yI7iP61jm+vt7Im0KZJwMjFkHWp29ApgRYQnSzc4+xs2eSycHDvGxZ3lxyIakjhKafRRK0JEoozBMHBhg9t5+XMzbl//F/JXzvT1i39yKTJ15DMLZysOc0ja+4m90y/qbUpPD6ETr7+jj0gko0ILC26Trdh17DViSimoT6sz20Xunk4NMhnHWNDHSeZbkawF8RIGqqvLmvh96B4zwhamhPfUHP6AD7H5cJCCpO3OTTU5cYaHyPQOynHOnup3FdgmT0b7irbCmJ3Gsc7rtB84dThxBRIeYx18uiRDR8G2huDcwn6bx3+hITTRu80NGSNMIfHqe/7yDL5TiyEECU1nF6qI1tKypJrjlCT18rW3N+fOUmsjCXkJbFivuIKjmP5nbkwiHerbH56//wt+TqFrNyfx9XGj4gGIrx1K4BxvsP8IDgY+GzDbRc7mf3I/PRwkFKlGo+aepivPF9pKDGz3YNMNi3lyeluAfi6IN7GJo8z/sBd2S4RLn4mMcRd/rd737wcCog/XPXXSOee2ETZ7vHuTo+yuT1Lvp6r3LtH37L0IUe2nY/7w0TjQYiyKqFqaV4Y38bw01vIIoWbmguSDHcBIcaiXKHmKT4/iYujPTzYfxOL6z8P8uXsPF0J2ePvUtaiVIh2N6Y9FDsXwFgd1XEiGdepvn677g5eJBn1Rjhu0oIKuH/PsLqnxPOd/m5WygMh3w8fugyX147wdq3a9EyBepe3s3A5XY+f6aWjPo224cH2P9eDY4iUV/5AdsOD3P9twPseSpMwB9lU+s1bpz/GDMW4m99AYynj9B/tY/PH5ax39tGX89JVjlRDL2ShR/uYNvwP/D7c5/wc7EU7ZktdF+b5NQKjUiw3AsP3jo2wvXWD4mqj7GleYLjn7+AKfrJVj7Gtm2HuPJffsvhd6cePOntIWQJd569JIgemFzDFFFM1p0Z40bzGoJhH4GwjPLxUS4PHGZFXCUSDhISP6Xj5gi77y1Hzj/JrgujnN77NnYxS0gKkXpnB90Xv+DjWCX5ms95s+0MDe9XeaOxI6u285urE9xofoeY6fDYvovcHDrMk8FSKvRfsqnpIjdbPiGgx6l7ZAWNg79i/PQ6IpEYj+9u48uxYzxR4fMK7/pzDfTfauFjUUT1l1MaepJdnaM0r5t6/d9FB77tM+7p4TmSRSqlIysxSsp1spkNHG25QNO2LBmhjBJ/BZYuU+qrIBJWWHvmMte7NhIOVaDFA9xZIiHoWex4hPKSCPqCV9h5qou+Y6uJBVMUqlZy9PQRtn6yDDNeQlRR0GMVCPHpr29KDyalK6l+8F1Odg/RdnwdTxRsbElElCJeFfzbhPNdrsUiElrC4sF1nXQ0tdLb38LItauc677AiS/qiCl/w9wyjft3tTA42MHQ5DDNZ3o58vlamltGObP+Eaqqa3l/3xnO73qbvJ0gaposeHEvzR1n2PVYlIqa+/n8TD/Xhy4zMdJD0/nTbN7VwMBQGx89VsOClRs5fL6JLc+Y2JpMwk7zxsFO+o59SFnA5qerdjA23OPRN3V09tJwaDMNF5sZaVwzZYjoAsUfCHlHzd2ukWhUQJdjWLbDm1uP0rH/TW/Ou53M4azaRPPRz3jKTqKocWT9dRqGu9j6gsLcMp3skk9ob+vn0pWbjA700H5rhPW5RcTK/nfuKkny0zf20zbez99NdnC+t4HtDYP07n6N6lw9P1+7g4und7Ii41ASv4dH1+3mbNcpeq8M09LVQ0NzPyc3vU26mOWJLYfoPLeXn9spL8Wfe24Hx1q38l4uj2OopNK/YNOxZg5/Ov1Gg6l0RFJiBAI+lEApLk+CP6iRz6zm6LmLHF+rEQvIlEUFbEPBJbbIZDK8f6STlsMfY2sigfkC1Quf52BTK/sPvM7dmSjf+09xCne/QeOFdi5fucbYYB8n9n/A3ZVBSsv8SEoKN6wMxm4PuJnqHr/t+pQAczeQ88ImqcoaUnqIQHkJqqp7RdNIfPqVbrdLQYvORc2kcJQg84MGiqxjSzK6X0aQHNSInx9KBo5bGE7n0NQcpXf+b0hmkUJGZe6cH3nFwYwhUBGUiQbnUhq2SGUSJI0QJXPmel0PQtxANKKkdZGS//QjxHyOlBrkTl+cQjGNEf4hZX6FWMmPEIoLPI9lxAP8h7IYoiyhGO7oLhPB9z1KYnFMt9Vpio2urt0mbHcHp7gDUwJBd58g4qsoI56tpSatUVIRQIuE+b7psLg2hTQ/hE8IEfEn8Vc4OPo8YorAnLsiOIZMVBKx9DRGZC6qbx6SZXpEcv5wiDvCJmo0TEq7A02uJZGWKb+zjLBtkM3nkEsruLOihICc8Ch5LUlGlQIEAjIFQyQU8RP0yCBkQoEg5RXzKYlkKVbHsOZH+RtfKb6ymNfOZknzp1z/VPKZ6rqsqMREAcGlnVINZClCxVwfyapq5NAcTCtBhRBDdsNq2cLnu4u5qkNeFwgHJDRZYH5ZCFm3kWJBbzsSjVjM9SkY2Qz+mJ9cRiUpBfHPqSAiJ3E5DNwWtnD8XyFETGtRwoKMFBEJVpRTEokhxnWkSJCYPP0bcLnHfPNDXvrdkEqIWH9gcg/5CMruBB/pNvVnWMOOVXBH2Q/R5JzXFiUqIW+TKwkyoViUcDCC4pJFmFGCAR+xaIB5EYdiUsHNVioVFfh85Qi5LG521O0TdGskgbIghhglEIkSTywkFSsnpIgEQwJKxEc47vaqqQSjIv4Kn5eIiTt5XO87lYJEAn6CocgfZunFvP7CVDKBGAni9sqVl0c8+WYVkTmhMsKhAL6giGir2GLEY1sMBaIkZMlrh1LSMQIld6AqSdw9gt/SUPxBrxdPUQOk5FJiUZtQxESKlnBHOIop6MS1MOVBgVhMw3QEVEFC8guIoThKPOIVZd0sZzBQ7mVsK+bciWrr2LZCNBInFpmPLqUIOAaWenvv6auY+T2YFtcJqZLXyylHJY+tUg6WExXK8cet20CIhpBkdyhNini0gpJgGDkSQTVSXr+mKIRxfzcWjnu6a6VML3PrGrlgUCWmaF7fpttGJSoRAuH5Xt1MjE/dqTPV85/Sg4UCYYIxCVuMe02katJGkyWv5USSpt7kT3UDkeg8IsmAR4qnhU38gQhugc/NZrltSXGzgnmSREVIxE7nUFMauhjwgCX6Q2iqgu4mStyQKhLz2mNcxQsKbh1D8oDj1ka+75dIp/LoQjnl/vm3AaYbnmfSXcsoSvj8QQRZRwxXEBLC3kBWNW56IPT7SrzGWl03UaISmmoRCVRMCTA1LhONyUQiIVxv5gLavVcXYJLkJg1sFF1Dk1QUTfAoTl0P5TYdx4Uw5dE7PSBlrLj3HAS5gFwRw93bhYQgyUCKiDkPX1LEjCSJRvwIapC8YFASjxGLRD26HiEWQggG0SXV+9vlwQiy5TZGu3WwcnTVQhJdJVUopl3jIWy9W+EAACAASURBVHjcYK5Hq4ip+KNhr/E6Fg16sorGRC9xMNXzne51IVRORTiMLevEY6UERBtVk9CEIGFJwpA1zLjh1Tf9IQFLimObt8sn8/3zUKQEimLfTjBpIYLRuQiRCkxFR9dTJI0E5UKYQKgCSQp6nUGaGEdWE4SDU0coU61vSoC5Cud6EleZ3f2EWxGXAmGv/UeLTz9Na/t0TylEMUDC7QHUY0TiFYTc0CtqoJcY5FQZVZ9HeVkJcjBJ0Cd4RUPXugaDJbiW1K1zuNxWiuonKiW8eDwWEynxl5FQHRJuk2wkxBxfmdem5NIfhcJzPEMhxlVP0eKiRFyJeandYDDseRO3U92zgMrtznX3b7qkdJoo41rXqQTscv4Kbl0rGvb2CV5XgSB7HQgeH7DituQEKK2IYRhu0dTltAoTCsa8kLJSrfcagqOxuYihuRhCnJjX3Ct73e6xRBgjnEAPKUQVv2cwfLJMWTxENiDd7soXI0SiMobbxOuGPQE38xrxCrRumtoXK0OLhXHX5oawLrgibkYubnueVzYMZN3ywi3R5ycSlrgNsOCU659KPlNdd08MuLVD91SHJJfii4QIyX7ikoEYcT1ulHhE90oNYTGCEFQQQyEiouTJMRqtICzEiARFkmbak68q6sQCAYJyCVI4TEXIrU9q3ikDlzLZlbGoi8TjtztvprrHb7s+JcDcIyARKYTiUraoitdLF4+qRBQbITR9hAfUEiSh4IUsEbncc+Nq1MJUI56lDFoy8vwIglkg5lpaJcBcUSQfjzPfHyVqxHEtji2H8cVsglI5mqCjRiqIiiaGLFMRUxClIGpIxuUbE+MVlAbcLnsNOSYgSBFiUdnrWo/GgkiaRcItwEZlRFVAjoZQZINwJEYwHPCyWSF/KeJ3aBWLhKJeWOJ6EDe0co+guHtBd3ile80NH1U16nVuO1qMsgoJ0Qje7lBQYpSJd3nHcGJRh7hhI0g+z5O6jc3uPkGuiFBmxUmGwrj/I6ZrZAMKPiHmlSvcz7mySEUdBEVmvhDwlDNpSfgjshc6CUnbO33gem1Xmd3w3y1luNlO1d0LR8s90LnAlWTd+/8u22fsf0Kv3rcpp3vNTTQkjAjzK8IIqkRCSuEL+L0TDW6zc0QVUcIurVDQe1bu6QRVdk8AqN4pBTGqobifEf24x2tKQkHvxIJr8NzGa1mJeo3ApmB4UU9YEtBEkZKIj1hs6kaCqe5/SoBN9Qdmr0+/4XlWhn/ZMnSN4TcvN1H1zeu7PLe/+ubDs+//Q3CzspiVxR/rwJ8Cyb32pz/7577/K3cU8OxrVgazOvDndeAboP0pgL7xaH/68z/9ftaD/ZHL/0aYs++zHuwbHXCB9Meg+QZYf/rzP/7MH3/9V3/8C7Nf/49Ye1YWs7JwdcD17C5gXMC579/oxR//7I8B9adfzyY5pujE+FOBzX7/l52Q+J/9fFxmFZc2Nh6P//feWxdk7v/5BnTf9j9nKWSdf1uK0lmK2L9s+bstbi51rPvSdd2jMvrGi30ngM1Sh/556tBZuczKxdUBl9kynU57LLAuyFxP9seh47d5L/farAeb9WAeReqsJ/3znvQb6lj33WUBdUNGF2Cu9/omVPw2kM0CbBZgswD7Fh2YBdi3CGfWKv95qzwrl+8ul1mAzQJs1gPNoA7MAmwGhTtr6b+7pf/3KqtZgM0CbNaDzaAOzAJsBoX779Uqz67ru3vmWYDNAmzWg82gDsw4wBTN4f63znKsc5gbN8YZv3WF7uMb+fj+e72ZFNO1hrZlkLQ1zJSCbls4iTzZrIWRtEgqJqrl0uQ4mAmVKidDPpn1pv4m0hnStoqpOCSyBla6jkTePWCZoK46i62H0ZwCmUIVCd0mVbARdJNcKo1pWx67iHv83x0XUF2zgGxKI2smKE9nKJg2lpUnn0t67CapxGJydbWk5RROLkM2EUNJLSSbU//Nldt2EmRSaYyETTLpFkQdVNMgt/IwvZf6ObHSJJtMIVp5EukU7vSqfP29vPTpDi4PnOdn6Tw5J0Mx46CF/SQLtWgJkWTCHbZTwDJ1tnX8msHTq8k4btHVQM/bZOKLPOaZ6T7/qX4/UUiTjASILriHt3adpmfy75icaGaorYEVRYeMU0tSjaBUFsnnMt58kcqqL2joGKJlQ4Ks7ngDehKWTcLMU12TRSyVqL93K6cuDzAwNsRw7yUuNnxMXbIMR63DScUx7DSpTNIrNH9TcJ6ROlhV7VvsahnmV/84zujACP2jf8fffd3P+Z2vc3d1ftoKlkrnqcnkMQwL2TE9AeTttDdD3FlUQyaXpbq6mmRGIxiqwEhnqasqkBJElFwOLVnNPVUB4uUxcpU1ZFNFwmHVo9lZUmdhyyopvUhVdR5ZVMmnFyAmDPSMQa1hUVmd94bDzDWz5NMLWVxnUl1p407MqlQSLFnyEHpwLmHZIpUMEa1zMLVa6pNhAlpm2uufSsGmuj4VwDY+v5hcPomTFCkkFNKRMLKkYdz3BAVHZlnWoiJQQqJ2AUahlsqchaPEcdILqcpGSKccNpwboOPwpyQKWe/7lKVztxPAcupmfP3uTBMruZR3Tw5wqe0En1Q71CRr+ODMZa4d/YBMVkYxK6k0TYxIBPu+Jazd3sXwP92icU0B3VJIpyzSKfv2HA4rReGhl/l8fwc9+14nk6ln8d2rPPqiHRuXUVc00NI6uUQeLWHMPMCsZxoZ+tUEX1/YwAPJHIWHPqP9N//Erf4DvOZkpy1gzVBIOZJneVPFFC5JQzi8mIce+oCGlrOMDPYw3NlG68nN3L9QwGemeWVbKx3NfbQPDXF9uIFNqx7mnodfYvPpC55F+vrXv+Lrv/8nTnz2ALmkRaLqFXae7aK3o5GxC6Ncv36T0b423q4xiFsWYqrISwfO0Xehnf62Axzv7eV0TxPDDftQQiVE7i7w8wPDTHROcGvsCpcGr9K571Fso2La658KQFNdnwpg4xfO09kxyo0rk/R2XuC1ZVVYmsprBy/QenYn98kC2Xse4HhzJ32dY/SfP0ZXWx/tXb3sW1eFruY8Zpv/+/pVzrWf4srYKP2D1zhz6AEqZX3G159LV5KteYjNx8/RdnItjyRC3ki+xcd66B7fz6tSnEWV95FJyZRnFvPI+j20Hxqh73o/hz9zvAimykyQrSqStSVvAM7CT47QMzTE9uq4N3fDJy7hvRMD9LR9yEJNIGokqLQyGO7Yv2TSG37kvs+IB8us2E77jZtcPnOARyuTLFq+ngs3/huTLZt5NVU7bQHX5Bd5U5VcRco5LruJTuHhdRw5fJLxho3YifuoqX+NI839NO56kaKhs+JoL2MjZ9nyUopisUix8ifsPD5A94WT/KQmgRiTePGLs0xcu8S25/JkCx9z/trfM9y5hmXZKhbWPs6pjiuMndpExrApPruDhr4L7P30ae756YM88Pp+Wi4NcL1tLbpTz2Mb97PtzAbWLV5EVk1SfP0jDjYf58Sqe6a9/qkANNX1qQB28dhab73VVU9z+MIArTtfIpmyePHgANfGDvNufgkv7ztL26ldfHDfgyy9dzFvbjvN1a+GaNpgUVNXyevHL/LlxTO8snwhD9x/Lys2DTMwtIW3C9aMr98dZKSmMixbUIWTkvieaFJdW8O6wye4dHqP55mKuQRChUj9so/YevgU657awoET57m4tYqUkyXlDhlyQ+N0nFwyz0M7Wrg+foEnRJXKGhM1bVGzroWR7tO8kqzBShXImQZ2KjvzAHOMFG/v66D/xj8xee0iE1/+iq/729j9Vsaz/lMpwFTXs04ezU5Rlc94VDpJvZI3Dw0zPHCQ5ZVx8tkoFZEqfra3ixtXT3vTZV/a3cLoUDOvpAwUNUvcyLO4fgGVQhmSriMlK7l31WG6RidoecmhMrmeI53DnNleR7XqMlXW8uqRHi6NneSZYppX9k4y3PQ+91f6mes3MJLPcaTvS66eWY1dv5LNJ4fp3PUwSxMSd/kqkBY8zBqXEKLp7RlXsKnkNxXA9r/tYLrDXfR6dg3dYvLCakwrzhM7erkydIAXrEfYPnKFhs3LWBCuIKDpVD93gP6rVzm11sFMqbx3cpQv23dxT16mNFhC+uVmrtwapfH5yhlf/8JipTeARw8L1NfexztHzjJ5fZyuzjE+qjExKmVsQSKQ/TlbDjTSevA9llW9zYnhr+leX4PlxMmndUQnR0KPU5tbwDNfnON612ZS7kxJNUsmJRJ88SCXBs+zs6qKVErxBsy6zDoz7sESxYWsO9HH5S9v0dfVRFvPl1wfvcjJ9feQ06cfIsia33O9Ndk0WlKhmK/m01OjDHZuJiEmqM1bJOU06otf0NJxlPWpGp7ZeYqBof28mMmyKG9gJXz45RDpwjJ29g0z3NfJub7fcm2ylc8eUcgVt9AxMcm5DQUqExZqPsOLB5sYa9/H06bM2oZR+g4/jZFIUV2sp9LK827zOINH3yfpvM3xSzf5L9cbaOiZ4Ne//Yp/7B/n4kgfPU2fzbiCTRdgO55QqSnaJJIObx/rZfjwOxTSDr88dpmh7gM8nf2I1kvj7HsjhmG6CaM0idwGGjqvc35TFs1Ms/H0V4yf/oSUlUHOqtS8eoDugYvsfE6e8fVbVoJcWiedTBGKZIikcpgZjaWv76Gnv419jxdZpC2hZs12DjV/wkv1Cfylb3H+H/6eE6tKiOkJMpUFcrkChhijWKjlhZ0XmWhei6GrWMkaavIG0orjDA4eZ31Kw46HSGZrveTbjAOsuHo/XeMTjJ3+kCXJSpz6Tzg1coPJ/oOsydvTFrDr7t1Z8I7kELM0aqrzvH+4h5GWNVSnkkSNpOfdsu/spW+gkc3FJfziaA9Xew6wwtC8cclG5qfsu9DD5NAw584eY8XCapa+uIMLg4M0vrsAVXuVpr42zn9WwDESCLbOigM9TPacZWVlJR+eHOTi0V/iFywy6QRm3OLDc8Nc79xMIbWP48OjnNlU7025NXMGcT2NXUxTG5/5EGm6ADu1cpG3hzDiEuvP3+JXbbtI2Qme39XF5eGjLM+tp6XvCod+GUJPL6SYS5LLrOVU1xhtGxJYtsbWc1cYaXoH2ywSzxjkn9tL33Avx964e9rPf6r1OVV54tEUlfUZcqZAfVUdjiwSTb3Agf4bXDjyLNl7X2XLgQZOvPMk9XKGhLOOU1e7adtUx+LqSqKyQcq00Q0FJ5PmyYOD3Bg4wbOZWlJpi1RWZ+lHHQyM7ufVTA3phEMuuwjdEGfegz194DK/ujZJf+ObpI16kokPaBy+zq1fD3Do2eln0dwUuks0XpupxkrlSDo2L+6f4Gb7bp5M2VTaKW+Es7n6LFcut7HWVHhyfytf9jXws6xDwbGwjPc4MzLCplVV3J3RMYQsyqu7uDQ2xN4XHOzEWjpv3KBhQwbb0ry09Wv7hhnu2s0ztskzW9q5dmEj1bZMIu1ayOc5036TcdfKJR6lsfcmF3Y8So1Zh+mkidtx7i4WkWaw/jKl4v3hf08VIu56JoKeTlFMp1nTPMbwmQ+xkhlW7htmpGsHT2uPs3f4Omc/0klbRXTHpOrRPXT8epzTH9pkE0k+aRz1DF5dpoCd1Em90MDA9S72PWHOOMBcZlG7+DlNlwY59HGBTFJFthyyxWc50HOJ4X2vIT+7kbEbv2Xy4gXO3xjnxsgtBiaGGR0eo33ncx4zi1vecYq13mDW4oYGevoP8al7zkvTUbK3aWdbuj/hXrMWw1JJmGlvkvSMe7D6Fzawr/MGv/+7f+T66DB9lya5+dUEXfs/Y2Vd1bQF7B5iy2Ur0bUEuUIaQba5Z9FqWtqucujcS96Qy0ULd9DSeYZzO1aRyeZZuX2QK5cbWW4EMI0kxdp1HG3vpXnfTzxChuSPP6X5fB+Xv77M0V86WOpHnBobo2t7NUbIj5ZL8MzeXsa69/KcEaP61eOcGRmnY30Sx66i9qNG2sYvcevMx2jFItXv7uLi+KBnse2IgLHkLc62dNK648Vpr/+7Aumf+1zKdEgVMuSStlcLTGd1j6qn8MJeum6MsPNVnbwWRXaWsOt8JwNnN5LLZHl69wCXRw/ydDbNS9uaGB4/zUepOEoxzxeHxxn/zVXOrjG9qGJ/+xVGT60nm3OIiSmyrxyke7yDhrfSM75+1+ukq5bw9t5jtLWf4pUaG8vI8caRBvoHG3k1kaHacUdgW+QKOqqUJZlbQ/PEr2neoOBYKrbLQKNrLKhTveGyycKrnDw7ytnTb5BI5bm78AlD3edZ/1kd2YRILlnAMCWSKXPmPZicXczT72zidIububvE0MgwLaf388FzD5N1yeqmacWTyQQJx7gdxtgiZkIhEq5h8YI3udB5ias3hxkeusXBY6tYVml7FDbv7Wmmq/Mwz9fWk7JlYsmlPPTRNnr6m/jtxAQdTf2c2rqdExd6aN68nIfv/5zD7R0c/LiefCrHosV1vLa7ldHe0zxffS9i2uG+d3bRe+Mrvrzay8Xus3S09XJu7//H3nt+2Vmd+YL8EXfNrJl7bzsQlKrqhDfnnE+qqAACA05tA8bk0ASDwYDBQogoiSgJCeWEcimrkqpKFVQKCIlg09339uqee+fDzMffrGcXZbtpzGFclOW+fT6861TVW+ec/e79/J4cHkJia9Dm34KlG/ZgoP8ELp4/h/HBHuzZuBKV2vRV5OnuX+C4bPyRQ7OsDAo2m8hKrbjh0VXo7j2E5Y8uRuwosOJWvLFtD07sWoWutiruWrkLw72bcE8kwem4CUs2DuKzD/8nLp3ej/2bd2P/qR1Y+3AbvNjF27t6cXTzS0irCeKghBufeg/7j+3Bi3dMPw5a7/krpTI4Pgf7uu/h1e2HcGbiAs5+fAE9R7qxoquK6ucxTbKnvNhBJWzHwtZHsflQL3a8vAiWkaLSfjv2HRzA+jVL0Z6ZkJVOdC66D4cOH8Xp8+M4dmgIu3a+jpuvj2HLHhzLZ12fw6A88wBj/eeDCrxSJ1prnSzoW4sNpAbPRgLV26B69z13kgu21hZA0x1EmYFyW4aiYKKtcxGbo5WFNpJ4DiIjZkFAo9SONNSQUoZGEMOPbFi1+bD9KvwkQJqFqMgq/EoZ8ysW8k0Byou+h7bgSoiqB1vgIMedqGURXMFCmLQgKi9GxWuH3PRtOIv/Fi9vGcbA1jtRTWlMrgqapiIFFaQdnchcDu2RBknzp81g6u1PvfuUcRFXKqiWHQRJiiTwWZyrGHSgrZyizXXhhx4s34SdtaKrkoHGAnsLf4jMVZAqJfhlGVmsQPBEyHkLtYVvYG//IWy6r8YGaDiV67GgZkB0NKS2iSajio7OGuYn9ow/vxFmIHorWxZKdhc83YfuK0hbU5R0C3YSI6wFbC4c9c/33QBa3kblusVI3WaUSiUIcoSsei2SxEE50lAtt0GUA0SVDkZfbR0hAr/IZo2Vkg6UyhFKpQpz8c+4ilhJMxYPcGyadiJD0R3Yjoc0cpGUvwkO5sHzdXhegDTuhOeHcH2LzfYS1SbYlo/ASpCGAUrpAniJBtUI4doOsnIK16kilCV0lBJU0ghcoECJM5TsEgxPQCmjwKoGnZiEUUClczG60hRuHLM5Z0n7dXh81QEc2L0fy35UglLQccNT7+JA7zFsfzSDTkHKwEFbOYFLaV2xxyYgukGKrmrXjBNYPYDZpgPTCREECtzIY733KbhuxhFC3YCtubADSqGaHHARBilCR0NQrsEzLPidd+LtA8dwau3rmN/lIigvwgMrD6Gv+z08UDVRjQKoZoIsMqGHETrTEIYbMw+b703fBq/3fGGQoZRFLISTxR6yqgPHseBYJRhOCltzkPgm2sIUTpiitasNcWDDLqXMoaVpBXR21aDbFkwvhO0HoOwQcqYZNg0NcRDHIWPUSVxGEFuslz19r6ZxfwEJZtqs4Udr6rN8tTCrIii1gVQ7GsJdb4Pq3XedENVqmfU4iKIIaZpCkizEcQeyUo3l+7lBCV4Uggz6wFVQSmqISjEb2EAMwPcy8KYFw5RRK/sol2LEeoisWoNtx8gSHaZfg2uoCLIMnjUJFPo+Q5KQfH8Z1u07jrPn+tA7fA7jJw9j89IfoKyabORRHCbMAUNdhTpSB+U0YL9TA5R6zzfT98txCYFXYaqhE7pslFPgWwjLFLinQHwJxAxq8WReHaWT0TRIWnuSZJDVENc+uQ7D/SM4PjSGS2dPoefEe3jmB53QZAuRG4LiQZ21MhuKkbo2ypU2Flsi5jPTz5c4FvQwgGQHcMMIduqy0VGJRVLGRuxFsG0ToT85jTMIHebIMhwfJTtFWu5A7HvMFqP8VRqB5dLvPjnHArY/xHQCP0WY2FAsgeUhlksdyJLSzAMsS4n7JWyOFc2OooOhvEHaWJogOd0NprZYadKKKKywmVdx4qC1tQrfDxnoksRiAW3b0xGnCWInhq1r0CMFbcki2JqMpLUDXlsGU3eQGhHKoQ3fNuA6EWi+Vyk1WVyDPGlJSsmwtG6PuaBrkQ1V0OAEIey4E6VKGQsyD67eBCubD9a2y1IZuA0/hedGiBxKGiapcfltMOaFNULQUD/K2/R8OisLdmCyMzMdEUEQoZqUQeOSKCk4SSK2v2EcsQD9PMFC0mZACmqoRBbaUwfibAXV9jZQrqhLYPRjBF7MXNiWF8KzRMTlmZdgUezBShz2ve1WhpKbMVU4SEOogYFSKYUVBMz5RUBKfIfRKwGpRNpXuQpdNxFbPjI/Y63XTEdFEIUolbpgWipz31OiNH1WnFRQKrexJG/PjmYeYGHgIPAT+FEFWbmEciliej6pdIwTTNPJEac6G52TZRnjqNTk0fdd5vio1SrwXHrojKVRkYs8jdpQzWI4ZQeRlaKUlkF2ou8KqCRV5gW0AwfErShLn4iuFHksw5wkF02qNMKAuZ/pe8QgRaWcoJZY8AQfgS7AjBZASjK0piqTnGFgoxIZyLIEZtwGyyshcGymtkyXwUz3/SkxQFIBP88LpdnPdDaUVR+mGeI0QOBPOpEIUElMOXUBLNtlqpFqKajpETpbK4j0EiS3gLS9DXopQWrSNMwY1chHklYQeS5LCvCyCkqJz75juuuv935i5m5kI84mbUnDc5hNWfFLqFltbNgeBaNJGyGmR2EeAo8T+DAjH7orI6UsIZ/OuIZKnIKkXLmaQjaUzwEVwLU9BF7IGLLnx7AckWXnz7gNRoulAyQRTAujyw8omJdOPsx0ARZ0gfTdrBQxTkuimgZZ247ObB7ioJTSUjEdVsLCOLDnwU4zRN4kYIi7RkEIJ0zgJQaLe8RBFyutoIzozA3gBwaY/eEHcGMfqeEjjBIWHyLXvGDxCKqtSMsuHMtFmpos0TW2bNjRfDh+hszV4AcWvCSAT3sRTV+C1yOwevdpHSS9AjcBlWRQniGBLXQCmK7D1p2EJNEsJqVJ+pJqGMX0PyZIQrRm83G1raDdlRGVApS5BQhrMmKyscIYiatCIZWLbLzYg0604JCDg87s6xcv/ln/S5qCm8AlVZCAFoesvIbCO1psMacGxbiopISpyJQB75kouZPPWQ0qcNyQnRkNNiQGW05bYVsBUpLklKtIJoRiobWSwPMkxGEr0qTKaHDmATbTG9j4/Jkn0sYe/9l7TAAjxkDNRwnE1A9xql/91+qLSG9qXI09aNDAl9MAgYv2hlRQKlf5Y4B9VcPRqXtX0BsbV2MPGjTw5TQwBTCSZF+sB5sC0Ve9XtHgXF/OuRr70tiXKclFIJsCGDnhCFBfu3U2vbFxNfagQQNfTgMk2f8UwKZssa+UYPTmxtXYgwYNfDkNkBRzHIeNL6KYKA1/mJJgXwtgX4W+xr3/WMPmGuf9b8/bMAwGKkqwoGtqj6amrEz9/qdeGzOaGzOamT1BNkXj+rd7QK54QRB+P7JoSmpNSbI/BaypvzdGyDZGyP6eK08RReP130qyP3dPGgBrAKwBsBmkgQbAZnBz/1yu13jfNydBLvdeNgDWAFhDgs0gDTQANoObe7m5Z+P7L78kbACsAbCGBJtBGmgAbAY3tyFBLr8Eudxn0ABYA2ANCTaDNFAXYLm8i/DRl9G9fwSjv/sYlz4axY4V96LVmgWOV2b+cFQFIi9AtmRoMgcjr4AzLOR0Do7Io1icy+aHeZKGPKdC0m1YWh7NUhOKkgZFy0MRHRSLKmRdY1Wsql5AS8tVUA0fWlMBbsBDz8dQ1CIKigZZ4fHTtwbwSf823NmURy40EZgi+DkSWnQdltgMTmuDJTXN/PNP8/AFVYQt6RBUEwXrUWzqG8WRpRZ0WYCsmGx/JF2GJOdhCSZEK4akmQjnzEPO1dkeyiYPUSmiuYmHGplQmkREIY+5nA7BVMDpEjhFgiSI0ARpck/YPk4mxk5HihgSdQFTcI0mIhSuxCwxw/3r9mHw4CrWHWyuoaFauAbf0lrx2KbDODX0W4yNbscHZ87i11aR9a2fY+gw+GbM42w4bhHzvqMgbKUO1WMYHT6B3rEzOL711ygb/xlz52gw5CI4UYNsmtM+37oAsyq/wlvdF/HP//Ix+vqP48zRi/gfn41ix+qHYNv8tBdQb/OFfDME1YCueZA5BUQMrixBam7BLNuAobsoqA5Ebi54/Woo0jyoBRdFqw2ueA3EogfBMqH5BVgSD+m7BahyAKvSCrN4Da5xZKiKBEtM4PHNkJoFSL6KO1YfwtjgRtxSKcH8r/8JV/MavCCPQLcwq8WErX4bs+R0xp+/3v7Uuy9JAgSVh8ipsMVnsWP8Eva+KoHLzwIvCpgj6giMGDyvQ/NkcNf8Db47bzbc+TWo1xRg0N7OvhrztBSligNtngzV5vGtbxdhpjqqvAZXVljHXF7+HFws21yDIk3m7dVb41fdbzI4BPxc/OfZGtK2G3Dv85tx8oOP8MH2h9EkaTBaOOTtKrpeW499u17Hb7oWIrAc3PnSHgwf24RbVANcXoOlTHYjo0wM8/p74YUYngAAIABJREFUsXzjHpxY/whMo4pK57PYu2U3Vr+0CIadQ8ERoao6FLEw7fOtCzDhwY345MPf4syh5+BINnT1CWwdOYUP+lbj5nxu2gv4qs2le75mssPjCkUURQGip6KQF5AT2xDf8womzhzHscEJfDD+GT65cIKNNDLmzUFy76s4PHoE77y5Ewf39eGT04Po3r0Bi6surmzhcduK7Rjcuw7rD36CQ90n0X/pfWxccyPa5Ry+3eTirpVDOD28ErdcdTXm0oCAlScxdGwQl05fxOHTY+hZUYKc/z9m/Pnr7U+9+4oggjN4qAUerrAU2899gr3L8ig25eG0z8f968cwOtiD8dNHMTB6CCs6bsK18xZjyd5+jG2/H7P1PHTHwCOrD+LQoddxyywfZmqCM59D9/GdWFQ0EMvUI1IFpyuQFBmKRJfKxkjVW1+9+4qRYw1Vu+5bgxMjh3F44BAODn2MgXUPwjACGAKHeeJtWNl/CSd33IpO8Tv47rdF6J0vofvsMNbdbsFWW5BXeNZ2sGmujOTp9zE82oflcRFc87fw3VwbHtlwHL09z6Gab0a+6MAQbPC6Ne3zrQuw/Kv78dGHZ9G76k5wOQOC/wQ2jZzGp+cP4EV7+iK03gZLogZN5KAZRQisN6M+OSDt7mex++TfY+sLJYROC4rKD7C292NcOLESCx0LhR8ux8iZMxjYvxI3t96IDv8GvLZnP/btfhY1T8MPl/fjkw96sfuNa1HNbkL7Le9g1+Gj2LSMJj1+C3evHcCZIwfwMyHDwrU7sHn7K1jWEcAUA2QPvIr39mzDxicXTvsA6j3/tO9zEnTTgCaJ4NRfY9vEBA4+mYMmXYdbX1iNoSPb8Mj8DL6S4r7X9+DopuV48eYbcMcrJ3HmyKNIixY44YfY2P/fcOHCIbxkFXG1Phf+vVvR1/M0A5dJarz6B3CpJNFkFZI0fRMiEBXMNUrwbn0Jjz5cRkdlLh5bPYrTh96Cy8ngTBkq9zh6Ry+ycUtz+XlQtAi2+kOsPXoWPW9eB8dVMYfTYSs5KLKJ61cN4sLgBvy4qQWVSAKnmbCW7sLQ2E48zHuwRQuCMA+8MX0JXBdg8s/fwOb+S/i//+m3uPTxRQz3ncbvLnyMkUsnsObHf8gunjYh/Albg5NkyKIEOrTmggGzpQC9mMcsTUerz0GezUE3ORSNKv5u4zGMdb+Fu6NW6Leuw9joILbcr0Hn5uJ/u9pF14qjuDi8F09mBm59rQdnRrfhbrWIK6/6FprNAG/1jWFg5xJYc0Rcv/IkJsZfxc3urVj+/gD6V9yAULsa3/7f/wsE78e4Z90QLmx75K8fYBLH+v4Lioyc+jT2jw6j+xkJRtvTeK//NE6+5iNrmoNZf1OAc+ML2DLSjW0rbkT6w604PrIHv7YczFIfwZ6eHqw/dhiHniaVO8Gy42PY/0sHsipBUkSWDEvnRNKLwCYr34yK2DyP1LUiVLcTunYNJIXHkp2f4IPDzyHfkoMo8uCU57BjtB/vP8BDmOfBNosoFEW83H0JJ9/9ORRFA1d0oap5yI6OW9f0YWL/U7A8H82CDUss4Oqfr8LZiYNY6TqQ9Wa0yM3M9psuXdcFmCmHaL1nKdbt6cMHFyZw5PABnDo+gePnhvD+7X/Quae7kD/1fkfT0EwqB6+ytteWxyMRRLTMTiFIPPTKq+juP4HxnsPo+fSf8cHupbiNz4O7dQX6Lx7BM9xc1uuPxoLO+dk7GD6yF6tuCfDg+ycxuPkpuAUfbjmCVOBwy9vHMH7sedzumbh/04foP/YeHjGfx+HRT3DxzF5sGvgQ/+P/uojPPjiNscERjO998a8eYERUgu6Ck0Qo4hL0TIxh5woL4g9ew8iFCbx42yy0qCl07ztouUbAsq0j6NvwC7jh49g22IsN95pwH1uDkVNv4r7lvejZdht07h7sGujDk2YOisBDEnmQKkoXAZlURQKYLk5fAlBzU0uYB72gsO8RdB8PrT+JU9sfgOdlEAUOhv4a1gwdxfYH8sy+JqdVE6fgiW2DGN9wLzglB53jkdfzbG33vDWGczueRl4RURQtOGIRc+9chzNn38cyVYTItUAxEqi8OO3zrQuwOc1NKMZdbI6SmxOgLrgL67pH0D9wAL+x5057AX8KWFN/Jx27RVVhqRIETcFs/r9g1iwO8XWv4P0TYzh7bBDr1j2GtjjE3Wv7MHJiC243LXA/XY7Rc3vxlGSDn5eHwxVhPr4JH348ild+wOPH64/i7O6lKPDNEHQBxUIO96//DL/t24DFmoI73ziM8f41+Nv8Urw72oudL1dQ5YrQjDz+a6HI1BNLD2b8+af24c991VQReVWDKuSgiy/j4NnT2P6KDuHa5Th5fhD7HjBQbHbQouYhFSy8dPQjdK++EVoxwkt7z+P4m3fgzi39OPHGzUi/twPHTr6DO+/cgX37noKvytBFEbIkMC2DJJisKuycJFmFKkxfRZQVDjynQDccyFIRmsTjuUPncOHQKyjkeBRUAVXtBew8M4GtT7n4jjAHgiTCkn+K9wbGcWLFT8GbIkyeA2+boP247d2z+OTkavxAmguLVyGIGtJnD2P83Bbcp/iwFAWhFWGudPW0z7cuwLz716B/5LcYPrwUP7IDqDe8jBOfXsLvhtfi+6Iz7QXUIxxB4Jjb2CQuKemIDQUtbhnafS9ifHwbbtcCJEETrrqqBXdvG8JY71rcKevQfr4NQ2cHsfFOE7xSZEP1cr/eiZPjfVhht+D2Nydweng9fmxasGbL4MM8ntw5jIkdT0DTJdy1ZghnBt/DrcIPsW/iH5kuTwCXeBrhQ81JeeTmCDP+/PX2p959Q7ZQlEWE4hyI2mvYdGYMe5/kYIYrsPP0OLY8pcDVvoOilsJWr8e7PR9hbM33oWs2cks34vz7a/B27yVsvbOIOeYSvD+2A++t78eB3yjgZB2KJkPQJpkf1ZPp8mRNFQGMqfd/QvWvt+6p+7xeAMdpEHQeLYoBW/WxZPswzm17CpIpsu/m5/0Eb58/g6HXfgRfL0DPedDkp7FnYgTv3qmy/3N5njlLlKar4Lx0BL2n9+FFxYShiGgxTdzx+iGcPP4cwryBa/Q8HF5j3uupdfy5r3UBZli3Y8me0zj32YeYGO/FhQuf4e+Ht2PlU2UEFjfjBEYqB7nRyUiXDA0Gp6FF0tHx5OMY/PSf8ag4B3pYQ+cLm7H9ZC9+N7gVDwc8rrxpC4YvjOL0gVeRV0No5k+x5/Ax7Fr1IGtSeuNbR/DBR+exe6mNnNSE9K7DGDhzGO/+LITgcFj8Rg/O96/BD1wdrb9Yg8Pjo9j2SIrirCshtP4Chw72oPvdu2b8+f/cg516n8IXYGk6lDyHec7LOD56FttfVaAYRFTdOHd6Px4xVebAemBvH0aOdWNZJkAvqpBu24yBjy/iH8bex92yBEe+Ga/0f4zfjhzBL/U8TG76ca6pdf6pV0VTWejE8RNILVejWU7xxo7jGDmyGvnmq6AKRQhOGW3Pv479J7rxesVBsUnEHdv24dyxzfiR9l02M2y2oMHXeMz9bg5O9e+wZecoTmy5BwVRR9lchlMn9uO5ZxN4pgxdtZhtJ3DTD0PVBVhzUcbf/vJN7OsewZmxUfSdPIy3l92Ga6uz/iIcfCq2ogkCFAoYyjqacjy0Rdfh6Vfewr+c/oipq5uOHMWqrcdwtHsflt3iIXt0PQZOjWN45/s43HcSH310Frv3rEO7MwdXzS7g5xtGMNK/Fyf7P8LA6ABGRnqw+vVOJM3fQrOa4oF3ejB2cjNubpkLIbsZT63fxZ595MwYBnqOYf+7LyH0pn8Af4qwvqm/k4esSdWYCqeED2H77v1Y93yNeWYVp4J7Np3E6VMT+O+fjODA7tV4fGGG8Kr/E008DfK7FVsPd2PXlpVYpMmw3fl4/L3tOLxrI+4M7W/ES1jvOalyWMgVWFKALRURlBfgpbXvY//GV5CVQqi6gpa5c9CUzMcT7+3F0KlBDF8Yw4kjB7HcMaByHRCM72Nn9wFsfffXKHk8rmzxoSX34eCJCZy5dApHuoexe8fz6KwVwedE5PJzIYgFBrR666t3vy7A8sVmNEsedJW6m9oIIh1ibhaa5nwbimzMOAcnCUaXwnFQSec3DXAtPFo4iU15yakmQleCq6i4enYBYa2KkjYH2u0rcbT/KN66dz5C14EkzAGN+lGb5kAKYjy8dRSDR1ahy1LYVBatoMNSr4FCwWNDgWhPBq9bdQ3fnTcXLYqGouzDCitwpHko6024at70A5H1Dmi69ykuldMkuIaC5rwDmq4S283gBB5anofAkV0ig1MEqLIGTzTAWRaaHQtWUwvzCEalEPOaZmFWPoecpaMUB5DnzsUU85vuGr/q/RTwVaUim7MstjRhbksBql9G2Zbw7au/A0GU4akCtIICUQjACyooUycNDVi5PBvYOHteHuVKDFXKo1hoAg2OmJOXoXguZIMmBNHky+/iqr+ZDdssQdbyME37G4nj1QUYzetSZBGFljloar4ahXwLVDmEZqVsfNFXbc43cY/0enL7EsDImJZsDQbFV5o55AUZAhm+uslG2uTnXQ1e5HDVLBHq3Ztw9h/P4d3broLaUsTc5iLssANysYgrW/K4Zdk+nJ/YggcLRcbNm0UDktmEfNFCPjePxXEsyUVOUlGU8vANCWpLHjIn4eq5RHgGHDqgadoYM/1+V5UhSkW4ogyu2IyCqGD2vCIEV4EuynCUJraHzbIOUbOYV5DOmCew+TFyzS2QFQN5RYZsSci1zIHCy+D4SWY30+vneXLT56GYPhzNYmlseUGBJfAwPA+eokJQdMYgdCWP0FKYQyxf4NCs2hALLfAtHS3Nc5DjyGsoIZ+byybGyEURc+flwRcNxlwMLUYQpsgXc6Cf6Vmn+3x1AdbMN7MUI2rA7zgZTE2EZquQDQe55uK0F1DvASj+peoas8FknuJdEnRdRSBqKGoyXMnC3MIc5DUOpqzC1TwUNZdlcuw9dhyv3RIgtjPwFM2X8hCLObhJFb94/ShGh7bjp0YMS+WhKSp8M888SKqloWhFUFtk2ILBgpOS6YNXBLieAM2yWcig0DJ9L1O955/ufZGfDKWoRYdxazeLoak2DIeYhYI5sgZBUUFOJKHYzGyPwNBgiRJmN+fZqCpLMVhaFe2LKYiwdYM5MIj4p7u+eu/XNIPlSVJeqSaqbCgevUcTFPCKDlFuZmlekmohV2gCxwlsHnNBaoarFKFaAXKCwLybNG7XNRzwnIx8QWATWmmmtchPZmzwUh6cUESR50CTV13nL5DJQXaPVGxhnhxJ8FDIN2Fe4Uom1VyLxqvObEmCJsmM+KllFjk68mIRPEtglZmLlnIRJS4Py9Shk60hCeC4AuaKLjPuPZ3H7DwHxyjC0QyYioF5+TmYq3mwFQ6y0AJJmQdT9sGJCYgg+cJ3MYdvYoPcxGIBUjHHPJk5VWffLxVlWKrDZkjN9PNP9/NzBQKJCUXyMbuQR1HmIRY5SFIzVD1mko20A2IwmuZB0ENQgrAgzIGlS2jheaj8ZKxLZLacMrnHMs/mbk13ffXez7o3KfwfAtcSmQoqdNVg0khyZOjFwmQ+pKBD5W02A6yg5VGQOIh6ETmlBZKmM+2Faya13oZqkQQuQJDmIpcrQJKLTJKr6uSAh1x+Nr4JBlJXgpmGB1EooKgU2WRImtdEmdOU2ybKM+9FJPVUFQXmQTRVjWXW52QBBDxSB1skHiolsioOODEHXpzDuJQhaQw8RZ1HTuXhqx4LpIqCypKUdV+CIhoQ8hE0V4Xq5PCd4mwG3nY3ZQeY41vA2+SKbmEZ9MQ1KSufL6gs8E2Jx/UI5HLfp3Gphk5STEWxyDM71rIc8ILCPGiaoaKgGeAtjQVYjeYWprFQKEJXUuZtJNuXwiWUHEx9AnVTm8zeEGb++Sk5VyV3OutPSOuYbKMmyyJjCqZEHr+5KBo5FCwLBVWBWijCKmpwtAS2FEOVDcyZ3cIyflxfAV+QoVOlRYvJPpvsLdKKWGqXYLM8SlZdYE0/DFUXYKRSsVQTis5zeUbUoq7Dl0zI5synSilUBlEooKDLTAJZvMxUQ5JWLC1HpE3iIekisxsIWIwginPYLGdLVMAJeTYuNC83QzZV6AULxUIzeNlhgeNZRR6+5CDSLMbFxIKMYkGEajrQigKKuoGipII8mabGw7II4DwbdXu5AVTv+0kqNeULIPXON22oxRxEWQJXVGGbBRbT45oJgCIUnWNqE6cHaBYLCCQeMi8wFZLUdEUoQpYmgcYGw7Ocw5kFmaaRxLQg8PlJe1ubnHBCzJSySETBAO+rDBRmE4GEVEQdqmahSWzGPD7HUq0CK2MSiVKrKGxRKMxi5SgUxFZUAbxAjg0eqtQCVdBhWxHyxek7sa6gxoqNq7EHDRr4chogBja1N/QzOd1IRaXXesyN7jc6+zY62jY6+n4FDXwRRFMA+7ogq6sifvELGr/PrErU2N//tfa3oSI2VOTfq0BTqlDj9V+ri3/M9GhvyPFCF/38x/e+7OcraKBY42rsQYMG/jQNTE1WmRq+N8WAvgxQX/zbFTQWs3E19qBBA19OA1OzwVzXBc0HI7CRHTZli30RUF/8/YrGZMMvn2zY2JfGvhAN0AA+eqUBhQSyKYARkFgQvE6ixRWNyYZfPtmwsS+NfSEa+GOAkTQjUP3/ssHccoDICUBpT/bniPXdALYfMNUxjjwEcRWO4yFwbPhxBM83EXk24qSCOMzYPZpl6/suPN9CELlwfQdZOa07npYSZg3HR80rsf/3YgdlmoubZTBNs+77/6MDwUsS2L7H9ps4bRwmiKMAQeiw83PjEL4twA0TpHGCKIjhRxVUQh+Wn8IPJwd8My4dhex3+hsbAO5NDkIPw5j9TmpkEHiI6PNp9LCfzPz5eD4qlRIc22S05achDMee/G43QRxGsBybSZkkSZiUISAwcMQRKmkG33NgWxpKpRKSJIPnBSiXqwiDMryAKkRoL2x4gcvu+27EKi+i2GOfOwUyen4CGNlgpCJ+LScHgSu1IrBNTEMksc8OKIypUthFlHrw05QtIvBtRHGJHWJgWQj9iAHMtT32oAQyesg0TWEYFustVw8AWRTDL5dAoDZtC65rs4wD3bVRTuoDtN7n/69+nw49jmOkSQTf9WAZNjzHZUWlYZAi8GJkQYAwqyIJLfi+DjtOQYzTdjyEfvCvLkaYnwOMCIs+n2wPAiCdr2UZ8DyHnTER6kzvLzEPL/BhmxYiz0caRuzZSmnG1hNmPkzPgO1abC3EQIjJJFGKKE7ZfGWiR2IMxPSJxnRTYUKABAIxC9o/P4jguj4CL0ToTzKiJJ5Uk6cFMJJcU+AiyZN4HhLaOM9HTF8YTEoz2lzbMuC4IeI4hWcr8AODPST9D3FNyj52bQdJFCONM1TLbXUPIPEiWKkPO7AQRglaS20g0JmehdSf1H1n+hD/PX8+EV0YkGQhYo8YUSVpCXFUAgGMziVOE5iM2BS4rgrLj5CGAdrSmJ0zfcbURedOn8WkWBgw6UEgoyulzyVi9CclG73O9N6x53M9VMs1diX+5Jodz2bAIk0qCj+3k5KU0ZDhuFBNypmkkiIbaSn5/fMkWYwoIWYRMInoOBZ7Nto7AhcxKdozYli0F8RYpgUwphamIUN0aLtIrBiBn8IJ6DVB5IbwXBultIwodNniKtVWeKEBL/aZxKHFpnRYgQe2YNdm7yHRXO8ASAo6Hol/ukLYTsg4SUib5s88h6y3vr/2+0TwjNgsB24YIcwiOK4Pw3SZpGHn5Jvsb1GYIU0qsC2fFVnSuf4rsBC4pq7PQUbSawpUlOgdRQljyGTw/15VZOCembNiTNZyEEQhNMdh5TOkFpJUK5VSxF6CUlSGZbvQAxekQnpJgKgUo7VcQpJN0jZJWxIkzJTxYlaOQrQax8TEPSYUmODwHISRgzjxGNimDTDaYFILmeSyYsRRmdk/buwjSmIGnDDU4XsxTCpms2XGGZkKGbXB/VyET73SYRDY6Aojty7ATNdBLYrRGidMTOuBzzaPwEVc9K+dwC/3+lwinDhCGGXsNUonbS9SDSuVECTNUrItLBO+lyGOa8giH3R+XrXM9tgNAzif7zsBjEkNYm5RyAi3XC6jSv/renCsSZDROZPKNdPP76cEigBO5EHzLQYE0nB03YRPswWCkNlNRH9B6qOUfe4LCHz42qR9RWZHEk2aNpapMHMkS2tIM5JiISvnIe3L90NWREvaFGlzBMhpA4yQTSKRqYV+ysDlBSp8Q0DskgOCDGENjpMgrSaoZD5ci3RWC6asg+wvJl79BElcZlLPtBy2cDqgegdg+i7KXsa6Pumawmy+uJwgdD3QvXrv/49+n0pPkiRCEpYRexGqJY8Z9p6dsKx/x8/g0dn4NgiMZHdlvs72VTcsZjvTOTlExESU/h8ARsRVKrey7Htdk5CSZAjIRplURUlyzvT+m76NapL9fp0EfrKj7CQE2WGSq6KShMwxVsoSRNQWQtXhZCUmFIi+ydYqpVUkAam0CrKMmHkKxeIYXZOtRW0QyKxJsxqCJGUSf9J8mq6KSEZuPGlzkVpIkovARU6MaMFNSONO1MomqI6KxG4WliDzGcodZcSJg7ZyhDK9x7aYUyJLSsyrSPYUGZn1DoAeltoP2NUuLGytoGQKMCwVaTzJXeu9/z/6fWaohy58K4RnEgEZsKwItteB6qIOtMU6FMcDecTK5Yypk+R180rtaI09tPsJSmHMpBVJsj8GGO2t5SbIyiWUSxHiwEbkuUwCEFjJozzT+8/MD82FVFRgR2XGLEjraeusIOSaWeObiuvD1B04aRVBUGYAae2qIRaLCJhaSI6cBI5lI0p0mA4VlZZRWTCfqYodrSmyYLItBRXwkqrNnEceqcPTBBh9EHkLmUODbK4kZpIrXHAT/F8tx/lTQ9i18Sl01AJmK7lGKzrbf4mtB3sx8dElfPJBH9a8/jwWtsVwdBmeZTJHB6kQTLLV0c9Dx4Qcd+Lx1RtwbM9O3HddKysQbGvtYhsy0wf47/3z/dBh2gS1dEijCuh33a/iJ/f/Bu8PD+DtB1pRK4egwkvSSDTLRbDw+3j4jfcwMLgb17kZAxnZNX/snp9S0b2wih07d2Hr1nXobEvYAAXy0pGzy49n3k1PNpWruSh1Xo8V2/dg+OwlnD97DmeO7scLnW3wQw+25iLsWIwnV29E38RFXLr0IQb3bMKLC1thuOakJ9yLmW2flWPoVhs6Fz2K3UfP4NyZ8/jwTA/WvP4UFndVJqVzQv4HG5n7DbjprbCGSujBcMrIShU4+Tkwb7gN72zuwYVLEzhz8QwG374H5A6V1QhJ13Js7R/GP/7TxzjZN46TE2fw2dmz6H45gRIEqHkq81gx4zjM6nK42DNguh6e2/shene/hHsWd8FQZLSFMTzHhyH4aG9PwAsS4lIVepQgcUTYfg0RI64UqT3ZLcl1RdhpCW7SiqS2AK5UgOTYWOxGyDkBKrUqs1VMU4ddMRBRvMQLoWRVdEU+ClwRHR3XIyPPUk2Ho/hMaksqB6u8AO1BgFbHZRK6HLtwGRO5vHYiGfvktSV39qQRH7A4UfbQZgycHsSb98RIqhliM2Su9aodQAhFeF2LkCmkLpXZfgeVdmgOh7ZyOwJbhWe3w6860BwLr3cP4Pim5+BVKXaUopbdgNj6TzCDG+qe73QZWDnKINolvNkzhE9P7MZPnAhV28DP1pzEpaEdeDjWITZFaNu8F6eObsPzrYuYPX/HW0cwProB95CTJiG73kVQKSNxdViVJdh54hAOr7qfxcHK0RK81zOMk6vno6jZSIMETsVARU+nL8EogEdemCjxWTOXRZ0PYe3Rfpw7cwQ7+s5jbPgUelbfxXRUPylj4dO7cXziFPrWPIHawg50vbARx899glM7n2CHpZHrPqsgCz3mYay3wXFSRikw8LO3+nDq1DGcPtSH/vGPcHKINmAxSoskyC3t6Op6CnsOH8XA0Bn89tyHGL94GoMbH0SWBky9fOKd4+g93Ieh490YHjiC3qEjOLrpFrSHBpqzH6HjFy9i8PhenDs9gU/P/z84P9GPVY/GKEetSO9bgkN9o+jpPYq+3gmMnTiDgZ79+EWbCa3Fxs03/Qhv7tiG7pOD6D37O5z7ZBgDu5eg3aqvAtd7/unerwew0UMncWzgND66MIajx7fg8a4aNCXEQ+8cwPDwOvxMa4Gezsfavb0YHZ7AiWPH0Xu0B6PHdmHXCwuQltvw7JYJ/NN4P44dO4bhwUMYmDiPLe/+FG1Sy4wDzFEkVK9bhu37erFpSYJwYYDEvxZm66+xfegANj3cgY74NrzadwbH1t6LkivC0EJ0LnoR3f292Ph3HYhjE44dIHITuImLzqe34uTYUaxaWEMYOHCjxXh423Gc2vccFoURUieE7iUsWD9tFZGCj4YbM+OYItOltl9i5caNePPZn2Lxi9vxwfgHGNx8H0Lbh5/5uGPdMC789hyOPN8JyeIhlF7AkdFL+KxnO+6PUhh2gEpcYtLFDup7mSy9jFpo4GcbhvC7fxnEpl/fjrbFN6D93iU4PtqHDY9Xce21d+PZbcdw/Pg7uLnWAUut4dY3tmDk4iBeu8VDqS3Em0cv4ZOho3jmwetw/c034O5Xd2J4eD2eCWIsfvhN7Og9gaPvPgw3bIbi3ox39vbig9PbcZdfQ+n+tzB24XfY9dZTqFbnY8Hih3BgaAL9q+9FqTXDC9tOYP/BY3jmezHCooZrf7kPfRcvYctrMx8HqgfAegA78f5SLKwuQrl0FzYcHcHI2gfRNT/C3e8N43T/+3isaz4e3bwfI8c34ledC7CgNcOyd0dx6rMR7H9ZQxir+NWOYVwa2I6nH/05vnd9K+5fvhenBjdhSUd9J1a99de9b2VIvRR6rYqOqs5isDSdM70POneuAAAgAElEQVT7JYxc+ggv3pegs/w0Do5+hIPLKlADA0FcRqj9EFuGPsPw+lsQuRbLUop0F06W4vbNvTg7shN38AoLBZmBgbYXdmH01B78krQSz4fjlEFZRdMGWJxGECwbrVmG2KaIeBVdi65F1dCgLFmH8fEJDG+5hwEnrflYuvECPrh4GpuWmmiNM9Tc17D74hhOje/DktCA75eQ2AEU15j0KtaxwShmUaqUcdvroxg/uhWPlDQkqgQxvAEv7TqLU7uXoRwHKLVVMN8tYJbJQy5XcMMz63G8bxQHHkmgmBKe3TmEob2vYn5yDXK8iurDu3D2wiVsvs2FVUsxv+zDE21wdozWztuwdEc3ThzehLtsF+4Dr2PozCj2/mYhbJ36LXZi+c5TOHtgKTjHR2dXDZ0uHW4NdlZFfNNL2L1nAAdXTXrj6hJJnT2YzvvrAWzjYzFSMQfZ7MDK/g/Rt/UZppL/7N1TuHRqHW5VfoJVw2fR/dYidEo5yBUF8+/pwbbxMRx50WFNW1cc/xSn9r+KVhob2zQP8YM7MXppCNseaJ1xCZaWXdR0AS1hDVm1AnNOEVHHYjx3eBxn31uKWkIJD69i88AQtj9uILHbkWUWm+21/NB5DGx8AKGWIGhLENky4qiKx97tw6lDbyCNKLUvQeC7sB7chJEzB/CaG8PJXBbKSPxvQEUkb5CXRCzyH/kWInJUUMDOKcFZsWvGAUbzf71KDc9tHcHw7lfYREvSlSkd5xfrD+PT8/vwfaWISEtQrvwEy/bvx4Wh4zjQ9yn+4e/HsP5+E6aTTs6C2vUam7KSJR0oP/4eek4ex/6nK8iJNhwtQvsPn8eRk0MY6evBkYuX8PfDG3FPnMJ/bAOOnzyG9+4UUMoU1CrX4s3u85g4+CLKScz67Am2yw7mw+GT6D8+gM9+9yn2/Lo24wRWD3z1ALburhK6yjGc0MUre09gaOdLqGRteGj7GEaG3sLjlZfx/vAE3vg7HuX0WliJjcB4HkdPn8O+N2OYeoRX919Az+an0J7ZqLRdi+ovDuLo6R68fa8x489PU1UocL6gvQavcCW4yo1Yc2QQYz37sGxBzKZcJum72DVyClsfkxCqFWSZB9n1sOLIucsPMGorXatUWczJjmwkNBfJ1xBmAcKle2dcRexIyigaHh56dw9OHX0O1VoKp1qF6UW4Z/M4Tu97BfdWrsPann70DfTj6O5tePrGm9D6yFvYP3gc6+6TmR219uhFjOx9Ba5bgusksB9dhaEPRrHiRgWt31uB/sEJHDp8FN0bH8a117fjZ69tx8ToTtylG0jvW4/TZ8ax6YEAtAcUmHx+7ykM718G3RDw6x1nce6z0zjVvxevd12PWu1JrD45hiOvzrwXbboAW3uvArJzTbuMt/d/iImjyxFYBdz11n5GpHeVXsLBkdPY+DCH2K2xAG6cPIuBDz/Gmpc1eKmLd46ex9ieZUya2V6M6OerMHhmGJsfmXkJlsXXIitbEFs0VFt/iCX7D+D4wa14/ccLYAkic/CUo6XoPX8RB16KIfsqwrgDqXs3NvR+ePlVRDLySnHEUpziSglJ0AEl0BAlJrKXD864k4PiZ0GY4RfbPsX549twX2jBzRWQ1L6HN/b1YPjoq0ijZ7Dq2FF0L+nADW0O/ubbTUifXocPhs9h7SMZi/ss3daHsf1LQX3UY9OCee9qjI4PY++zMcLH9+Jg7y482daBa80WfMep4Km3+zFwai0eqASw7nwHfROD2PBQxjLNQ1PD0n1n8MmBN5G0PYRVO4dx8LU2ZAt0tFzpIGlfjoMnx9H9+l+/k2PTA5OBaJJgS7aPoXfXq0i9DI9tHseFgc14NHoYa48Mo3vlQqROHhIlaz+yFt0DYzj6QgrdNbF89wTOHniTxZqswEHrQ+/gzKVRrL97MsG2HhOYzn3L4VDxA0RdS7D2UD9OD72Nh+bfhFY+hdlqsOC3b/wIK3qGcHzTg+hMNNb2umPxW3j/0MHL7+QgVzPlAVJGPaWgUPq+EztI7QzWy9tm3E1vVdqZ5+enbw/h40+OYNuvOuEvKqP21CqMXDiLLfdZCOzVOH7xPHY+2QKuei2uq/0GewY/w+CHh7DhPodloqzYcwYfdL+OILaY2959dD+Gz/Rj/Z0a/Fd7cPajzfiV6iMtX4/4+Tdw4fz/xPmBVbifkjrv3YjB86ew/l4TWVJBKTbw1OGzOLfnBbjqndh+8bc4/vbfwrE6cN0Nd2D5ntP43T/+A3Y+NfMqUj3irKcibni0DEe3WSbEG4c/xMTBZxDaNu7YdBajJ9/DrY6Ju3YN46NTu/BQ7OMmpwNLDo9i4sJZ7F2aIUwTLH9/HOcPvcEy071yCe69q3Bi9BS2PTDzmTaUoSKFGVbsPYaxE9vxUGUydBOVHYRWKyvD0dUqOje+j5NH9uCltmuR2iZ+vmYQ58e3XX43/WUPNJs6oo7v45fL12F/by8OH+/F8NgFnD11AAfeuJ7V8hh+BTe//BoOjJzF339wCYMHu/H+W+9hR+8IDq28C+VKG1ZvHcChva+hq2SDCzuw6L430D0yiOX3xejsXIyXNx7BwPgHuDDRixO9e7HstbUYGjvDArHzn3gXe4+dwOZnf4TMboFZ7sAbW/dhZM9KSE6G7z3+Ng71j+HSp7/FQE83dm9+E9t3b8O57jdn3AapB7B6gebX7yuhI7WhRvOxZsdBHN76Ntq65uOhVXvQ17MFd0YmK0d6dkMfRv77/4v/1nsCx9btxuHTJ7HpEQ9O0oV3t+zEwT0bcW2qwvTb8IMnNmDPkR6se6x9xp/fKnXg54+txJYjJ3H6wmmcOfshBsfPY2RiFOfHJ7B1yXVoK4lwk4V44s1dOHb6Aj75ZAL9BzbgxY5OWH6MrHoXDhzqw+Z1z6OrpkLRM1Q6H8ehnr9AoJkKKy9nqlTimzA8B14pYeKemvMHSRsLCgf6PJSrJRbJ16oVZktQUrLt6QgEGeXWDlzXXsJcnkPQ/j3Uav7kcILAhB6UQB7SDo9DS1GA01pBuVJDlco3Ep919aWC0EWRiGusTnS1VhCrzax4j+qpap3XInVkBKYM3m9lCdGUwEzOl9AzoWadqASX34tYL1WqI9ZZdg1NJ0k756OzbKOYmwu7/UZUYhWRXEaprYbFZZNNWikqGVp/9Bts7zuBzXeFbNJlWm1DtbXCxgjRxBXRTNA1fyEyrWnGAUbtunWvHXGtHaWSy+rB/DhjcduyH6CtIrD+85riIysvYjFd8g7G5DXkZZZK1cL7yKo1VDNy3smISjXmVaVMFBryMMOpUpc32ZcSVKk0gHLofNNESNXVYQQjiGB5JTYJPlENJGmAyDJYGpZbmczeKFOQ2QmRlAJ4UczeF/pV+L7MSmsonSeKqkgrVbixCscw4agUm/NQKlOVtsVyKC2vgi6aeaVbSFsXouQYcOwQlEjbWnZZZgq5eKn6mgrzSpEPM+6Aa868DVJPgtVL9rXiVpaA3VGinM9JB0418hmzcgwV8+ffj1d3Hsa21cuwIBFht38fz6zcihM9e/DLjhjVCjmNLOi2wwo1uxZ0wlGLKIWUeU65fzObyUK5rhQeofxJU82xyS4EckqR8iwbVH0cVyosS4XO1dY1VgdmlkooZe0gBk7JzFSUOVkgGk2Ws2QVlvZFSewzmux7uctVqOUAucKJE5OHKkzLrMzFdQyEQcZSm2LKnytNMgKqR3ISyr63WZk3ZZKXfAe2JLOqay9K2fA0qnuyogSKHbOSDcfWWbk8q3QNHUY4FnH1NAaNJ6VYm2I6rDTCNVTYBMzIZaAyQ6o5ckCc0/UipJbGUoYqfwWpUvXKVdwsZYMNyq4J3/Lgx+1gCdmGyuwrWU1w869ex8lzn2BouB+jE2fQv38rHvzJAkhX5mB5IWLfQRI6DKDE9W1dQWu5Ap/AO8MAI22BYlXE2MLAZqUpSakVAWXEezESM2SBYcPSoTuURZQyaUWJyK5uIrA81iqAnDylErnwy+z/KIG5rdw68+Uql7vgkkku22L5fSaVTaTUhiBCFlCWfoll5BOXVj2X1SZRawGSVqxdQYUOmcR8xCLyVNlKvSio1odKGVxLnSwodD14dsQkHEtotR0mCW2q7E1jVsZBhXj0uSQVqVDUK3Uipbog32WfnXoGAxcBjBKUSTrSzzNNYPU+n5Kqv6rgkiY9UkUvPV9MfVbCMvyoBN/R4UQRonKCFs1BpTSf5TJWqilqcQhTltHVuoCVdVA2AzEbqh4mxuW4EUsKd9yZV5GpzssNUnY2JAxcJ2R7T9oElfiH8WRLAWK8lPFBTIQ0E0rWJYcdMXCiD0N3WBEwlWZR4Si1tGA0NNMFl5e7ZQDZQ6ETsQTLrOQjTGxWKkC5Y7KuwQotlq7CanWChFWgkm1F2d6ORZW7HgNOVgngOynbROLqpimiEqeskJRKLJK0yryjVEaTRV2suI7q2xTTRcpqoFyQpCIJSqoqO7woAQ1tI8JMfIel6ZAdVy5Rj5KQcdV6AJjp+6w48itaBviajjQrQ/FDlr7mErACnzEPYlaKI6Kc2EgtjzV6cVyDTRYJ0y5Y5mQGPjXM8eKM7TnVDVJFNGu0E6gzzmCo4ngqXYkccqwgNPSZvc6KK9OYSVYvLrESJ6oVm2o3kWZV+MnnVfjlTtZagdFCWGWxzjijlKgZbhlwuZvesApqP2WFm0ziOMQVPaa+UOGln1AviJjVLBExMSdDOFltTRyIKm2pCJBGCtEEzqwSIQpLzBESU/GcHbIGL6Ru+sFk8xbPq8JydPZZQVJidWyWQtXaLuJyKytYpK5LFOxmTX4SqkOK2WA3So6mgXaea6Kc/AVy8eqoYKxu6Sua3iRRG7LQhRZ8vlcuSS4PgWuw5jAk2SrlBJpuIysR84hhqgqr+6OK9MnuYRlrmkMVv1SORFKdmhtRyf5MMxCK09IaKCGCFXpSwSfRB+W5+pOtLKjRj0E2WeDDSkPWRCk1fFimBye0YXsqs6mpwoNaHaRRDXHkgqoqqN6MtICZa3pzmdu2sYro1IcbOUxqUE0TFWqyng9UKEiqmO8xNYhK46lrEIHGDihnLIURqEiCdgYyv1SFFfLw9QS1NIXmGEwdissRTC1k7emS2GM6eJBoyLwKfEsBcT/6zo5ywIxp3fZQpTok34PvWUy9IsfLpIpEqmTKKoMZR60DgJkmwLpt25J2ZFoLM/DTpJXNWEsqrbBdg6nXvpkyb2sYWQw8ZDIkWYrYstm8YmqfR82OyHnAKtSzhHmdmYOH7J+Zfn7fZoWe1KSHGvlQASXRBqVPkQecukmxcymHLP7JHBlJCRnZm1UqnCQ73mLqfEIxPGrzZlJrAWIWf4G2bSR+G1djDxo08OU0MMVEaX8I2NSffmrww9fq7EuGY+Nq7EGDBr6cBkhCkxrNnGCex1pnTw1/oOajX+xF/8XfG73pGxK8ocHUoYEvAmwKRF8LYCQCG1djDxo08OU0QGrh1N6Qk2RqhBGB7GsBjPTIxtXYgwYNfDkNEKC+bD7Y1wbYlD7ZeP3XUw0b+9HYD6KBKYfGlFr4x3Qx9bevem0MQf+KAdikAjSu/9h7MAWoPwYR/e2Pf/+qnxszmhszmhszmr+CBkh1/iKT/SpAffHeFaIsQJBEFItFttE0nkZRJBT5AkRVA69xUFqKUAwbmmhA1xzIigauuRmyqYKT5MmBZAIHQZGh6hoMRYWqSBCFwtdG+hcX9k39rmkGFFlk7Z81iYelqVBNB7KqQJclqLIGRdHY77R+4k6aIEGXFSiaetnXP919oPMl47wg5tk5q6IETVRhKjaKEvdX/3yG5IDTJeiSBlewIBoC8lIefI5jzY50UWaOB0nTJ+d1iRJkxWBnZ2gm8y+YisjoWbEMFDkZtuZA54sQRR48p0BRBfBCHqbJQ5VaoAo6SxfLF6dPv1coQpFF6S1aoCCCL3LgeR6iKEORDTZvypZ08KrIFpEXChBMDZ7hgCtO6umqroD6yjNQyRIEQYAqK7Coa2+dEZszfZ8AQwyEnokr5sFxHGMIqihAU3TIogJFkn+/TvpZk2S2fgLhTK9vpj+/qakFkiKCk0SoqsyemSsUIYgFCOIfnnum1/Hnfr7AE5NrgWDk0awrKEgCbIGDw2sQeQdSQYDIT9KbYRisckCUqTNYCzghD0mXWRmSKGmQJQGikGet2ec1N4EydlTFZNUXuk6D9RTIgg1FUiHJeVau9Oeue+p9V6giB00S2cZPcnMFtFDKNpZEDUVOYqXivFgA9aMLNJU9ZDHPgaMpfxwPTiZA8jB4AbqpsSRdscghz19+DinweYiaBdPQYJk6FN2BpUqwZQGiNMlUZFFiICNwTV1TG/Tv/dVzQmiGCoFXoMjc5+eqQ7Zy0GTrr56B5GyZ0ZVREKCIBizJZ3V91JNzVrGJzVIgcNA5Fwsi8gURXIEkETUbjZHLFyGaDgRRZYyTACYbEnhVZUJBkOYilytAkosQpCJU1WcqYS4/GzwvTnt/rlC1SfWwyAmQZJWpUpIksA8WOH5SvbJUFAQZRUGF0cJBViXIvADT1piEkwyDLVhqKYBUEtnRYRA30LVpL3C6BG5qInjNg8QV2Ya1cAq0Qg7UMZaeR5B4tmZ6ZgIXSd7fSy5SNy6zBJ7293MS5uWboPAqFOriS4xTcCHbBYiFv/7n44UcJMFmZyVqkzSa5yVoqoBYETErV0CuhWfqPlVgUBkRjdkizaQ51wRVmax4bm7+DqstVA0fc2Y3Q9MCaLkc4tSCyE8yGl7KgxOKKPIcq3SmQtPp7v8VpD6JZIuQraKp4PkiJLHIbBVbN2DzMuYJzawspBhGKDTPRVgO4UoG8rOvYbabwMnQ/QimYjEVLCdzkHN59rnTXeB036/JHAqyDblYZIMPSIIZAgfdcMFxhUn9W+PBKZNM5Y8BRmrkdL//cr/fUERmG8dOjLyUQwtfRH422S8qk+qXe331vt8UVHZuvMZDNwv/H3vv/V3XdeV56j+YXqunu6rH7SrbSiQIvHzvuzm8e19+D4lUTlbZlmTlQOUsK1OBEpUliqSYc84gQRIgkXNkUrIlV9X0qvphVq/58TPrHEhut8cluApiSWXjh7cA8rx7ccL+7nz2xrXS2AJgukNdWrRkMqVNZaRjxGIR5kZqSOpRqf5prjBhfAw3g60p1MUtoooib0aLRG5Lq6NmXoxUwpa2uG0WZIJzLBGVlamikbkzPv/zFCWNY7nYpoUgKHEglmEiQBOpTaMYHm7RIaypI55OYkTnEdF0Ljw/TrFpAcWij/mTOVLCCeIVxqjIYhfXP8R7ptvAcz0uJLSqe+jJJKYXSgZSWzOPaKaJ0E8Q6ml0SyFuKFOMRjo9pmyvPweACU6f0nTspMnf1BiEDWVZS0PYz8JGOdf7P9P3xxwXU4tjxBNo6SzxhHBiJMkXMqRiddTVziGayMoLuaJ1rKBn4QMwtaJUiUWl5h/V1EqfQUKxyGQNPCvGf/lxVN5pE+qiuPRr6j/hgr+Zg+dU0Ezh8PCkFJzp/M8THjTLsBE2kxKPSf0zljSIqjmC+p+zsa2Dju69/Eo0c9AT5HSPi60qpQV3sGznLvo6tvJktQlTUYibFnokNaV2JeLSYTLTCc70eeGASasWSjROys6gK7WIJhb3vbeL7iOruVTVCXShk6vS+SE8bMItm9Y1aRTP9O9/188LKa1ZNm7Kwi49yaZ9e1j92gJEu2Bhh3zX85vu75u5DD/58Q9RGq/gte2iYUU/A6fGaWk5wJKcgxPNcNXVL7JsUwsnz/yaj8+cZWBkmKGRz5mcOEb36ofx8zqx2ByprVi2xpyLHEpXv8Lxo8cY/3iAo4f62btzMZc0JkhFVaKxGukEsoxvQ0VUp9zs4iCEl8nwPCJWlqvufIYdPf9A3+QpPh9v4Vk9iqLVUWtkKS9czP6jX3D6zMd8NrqDZy2T9NyLSAcuWdWWhya4iADudBt4rseFo8VQTCwBnLCEGjmfpBNy69JDnO3fzC9SBhVNAEqVXlRT0aUdpgjACXvyP7gNJto+ifZQiYtixJy3ODE6yu4VDnq0jrj23Xt5p9tfvS6K5ZS4b/MuTvQe4a1Qx02FLNx2kNFjG7hWq8NKlFB9G9NRqIvMxShWeHzJFjpO9vCiWiu/L9zzgr6FvRbm72TF3jMc2noncdWi6ixh4PhBXn6pSOBoCGAJp53wQUw3v+nGz0vZGmYiKWNeQpzGFR/j7T18OTFIZ28fx7tGOTnZxlPJWi6O+YTLDvDFb8/QunU/feOfMDa+h1fSNlo6gao7iDiLIE5bc6biEjMkUGFwpkUlKEPjxS2D9O9exvYjhxgc6mJy4gyrFgasOniWljPtTPSO0rntCdy6ecTTedTgOQ5PDDHW+w98NtpO+57nyNkpahOOrM3e07aM220PK+5i+C+wp2uQ/jNn+HzsYw6uv1GCUqgVj3xwjOPHN9LaMUzbQA+jI0P0bX1QcrnpNvi7Hk+KsgtKkphpY6af5mD/J+x/30etuwjXLfPQhmGO947ym48H6T+xk0Vln/CCG1kx/hs6lt5GRLclsd21pp/+yZXcO1fF01R+7D7P4eG93BcxqDd0VFtFeGM1zUAxTWn3iTSjma7fNqoo6hye2znIeOsSHHWetJnchw9wdGALr6UcaWNF0hdRrDZywX//P8jd38bQ2ZNsfl4jqZmy/HlknkXo2ejRPMb7m5gYO8ziZESaRBHH4e6lrfS0v0wuZnORFZNhAOVbEBDnmYaL6L8r6s/F4rXomkfxpaWsffcV6ptvY2vnAKOTh1giypbpOdz7X2HpG69y+y1PsOJg5zkHmOumETGMWCTO4iO/4fPjq1l4+0+56uoFPLGhjc8+Pca2px+kXB9wxa9aOfnxbh7WbSqVN9i8u5sVizQa8hZJbyGrd3VxYOPTBOr5zH/lAL89s5WFSoSIv5iD3X107nuEMGYSi99F+/D/oH/NL3F8jbt2fsFEz06W338V5WuqFJ87xuGe/ey8+/sfR3IUVZYAUBLCxf0Se86eYuuLUdLJCrcs2yzP7xnDIUza3Lezk86OHSyqL3P7Szs4M/AOzQJgqRtYfmCI0bHjvJFXSHgepUf20n7gBaqmjnAmCBvWSKkyiC0SEaRH9lvwwtac/5+wG37BY5sG6TyykRcqC2Qjj5vefJ9PxnfzM1MnMHXStSmM2iyJUokXtx3nxLZFFMMYhhpimMKp5ZIy55FUUvxsTRvjHRu42RGqs4GimpReOsLI5FYe0EPpP8i5eWrSF86YQZyn1aqoZkoGm4W7PVEboyZf5pqmgIvn/h2rukfoG93J655CKW2TKMxnQRgSS1/Pu4f7zznAdCMl25/GIlGeO/QJp1reotGt4/wLf4L32mHZbG/ZgjQXnf83/MB7h84zR9h0k86Nb7UzMbqebDyJE5/Dj+aVueyFj+g8+C5LLqvy2PpP6Wp9nxu1GLd8NEl/5ypuNmplzfPzdZXi8sMMnNzDs3VJ7l1/mtG+ndxXrOUnP/gvJO0PaR8dYv+7mRkfwEw5/HTPizBEyrOmMhb01zhwepBdz8bJFJ5iy8nP2fiqKRvp/TAaRc0/yu6DHXSsuhX/iT0cHdjEo9kUdcG7tA3sZ9+JEfbdr5AKciw+3EPrc5aUXAJcMrkgJRjOlAQToY6vwz3TzfGbxhtzeeb85L8yxwu5+r2dDLYe57MzXRw7slNKs0xUuO5jKEWH2ohB+MR7dPX1sndhkZq4KWNfyVREdkutSyZRrBRPrx+nY/czUjInVBdfTVBzzzrGJ3azRJgGyQi6aILybcTBQt1nnhpBra2TfcL0VJx5tTEcI0Iy+SAbes7QP7BV2mBuMklUS2MKd2jiFrYMfHrOAVaTTOAZhgwMP7tvgOObnqbgGqhCfL92kLHWtdwt5mR4BNZLbOkaZet9SZ5s+zWnT2yn6+PPGB47xsc9fXR9+U+c7G3jYUfnnlXHONmznTtUl9dajjO2521pe12sJcgZBvFb19A33MKrhsKNy44w2r6Rm7MutZqKr7/CsZEu1r3sfe8BpienPMO6liKhL+FAXxe73woxb11L11gPaxbWkVZKiDa5VlTnlbbP6Vt9FxHtXo4MD7N9oY390EG6hl/l3uV9HF17M37wCLs7OngqSEi1UBCikRJpZjpCJRUqonASfRsAk06abJWNrd1s3bGWm6tZkqbDo29upnusnafDEGtOHDPQ5PxvWdnJ6NFt3BvUTvkAbJFEYeAaPqmYS0KP8+DSAbqPPU0mYVGneLhqnAvvWinVxg8yPppVR0Srw1NmnslznmOkSTgigBwnbmkIL4uvhtJgTMbvZFPXacaHd/OsLYhYw7TS+LpKPH0vW7rHzjnARLaIKuMeFm8dHaVnxwsItVbYZcYr2/hkchPXRgxsXRShfIJVo5PsvzfFCztP039oJUXd4EI1RqgmiUfPp+wZaBfH+dmWPs52fDQtwN7yLW5a28lkx0buFfFCzyOlv82O8VEOL/7+q4jTAWzTwrR0djiahReP8OzRTxhbdwfJeSrPHB6ib/kvuXVTB8fW/hz/5nUcGl7PLTdv4XDLIqlWCoklPK/i59fgEhlBMkdQmXkgW3FsapIPsK/vc1qXpJivh8T+NsqFuV+yta2foWU342gh6lyDrHMjSztGGNz+AHWpWqxkiovmRWTpdSWVkCX49NDi50u7Gf9kAwtrNerzaQlY97U99A3v4rFUgKe6KMo82cTvm6TrnzJ2XjxRS9rNkLNsNFtH5HFpMVe6rW3tTtZ0jHN64gAviTQjkekgYmWWRlpfyKqOnnMOMNfUZPJmJOWx+MAwk/sXyVhHKpHGeW0n/UdWcoceRdMyxBKPs/2T4+y6X+WWF48w2P8+tyVCFC2KkQm5WHNxMzqh7nLLmmEm2ldOqyI+Hzd4cH0fk4MbuSum4SRN3MRLbB4dYe87372XdLpDnk5F3PNqhd49mKwAACAASURBVLL9X5k7L8Qs3Mza3QOMr78Ts6CSeO0oA4e3sOlEG9tvLGG6j7H/TCcbVxxg7xJTqltCWgmbSzo2TFMGbAW4xLxEAsN085tu3DLLBOotHJ78B7a/ZVKTUmhSo3iXvMja9nG6lt9EOie0MAvtzhUcGOrgyINZLkhqMiVO5MiK2pYXRi/C0GqZp/iUnttF28Be3rDmkKz7W34Sbebxje10nHiZhlgdsYRIRvBIWd+Cm14Ul0ylLOKJOpngawqjVXFI6AkEwD7qHOHUyYO8ZKYRXEDkewkQ2ul7WN07cs4BJjLhRR5hVPF5bns3I/sWyWx/UbvPeqOFs8c3c68XkTmTaupdDp0e4J2bNDKXvceevjHati4ktP6aGjXHWxt62LdtNb9s0PjF4m2cHTs8rZNDdzTuXHuC8b413J4uUWsYOJmn2DbQJdsXTUcg3/X4tE6O0X08E9SRjxZZuL2d7mOtPNvkYv+wBueunXQMnWZsYCtP+j5W8iY+bB1k5OhRFhfrSCU86S0UjFfaXLomJZdYc9z8yhaboRe5bs4FRJwyb+0b4ezhj7gmU0fC1PjZS92MnN7Ec6JufrxOhllyb7bQ07aFxYrIzkhjuRpWOkltTEfPVagP6phzUQr3msdZtaGdgc0v4tgN1F/yEvu37mXVm1die1HivkiMttDVbyGbXrjVrbSD6qWxNVcm/ooM9JSewFTu4aOOASbG9/GykUI3VZnZIYxaT7mL1T2T5xxgCV3MSbhTDd48MMbQwdeJG2lZuD/+4h76ulZym5vBTSXQzcXsGOll/e0JrFiO9MKVdA4N8vHw3zNwapTBjjU8GKawL05yz46z9HZM76YX2Sl3f9hHb88yHrZF9kAU11vCtqFJDrzx3SczTwfg6dz0t6/pYnhkklNn+mlr38FHDS5zai6WvbaN9A1sOjHBYOsL+NE65ppNPLB+H2dO7eS2i1KkLREvUqVWI2KGwuYSV32E5BISTaTTTTe/6cZtxyOjWNRpKd5qGWGs8yQDZ/s5fbKPtQtN0vE4SS2Op/rcsK6H34ys5cakh+tpU9lFqo9RvIH1O3tpWfsACzIpLryghkrhTXYO9jLUf5yO4XHaty2iav+AmrkmtpYgqZpozszjhOdNt8DZ8e+/nTV7Rt/fM5oF2AxVmFni/v4S9/fhbGYBNguwGatx3wdC/r7OYRZgswCbBdg5pIFZgJ3Dzf2+ctXZef37qbWzAJsF2KwEO4c0MAuwc7i5s5Li309SfF/3ehZgswCblWDnkAZmC49+Q9FJEXCf/fxl78GMC4/+YdXS2X//ZZeKnj3///38v2awv6+Civ/7/X9/0++zEmxWSs1K6W+ggRk3f5htW/PH29bM7svsvggamHH7oq+bi83+/OMN2Gb35S97X2bcgG+2+fUfb349uy+z+/I1Dcyohexs8+s/3vx6dl9m90XQwGwT9GkaWH/NhWZ/zkqkfwsNCBNBgEw8K9RFYZN97fgQNto3eRDF2HnVQj2FIE/o+QR+hjCXJVMo4OezeLmQwPUISzmaijlyhTxBoUw+yGD7HsVMST4zJUKz5LI+xWKRUn0DhUKJwLXk5MQEv68fsXGVXI6gmCebz9CQDQmDAnbgUymGZHMFcrkC2XyOTC5LkA3JBiH57NR+fNfrCnM++VxINlMkzATk8hny2RI5P4uT8Qm8PGGYI1ssUchn5dy9MI+bDbDyvjwXsSbxkRw7mFqfWJeghTBblO/PFwuUSgVy4p3BV+dZLJz7cw0z8vJnc6ZCJrBxiqacTyZfJRsWJdE7BZtctkQ524BfyuL7LgUnR66cJczkqRYqlIsVxLq9MEuxlKFYCHHdPGG2RL5oyb4KTfVFgiBNIddEqdiA51sSWGJfBJ0IsAlQCTe9CGf8Ke7680Q9b1EIX2yoAEqhUKCYL1DK5Slns3JyYmK+6eL5AblSmVIuwMt7lMo5+f0gzMl3BIGPaODnuq58X6VcPPcHMEPwhmGGXJjFDzKyW4xgNBnPl4ck9kEQpxgXn6/BJH4XABOg+/r/vqufgujzWfEpyblkgqwEQD6flWeVLefJFgu4QYjj+hJEpUKR+kKB+lJZPiOA9C8BzPMysn2V7Yo+Wo7cB8FEJUf/im7O5dpzgYWdy1LJVymVKlP0GQoBkJdgry8sIJ/z8TMWrhMQBj6lik+lkCdvFsnnTUxLJRtmaChWZQEcx/Ipl6s01FcoFOupVLNkvIBskMO2fIKwgOurCPoV65wRwATXK+TyiE3P54vyZVIshhk5qYxr4GVcsl4OwcXK5SL5TA7T93F9j3K5jDjUMJunVK5SLOQkpxTc8msd9lwewEzf7Wds8oLD5XMUi3nKlUaqxRzlXEZKMrkXQUghzMrPHwJtpn9/ps+HboBn5yRXL5ZLBGFRMgcv6+D7gawSJs5CgClXqk6BLvRwbYfACX/HOP4lgAlOX67UU6lU5Bnn8kVJF7+TdjNkcNOtf359iUwllOW/pST2QvKZAl4uIwFm5jyCfI5CpSzbE2XcnGT+fjWgkK8QBkWypUb8bEFW9hVnW6o24wUFWXDXcQ1cz5RaSqVS+gpwzdiOKqX/jAFWyRUo56e4oFjA7+ucgrNV64s0NpXJZcs4no3v6IRuTpYprtY3SrVRcH8/E0oJJw6uEHhSBAuJN90GftfjQqUKiw3kHAvPcbGCIoXAppIPpnpEhYLrTzEbAbLfl1x5oU6dYwKb7v1C/ckG9eRyDn4ug+vkyIYuuWqWcjYvtZFyqYFy4EsJZgcBmcAhk8vTWN9AMZubWpNQCcPfUxO/Wlcu68muNOJ7gj4y+RKuo8t1i/+bbn4zHRcdKMUZCWYuVD4B+EKuiJd1yefKVAKHklsl9Av4BQ+vmMP1QrKWTdUPpODIZgPsjCNBGZZD2Q5J7NP8pgXU11ekepkNS+SKHrqrSPBVKwukWjljgAXZDG4gPlP2hpBkFSHNBOKDIpqRI+s7eEGFSlOV+Q1CZSqSCV0MPSUXHgauFMmVSr08UAGwQujLQ5zpBp/r54We7RfqKfsuxUKVoFylkHUoFMv4opxdPkMm7yP26Q9Vw5KfOecENt36PcfH8QWh62TygeTuQvo6hbwsxef5WfRMnmzGRHDoxqb5NBSL2JkCGVufAuFXQJE2l/Cc/R7jaGwooXg5Cp49ZW83NJMPXamuCft8uvnNdNwMclzV1EjWLeKXA9yMScbP4Yc21aZm3HwRN1ch7/hUfJuG+iL1wl/geSj5PNmcR85NUwyECdREJvQpZV3KOQ/djmDoPoWCYDIFef7Zgotpa1KgmGbyW1ARwynpI+wooVsLdULYULqXwywuoNJwKY0FBdO2CPIF6fQQDSLCQp7m+ioNTY1Usja+GpPlt4tFYaNlyfg2YeH7b4MJx06uXE8l9MmXGnACF01PYZYvp77k05QLZS8qoZIIDi8O4mvbq5D57gEmQF+or6eh6ktHRjEbknFsEtkFNFdLXFn0fwewUjGL73qyb5teaqa5OUc1zEt7W3Lq3Fd2ZvC/VEfRINyrv4xrF5RlowRBzAKYxVK9lH4zBdB0zwv1sD6To7YuQ7baQD6XoZhvJsjruKFNxQuxsxqOcEK5zThmjiB0qNbnKFRzaG6exsZ6Stmi7LlcqobS12B5RXKXzpfmTfMCIfUTqDGDiqD5ah4hLKSzaKY2WDVfJBfmpQ4q7CfB0Y0gQ/3f/ZKbnn+T0dFedq18gKuuqMpGdo5d5ZpbnmHz3v2MDk0yMDTIsT0bePruGySXE208xaF7rim9btNt4Hc9LjexVCZ0TckJg0Cn6bJLeOqj/fS0b+fvwhyNuVBKB6E+C4+rAJjg9sJw/q7nL4pq+vkA31LR7ECqiuVKE9c9sZJDHa0sW9hMU1MTGceU4LItg8uvvIJnlq/n+Ik9NIQFKcV+H2CCkXxtazYvmM87m/ayb+P7XNqQJyg1k7VNaesJ2/1cr992NBw7oPnGpzna1cN4+zFGBk8zfqafgYHjvFG9irC2Bu+a63lveyufTpzh7OdfsH3bbp4thlSFM6SSwcwY5HIGYd7jwkiVpiue40j7IKMnR2hr7WPPrqX87NoCnhbgu+GUQydbnbkEE653oR4K96WwNYTkabr0Cp7/YC3HPvuffHpygNbVC7msKYuq5Ln66gd4a2Mno7/5jMHhIUbGhvnnTwbZt+I1rmqs4HpZ6aKXxJf/7m2U6Qgg4xYolgsUsh6ZcjMZK0ZYqef+lUeY7N/JnX6eywUXy02lDAkHjwCYIGqhNk73/nM9nvez5KtFyqJBYmGB7DmcdktUH1xHx9kh1j9oUihnEPUF66vN5DKu9PQa1atoCtTfAUzYlpJpfGWLCYCJj257bGkfoqdlPVk7gR1WpD3nh8IuP/c29oJyPUZYT/W+19l1cBePXCu6q4g1B1SE9uU5BPULeKPlBJNDHbzeYJHSfK77cDO93Tu5PZfDN03ylWaainkMReeqX7zA2k1HOLHvOcJ8hSurSxjoPMzb7yygFGqUc1U8XyeX92cOMBHTEMZhfX2I7xTJlR5i1+AZPh86ysGBSU6dHqFt5UIquUaEQyR4dDPdZ77ks673uTmToXzrCrp+/TkTPbt5qb5JqlTC9W/l8ghP1kwJrJDPyJiO9CDlM1P2oe9jVuYTPvQBQ2OjdI5M8MXk54yMH2X1Q1UucXIET2yib7CVD947xmjfKL8eGaF1ywdc15TmIq+BxXu66N79Fh+2D9HfM8zQ0AB7PryWYhjByy3gga3tjJ1YzdMlh5TfzIL3DtPTP8LkxBh9Xd2ML6ti/Du4qafbP+H9E+EELxTSq4Bwz4sYZfnRLXSP9nL0UA9H23uYHD9NV+9+Xpivoyg2j2+doL93JQ/5BoXq9Sw5fJyTk2cZ6DnGsX1HONbRx4E3m8jlQt7c9WtGW/bROTxET287/YMDbF9+OVf6556BerkcRS9L84e72bvjRa6Z3yw7djZWcxRswcxzaJkX6R4bYt9bl2F6OXKNBcreI6zvHmLr6zmKQSAddA2NZbJ2heyydQwPHuXtwCcvWtSW8jy8povWziVc68/Hy9jSaSJivjN2cgibQnBj6U3zCzQ13cPrq9fz6jMPcv1rqxkYG+H4xruxxSEWQy59YR1tPf0c2PQclzcUMC//gM7hEYaPrWBh1iVjWRQzRarlCsVwKpA5HZF807jY4DDrkS1NBRazlosVNvHzh17l8MBJdi29gnImjmn8HR/1fczZgQ3cXZqPdfOH9J4V8/qQO5quYEHjjazo6aZjzztc6mW4+aPjnJrs4eB7t1F/xTXMf3grx/pa2bakgcbA5J7Vk5zu28Av3Ao3rd7HkZYVrLm2mcDPUXluNR+1tXDowcqMGcg3rf1PGZsOYAN73+S6K6+l2ngPm1u76Fj+OE2XF3hgTQcD7Vu4vdzMI2t20X1iM88uuIQr6i/l7U1djP32NLveyEuP5NttZzh5fBXPP3Qb11x1Lc9tHKC7dxVPV899oLnYkEXxDG5aepz/eeZThloGGD47wdHhYyxp9Kg3crjzn2d1exfbnwm5UlNxs1mshgfZ1nOG4c03Ul+d/5WXWyRP5Lh103FOde3mnnJF2tf5kst1r7XTN7yBJ4vNMhxTLl0uqwPPGGC5TCCdEcKBIdzthXA+V/3iasoFF+25dYwPTTC2+U7cTB5HV3AbL+en9cJrkybpFfnVyl6GR3rYvXURl5V80qWC5CphMZBu4T+FSL7pO8Kz55WEm9bBtx3KlRxhpYG0V0RwsbJmUGkqo+Wv5KnV+xhpeY9HGpqpPLyd7pPDrHoyT9l1Ue0ql606wmTXHt68PGDh+jEm2vfweNN8YokfSmfOqtZ/pH/fEvKNJnds62e09SMeLd7By/tbOLj8Fm4s1FObUmmsv4pFmzvpO/j29x5g255oxlEi1GqNrOuaZGT3++QKAfesaOPMyB4eC+9nZY/QUm6iwVBkg/vqA5vpGB/gxCsBhWyF11rHmTz2LteVdObVRCk9dZCBjzvYcuu5d2K5ikPjZdfzzp5+ug+u4udNHlc01fP4qsOc7ezg2XJAJVjA6vZPGW5bxc/rG2W20S8XvU3L+G8ZXPkQTthMLu/KHmFuQ4an152hb/dr+IFKJtdMc8VDf2gH/f07eDvvEFgJcqX55AJn5hJMZC6IdJhcvowrApCGg5tJS49gdmUXQ2Pj9K+9laC0gAV5HyfU0JJRwitu5YVNR/j0s5PsWf46N/90AVZcx8jlyHsamaxDudA0YwLM2w5eqShdq9Iz2VSgoZAho7h4xXoKze9xYqCf7r4W+j/5LZ/0rOP2wCZ33yp6Jo7yZujL4KrYNPvBzUyemmDlPVlu33CCM61LpD3iiU0OA27Z0sOnnWv4qefz5MpOTo8e4MnKKo6c/ifOTO7gSGs7H//jx/x6cJSBwVGGjrw04/V9E3P5U8amk2DLbw25tCGL39DA8mM99G5+h0K2kQc2DNDftZK7/cUcOTXBmntjeIX5NOUdUuGrHBr5lH3v+BRzTby+e4Th/e/TWPQJKnnCe9bTMXCE3U+de4CVqxlyukeusYlqNUCEJaq6gdX8IGtHJ5jY9hzWnLlkrnhKSmjRU/zL0RO0Hm5j2Y799C6/AytboVi0qfdLWGWVRz4Yo+fgizItzrRLFPMa8Yc3Mdp/mFWNjTL7Q2Ql5YLSzAEm4l6e58k0ESF1ZPxLpEH5OYL3W2Wj886Vt+Nkq9S7GqpvUn/Vz3nk7R0cHxzm0JaXufGKelwvQ8nOU7+gmUo+xAk9mQnxpxDJN31HxNOEHVCfLSHyz4Rr1jMKXHnDYna29zLSP8zB9W9y1eXzufet3bT1buXRxhKND6/jUO9W3sqGFKpNFDMWzkPbGDs1zrr7sty1sY2xQy9TLmXJFi+h6jrctPEEX/Zs5uZ8mV+t7mSkbye3+s9zuO8E25ZeIfVyo/4yQj0pc/nqrXOvIn3T3oix6QC2+qGA5oYSulfg7b29DO97k3Ilz0Ob+hhqW8dd3qu0nhz/HcDmFz3S+ddpHftcdvAUNvoHBwcZOfABjuNRvmw+lQfW0zXYybpHp9KzppvjTMa9hgJ+KotfdfEVEQReQPOCIkFqPu/u7mbfimu5ZkEVI9MgcxHzzRW8ZB1h/m62jnzG4XcCsgVfOqnmh1eQaXK4f90QYxPreNRrpqHZxy5kaH6zlaHOvTyRa5Z0VvZFhsi3ADAR+3IcS6Y/CdVBqGSZQo6GsIK7eAuTQ5MMrrufsFogMBTs+TexePleTgye4dTxdcwvO9RqKbymMhVDRRfu+aCAWyzJzIKZbK4koOpUjCrnVTCCZhrChFQHgyd3MHhqH883mITpCPOaruTVrWP0ntgkJVj2kR1Mnh5k2cM+jm6jBVdwyYetDLRt5oPrAh7cMExv+3Z+VZ8jFvlv5Mv1LG/5NQO73qbc4HDnjl6GjqziyfpnWXvsE6lCXVOfJx1WqOoR3CvnExSnci5nusaZPD8dwNY+bFEIA2y/xPuHzzB8+F2ZGnTPmuN80bedR4P7WNE1xNEVN9BoqiQsm+ZHd0j1WqiIwrn0bssA461vkbV8GcrIPLxO2rcb7zn3XlTPCWi+7BXWdbbRvv4hrgov5CLTolT/MBuODnFs8XyZJqa5Gj91DZkaZjf8jOufPcT2juOseESkuAUYWZvAzJFyA65//SCHerbzbr2JZaWIaFexaGcfXUcXc5mTRvFCGjJF6XOYsQ0mova+SG3Kl5BiMcyjZ3yquXryb++gZ2CQ/i2P4zZlsXMBTY8tY+/gBKd+c4bBzp2cHT7F8OlTjPQc5uWrLyF0LapBPdVMQUqymRCPeFazPam+iuwSJ1OmPjQIm+fT8NIK+k4f4H6/iWL5Mq5b8iot3V/w9727eLBsUXvnUibGzzDe9i6XZAvU19/EsvZuKXGvzHjcuryD8V+fZOcLDRSbFtD86AZae/ay7pkyxaTCXauG+GxyL9cqSW5Y00X76AE2PFImSM8je8li1uzoZHLLY997FXH7EwWZmREUMry1f4yhQ+9RzFW5e30nJ0+s5o7KfB5evZPO9o3SyXFV4+W8t7WXkS9OsuUVYT7k5XPDLUuYXyzgeQXc+9fQ9fEAW++fuZd4OvrIG3PJNd7D27tO0N22hluLCl7hOp5asZvRk8e4o5QmX7mOJRsOcKLloAw12PmfsvlEN1+2fsQVYUA8kaf+iibm15soSYfy9c+zavsx+ve8SLF4CVdc+Tx7W/ax8r3rWVDv4RRcymFFamEzBpjIrwuLWfIiQu+7NFaqWPkp4zbzzk5OTo4ytPoxDFOlWprPI8s6GDo9wuSpPvpGf8vI0DCnv5zkkxM7WFTJTkXRyxWypvG7uMp0m/hN4w2hh1pYQDGTkMmdXtCMpdSRv/KnvL29l5OTI3za28P+9j28suIoXb172fHotZSffJdjo5O0Hhzn+GA3X545Te/utVzVrHCxVWXx1l76Onexe7ifU4OTDAx3sOvDS6j3dYq5q3hwSwu9bWt4PJ/DzDncs66D30x+ychYJ12jk5zddi96eO5Thb5pb8TYdBJs/cOezDIvVyu8uWuIoT0v0FjIcdfmAUZ69vBIYEk3/WstbUyMn5Zu+iN7DnPwyAk2Px/iBgrLDn1G774lMkvdcQOq966ne2KQdQ+fewnW2HAZmnoxpVIzSw8P0d83xq9PT9I9so/3swVkdopoH3zpA2w5dpTh05N80vdreoa384hI5A0LVK98lG172tm14Tl+fmmZRI3OZdctZ3PvCfpGBhjsHuXEntdZkJtH1l5ANm/JfMS8SLmaaSbHdAf4fR8XVxXEvaCc6RIWytJId51G6h/ZTOdkHzsfycns8nIpR7ZcJpfR8ctVHt7UzeiJjTycEc9kcUS8Tdz9KuQlxy8K50/xf11R+b7vw799fgHl4HLsfERe4cjaJXILlrKt9QC7n5u6zvJvf/d//P37iwdYkPUksERyp50VFwJ1hGeo+bHVdEz0svOpkkx0zWdcglwVkQHvlxp4cN0xRgd2cHdQpCou32UDmTImcixFqpDIMxS//7kTl9PwS9YdHufYjve51nRRGn1e2H6I/ratPOydewn1fd/fv3iACQ+oAEIxmyEsN9FYLVCun891j73P3qP7efveBpkGlfvqRoC4F9XUfCmPLdvB8bYt/CybpyBy+UQM8Ks8Q5ECJW5tS2n2HV9HOdcEmFOb+MWi5RwYPcjp3hFOn52kbf8+nrm5gpn+jy+BZrp/f/EAKwTiomiWnG/j+AV5tUY05Y56jVx26QKurIp7allKRXFNPiuvWojG2E7lEppKHgvEtficL6+eizxDkY8n7lUJ54/Y3Jke0Pf9+UpDSEqv4pdLFItN8qpHSdzodeZSKTf+2a9/uvOZBZgvamaE5AOPfKFKY2MjlbJIYK5IKSSuvIv7Q6VSSd58rYgyB4Erg+uhb8nrDwJQIlNeqI+/A9hXhU6mO4D/6ONKzmJ+UE9TroThOSj6HDLVJumpzajGLMD+4p0c4mKotJXETd28LNYjitcI75pQ+6oNJYqhJ6/PC7CJwKnwhIlM8GK1IqWV+K5MJg5E8Rfx7Ne2x5+/DVYfNJGreCScFMXGS6k2FsnZGQp+kULzn//6p2OQf/ESTGyQuNgpPIDi8qTpuxIgojCPCJiL9K+8Z5DNlWiqlmRtiSDfiHB6OOGUcyObnboPJ6SXLA+QFQHWr0D3Z26DiepIpUtLMgRS8eoxskWCYpaCY2G5qVkJ9pcuwUQVIZFLWcqW5bUEPyturBapDwNZtswO6+WNXa9QJhukcRwVv1ihOS8qEP3+NY+iVCFllamvAPa78mR/xiAr5mx8USjHy9JY8WVdEmHTiqSDQsMlswD7SwfYdCJ+dnzWEzgTGpC3u79ydvm+L+siisKjXxcfnbbwqNAxZz+zezBLA3+cBn4fYKKyr2VZsuioANafVNlXeM9mP7N7MEsDf5wGhNQSwBIfEXP9GmDCdv2TACZqbc9+Zvdglgb+ZRoQoBIfsUdCcv2xrpf/kqo42+HyG7obfr2Rsz//svs0/z54BC38q2yw33949ndt2m4Zs3s0u0f/Gho4T+iSs5/ZPZilgT9OA38Ipq9tL2F/id//cPwP/z2rIs6qiL+zKWZV4f+/KiwA8/W+iN+/BtifAi7x/fPi6TS26eCKa/UpRb7Adi1MQ0ONxTCcGIrhIUoo63ELM62iGrUouoUrECzqdKgqumlgOTp6Ko6hKui2Q1J1p0X4nKiC6QWYWhxLS6MqcRzLRlU1dM1GU2KkNF2WPRZVaeNpBUO0UjIcEuJv6WnSlkJcjWLqBrbmoCgKlmNKL4+ViJM2DVlvXHw3pbvyHWoygpF2UCIKmh4nrdnyXaJstqo7JLUEmmpiawq66qKqKRTVRDcsLCeJbjik9OS06/tDjvbv/e+kZqIZdagpFz/nEY1fhKaGmGmNlKFip31i6ajstmJrLikziWWqaBGVhK3Ls01qFuJ+XEJxUM0LyWpF4ikTJZ2Q4+K8VU0hnVYwlTSqlkYxTTJpe8b746VEHZgYuu6jxi6QVaBidi3puI2d1uU5pdSkLJibTGnyfJLxlKzMK2jWVm10NYpIADfSHslIjUwMTybSKLqGYSqyTqSf9iRdJPU0jqYxNxVBVTMznv95vuURU+JEUxG0tCJBllLSaI4jC1gmEgnSKRPbVnDsjMzjs2wBBJN4XIBCR4+mSURVFFXD0EzSmkFKV7A0ZdoJ5l0L27SIJBSSlk9MVXFsDVtLYegKnh2S1izURJJ0tI6kEsO0DVk/X3UdzKSDY4YSkGo6QVpLklRSaLpJSlWwbEFALqmUii43LYVp6rimJucp8hfTlioBpmkqKSWGmtIxxeGI6kV2mrRqoulJTNMmLQ41FSWtOr/zKv17g+Zf8/dSmqg7YRCvs9AMBc2MyRvOcg26ipJUJbOIxDXqIoKZNwgMCAAAIABJREFUJlFNAZY0GUPDM13mRSNo8bmoKZ+UFZ0iYiOBlzQkkQri1QydtK5hqVM2Wtw0JMj+NXP9Y98V77woXifP2K6rw4iZpGJ16GmDtK9L+ojHk6gphVQijWtnppizaUj61LUUjuUSjzkYdkrSh6XkScSj6KaGnkxSl1CkkDEsXe6Hl7ak4BD1Ov7YnP41/3ee4DhxNTFVrCaTwdBsEqouN05IE9sJcDSLeCxCbbyOmkiUlFKHqRqkTUv2WBLFRmVMwNBlYwFFN0hoKo7ghNo3G8WRaA3pVB3JlIrhmvJgBQdNxhOk0y5pRRyeIsHmGDpiE6Q0SWokFItUMk7GDrFND81WsTLaVKxCtadApakoKQtbs/AdwWmTEiQCLHWqQlpPkYjXklZU2fRBcGGxB7ajk1IEhxSSSwQVE3JtmmbIv69rjpSY063vux4XaxAtgKY0gtQU19YdoqkYWjpJOhWVvd9My0G3pjSYOsFEbAtHUXE0Q5bPdq20LFmdSgipbWCFaQQhCkklmJn4KT6CwX4NMiHJZrr+guWRqDUkfUYtBcXTcJ0QR02RqkuhJSzSakqeuZA8ruGhGuLSrdDCXGpStZKGlaRH2omQUNOkU1kcIyLXlvNCatNJYok6dD2OqcYkvRt2SDI+Pf1Ot77zBMFZhomVdognBNgMWTDUs3TS0VoiiTi6kiKp+IjWLqJZmUgCFZuYSCrMidRKVSFtC+I3cfSpSQm1QhOcYBqA2ZmcLKmmpHQSiYtIxJIyYVdR0oiKQgJogvMIiZhKW6iGiaIksdMmgeES1yNSfRXfi8ZjKOmUVFEtVZVqj5CCQsoKAImNFyqxeLdQQ4VamzaS6IIZiLFE3ZQkTKUxrfTUd3ULkYUvpHEqFpUqkTg8QVQCjNOt77seF4xErNcPk9i6xjyh2kXjKIYo5DoV24lE4yRTtbIdlVAlTTMrmd28xDySiRi6mScWV9DUNEY0jZu05Z7PiddKsAlmK0CXtP53kAnmPdP1nx+dh63ncT2hjmqkE7UkalUUWwiFMtFkgoyjIBieotQRjSSJKknUuCI1jmRyntSGHGNKTUwKbcRNk0yr1NaqxOM2qulIc8ASKq2ZIpacIzUlzZqKe81kDeclbEUWGzWSJnHBxe20JNBEUqPWERfvRMO9WiIRDcespWaOwkUpG8MIsTIZ6isNuGaCWLyWWNKQxfWFLSVUk1jym6WXmLgQ9ZE5c4g68ynUh/IAdceY4q6JWlJJE8c2EWqrAJjo3SSIXwJEjaM6HrqelvabkGKW5ZDWYpJgdKEm6ra0DZNKAt1w8dwQS09hpBMkozESaQEwT6qcAjCivoeSipFOR2Xr0bq6KJY5JZmFDSci+qIVq5IWauX0TbBncjjfxrNCba6riZPSaojXBmSaLqfenUNc1TFVS3L3mmRC2qyablObSmMrCZz4PPSMSyylELpZ1FRaVlcWdquQbFoyJquMSdAJ7SMlnAH670AmVLtvgwFFbI2M7TMvNhfDyZNJm5JmshUL68J5mFkbN53i4rkZHNFu1pvqP52ujaGm45S9Ako6IObUkYqH5AwDM/031M1xaZpfIKpGKRdtcnqc6IV1pEQp7iCUtn/Smt5LON0ZnRfVkpIrCz3dCyw0JULkwhr04uVc8dIyetva2fbhfTRVirK6T13ian75xHL2H+qi7+QEx1t38sGLP+eK+hixVJJE2kDovUKNm+6Pi3EhEVXP5dFlBzm4/yNuEY2mo3OxrQwx3ZFqnmOk0dQpIteUWqLRKKqdJaGlMA1P6tMCMEKdSSsGqmXJcm+OlSeeUDHMJMlURKq1VjJFLBb5CpiiZmISJSHUnBR1tTVYRpa5dbVSNRSFNkVHT/G8ohrSphN2ZywytWeik8yfssbv8jumkyZjFTCdgJz3GMt272D5Czkc38A2AmwROBV2p9BIlCnbwzETpCIJ2aVE1T2ybpJEXNi/CebFkriFNKlITKrvqq0SN4SjQJEgE5JMqo3CJvsWJLxorDf3gh8TCZt4d/tOhrvHmPh4nPa2ozxb8jCjcWLzEuQue4Z9rXvpbOtmcGyIiZ4+Pv18lIX6PMqqQsqcixYz8TWdCyM2waXvsezwPsYnTjPS38PODS9zZUOcmnnCNstjxhNSm5vp2Z0nNkF444QXKJlMEqlL0nDJ9by2agctZ/6BLz//NR3r7iDU0/y4bh56w/Osb5/gn377CZ39vYz/3//EFxPrWP7sJWScJNG0Lo1HVahx9vQiVkiQqOvwzJZeutqWcYfrSu7oZ/KoqYtlc2tdSRCJG7KojWhoHY0IL1EBU7lQqnbCSDXdjFSB6mrjJK0Aw7ExIz8kY0+pLwldXGspYYh3JVXZsE2r/RvU+Dyiio9byhCJRDDTOQzPQjQXT11Yg1CV58VqUOwCVpgnHo8SGLZsOlg3t+Z7D7C6eEx60mKKiWctoe3jk7S+nyUVryEaS5G08+Qck1QygmdrBJG5xGIWdvVq1NqfYAk7JnYRETuknHfQ6i6WzUKitXnZc6tqCk9yWoLMSKmSiQn1WXrt1JmriPPicYy8zatre+ju2su92UsICj6PfrCPk90budWwpY1dWLiavYc3ceelV+D6FnpKI5a6kLLmkLRdonpWMhNB61r1VlavbWFs+6uo8TzVxkfZtncry5Zcj2/NlQzCVeuk82vGABN6uQCXZXoYySyFxht5c3srE1/8PaPHjjF4cpyjy68hSNpcnKlyyaPbOfH5KG1bXyIQ5aaXTXJ67Dhtyx+g3jWIJi0s20UYw8KlPd0ETXHIpsPdSzvonzxC754e+j//B4Z697H3tYKULNE6jVzTbby39QhDp0/JVjxnBrpo3/QI0dg8gobreOXdjRw5cowTnaJu41l6urewe+llKMkUEb3Klfe8zu7jw0ycHGfyzCdM9Bxi9UN56syQy+5ZxIaO4+xvOcrQiXFOjnXTvW8Dd4QO8dqEvD/2xsp9DJ79gqHhPj4bH+bA1vcpuDM3gqfbn5mO606Ia4jqtVFUZQm7R8Y4+JKFEU9gehYLV3XS3T/BxCeDjHft48lciUC/mo8Od9G36T5cJUkiW+SJjw7R1bKR23Jp4hc4BNkn2DKwjfsiBvWGjpBkQl38WoIJF7gI38x0/q5iE/dTLNp8ipa2V/m7WJwfxi/CvncHXeMtLDLSKIZK7sWttLQuZ8GcC6mNXkQmW0HRpsIvdcaPMOpcKmaS8y2PynPbGfm8j+eNC3Ccn/BXtVfx3t7jHNj+IgVToS4dSGYtnH0znf95wjvmGaH03tWl6giaH2TltrWseGo+9qLtjA3107f6bmwng7BpXM+QrUTrhMvUzrBw/RA9x1ay7FfziScvlK1mLDMtOYhwe083wTrFo6hq3LC6nbOf9rHvrYdxQwf1rnfpPvVb9r0coda6U4Kjo+NNcnGVC1SNm5ce4LOPx1hzly1ttCd29PDPpwd59fYsJd/g6g/2cfpsJy+oCexHdjAxcZJdi4WRH0dx72bb0bOMDCznZqE+3ryS0x//M+0bb8F08oTaQ2wb+Qd6Nt1KytB448hZuo4v5y7dQo8lKSw+xvGJLzjwSnTa9U23/nM9bmhzJaNLJUVc81n2nDnLoVejmLFmbtt0iI9PHeJXsRqcRIGb9rUx2n2U97M1XL20g88Ov0NajWMYt7LhxKjsqLI4HSdlOWRfaqd797PnfP1GvJZILMtTm45zYPwQ73g1pPRLeWjVR/SdaOEOw0NJXsxtb56g79MznN4/xNlPRukaauFZK44V1Un7KvFYLbpZwtQdbl1/grH2NfxSFXE6lZQbQXn2EJ+f2ccz6XnSNvXUFIb7LQBMeMaEmz5t25hakpp5NkF9iYI2l7kv7mZi8hSda26QAWYzppJIzSV6scv85kdYcbCbsZ5x1j57Fdfb/43UBVFssygNYkN3iQkX+zRexEDo9ymPGzeNMXF4A4/X5zH/9m9Ie028vvkYp3e9TcSoJWrb6PMyJEwVO7RpfvgQuzoPsfZeTaqJL2wdoefge1TMv2XePIXy860c7W1h150B8ej5xOJzuTjiscC/RDo1btvQwnD7Qe4xfJR7V3N8sJPNT1dIxBRiqSpLjw8xvu2FKS+jlaWYqJHxtKhnoDe9ys59LRxcWZx2fdOt/1yPx1M6KeFyz+n4zpvsHfqUna94ZCqPs7l9mB0v6AQNwiFlYaRvZ8PxSQ6sWUjzk3vZ0baSRaaDUXqGY52H2dnSRssjFmq2xCOHW+h5rnDO15/IZSmkfsBfmz71b25nqPUkn470sOfASrL2HPRojPCya1iybZITLe9wV0FlTpjlvrXH+XKwjWd9A1915FUTVY/IENPClUcZaP2QUDHQUhnZDSh27yaGurfxui/CLznicR0tOXMV9zzhwo6ZU9Ko5Hio8TrmpBNEL06hv9vG2OhvOLH+LoQdZCgmdrUkMx7qzv8Jat6n6Z4VbO7excZtr9NQrErHQ236IukYsK3pJyhcxlHV4f79HbRvfUB674QdJ7q13L5xkrETa7krnSNUfkTetXmvZYLJ9j52DZ/l7387woe3JUglo7y/73N6Dj6HKMl2cSxNcN9eusd72XhrQJ3rEugGjfnn2T18mIPHD3HmC5g48ga3xhLoD+2ire8YG+730LQYkbTFK9u6GNr1EsVYlh8nLyadK/LQhiMM9HTTc/Bz/vH/PcnmR77/XsTQyMisByUeIam8yM7eLta/46DdvJTeiQFW33Ex8bkeZetiIqkSizpPc+SdX5CNPkD7Z2fZdHcG5cENDPcv49YP2mndcw9B/FH2dRxhkRucc4CZceHQuoxXdh5nrG0ZNwrtxvN5ak03HT0tPO+Y2LUXEnVMPD9OOVkmcVENqcyNvN0zydjSn6JoIkHAJz5nLopW5t6Vx+k+tIS0sK0TJl7aQHt4Gz3deyTAlHiCiK7gO9PT73QM8jwRIE4ZtegJA1t8bAWr4mOns3iLdzMx0EvXxntJmzVYuQYeX3WUyU+72P32VVSicX6UfptTn/4P/p/uXdxnGZRFXMnRSMbSf1IcTDgffM3knvVt9G59jUq+HsvPoybmctOKwwz1vM+d7tUs3j8gW5fub1vHA8UGcre8zZH2PWxamCVpJFh64EtObFuIZ+SImlHsm5Yyeqqf5Tf+hGLlfXZ19XKi6xTdu5+nPsxyx3sbGe3Zwl2Ggv/APjp6DrH2rgDh1tZdm/d3TtB38GWZWvXQlhaGBkZl0/A3f/ZzGpWnWN7VR+u700vo6Q7gnI8Lj6Duynhi0nmFo2f62PWGj3rdCkZO9yO6r+jpKk5wIXPnGHy4o4+x3Q+Qtq7m4d1tDGy7k5+vHaJ39a1k7lvNkfFtPHzTBvraF6ElZ65CTbf+UA2o0X7FkbEv6V5aIVF3MYm6uaSD+9nbP0r/qruJpTxMRyEa/+/UeddSzevoP0ry+v5xjq67iVpNlR1YPLWWZFjPtcu2M9yxkXsUjzBfy4/mxSkt3kX34C6eDlx8mWjgkfg2JJgwSk1DlYHjSCKJ0NWTZoxUUif10g5ODXXTuXYhmj6PufGQK54+yOiXf8/ovme5znTJPLed1s8GGTrwDjeEplQPFT0k0HKk4/FpOZwI/npKkmtX9HPm0HruCWu44Af/J3OtKu8e/5SRPa9QNe7mza5Rjr3YRKj+Z87/W4/cywfpHhlk8+06NekI7x78e3p23kto5UllFOxbltEx1MmqJ12Cew5ydHC97Ibo/eg/84NklUe3H+bkUAu3iQD0nR9xYmQ/2+5rRI2lUAODpQcm6dr5Eqp7Ax+1DnDircsJrb/mh39lk628wbaxL9i16Pufi5hIJTGzlsz1TFhL2DsxzvZHVLT8ixw4eYZ9L1rUG3F+/OM6zPoH2dp9msPLbkBk4/jvH2Z023I2dgyz/udZnMzj7O/oZMOWzWx7PkD1zn2gXXg/0+6j7O7qYNUiEQ81KOgJaq07WNY2wtCK67Eqz7OtvYf29TdgXPif+KuaCOb8x1nX0cvB169Ej0ekp3zORf8XtWaG+W9upW+gnXdyEUwrwgXxq3h+Vx9HDr5GU2wuMRFMV6firtMxgOnGz3N093e5dylfw02HJCLzZIKv/WEnH585S9tHtxGaIi3Fwbj0UZZtP8lvv/hHJif76Z/4mH/8uJMDHz5PU8amNpFA5C8KdU43Y9MCTKguvqVz087TfHGmlQ+eaKT8s0u5+uWNdJ44wFu3l6j4r7JjqIujLySoVT0ar3yV5Tv3M/rpKFse0KhJRnhr38dMHHsZ17EkR/Lu3kr/2Uk+ukVBdIkZnTzES7pPJLC49o1tHD3xJRPHl3KXFcG6ay3dZwbZ/VgWpeavOV/ReW3XKSZaXiNI38/S1kn2rryWlJ8mbHqGd1Zv5JPfnuHIM99/G0wkxFpWglRURdfe4sCZsxxcXIPuNXPT2xtp617Ps7kQX83z4LadHD/SwjuNPtqceShCUk2c5NPP9vK4pZJI3MSKE+OybdDrlosfnz4MMx0BTjeuRs5Hz1zHskMdnO5dzW1+hlgqzd1r+jkzfphn0zV4sct4veUAfR1buVuk6wVVHlpxhL4jm7k9P4faCxXs8gJKBQt1XpRk/aN8uKWDY2sfIB7RKVcfk+2L1rx+Da4ZJe4FuMmkDDdNN7/pxs8T2Ql1tVN2TNxKkTUDmTok0mXcJ99l4uwQh1bcgRcYaImL+NFFKpdcs4g123oY/PgTfn1ygK3v/4rmfJKfXPwj3Kz//7V3Zk921Uee9/u8zqOjwx3dNgi01H7rbmffl7vWogUswG5gorsNZhdIyMjGyIAFMgiEJBAgCS1o35dCpb1U+76oJGG7sR3Rnul5mT/gM/H7yRXNOIBSzKWCcHMfbtyqe+rcOr88+c3MX+b3ZEreoCDXNjUpswJM8AwFGfORTR1cOdPJ5Us9nBsY4ERvH93v5Ckbdfy3Hywit+4wg9f+jcE/jDN0uIMLrxxjf98Fjr/zCOXWEmu3n+L4R6/Kgel1dSlyK7Zx4eolDjx6N2mthV/t6uDq5Kf8x+8mOXxyL6s/PM7YwADrH2lh8ardnDx/hY1PaARWA4pV4NWPu+S85x/U1LJ03VkGhn5Lf/9Fbp4/y5mdH3Gi4wKXjj85+/pmSfLMdoMqPd6k1LOwZgF1SkBormbX2TPsfLVesm/qlQK/PNVH/8VL9PxulO7+o7zleZjf+0fusLNkjCc41idKEmtoa2hkUTZg5eGjXLq4k0fTNvNq5s35+j0lS2PNAhqVmBd2XOZa36fcvDnKxOQg7/5EI23nWXjXHdQGLq9+1MX05J+Z/myICx372RJkaLpLIV66kg8OHeLjHS9Sthbwd9+to3X565zs6uH6p5P0Xunn6N61LAnmsWDRfBal02TrNBoabkN/Z7m/30kJTlcqg9gML6pvkOAShMrkwgbqNE1ml9ozjXx3YQrDbqBxUZrmJpO0UUMykWGRYFAnamW9SrhzPWXIR06SVobEX3iJX6Uk2YzF/DvvIBv5NNz1d9QoYlLmfDJKQHPtHbIoHDg2d6eypGp+gFKj0hwoNM2/m3RGw1WS3HHnP9AURuQVS7I87OYavm84KI3zyaSy/P38OylZOsJbzqtJYRoLqGnIyiKyl67jv9+xQA5UT9/1DySzi2la8I/UeyrpRYtwFZXv3v0D2e12npqVhOEFC7/LwmYDK2vNuYJ9lexu55iSTdJ4Zy1NgcKC792BGi5D7EUW1eko6QYWLKyXnE9hEB3Bt2yqp1az0RbMkwTuRL1ObXMNTbpJpv4u6poL+I1NkhgrhiPezjVU8jfpZIY7k/V49XUsslzSybuYl0hI1ojZnKGucb7cwyfrE6RVhWR2odya6IotqX/icZQf1CTRswp6XYKFTc2yXfqdf19PynKoaUxiqzqGvog7v9+MrviI0oaaTiFYTpVcuzj3O5V+QfX8v4FExyxWtnoP5+4eVgFWVb6KrXQVoF8O0CrAqgCrAmwOdaAKsDkUbtWyf7ll/7bIpgqwKsCqHmwOdaAKsDkU7rfFSlfX+eWeugqwKsCqHmwOdaAKsDkUbtWyf7ll/7bIptrZt9rZuNrZ+St0QLSvE+0QxLtoNjrzEOntTFYRRqTqwaoerBoifoUOZLOiwVNKtoUTE1ZmPK/4TIBu5vcve/9OJdP/qudWp0f+V9cBMYBvZkaYmA8247k+782+DFzi8+9UJxt+8WTDqlyqchE64LqunFMtfhZDCmdmhN02wARCq6+qDKo68MU68FUAu60QUXxB9VWVQVUHvlgHRAgsjM+MB5vZe932dJWq5fpiy1WVS1UuQgdmACYMkAgRbzc0nNmXVZMcdjVR8V89UVHJ+oTnEud7nic92ecBdlshotqUJigX0O0EgReT1E1c35LNY9zAlH267cDBysZYloMRZ9BNg9CJ8RSXOAowPQvH8lFcg0i3MX0f33TlBVWyOHGua2RQTAc7LmBZBpapYFuaHMjg+AVM2yB2y6iWixvZxOI6tDRGZGJnIzTLxXYdnNBGdRT5XZ7uEygGpusRuAaKFmG4AarehKk0E0YOjif+t4eQgWaKNeZwLBdNN/EsHc81MY1ACr/SNVZyvu966FYay/axrAyOU8IXa9c1TDPEyBk42RxeIHq261iGjR8qGLaC5+dwDR8nCgi8kFj0ddcMrCCg4DkYuoqZU3B1E8UwZaNS1y2Ss2I5GyCIb1n4Sq5/tnM1N4HpxBimLdcVRyUs05c64JkuquESRDqWoyNS6qVSgQYli2f6RKZDpDrobhJXK2BGaXRX9M00EOtwDF2uzXEyWL7QdYdQPMnfVsBO1+G4kQwNvyxEvC2AtbXlSGcDmvS0VKZAUYgjl6QtmpzoRK6F4xvomkNgWRRcD1uNsUyPIAqxDBPDcRFKm7EtPMOQbagdy8by/IoV0A0jNDVLKK7DsSTgXd/DtR10zcZxQ6lYtm5IgWRsDVOxKFgFtEBFd9N4hkWgBLh6iBOEEmyOq0tFMm0L18qSD1V838d1WnAc0dkqixE6UhENx8ewdEIrRT6MMIJ2MmaIkNVsCjLXxw3DwnRUPD/GNNMYqofjZXEMU4LGN00i3ScMdRRTRdM8gqANwypKxYsLNk5WI5M10CIP1zMxs1lpSIywgJ4pyTYMhVIez0rLBklGEGEFClZCm/P1+2aM46Qw9Tym5mLaCTRDlXrghSXsMIutuThWCSv2ZBvvXNSO78ToQSNuHJIx0xQNnziwSWdyWJqK4+ekToU5FyNbRNdNjIJOwQzIehb5yJa5CeHBKgJY1k7JKYelUoAtrEDalz3cQ8cgb2TkZA3T1qQHieNQAsmyCmTtZlQjLWeEmU5ITjyi7/jyorVAPIKdlcP6KlUw3fHRM81yKqHrRZhuQBAEOLYpPaqpZtDtnLzRYv6XAGFc8KXSKSkfAQ4ZS+sKYegTRD4Z0bdeNYgFUGPRsiyDqVvYqi+towShb+ALZTM8co6F69qkhMFQTVwthecaWHE05wo2m/xEVGG7Bp4rriVLzs0RxyaKamFpWTynKKfgmIZCbJSIHA/PSaDpNpoZyckzthVIb5aydSm3nC9CokBOkSmHPqlMLZYeyfXqZjOe4pD3DIJo2Zyv31XymE4tQZjHNnwCxySMCmSMJlQ7gWm4FPwiBTdA0xR5r8umg/BuGd2ShlHVLHxLkwMlVTNPFKdRNBUx8yxppjDVHHnbQcm75PwCtXXz8cICnqdV7sE0x8G3DcqBjZE1sYrt0mKVDJNkVMYP8oR6oxxolsim5TC3uFwmVzBws60oQUC+tUxJFTOnsrimJsORnOcRBfmKb4BpqYQiRLUDREgo+nOI6xUzuoTHESFiOWqhpZAnayb/4vIt6u0kLW5BGgQ/zpFxFNKO8HJ/UcZ4MXYmQazYpEwNwy8S2yaG2oQuMqu+g5VqxnPzskOW8IJKoUSgOwSuQj7ny/6JswFgro/7figBJhRNTExxVAdFTbFQyclwqdXxUUT44zRgWwaaEqLrPk6uSBiqtJt5tCCkFN8Km4U+qMIjOj6R4+CoCez8YhluJRWDINCI3FiO8BXKOdfrs1yNlB7ilXwMM42ediXYxH2Pgphc4NKgKWheWoKvvPQBmmpS+MuWYSopXNPAd0uYnkFaE57JxTHrqGuIaf/hjwnyJcKiTUlr4O67agiKywjCNLnofrllqNiDCcsQWA5NqgjBPGKvkQW13yO850FKr3zE2OgA5z5Yw71tkQwFc7aD59py7Gsh/wpdw6NcvXqO91ffQz4fy2OG7mIoKpqiVnwDhOWNogjVEN7FQ2tulKGn8Ja+pWD5edTMPELRnkyLyHgOOaOAqUeYwTx8O4XrhFh6QBAtlo1u1DBkzfb9TE1e5idaQMnX5MQQ11fwwwDLKWPbJpplo+lpsrZLZOiEeR1fMbgj62FYBYq6XvH6KlVQQ9MRRsh3RdjmSA8mlGb585vp7O7hncdqaQkLchvgtQSofoBT/BG/3Lid7nOHeEDsq5UspVBHzZi35GYoqEHhVkim+ey4PEbnibXck3dlE6BMKY+i5aXVr/T6ZztfNUKWLtnMx0fOcf3mDSavjTFw/Tx9Qze4Nj7C5a3PYXsxWc2mbNvcnTRYdu8v2XGui84tSzE8CxFGiyimaLXK1oLpZI6l929k/+nTjA5dk3K6cHgb/1TOUqfa6HYToV1GN78GD5ZU0+QzBknfJy5FmA1pvB/+C28cPMng5B+YvjZO755VGFoDzdotT9eQzKCXW3njwKdMTv+eGyPd7HrWkd5L7FUcK48T+Lhx5Xswy4/k94pJjfl8UY7Y8Yst2IUWXKWRdtHeuFSkJd/GkjAgpQuX30Qu76PrS0iatyyXk25kScHFTS8iHS5m5e4rXL20m6c9jbJpkUzlUTyhgCFaQoRB38fyyojw2Glpx0mrNDoKoVfEiHSWuYrcKM+mIHN9XOxFBcAc3ZYD8YQHSxou+ZWvtfU3AAASTUlEQVQ76Ltxg62rYtqEB08aFPIBfnMtyXQT1oMPUXZD7iuYcu6xX8qTLJZpc4q0qAp6sUCo39rv7Lh8g86DL+Ln8/J7gkChoCYw3HjODUwYpUimPaKSRS5XkAMC7fYf8c67PQwO7mNze4QnDLlp0eqVmB/mOHR0lI7rE/RsSEqjbGfTMsTPuXkaknW4P1rLhx/3MHj4TdmmcNl9L3Pm8hUObmmXU1HF/jt0TBlGV+zBDN+gZDoYXobQ9bC8p/no3HXGhi8w1j3M0PA4/ftXS0WzoryMS2uL9/HIuvWcHx2ne+Qan472s/85A992ZDbGMQN0x0CzzIpvgGp5+EaKqNjKln0nuHjxDD0XjtFxrpPrn/2Jd1b8mB3HP+H4pUGGpnrpPLCVH+dTLMxk8Oy19A6eZ+K3f2BqaohjR7eyPFdHWo958dAUY937WBEbNNWXWHLfq5z+5DjXpm/w22ufcfrQ6xRsnSgusWrTHi6e7ODC8FkGhqfpu9nP+W0vYVqZitdXKQBFmCy8ra1ZKL5NyQ3R3Bj32Z1cHhuk78wAl3suMXnjKlcvHOfpXCA9/AsHT3PuzHssNzLobf+DPcdOMDbUz/TACJfPXORIxymObLpfWv5ffTzMn3pHuNDfxcBAHzcmpjj54cN4RsPcr18NZVZYrDP0AxJ6wL/8bDOnr3Sw66MiUa2GU3Jw8xbN6hLuf3MDZw6ekwA78qbIMIeUPB8zEtsJjflagh+9eZQrg2fZ3JbAUjNo1kM8d6CLvrOruV83sG1XZpLFvrxigNmmQzaMMJ00ftKkIXqGzq4Otq1dhrt+P+OTEwzseYrAUAmdCDHetbRmDx3Df+JGxz5ODI4yPjbE3mdtuQk1fB3PcHBsHd/yKr4Bge8Smyka3TJvnx5iZOACm1cto70c8PqBS0xND9K18wncoEz7pn1Mdu1gvdGKF73CqclrHHynLEMEN3qMM5dGOfbhC5RbHB597zhjg4d5VjTkbP0luzvHGLz4Gk6Thp17jfN9Zzm3f61kUT9zYoo/Xh9h//o8ruZS2HKWocEe9q6Y+yzabAAU4Y/juVLWGdckr+syde09t4f+qSEGOt/Es1oJc+vpGrvJqR0PE+U9Hnr3Ip9NHOUVI+Sne44wPNTLa7kA1wtYd+gyNz77d05syhC7Ps939PI/+3rY/LNQ9n1/audvGRjZykZPhNJzW0cUpRk3FmWHxRj6ApxCkY17BrgyeJRl2SxGFNJsqhT0Fjz7MY6Mfspa71lGB/4XBzdZsjQj0u21ikPO1CkELTy/rZ/+qZOsTog9uY5ipbA3dTIxcIa1cRlH0+SwR+HFKgaY+AcZy8H3YnKmSka7ld41PA/n7WPcuDZE356X8IIsiUUZonteY//5ET4d2spL4a/YNTzOVF8fu1ebBMmQdKgQuSGGGiC8Y6U3wDFUbN+T5YANnVNcO70Ose/wvALqhpOMTp9knR3JDWneep391y9x+PECT+28ysildxFp+LKj0Wj5tK/ZS9/AcTYGDk9+NMhk/24es1XWnB5n/Mx+HsmJDbAi0/fFDR30TZxhYxzwxK4hxrve5xlhBT2DnP8OB7p6+WTL3IdIs8nPNwK5V3Q9Te5NZdre0HB+foCh8UH2rVIxjEDW8LacGGG0c5Os/zy2u4uJwcP8s/ooh8amOfGaS+A2YxZc7H/ezcWp65x7K5BDE35z+ia/7/gNmp+TtbH42UP0THWxd9XcgkusXXiRwBc1SQfPcTHX7GCkv4uDz90jyw5ZK6LoZqnxc7z88Wk+2fUKBefX7J+YoOMNnbwV0Gza5EUCy7BkOeMX+7oZO/m6rGP6oUM+246xaifDY8d41Y5xRMnKLmH4ia8BYI4li7Gu6xNaCqptE3s2hmXibDjOYP8IPbueQdzAfOlH/OL9/Zy6fJG9W59kufYAx7uu0d3TwUevPsSyuJ5Us1hIM3ZsYBuVK6CwIKLeZhoa604OMywFo8k0svnmYan4L2o2mSCgFBzgyFQXBx9L8urJ60wMdjIwfp3xwWGuT/bSM/YpQwPHeL28mOf3DDN+ZQe/MNt5/egAQ2fXyU1yfdpB0zPYT+xicPwQ6x2dJ3b3MnR1Gz8RRVhTpxi/TcfwCMfXVe6hZwPQbMdFzU+1NGxHw7JdGTl4lo29aj9X+6+w77lApvAN12TjyWFGTr+FOP7Uvl6Gr+xhVfwOl7r7+fh50a05wlc1Cvk3uDh4nTObLUQZZMPZG0yfXi8NsaokyT13mN5rfWx/rPIk1mzr80VZJryV4Xa8dp7ddYGezo95ZrFOlItZHCdZVFfmJy9s5ejxXaz5oYe66Dd0Tv+eK++5aEaCtCAO6Aq24hCaJVZsv8TIxY2y1CAcQVavQ1+zh+GBT1hfiCSRQMsEsnhfsQezLRHDu4hQ0bVUDJGFc3UMQ8N7q4OpqWmGDv1Ezldyc79gX+8Ef/73/83vxi4x0H+T/qFxfvvHPzLd1c3mDTrtQVFaCrsUyprRbAKc7Xgyq91icBgmb5wZY+r8ViJfZIUMrDcOMT50kFVWQMZJ42S2cGSymyNrPLZ0/Bv9Z94mymo4ap7lbTHZrErWS1BsNHl2/ygDvXt51Eqy/tQofZ1bWJyNiOIiuXs1Mo/uZuTGMG85Ni/s7uP60EGe82JCK6RZ/TmnJsfpeLtQsYeebf2zHQ88n1uMChNV1XEchcAOCZ8/xuBkH3uejmRRPmWrbBSe+tSbxF7EymOjTHTt4tncZk52XWLXGpPQyxMLhk74OsfO93Nsky/rfRs6J+k/+ipBPsTxNbyn99E90c++Fbce5ZjtGis5ror7JyIhK8BqeZKDV0a5uGcNntIgi8Nag0K67eds/+QUH2z8VxZnkrSE2zlytZM965fRagvmRyuCiBCUXPScy8M7TjPdd5hntJC8H5IIGljyxnkGLh/l53GM65bxbI0g+BqYHGLYuKgticq/Zd4CWGyLBIWNt+kCw/3XGT68AkdfTKn8FrsvdHFtfIKB7ouMffpnLgxe5bPP/oNPuzrZ/BuXJaUIQwsx4xy+VXka25OJFVEH83nz5ADDHe/iG82yD7m3qZO+3r08oXt4QQZX+zWnrvWw4ymPtZt6GB/Zzcqyjt5k0aCKQnEr+SU5Ii3gsZ1XmBo/zCOez2oxYLvrI1a2iaki9dR6S1my7jTjIwd4KSrws+1X5DyppzSNvJ2j0XyZT65f59D6b57JoaoqtptBGEpBV5O0ITPEevIAl8a62bvKJzA0WSvacnaSsROvyeL543u6GevawePGT/lwZIJT7z9Ea8P3qRXZ2qcO0D01TOfbRekdN3WO0HtoHVHokhU68uReLo/3cmjV3FOlCoWCZJdYbg7vsU30DPayf3VRlpQCEbJ6Dg88t4kLg1OMj16iv+c8Zy9+xu//z3V+19/JsV2Ps7TkysGSKSsttwr/9MEVBq+eY52VxFAaSbvLeXlfPz3nXuM+TSeVjQjtJLquVh4iKoZNJHh3piVjc8HdEyGE6kR4b53m+vgkF/c9gWdqZBsjgmU+pWKMbsW45lMcGRpjtLebvS/HLHYsUpqGqqTQTYXAL1Zs4QX3TxGUpKDAe2f6GT27jZybpUkzcDac44/9O/mpYiIMhRu8Q+/NYbb9q0Lh3vV8eHWcU+/9jKWFnCwSb9i2n879W3j8/uU88/5prnXv4smERWn5Gxw72U3Hvlcpunla7vkZR7sv0bf3l8SKzuq93VwbPcXjYjOcNDGCDfRNf0bHW5UbkEqsuzhXZNbCwJalEctwMT1dFpLjFXvovjnGnhd0CbCs4bHj/CSjHb8hitp4etcVbkwcZ6USsvbwVa6eP8SL97eybHGelz8a4Oafpzi8pomEqrP7yhijp95D0K5q0yLJdUSGiHtWzn2SR7B20okGkprD8k0dTE9181L+LsmVdeyAIO+RtXJYVo4gLzxuRFvbWxztvMyp99op5TVq7g5ZXHiY+1rLNN21EP2Bn7P94F6GT74m6XbLl/2aAyePsHf7g5RDsQd3aPFK+EGucoBlTVNuIgWR1bMEqdOW7lh3AtwX3uHa5FUObXuClpJN3jTJWAmUtIFix0TZJ9jd20fPufNsXaVQMpZjFzx82yKb0SXJtlIFsl1LbrRzrcvYtPck5/e+zeLWnGQixGv3cLVjO0+35GRo43prOXr+NB+u9kk7S3ngF3u4+cdphvu6udR1jvPnz/PSwy2YzXWs+OAME8NneSpMU7cwz/Ifb6Gzt4vewSGGLw9y7swbBMk67CDmuXePc/ncPp5dmr9VyC28zKHTFzmwsbViA1KpfAR511QVFMWTxX1DMF2CHItX3lrP5pUOpbgoa4hv7+3kzMe/om3JfTy9aR9dF/byiNZE0P4QO490Mj5xnYGzh+g8Nk3v9Cg71yiEhRbeOXCas7vfoi3fhp3zuef57Rw5e5Ctz1duQGdbv+AdRp6Pnyvy8JZDXL1wmKfCFDkjJ7OnjlpEEAQ0qxE30Mk0WRTbNtHR/3sOr9dQmh1++MCL7D52jG3vv8B9sUJjYzvLHnyDExdHGZ+YZuDqBCcOb+CekkMi2UxSq8FMCIrW1+DBRDJDEjwtTzLEVdOS9CAx0sVa/iD5QitFV6GhQaPoFrACj8jK/4VlraO6PuVyKyWjEV1MvLRUbM1Bt8p4QeWbYEFZEuz1pkSaqPUelhcdFtY1kk4nyZTuwysWiIwkXjZNc2NA7t7FtIf11CVq0Iw8dyczcj1LWiPJ/M8uvFt6V/OHj5DUkhTjAEHHqUsb6JGD57XgpYqUwiTZWJPgVoKltOYsjIYGVF2hOVukdem9BN6ibxxgYhMeOQFBXJJkVtsJ5UDDeWpEuVxmmd9Ic8Ym0zwfr/VBlrcb1CxqIB0XWSIMk+tT35xBczXMYpHQj7h3yUp2nDrI3heWo6Y07JZlLG8NSTSkyap11KhttC8t0x7MPVUqq2YkaVlXNRL5Jfz4niJ2RkUwioSuifULIyyYO2GuFddVuathHs6SdkpZQ3pvMZLYzJt4kSLruMIgNSZM/MXCGNl4vk4hbKZ2XjMtLfdRbosJgwK6karcgwkLIlnqAmCCs2YLj5YnTCbkAhrSJi0FV4aMIqWZdprJKwXs8FbGqpAqkvQayRqthGIBGfFYSTNWIYeeqTxNnzUUipEnK+wynDUVsm6B1pwnuYRi7pNg1ItHSgolF8FMcdIRXuyjaxnKBRfDiKSwFEF09VooxJZka+Qtg4wjNupZBPtf8AxNuxk7snC0CMW8RccSNBzXMRAkZyu0cMwMtq5IAM9mgef6uChDiCKz4BAaSj2WGVIWvDvXRQy19zIOdvFeimEtdekI38jItfo5Dz2hokQrON9zjbO7XiDO3Elz8ACrNp9g4OZZ1qgJWrxA7l99R0fRPdpbNXQ1QteE17z1rNRcrtEPPQRZVwBKJOKsRC21bqtku5uWghmIGlmeomGTyNbK+9vu5LBslazrY3t5TNMm1FLkzCIZ9xY7v+iWZMlBpP+bUjb5YgHNaKQQhTTWN6FHGQKr9PUAbC4FVP3uua8VVSRjv8TSFRs42T3M9Pg1Jm6M0PvJh6xcWsTIfPNMlYrW9jUUwStP038NF/FNC6H6////QewpGVJWQfJQLTUt66Dloo3VnCJthd94CPxN39sqwKoGoiIQxK4rHzC1HYVstlE+RyYejxesiaDwzdf5qgCrKnhFCv5NK5BoEWFbkXzkPohc4qAo9zpif2Nlkn/Ta/s6ZFv1YFWAVwQCL7ARXkzwO0U2ThSrs6JfiS9qa3PP1Pg6QDCX31EFWBVgFQFMcBg9U8USbBhB8BbZSNOWxVZBT5pL5f1b+O4qwKoAqwwEwmOJ3isiTDRMVD2Da9/qtiUI4H8LIJjLa6wCrAqwikAQWhFps5kwyMsnxwXYBMVNUONEbW0ulfdv4bsrBpjoVVB9VWVQ1YEv1gEBMBE6i86+hmHIB3BFP8SZOWEzHXy/7L3a2bfqAb/1XuqrPKkYWSSAJV7iyYWZ3vQCZLfTn746gO8rhq99mVWqfv7tGQ0rACVGFonhezOji2Y6+t4WwMQfV19VGVR14It1YCYUnAHTjJyEkZ357KsMbnVG81fM5xUCrL6+3TIQgPo8gGYA9teff/5vPv/zdwRCq6+qDKo68MU6MGNgPw8a8fMM0P7687/+verBql6q6qVn0YG/Bs3thIYz51STHNUkx/8TAs0oRvX9PxM5M95KvM94tNsFWRVgVYBVATaHOlAF2BwKt+oF/tMLfFtl8X8BGR4me789VScAAAAASUVORK5CYII=)"
      ]
    },
    {
      "cell_type": "markdown",
      "source": [
        "### /"
      ],
      "metadata": {
        "id": "6kjWPzoQ-F9Y"
      }
    },
    {
      "cell_type": "code",
      "metadata": {
        "id": "t-sK6pGypQQd"
      },
      "source": [
        "df1 = pd.DataFrame({'fruit': ['apple', 'banana', 'orange'] * 3,\n",
        "                    'weight': ['low', 'medium', 'high'] * 3,\n",
        "                    'price': np.random.randint(0, 100, 9)})\n",
        "\n",
        "df2 = pd.DataFrame({'frukt': ['apple', 'banana', 'melon'] * 2,\n",
        "                    'ves': ['low', 'high'] * 3,\n",
        "                    'price': np.random.randint(0, 100, 6)})"
      ],
      "execution_count": null,
      "outputs": []
    },
    {
      "cell_type": "code",
      "source": [
        "df1"
      ],
      "metadata": {
        "colab": {
          "base_uri": "https://localhost:8080/",
          "height": 332
        },
        "id": "5AsvQMMiw7n8",
        "outputId": "29122d1c-5f5f-4684-ce55-9132377f868c"
      },
      "execution_count": null,
      "outputs": [
        {
          "output_type": "execute_result",
          "data": {
            "text/plain": [
              "    fruit  weight  price\n",
              "0   apple     low     93\n",
              "1  banana  medium     46\n",
              "2  orange    high     36\n",
              "3   apple     low     60\n",
              "4  banana  medium     74\n",
              "5  orange    high      0\n",
              "6   apple     low     26\n",
              "7  banana  medium     41\n",
              "8  orange    high     34"
            ],
            "text/html": [
              "\n",
              "  <div id=\"df-969fe35c-cb00-4735-af9d-e30654277fa7\">\n",
              "    <div class=\"colab-df-container\">\n",
              "      <div>\n",
              "<style scoped>\n",
              "    .dataframe tbody tr th:only-of-type {\n",
              "        vertical-align: middle;\n",
              "    }\n",
              "\n",
              "    .dataframe tbody tr th {\n",
              "        vertical-align: top;\n",
              "    }\n",
              "\n",
              "    .dataframe thead th {\n",
              "        text-align: right;\n",
              "    }\n",
              "</style>\n",
              "<table border=\"1\" class=\"dataframe\">\n",
              "  <thead>\n",
              "    <tr style=\"text-align: right;\">\n",
              "      <th></th>\n",
              "      <th>fruit</th>\n",
              "      <th>weight</th>\n",
              "      <th>price</th>\n",
              "    </tr>\n",
              "  </thead>\n",
              "  <tbody>\n",
              "    <tr>\n",
              "      <th>0</th>\n",
              "      <td>apple</td>\n",
              "      <td>low</td>\n",
              "      <td>93</td>\n",
              "    </tr>\n",
              "    <tr>\n",
              "      <th>1</th>\n",
              "      <td>banana</td>\n",
              "      <td>medium</td>\n",
              "      <td>46</td>\n",
              "    </tr>\n",
              "    <tr>\n",
              "      <th>2</th>\n",
              "      <td>orange</td>\n",
              "      <td>high</td>\n",
              "      <td>36</td>\n",
              "    </tr>\n",
              "    <tr>\n",
              "      <th>3</th>\n",
              "      <td>apple</td>\n",
              "      <td>low</td>\n",
              "      <td>60</td>\n",
              "    </tr>\n",
              "    <tr>\n",
              "      <th>4</th>\n",
              "      <td>banana</td>\n",
              "      <td>medium</td>\n",
              "      <td>74</td>\n",
              "    </tr>\n",
              "    <tr>\n",
              "      <th>5</th>\n",
              "      <td>orange</td>\n",
              "      <td>high</td>\n",
              "      <td>0</td>\n",
              "    </tr>\n",
              "    <tr>\n",
              "      <th>6</th>\n",
              "      <td>apple</td>\n",
              "      <td>low</td>\n",
              "      <td>26</td>\n",
              "    </tr>\n",
              "    <tr>\n",
              "      <th>7</th>\n",
              "      <td>banana</td>\n",
              "      <td>medium</td>\n",
              "      <td>41</td>\n",
              "    </tr>\n",
              "    <tr>\n",
              "      <th>8</th>\n",
              "      <td>orange</td>\n",
              "      <td>high</td>\n",
              "      <td>34</td>\n",
              "    </tr>\n",
              "  </tbody>\n",
              "</table>\n",
              "</div>\n",
              "      <button class=\"colab-df-convert\" onclick=\"convertToInteractive('df-969fe35c-cb00-4735-af9d-e30654277fa7')\"\n",
              "              title=\"Convert this dataframe to an interactive table.\"\n",
              "              style=\"display:none;\">\n",
              "        \n",
              "  <svg xmlns=\"http://www.w3.org/2000/svg\" height=\"24px\"viewBox=\"0 0 24 24\"\n",
              "       width=\"24px\">\n",
              "    <path d=\"M0 0h24v24H0V0z\" fill=\"none\"/>\n",
              "    <path d=\"M18.56 5.44l.94 2.06.94-2.06 2.06-.94-2.06-.94-.94-2.06-.94 2.06-2.06.94zm-11 1L8.5 8.5l.94-2.06 2.06-.94-2.06-.94L8.5 2.5l-.94 2.06-2.06.94zm10 10l.94 2.06.94-2.06 2.06-.94-2.06-.94-.94-2.06-.94 2.06-2.06.94z\"/><path d=\"M17.41 7.96l-1.37-1.37c-.4-.4-.92-.59-1.43-.59-.52 0-1.04.2-1.43.59L10.3 9.45l-7.72 7.72c-.78.78-.78 2.05 0 2.83L4 21.41c.39.39.9.59 1.41.59.51 0 1.02-.2 1.41-.59l7.78-7.78 2.81-2.81c.8-.78.8-2.07 0-2.86zM5.41 20L4 18.59l7.72-7.72 1.47 1.35L5.41 20z\"/>\n",
              "  </svg>\n",
              "      </button>\n",
              "      \n",
              "  <style>\n",
              "    .colab-df-container {\n",
              "      display:flex;\n",
              "      flex-wrap:wrap;\n",
              "      gap: 12px;\n",
              "    }\n",
              "\n",
              "    .colab-df-convert {\n",
              "      background-color: #E8F0FE;\n",
              "      border: none;\n",
              "      border-radius: 50%;\n",
              "      cursor: pointer;\n",
              "      display: none;\n",
              "      fill: #1967D2;\n",
              "      height: 32px;\n",
              "      padding: 0 0 0 0;\n",
              "      width: 32px;\n",
              "    }\n",
              "\n",
              "    .colab-df-convert:hover {\n",
              "      background-color: #E2EBFA;\n",
              "      box-shadow: 0px 1px 2px rgba(60, 64, 67, 0.3), 0px 1px 3px 1px rgba(60, 64, 67, 0.15);\n",
              "      fill: #174EA6;\n",
              "    }\n",
              "\n",
              "    [theme=dark] .colab-df-convert {\n",
              "      background-color: #3B4455;\n",
              "      fill: #D2E3FC;\n",
              "    }\n",
              "\n",
              "    [theme=dark] .colab-df-convert:hover {\n",
              "      background-color: #434B5C;\n",
              "      box-shadow: 0px 1px 3px 1px rgba(0, 0, 0, 0.15);\n",
              "      filter: drop-shadow(0px 1px 2px rgba(0, 0, 0, 0.3));\n",
              "      fill: #FFFFFF;\n",
              "    }\n",
              "  </style>\n",
              "\n",
              "      <script>\n",
              "        const buttonEl =\n",
              "          document.querySelector('#df-969fe35c-cb00-4735-af9d-e30654277fa7 button.colab-df-convert');\n",
              "        buttonEl.style.display =\n",
              "          google.colab.kernel.accessAllowed ? 'block' : 'none';\n",
              "\n",
              "        async function convertToInteractive(key) {\n",
              "          const element = document.querySelector('#df-969fe35c-cb00-4735-af9d-e30654277fa7');\n",
              "          const dataTable =\n",
              "            await google.colab.kernel.invokeFunction('convertToInteractive',\n",
              "                                                     [key], {});\n",
              "          if (!dataTable) return;\n",
              "\n",
              "          const docLinkHtml = 'Like what you see? Visit the ' +\n",
              "            '<a target=\"_blank\" href=https://colab.research.google.com/notebooks/data_table.ipynb>data table notebook</a>'\n",
              "            + ' to learn more about interactive tables.';\n",
              "          element.innerHTML = '';\n",
              "          dataTable['output_type'] = 'display_data';\n",
              "          await google.colab.output.renderOutput(dataTable, element);\n",
              "          const docLink = document.createElement('div');\n",
              "          docLink.innerHTML = docLinkHtml;\n",
              "          element.appendChild(docLink);\n",
              "        }\n",
              "      </script>\n",
              "    </div>\n",
              "  </div>\n",
              "  "
            ]
          },
          "metadata": {},
          "execution_count": 139
        }
      ]
    },
    {
      "cell_type": "code",
      "source": [
        "df2"
      ],
      "metadata": {
        "colab": {
          "base_uri": "https://localhost:8080/",
          "height": 238
        },
        "id": "GedWNr_Rw95K",
        "outputId": "1ca3da95-bed2-4617-851e-abc9370d6119"
      },
      "execution_count": null,
      "outputs": [
        {
          "output_type": "execute_result",
          "data": {
            "text/plain": [
              "    frukt   ves  price\n",
              "0   apple   low     10\n",
              "1  banana  high     20\n",
              "2   melon   low     87\n",
              "3   apple  high     59\n",
              "4  banana   low     85\n",
              "5   melon  high     74"
            ],
            "text/html": [
              "\n",
              "  <div id=\"df-e87308e6-6cd9-45c3-9973-fdcf0c1264f4\">\n",
              "    <div class=\"colab-df-container\">\n",
              "      <div>\n",
              "<style scoped>\n",
              "    .dataframe tbody tr th:only-of-type {\n",
              "        vertical-align: middle;\n",
              "    }\n",
              "\n",
              "    .dataframe tbody tr th {\n",
              "        vertical-align: top;\n",
              "    }\n",
              "\n",
              "    .dataframe thead th {\n",
              "        text-align: right;\n",
              "    }\n",
              "</style>\n",
              "<table border=\"1\" class=\"dataframe\">\n",
              "  <thead>\n",
              "    <tr style=\"text-align: right;\">\n",
              "      <th></th>\n",
              "      <th>frukt</th>\n",
              "      <th>ves</th>\n",
              "      <th>price</th>\n",
              "    </tr>\n",
              "  </thead>\n",
              "  <tbody>\n",
              "    <tr>\n",
              "      <th>0</th>\n",
              "      <td>apple</td>\n",
              "      <td>low</td>\n",
              "      <td>10</td>\n",
              "    </tr>\n",
              "    <tr>\n",
              "      <th>1</th>\n",
              "      <td>banana</td>\n",
              "      <td>high</td>\n",
              "      <td>20</td>\n",
              "    </tr>\n",
              "    <tr>\n",
              "      <th>2</th>\n",
              "      <td>melon</td>\n",
              "      <td>low</td>\n",
              "      <td>87</td>\n",
              "    </tr>\n",
              "    <tr>\n",
              "      <th>3</th>\n",
              "      <td>apple</td>\n",
              "      <td>high</td>\n",
              "      <td>59</td>\n",
              "    </tr>\n",
              "    <tr>\n",
              "      <th>4</th>\n",
              "      <td>banana</td>\n",
              "      <td>low</td>\n",
              "      <td>85</td>\n",
              "    </tr>\n",
              "    <tr>\n",
              "      <th>5</th>\n",
              "      <td>melon</td>\n",
              "      <td>high</td>\n",
              "      <td>74</td>\n",
              "    </tr>\n",
              "  </tbody>\n",
              "</table>\n",
              "</div>\n",
              "      <button class=\"colab-df-convert\" onclick=\"convertToInteractive('df-e87308e6-6cd9-45c3-9973-fdcf0c1264f4')\"\n",
              "              title=\"Convert this dataframe to an interactive table.\"\n",
              "              style=\"display:none;\">\n",
              "        \n",
              "  <svg xmlns=\"http://www.w3.org/2000/svg\" height=\"24px\"viewBox=\"0 0 24 24\"\n",
              "       width=\"24px\">\n",
              "    <path d=\"M0 0h24v24H0V0z\" fill=\"none\"/>\n",
              "    <path d=\"M18.56 5.44l.94 2.06.94-2.06 2.06-.94-2.06-.94-.94-2.06-.94 2.06-2.06.94zm-11 1L8.5 8.5l.94-2.06 2.06-.94-2.06-.94L8.5 2.5l-.94 2.06-2.06.94zm10 10l.94 2.06.94-2.06 2.06-.94-2.06-.94-.94-2.06-.94 2.06-2.06.94z\"/><path d=\"M17.41 7.96l-1.37-1.37c-.4-.4-.92-.59-1.43-.59-.52 0-1.04.2-1.43.59L10.3 9.45l-7.72 7.72c-.78.78-.78 2.05 0 2.83L4 21.41c.39.39.9.59 1.41.59.51 0 1.02-.2 1.41-.59l7.78-7.78 2.81-2.81c.8-.78.8-2.07 0-2.86zM5.41 20L4 18.59l7.72-7.72 1.47 1.35L5.41 20z\"/>\n",
              "  </svg>\n",
              "      </button>\n",
              "      \n",
              "  <style>\n",
              "    .colab-df-container {\n",
              "      display:flex;\n",
              "      flex-wrap:wrap;\n",
              "      gap: 12px;\n",
              "    }\n",
              "\n",
              "    .colab-df-convert {\n",
              "      background-color: #E8F0FE;\n",
              "      border: none;\n",
              "      border-radius: 50%;\n",
              "      cursor: pointer;\n",
              "      display: none;\n",
              "      fill: #1967D2;\n",
              "      height: 32px;\n",
              "      padding: 0 0 0 0;\n",
              "      width: 32px;\n",
              "    }\n",
              "\n",
              "    .colab-df-convert:hover {\n",
              "      background-color: #E2EBFA;\n",
              "      box-shadow: 0px 1px 2px rgba(60, 64, 67, 0.3), 0px 1px 3px 1px rgba(60, 64, 67, 0.15);\n",
              "      fill: #174EA6;\n",
              "    }\n",
              "\n",
              "    [theme=dark] .colab-df-convert {\n",
              "      background-color: #3B4455;\n",
              "      fill: #D2E3FC;\n",
              "    }\n",
              "\n",
              "    [theme=dark] .colab-df-convert:hover {\n",
              "      background-color: #434B5C;\n",
              "      box-shadow: 0px 1px 3px 1px rgba(0, 0, 0, 0.15);\n",
              "      filter: drop-shadow(0px 1px 2px rgba(0, 0, 0, 0.3));\n",
              "      fill: #FFFFFF;\n",
              "    }\n",
              "  </style>\n",
              "\n",
              "      <script>\n",
              "        const buttonEl =\n",
              "          document.querySelector('#df-e87308e6-6cd9-45c3-9973-fdcf0c1264f4 button.colab-df-convert');\n",
              "        buttonEl.style.display =\n",
              "          google.colab.kernel.accessAllowed ? 'block' : 'none';\n",
              "\n",
              "        async function convertToInteractive(key) {\n",
              "          const element = document.querySelector('#df-e87308e6-6cd9-45c3-9973-fdcf0c1264f4');\n",
              "          const dataTable =\n",
              "            await google.colab.kernel.invokeFunction('convertToInteractive',\n",
              "                                                     [key], {});\n",
              "          if (!dataTable) return;\n",
              "\n",
              "          const docLinkHtml = 'Like what you see? Visit the ' +\n",
              "            '<a target=\"_blank\" href=https://colab.research.google.com/notebooks/data_table.ipynb>data table notebook</a>'\n",
              "            + ' to learn more about interactive tables.';\n",
              "          element.innerHTML = '';\n",
              "          dataTable['output_type'] = 'display_data';\n",
              "          await google.colab.output.renderOutput(dataTable, element);\n",
              "          const docLink = document.createElement('div');\n",
              "          docLink.innerHTML = docLinkHtml;\n",
              "          element.appendChild(docLink);\n",
              "        }\n",
              "      </script>\n",
              "    </div>\n",
              "  </div>\n",
              "  "
            ]
          },
          "metadata": {},
          "execution_count": 140
        }
      ]
    },
    {
      "cell_type": "code",
      "source": [
        "df2 = df2.rename(columns={\"frukt\": \"fruit\", \"ves\": \"weight\"})"
      ],
      "metadata": {
        "id": "2ZnbPxHU36_s"
      },
      "execution_count": null,
      "outputs": []
    },
    {
      "cell_type": "code",
      "source": [
        "pd.concat([df1, df2], ignore_index=True, join='outer')"
      ],
      "metadata": {
        "colab": {
          "base_uri": "https://localhost:8080/",
          "height": 520
        },
        "id": "JyGnhcM1r2Wl",
        "outputId": "f4947f0c-9c1e-4baa-b502-a8eb9c7f9ce1"
      },
      "execution_count": null,
      "outputs": [
        {
          "output_type": "execute_result",
          "data": {
            "text/plain": [
              "     fruit  weight  price\n",
              "0    apple     low   10.0\n",
              "1   banana  medium   20.0\n",
              "2   orange    high   87.0\n",
              "3    apple     low   59.0\n",
              "4   banana  medium   85.0\n",
              "5   orange    high   74.0\n",
              "6    apple     low   26.0\n",
              "7   banana  medium   41.0\n",
              "8   orange    high   34.0\n",
              "9    apple     low   10.0\n",
              "10  banana    high   20.0\n",
              "11   melon     low   87.0\n",
              "12   apple    high   59.0\n",
              "13  banana     low   85.0\n",
              "14   melon    high   74.0"
            ],
            "text/html": [
              "\n",
              "  <div id=\"df-0c3dc7e1-ddf1-45f5-b15d-1d01d6bafeb7\">\n",
              "    <div class=\"colab-df-container\">\n",
              "      <div>\n",
              "<style scoped>\n",
              "    .dataframe tbody tr th:only-of-type {\n",
              "        vertical-align: middle;\n",
              "    }\n",
              "\n",
              "    .dataframe tbody tr th {\n",
              "        vertical-align: top;\n",
              "    }\n",
              "\n",
              "    .dataframe thead th {\n",
              "        text-align: right;\n",
              "    }\n",
              "</style>\n",
              "<table border=\"1\" class=\"dataframe\">\n",
              "  <thead>\n",
              "    <tr style=\"text-align: right;\">\n",
              "      <th></th>\n",
              "      <th>fruit</th>\n",
              "      <th>weight</th>\n",
              "      <th>price</th>\n",
              "    </tr>\n",
              "  </thead>\n",
              "  <tbody>\n",
              "    <tr>\n",
              "      <th>0</th>\n",
              "      <td>apple</td>\n",
              "      <td>low</td>\n",
              "      <td>10.0</td>\n",
              "    </tr>\n",
              "    <tr>\n",
              "      <th>1</th>\n",
              "      <td>banana</td>\n",
              "      <td>medium</td>\n",
              "      <td>20.0</td>\n",
              "    </tr>\n",
              "    <tr>\n",
              "      <th>2</th>\n",
              "      <td>orange</td>\n",
              "      <td>high</td>\n",
              "      <td>87.0</td>\n",
              "    </tr>\n",
              "    <tr>\n",
              "      <th>3</th>\n",
              "      <td>apple</td>\n",
              "      <td>low</td>\n",
              "      <td>59.0</td>\n",
              "    </tr>\n",
              "    <tr>\n",
              "      <th>4</th>\n",
              "      <td>banana</td>\n",
              "      <td>medium</td>\n",
              "      <td>85.0</td>\n",
              "    </tr>\n",
              "    <tr>\n",
              "      <th>5</th>\n",
              "      <td>orange</td>\n",
              "      <td>high</td>\n",
              "      <td>74.0</td>\n",
              "    </tr>\n",
              "    <tr>\n",
              "      <th>6</th>\n",
              "      <td>apple</td>\n",
              "      <td>low</td>\n",
              "      <td>26.0</td>\n",
              "    </tr>\n",
              "    <tr>\n",
              "      <th>7</th>\n",
              "      <td>banana</td>\n",
              "      <td>medium</td>\n",
              "      <td>41.0</td>\n",
              "    </tr>\n",
              "    <tr>\n",
              "      <th>8</th>\n",
              "      <td>orange</td>\n",
              "      <td>high</td>\n",
              "      <td>34.0</td>\n",
              "    </tr>\n",
              "    <tr>\n",
              "      <th>9</th>\n",
              "      <td>apple</td>\n",
              "      <td>low</td>\n",
              "      <td>10.0</td>\n",
              "    </tr>\n",
              "    <tr>\n",
              "      <th>10</th>\n",
              "      <td>banana</td>\n",
              "      <td>high</td>\n",
              "      <td>20.0</td>\n",
              "    </tr>\n",
              "    <tr>\n",
              "      <th>11</th>\n",
              "      <td>melon</td>\n",
              "      <td>low</td>\n",
              "      <td>87.0</td>\n",
              "    </tr>\n",
              "    <tr>\n",
              "      <th>12</th>\n",
              "      <td>apple</td>\n",
              "      <td>high</td>\n",
              "      <td>59.0</td>\n",
              "    </tr>\n",
              "    <tr>\n",
              "      <th>13</th>\n",
              "      <td>banana</td>\n",
              "      <td>low</td>\n",
              "      <td>85.0</td>\n",
              "    </tr>\n",
              "    <tr>\n",
              "      <th>14</th>\n",
              "      <td>melon</td>\n",
              "      <td>high</td>\n",
              "      <td>74.0</td>\n",
              "    </tr>\n",
              "  </tbody>\n",
              "</table>\n",
              "</div>\n",
              "      <button class=\"colab-df-convert\" onclick=\"convertToInteractive('df-0c3dc7e1-ddf1-45f5-b15d-1d01d6bafeb7')\"\n",
              "              title=\"Convert this dataframe to an interactive table.\"\n",
              "              style=\"display:none;\">\n",
              "        \n",
              "  <svg xmlns=\"http://www.w3.org/2000/svg\" height=\"24px\"viewBox=\"0 0 24 24\"\n",
              "       width=\"24px\">\n",
              "    <path d=\"M0 0h24v24H0V0z\" fill=\"none\"/>\n",
              "    <path d=\"M18.56 5.44l.94 2.06.94-2.06 2.06-.94-2.06-.94-.94-2.06-.94 2.06-2.06.94zm-11 1L8.5 8.5l.94-2.06 2.06-.94-2.06-.94L8.5 2.5l-.94 2.06-2.06.94zm10 10l.94 2.06.94-2.06 2.06-.94-2.06-.94-.94-2.06-.94 2.06-2.06.94z\"/><path d=\"M17.41 7.96l-1.37-1.37c-.4-.4-.92-.59-1.43-.59-.52 0-1.04.2-1.43.59L10.3 9.45l-7.72 7.72c-.78.78-.78 2.05 0 2.83L4 21.41c.39.39.9.59 1.41.59.51 0 1.02-.2 1.41-.59l7.78-7.78 2.81-2.81c.8-.78.8-2.07 0-2.86zM5.41 20L4 18.59l7.72-7.72 1.47 1.35L5.41 20z\"/>\n",
              "  </svg>\n",
              "      </button>\n",
              "      \n",
              "  <style>\n",
              "    .colab-df-container {\n",
              "      display:flex;\n",
              "      flex-wrap:wrap;\n",
              "      gap: 12px;\n",
              "    }\n",
              "\n",
              "    .colab-df-convert {\n",
              "      background-color: #E8F0FE;\n",
              "      border: none;\n",
              "      border-radius: 50%;\n",
              "      cursor: pointer;\n",
              "      display: none;\n",
              "      fill: #1967D2;\n",
              "      height: 32px;\n",
              "      padding: 0 0 0 0;\n",
              "      width: 32px;\n",
              "    }\n",
              "\n",
              "    .colab-df-convert:hover {\n",
              "      background-color: #E2EBFA;\n",
              "      box-shadow: 0px 1px 2px rgba(60, 64, 67, 0.3), 0px 1px 3px 1px rgba(60, 64, 67, 0.15);\n",
              "      fill: #174EA6;\n",
              "    }\n",
              "\n",
              "    [theme=dark] .colab-df-convert {\n",
              "      background-color: #3B4455;\n",
              "      fill: #D2E3FC;\n",
              "    }\n",
              "\n",
              "    [theme=dark] .colab-df-convert:hover {\n",
              "      background-color: #434B5C;\n",
              "      box-shadow: 0px 1px 3px 1px rgba(0, 0, 0, 0.15);\n",
              "      filter: drop-shadow(0px 1px 2px rgba(0, 0, 0, 0.3));\n",
              "      fill: #FFFFFF;\n",
              "    }\n",
              "  </style>\n",
              "\n",
              "      <script>\n",
              "        const buttonEl =\n",
              "          document.querySelector('#df-0c3dc7e1-ddf1-45f5-b15d-1d01d6bafeb7 button.colab-df-convert');\n",
              "        buttonEl.style.display =\n",
              "          google.colab.kernel.accessAllowed ? 'block' : 'none';\n",
              "\n",
              "        async function convertToInteractive(key) {\n",
              "          const element = document.querySelector('#df-0c3dc7e1-ddf1-45f5-b15d-1d01d6bafeb7');\n",
              "          const dataTable =\n",
              "            await google.colab.kernel.invokeFunction('convertToInteractive',\n",
              "                                                     [key], {});\n",
              "          if (!dataTable) return;\n",
              "\n",
              "          const docLinkHtml = 'Like what you see? Visit the ' +\n",
              "            '<a target=\"_blank\" href=https://colab.research.google.com/notebooks/data_table.ipynb>data table notebook</a>'\n",
              "            + ' to learn more about interactive tables.';\n",
              "          element.innerHTML = '';\n",
              "          dataTable['output_type'] = 'display_data';\n",
              "          await google.colab.output.renderOutput(dataTable, element);\n",
              "          const docLink = document.createElement('div');\n",
              "          docLink.innerHTML = docLinkHtml;\n",
              "          element.appendChild(docLink);\n",
              "        }\n",
              "      </script>\n",
              "    </div>\n",
              "  </div>\n",
              "  "
            ]
          },
          "metadata": {},
          "execution_count": 169
        }
      ]
    },
    {
      "cell_type": "code",
      "source": [
        "df = pd.DataFrame(data=np.arange(start=1, stop=21), columns=['data'])\n",
        "print(df)\n",
        "print()\n",
        "df = df[(df['data'] > 1) & (df['data'] < 20)]\n",
        "df"
      ],
      "metadata": {
        "colab": {
          "base_uri": "https://localhost:8080/",
          "height": 996
        },
        "id": "H1m01Ds9DKbX",
        "outputId": "177902b1-90a3-4339-c579-a54d385fb2e1"
      },
      "execution_count": null,
      "outputs": [
        {
          "output_type": "stream",
          "name": "stdout",
          "text": [
            "    data\n",
            "0      1\n",
            "1      2\n",
            "2      3\n",
            "3      4\n",
            "4      5\n",
            "5      6\n",
            "6      7\n",
            "7      8\n",
            "8      9\n",
            "9     10\n",
            "10    11\n",
            "11    12\n",
            "12    13\n",
            "13    14\n",
            "14    15\n",
            "15    16\n",
            "16    17\n",
            "17    18\n",
            "18    19\n",
            "19    20\n",
            "\n"
          ]
        },
        {
          "output_type": "execute_result",
          "data": {
            "text/plain": [
              "    data\n",
              "1      2\n",
              "2      3\n",
              "3      4\n",
              "4      5\n",
              "5      6\n",
              "6      7\n",
              "7      8\n",
              "8      9\n",
              "9     10\n",
              "10    11\n",
              "11    12\n",
              "12    13\n",
              "13    14\n",
              "14    15\n",
              "15    16\n",
              "16    17\n",
              "17    18\n",
              "18    19"
            ],
            "text/html": [
              "\n",
              "  <div id=\"df-73162eda-444d-4ed2-8bdb-3743fd34e97b\">\n",
              "    <div class=\"colab-df-container\">\n",
              "      <div>\n",
              "<style scoped>\n",
              "    .dataframe tbody tr th:only-of-type {\n",
              "        vertical-align: middle;\n",
              "    }\n",
              "\n",
              "    .dataframe tbody tr th {\n",
              "        vertical-align: top;\n",
              "    }\n",
              "\n",
              "    .dataframe thead th {\n",
              "        text-align: right;\n",
              "    }\n",
              "</style>\n",
              "<table border=\"1\" class=\"dataframe\">\n",
              "  <thead>\n",
              "    <tr style=\"text-align: right;\">\n",
              "      <th></th>\n",
              "      <th>data</th>\n",
              "    </tr>\n",
              "  </thead>\n",
              "  <tbody>\n",
              "    <tr>\n",
              "      <th>1</th>\n",
              "      <td>2</td>\n",
              "    </tr>\n",
              "    <tr>\n",
              "      <th>2</th>\n",
              "      <td>3</td>\n",
              "    </tr>\n",
              "    <tr>\n",
              "      <th>3</th>\n",
              "      <td>4</td>\n",
              "    </tr>\n",
              "    <tr>\n",
              "      <th>4</th>\n",
              "      <td>5</td>\n",
              "    </tr>\n",
              "    <tr>\n",
              "      <th>5</th>\n",
              "      <td>6</td>\n",
              "    </tr>\n",
              "    <tr>\n",
              "      <th>6</th>\n",
              "      <td>7</td>\n",
              "    </tr>\n",
              "    <tr>\n",
              "      <th>7</th>\n",
              "      <td>8</td>\n",
              "    </tr>\n",
              "    <tr>\n",
              "      <th>8</th>\n",
              "      <td>9</td>\n",
              "    </tr>\n",
              "    <tr>\n",
              "      <th>9</th>\n",
              "      <td>10</td>\n",
              "    </tr>\n",
              "    <tr>\n",
              "      <th>10</th>\n",
              "      <td>11</td>\n",
              "    </tr>\n",
              "    <tr>\n",
              "      <th>11</th>\n",
              "      <td>12</td>\n",
              "    </tr>\n",
              "    <tr>\n",
              "      <th>12</th>\n",
              "      <td>13</td>\n",
              "    </tr>\n",
              "    <tr>\n",
              "      <th>13</th>\n",
              "      <td>14</td>\n",
              "    </tr>\n",
              "    <tr>\n",
              "      <th>14</th>\n",
              "      <td>15</td>\n",
              "    </tr>\n",
              "    <tr>\n",
              "      <th>15</th>\n",
              "      <td>16</td>\n",
              "    </tr>\n",
              "    <tr>\n",
              "      <th>16</th>\n",
              "      <td>17</td>\n",
              "    </tr>\n",
              "    <tr>\n",
              "      <th>17</th>\n",
              "      <td>18</td>\n",
              "    </tr>\n",
              "    <tr>\n",
              "      <th>18</th>\n",
              "      <td>19</td>\n",
              "    </tr>\n",
              "  </tbody>\n",
              "</table>\n",
              "</div>\n",
              "      <button class=\"colab-df-convert\" onclick=\"convertToInteractive('df-73162eda-444d-4ed2-8bdb-3743fd34e97b')\"\n",
              "              title=\"Convert this dataframe to an interactive table.\"\n",
              "              style=\"display:none;\">\n",
              "        \n",
              "  <svg xmlns=\"http://www.w3.org/2000/svg\" height=\"24px\"viewBox=\"0 0 24 24\"\n",
              "       width=\"24px\">\n",
              "    <path d=\"M0 0h24v24H0V0z\" fill=\"none\"/>\n",
              "    <path d=\"M18.56 5.44l.94 2.06.94-2.06 2.06-.94-2.06-.94-.94-2.06-.94 2.06-2.06.94zm-11 1L8.5 8.5l.94-2.06 2.06-.94-2.06-.94L8.5 2.5l-.94 2.06-2.06.94zm10 10l.94 2.06.94-2.06 2.06-.94-2.06-.94-.94-2.06-.94 2.06-2.06.94z\"/><path d=\"M17.41 7.96l-1.37-1.37c-.4-.4-.92-.59-1.43-.59-.52 0-1.04.2-1.43.59L10.3 9.45l-7.72 7.72c-.78.78-.78 2.05 0 2.83L4 21.41c.39.39.9.59 1.41.59.51 0 1.02-.2 1.41-.59l7.78-7.78 2.81-2.81c.8-.78.8-2.07 0-2.86zM5.41 20L4 18.59l7.72-7.72 1.47 1.35L5.41 20z\"/>\n",
              "  </svg>\n",
              "      </button>\n",
              "      \n",
              "  <style>\n",
              "    .colab-df-container {\n",
              "      display:flex;\n",
              "      flex-wrap:wrap;\n",
              "      gap: 12px;\n",
              "    }\n",
              "\n",
              "    .colab-df-convert {\n",
              "      background-color: #E8F0FE;\n",
              "      border: none;\n",
              "      border-radius: 50%;\n",
              "      cursor: pointer;\n",
              "      display: none;\n",
              "      fill: #1967D2;\n",
              "      height: 32px;\n",
              "      padding: 0 0 0 0;\n",
              "      width: 32px;\n",
              "    }\n",
              "\n",
              "    .colab-df-convert:hover {\n",
              "      background-color: #E2EBFA;\n",
              "      box-shadow: 0px 1px 2px rgba(60, 64, 67, 0.3), 0px 1px 3px 1px rgba(60, 64, 67, 0.15);\n",
              "      fill: #174EA6;\n",
              "    }\n",
              "\n",
              "    [theme=dark] .colab-df-convert {\n",
              "      background-color: #3B4455;\n",
              "      fill: #D2E3FC;\n",
              "    }\n",
              "\n",
              "    [theme=dark] .colab-df-convert:hover {\n",
              "      background-color: #434B5C;\n",
              "      box-shadow: 0px 1px 3px 1px rgba(0, 0, 0, 0.15);\n",
              "      filter: drop-shadow(0px 1px 2px rgba(0, 0, 0, 0.3));\n",
              "      fill: #FFFFFF;\n",
              "    }\n",
              "  </style>\n",
              "\n",
              "      <script>\n",
              "        const buttonEl =\n",
              "          document.querySelector('#df-73162eda-444d-4ed2-8bdb-3743fd34e97b button.colab-df-convert');\n",
              "        buttonEl.style.display =\n",
              "          google.colab.kernel.accessAllowed ? 'block' : 'none';\n",
              "\n",
              "        async function convertToInteractive(key) {\n",
              "          const element = document.querySelector('#df-73162eda-444d-4ed2-8bdb-3743fd34e97b');\n",
              "          const dataTable =\n",
              "            await google.colab.kernel.invokeFunction('convertToInteractive',\n",
              "                                                     [key], {});\n",
              "          if (!dataTable) return;\n",
              "\n",
              "          const docLinkHtml = 'Like what you see? Visit the ' +\n",
              "            '<a target=\"_blank\" href=https://colab.research.google.com/notebooks/data_table.ipynb>data table notebook</a>'\n",
              "            + ' to learn more about interactive tables.';\n",
              "          element.innerHTML = '';\n",
              "          dataTable['output_type'] = 'display_data';\n",
              "          await google.colab.output.renderOutput(dataTable, element);\n",
              "          const docLink = document.createElement('div');\n",
              "          docLink.innerHTML = docLinkHtml;\n",
              "          element.appendChild(docLink);\n",
              "        }\n",
              "      </script>\n",
              "    </div>\n",
              "  </div>\n",
              "  "
            ]
          },
          "metadata": {},
          "execution_count": 190
        }
      ]
    },
    {
      "cell_type": "code",
      "source": [
        "df = pd.DataFrame(data=np.arange(20).reshape(4, 5), columns=list('abcde'))\n",
        "\n",
        "df"
      ],
      "metadata": {
        "colab": {
          "base_uri": "https://localhost:8080/",
          "height": 175
        },
        "id": "TfYIVnaAElAN",
        "outputId": "d31f6c5e-5452-4fa3-8d85-f1124d5d6c87"
      },
      "execution_count": null,
      "outputs": [
        {
          "output_type": "execute_result",
          "data": {
            "text/plain": [
              "    a   b   c   d   e\n",
              "0   0   1   2   3   4\n",
              "1   5   6   7   8   9\n",
              "2  10  11  12  13  14\n",
              "3  15  16  17  18  19"
            ],
            "text/html": [
              "\n",
              "  <div id=\"df-d1bfdefc-0519-479d-a844-fbda1af001f7\">\n",
              "    <div class=\"colab-df-container\">\n",
              "      <div>\n",
              "<style scoped>\n",
              "    .dataframe tbody tr th:only-of-type {\n",
              "        vertical-align: middle;\n",
              "    }\n",
              "\n",
              "    .dataframe tbody tr th {\n",
              "        vertical-align: top;\n",
              "    }\n",
              "\n",
              "    .dataframe thead th {\n",
              "        text-align: right;\n",
              "    }\n",
              "</style>\n",
              "<table border=\"1\" class=\"dataframe\">\n",
              "  <thead>\n",
              "    <tr style=\"text-align: right;\">\n",
              "      <th></th>\n",
              "      <th>a</th>\n",
              "      <th>b</th>\n",
              "      <th>c</th>\n",
              "      <th>d</th>\n",
              "      <th>e</th>\n",
              "    </tr>\n",
              "  </thead>\n",
              "  <tbody>\n",
              "    <tr>\n",
              "      <th>0</th>\n",
              "      <td>0</td>\n",
              "      <td>1</td>\n",
              "      <td>2</td>\n",
              "      <td>3</td>\n",
              "      <td>4</td>\n",
              "    </tr>\n",
              "    <tr>\n",
              "      <th>1</th>\n",
              "      <td>5</td>\n",
              "      <td>6</td>\n",
              "      <td>7</td>\n",
              "      <td>8</td>\n",
              "      <td>9</td>\n",
              "    </tr>\n",
              "    <tr>\n",
              "      <th>2</th>\n",
              "      <td>10</td>\n",
              "      <td>11</td>\n",
              "      <td>12</td>\n",
              "      <td>13</td>\n",
              "      <td>14</td>\n",
              "    </tr>\n",
              "    <tr>\n",
              "      <th>3</th>\n",
              "      <td>15</td>\n",
              "      <td>16</td>\n",
              "      <td>17</td>\n",
              "      <td>18</td>\n",
              "      <td>19</td>\n",
              "    </tr>\n",
              "  </tbody>\n",
              "</table>\n",
              "</div>\n",
              "      <button class=\"colab-df-convert\" onclick=\"convertToInteractive('df-d1bfdefc-0519-479d-a844-fbda1af001f7')\"\n",
              "              title=\"Convert this dataframe to an interactive table.\"\n",
              "              style=\"display:none;\">\n",
              "        \n",
              "  <svg xmlns=\"http://www.w3.org/2000/svg\" height=\"24px\"viewBox=\"0 0 24 24\"\n",
              "       width=\"24px\">\n",
              "    <path d=\"M0 0h24v24H0V0z\" fill=\"none\"/>\n",
              "    <path d=\"M18.56 5.44l.94 2.06.94-2.06 2.06-.94-2.06-.94-.94-2.06-.94 2.06-2.06.94zm-11 1L8.5 8.5l.94-2.06 2.06-.94-2.06-.94L8.5 2.5l-.94 2.06-2.06.94zm10 10l.94 2.06.94-2.06 2.06-.94-2.06-.94-.94-2.06-.94 2.06-2.06.94z\"/><path d=\"M17.41 7.96l-1.37-1.37c-.4-.4-.92-.59-1.43-.59-.52 0-1.04.2-1.43.59L10.3 9.45l-7.72 7.72c-.78.78-.78 2.05 0 2.83L4 21.41c.39.39.9.59 1.41.59.51 0 1.02-.2 1.41-.59l7.78-7.78 2.81-2.81c.8-.78.8-2.07 0-2.86zM5.41 20L4 18.59l7.72-7.72 1.47 1.35L5.41 20z\"/>\n",
              "  </svg>\n",
              "      </button>\n",
              "      \n",
              "  <style>\n",
              "    .colab-df-container {\n",
              "      display:flex;\n",
              "      flex-wrap:wrap;\n",
              "      gap: 12px;\n",
              "    }\n",
              "\n",
              "    .colab-df-convert {\n",
              "      background-color: #E8F0FE;\n",
              "      border: none;\n",
              "      border-radius: 50%;\n",
              "      cursor: pointer;\n",
              "      display: none;\n",
              "      fill: #1967D2;\n",
              "      height: 32px;\n",
              "      padding: 0 0 0 0;\n",
              "      width: 32px;\n",
              "    }\n",
              "\n",
              "    .colab-df-convert:hover {\n",
              "      background-color: #E2EBFA;\n",
              "      box-shadow: 0px 1px 2px rgba(60, 64, 67, 0.3), 0px 1px 3px 1px rgba(60, 64, 67, 0.15);\n",
              "      fill: #174EA6;\n",
              "    }\n",
              "\n",
              "    [theme=dark] .colab-df-convert {\n",
              "      background-color: #3B4455;\n",
              "      fill: #D2E3FC;\n",
              "    }\n",
              "\n",
              "    [theme=dark] .colab-df-convert:hover {\n",
              "      background-color: #434B5C;\n",
              "      box-shadow: 0px 1px 3px 1px rgba(0, 0, 0, 0.15);\n",
              "      filter: drop-shadow(0px 1px 2px rgba(0, 0, 0, 0.3));\n",
              "      fill: #FFFFFF;\n",
              "    }\n",
              "  </style>\n",
              "\n",
              "      <script>\n",
              "        const buttonEl =\n",
              "          document.querySelector('#df-d1bfdefc-0519-479d-a844-fbda1af001f7 button.colab-df-convert');\n",
              "        buttonEl.style.display =\n",
              "          google.colab.kernel.accessAllowed ? 'block' : 'none';\n",
              "\n",
              "        async function convertToInteractive(key) {\n",
              "          const element = document.querySelector('#df-d1bfdefc-0519-479d-a844-fbda1af001f7');\n",
              "          const dataTable =\n",
              "            await google.colab.kernel.invokeFunction('convertToInteractive',\n",
              "                                                     [key], {});\n",
              "          if (!dataTable) return;\n",
              "\n",
              "          const docLinkHtml = 'Like what you see? Visit the ' +\n",
              "            '<a target=\"_blank\" href=https://colab.research.google.com/notebooks/data_table.ipynb>data table notebook</a>'\n",
              "            + ' to learn more about interactive tables.';\n",
              "          element.innerHTML = '';\n",
              "          dataTable['output_type'] = 'display_data';\n",
              "          await google.colab.output.renderOutput(dataTable, element);\n",
              "          const docLink = document.createElement('div');\n",
              "          docLink.innerHTML = docLinkHtml;\n",
              "          element.appendChild(docLink);\n",
              "        }\n",
              "      </script>\n",
              "    </div>\n",
              "  </div>\n",
              "  "
            ]
          },
          "metadata": {},
          "execution_count": 198
        }
      ]
    },
    {
      "cell_type": "code",
      "source": [
        "df['f'] = df['a']+ df['b']+ df['c']+ df['d']+ df['e']\n",
        "df"
      ],
      "metadata": {
        "colab": {
          "base_uri": "https://localhost:8080/",
          "height": 175
        },
        "id": "v19aUptZEuWr",
        "outputId": "bbf2bbfa-943b-40f3-bb52-daa94bb71171"
      },
      "execution_count": null,
      "outputs": [
        {
          "output_type": "execute_result",
          "data": {
            "text/plain": [
              "    a   b   c   d   e   f\n",
              "0   0   1   2   3   4  10\n",
              "1   5   6   7   8   9  35\n",
              "2  10  11  12  13  14  60\n",
              "3  15  16  17  18  19  85"
            ],
            "text/html": [
              "\n",
              "  <div id=\"df-fa605ca4-e204-4255-b700-562e372cdbf3\">\n",
              "    <div class=\"colab-df-container\">\n",
              "      <div>\n",
              "<style scoped>\n",
              "    .dataframe tbody tr th:only-of-type {\n",
              "        vertical-align: middle;\n",
              "    }\n",
              "\n",
              "    .dataframe tbody tr th {\n",
              "        vertical-align: top;\n",
              "    }\n",
              "\n",
              "    .dataframe thead th {\n",
              "        text-align: right;\n",
              "    }\n",
              "</style>\n",
              "<table border=\"1\" class=\"dataframe\">\n",
              "  <thead>\n",
              "    <tr style=\"text-align: right;\">\n",
              "      <th></th>\n",
              "      <th>a</th>\n",
              "      <th>b</th>\n",
              "      <th>c</th>\n",
              "      <th>d</th>\n",
              "      <th>e</th>\n",
              "      <th>f</th>\n",
              "    </tr>\n",
              "  </thead>\n",
              "  <tbody>\n",
              "    <tr>\n",
              "      <th>0</th>\n",
              "      <td>0</td>\n",
              "      <td>1</td>\n",
              "      <td>2</td>\n",
              "      <td>3</td>\n",
              "      <td>4</td>\n",
              "      <td>10</td>\n",
              "    </tr>\n",
              "    <tr>\n",
              "      <th>1</th>\n",
              "      <td>5</td>\n",
              "      <td>6</td>\n",
              "      <td>7</td>\n",
              "      <td>8</td>\n",
              "      <td>9</td>\n",
              "      <td>35</td>\n",
              "    </tr>\n",
              "    <tr>\n",
              "      <th>2</th>\n",
              "      <td>10</td>\n",
              "      <td>11</td>\n",
              "      <td>12</td>\n",
              "      <td>13</td>\n",
              "      <td>14</td>\n",
              "      <td>60</td>\n",
              "    </tr>\n",
              "    <tr>\n",
              "      <th>3</th>\n",
              "      <td>15</td>\n",
              "      <td>16</td>\n",
              "      <td>17</td>\n",
              "      <td>18</td>\n",
              "      <td>19</td>\n",
              "      <td>85</td>\n",
              "    </tr>\n",
              "  </tbody>\n",
              "</table>\n",
              "</div>\n",
              "      <button class=\"colab-df-convert\" onclick=\"convertToInteractive('df-fa605ca4-e204-4255-b700-562e372cdbf3')\"\n",
              "              title=\"Convert this dataframe to an interactive table.\"\n",
              "              style=\"display:none;\">\n",
              "        \n",
              "  <svg xmlns=\"http://www.w3.org/2000/svg\" height=\"24px\"viewBox=\"0 0 24 24\"\n",
              "       width=\"24px\">\n",
              "    <path d=\"M0 0h24v24H0V0z\" fill=\"none\"/>\n",
              "    <path d=\"M18.56 5.44l.94 2.06.94-2.06 2.06-.94-2.06-.94-.94-2.06-.94 2.06-2.06.94zm-11 1L8.5 8.5l.94-2.06 2.06-.94-2.06-.94L8.5 2.5l-.94 2.06-2.06.94zm10 10l.94 2.06.94-2.06 2.06-.94-2.06-.94-.94-2.06-.94 2.06-2.06.94z\"/><path d=\"M17.41 7.96l-1.37-1.37c-.4-.4-.92-.59-1.43-.59-.52 0-1.04.2-1.43.59L10.3 9.45l-7.72 7.72c-.78.78-.78 2.05 0 2.83L4 21.41c.39.39.9.59 1.41.59.51 0 1.02-.2 1.41-.59l7.78-7.78 2.81-2.81c.8-.78.8-2.07 0-2.86zM5.41 20L4 18.59l7.72-7.72 1.47 1.35L5.41 20z\"/>\n",
              "  </svg>\n",
              "      </button>\n",
              "      \n",
              "  <style>\n",
              "    .colab-df-container {\n",
              "      display:flex;\n",
              "      flex-wrap:wrap;\n",
              "      gap: 12px;\n",
              "    }\n",
              "\n",
              "    .colab-df-convert {\n",
              "      background-color: #E8F0FE;\n",
              "      border: none;\n",
              "      border-radius: 50%;\n",
              "      cursor: pointer;\n",
              "      display: none;\n",
              "      fill: #1967D2;\n",
              "      height: 32px;\n",
              "      padding: 0 0 0 0;\n",
              "      width: 32px;\n",
              "    }\n",
              "\n",
              "    .colab-df-convert:hover {\n",
              "      background-color: #E2EBFA;\n",
              "      box-shadow: 0px 1px 2px rgba(60, 64, 67, 0.3), 0px 1px 3px 1px rgba(60, 64, 67, 0.15);\n",
              "      fill: #174EA6;\n",
              "    }\n",
              "\n",
              "    [theme=dark] .colab-df-convert {\n",
              "      background-color: #3B4455;\n",
              "      fill: #D2E3FC;\n",
              "    }\n",
              "\n",
              "    [theme=dark] .colab-df-convert:hover {\n",
              "      background-color: #434B5C;\n",
              "      box-shadow: 0px 1px 3px 1px rgba(0, 0, 0, 0.15);\n",
              "      filter: drop-shadow(0px 1px 2px rgba(0, 0, 0, 0.3));\n",
              "      fill: #FFFFFF;\n",
              "    }\n",
              "  </style>\n",
              "\n",
              "      <script>\n",
              "        const buttonEl =\n",
              "          document.querySelector('#df-fa605ca4-e204-4255-b700-562e372cdbf3 button.colab-df-convert');\n",
              "        buttonEl.style.display =\n",
              "          google.colab.kernel.accessAllowed ? 'block' : 'none';\n",
              "\n",
              "        async function convertToInteractive(key) {\n",
              "          const element = document.querySelector('#df-fa605ca4-e204-4255-b700-562e372cdbf3');\n",
              "          const dataTable =\n",
              "            await google.colab.kernel.invokeFunction('convertToInteractive',\n",
              "                                                     [key], {});\n",
              "          if (!dataTable) return;\n",
              "\n",
              "          const docLinkHtml = 'Like what you see? Visit the ' +\n",
              "            '<a target=\"_blank\" href=https://colab.research.google.com/notebooks/data_table.ipynb>data table notebook</a>'\n",
              "            + ' to learn more about interactive tables.';\n",
              "          element.innerHTML = '';\n",
              "          dataTable['output_type'] = 'display_data';\n",
              "          await google.colab.output.renderOutput(dataTable, element);\n",
              "          const docLink = document.createElement('div');\n",
              "          docLink.innerHTML = docLinkHtml;\n",
              "          element.appendChild(docLink);\n",
              "        }\n",
              "      </script>\n",
              "    </div>\n",
              "  </div>\n",
              "  "
            ]
          },
          "metadata": {},
          "execution_count": 199
        }
      ]
    },
    {
      "cell_type": "code",
      "source": [
        "import numpy as np\n",
        "import pandas as pd\n",
        "\n",
        "df = pd.read_csv('input.csv')\n",
        "is_null = []\n",
        "for index in list(df.index):\n",
        "    is_null.append(any(pd.isnull(df.loc[index, :])))\n",
        "if True in is_null:\n",
        "  print(True)\n",
        "else:\n",
        "  print(False)"
      ],
      "metadata": {
        "colab": {
          "base_uri": "https://localhost:8080/"
        },
        "id": "a7QcPVV9GaYo",
        "outputId": "2b41131f-f78b-4b38-8043-e0348bbadae4"
      },
      "execution_count": null,
      "outputs": [
        {
          "output_type": "stream",
          "name": "stdout",
          "text": [
            "True\n"
          ]
        }
      ]
    },
    {
      "cell_type": "code",
      "source": [
        "df"
      ],
      "metadata": {
        "colab": {
          "base_uri": "https://localhost:8080/",
          "height": 112
        },
        "id": "l50ItOO0QMHi",
        "outputId": "d6599bbf-8189-4324-e269-d12aefdabbad"
      },
      "execution_count": null,
      "outputs": [
        {
          "output_type": "execute_result",
          "data": {
            "text/plain": [
              "   Unnamed: 0    0  1\n",
              "0           0  NaN  6\n",
              "1           1  1.0  2"
            ],
            "text/html": [
              "\n",
              "  <div id=\"df-2873d402-f4b1-427f-951e-b20cc6c43a63\">\n",
              "    <div class=\"colab-df-container\">\n",
              "      <div>\n",
              "<style scoped>\n",
              "    .dataframe tbody tr th:only-of-type {\n",
              "        vertical-align: middle;\n",
              "    }\n",
              "\n",
              "    .dataframe tbody tr th {\n",
              "        vertical-align: top;\n",
              "    }\n",
              "\n",
              "    .dataframe thead th {\n",
              "        text-align: right;\n",
              "    }\n",
              "</style>\n",
              "<table border=\"1\" class=\"dataframe\">\n",
              "  <thead>\n",
              "    <tr style=\"text-align: right;\">\n",
              "      <th></th>\n",
              "      <th>Unnamed: 0</th>\n",
              "      <th>0</th>\n",
              "      <th>1</th>\n",
              "    </tr>\n",
              "  </thead>\n",
              "  <tbody>\n",
              "    <tr>\n",
              "      <th>0</th>\n",
              "      <td>0</td>\n",
              "      <td>NaN</td>\n",
              "      <td>6</td>\n",
              "    </tr>\n",
              "    <tr>\n",
              "      <th>1</th>\n",
              "      <td>1</td>\n",
              "      <td>1.0</td>\n",
              "      <td>2</td>\n",
              "    </tr>\n",
              "  </tbody>\n",
              "</table>\n",
              "</div>\n",
              "      <button class=\"colab-df-convert\" onclick=\"convertToInteractive('df-2873d402-f4b1-427f-951e-b20cc6c43a63')\"\n",
              "              title=\"Convert this dataframe to an interactive table.\"\n",
              "              style=\"display:none;\">\n",
              "        \n",
              "  <svg xmlns=\"http://www.w3.org/2000/svg\" height=\"24px\"viewBox=\"0 0 24 24\"\n",
              "       width=\"24px\">\n",
              "    <path d=\"M0 0h24v24H0V0z\" fill=\"none\"/>\n",
              "    <path d=\"M18.56 5.44l.94 2.06.94-2.06 2.06-.94-2.06-.94-.94-2.06-.94 2.06-2.06.94zm-11 1L8.5 8.5l.94-2.06 2.06-.94-2.06-.94L8.5 2.5l-.94 2.06-2.06.94zm10 10l.94 2.06.94-2.06 2.06-.94-2.06-.94-.94-2.06-.94 2.06-2.06.94z\"/><path d=\"M17.41 7.96l-1.37-1.37c-.4-.4-.92-.59-1.43-.59-.52 0-1.04.2-1.43.59L10.3 9.45l-7.72 7.72c-.78.78-.78 2.05 0 2.83L4 21.41c.39.39.9.59 1.41.59.51 0 1.02-.2 1.41-.59l7.78-7.78 2.81-2.81c.8-.78.8-2.07 0-2.86zM5.41 20L4 18.59l7.72-7.72 1.47 1.35L5.41 20z\"/>\n",
              "  </svg>\n",
              "      </button>\n",
              "      \n",
              "  <style>\n",
              "    .colab-df-container {\n",
              "      display:flex;\n",
              "      flex-wrap:wrap;\n",
              "      gap: 12px;\n",
              "    }\n",
              "\n",
              "    .colab-df-convert {\n",
              "      background-color: #E8F0FE;\n",
              "      border: none;\n",
              "      border-radius: 50%;\n",
              "      cursor: pointer;\n",
              "      display: none;\n",
              "      fill: #1967D2;\n",
              "      height: 32px;\n",
              "      padding: 0 0 0 0;\n",
              "      width: 32px;\n",
              "    }\n",
              "\n",
              "    .colab-df-convert:hover {\n",
              "      background-color: #E2EBFA;\n",
              "      box-shadow: 0px 1px 2px rgba(60, 64, 67, 0.3), 0px 1px 3px 1px rgba(60, 64, 67, 0.15);\n",
              "      fill: #174EA6;\n",
              "    }\n",
              "\n",
              "    [theme=dark] .colab-df-convert {\n",
              "      background-color: #3B4455;\n",
              "      fill: #D2E3FC;\n",
              "    }\n",
              "\n",
              "    [theme=dark] .colab-df-convert:hover {\n",
              "      background-color: #434B5C;\n",
              "      box-shadow: 0px 1px 3px 1px rgba(0, 0, 0, 0.15);\n",
              "      filter: drop-shadow(0px 1px 2px rgba(0, 0, 0, 0.3));\n",
              "      fill: #FFFFFF;\n",
              "    }\n",
              "  </style>\n",
              "\n",
              "      <script>\n",
              "        const buttonEl =\n",
              "          document.querySelector('#df-2873d402-f4b1-427f-951e-b20cc6c43a63 button.colab-df-convert');\n",
              "        buttonEl.style.display =\n",
              "          google.colab.kernel.accessAllowed ? 'block' : 'none';\n",
              "\n",
              "        async function convertToInteractive(key) {\n",
              "          const element = document.querySelector('#df-2873d402-f4b1-427f-951e-b20cc6c43a63');\n",
              "          const dataTable =\n",
              "            await google.colab.kernel.invokeFunction('convertToInteractive',\n",
              "                                                     [key], {});\n",
              "          if (!dataTable) return;\n",
              "\n",
              "          const docLinkHtml = 'Like what you see? Visit the ' +\n",
              "            '<a target=\"_blank\" href=https://colab.research.google.com/notebooks/data_table.ipynb>data table notebook</a>'\n",
              "            + ' to learn more about interactive tables.';\n",
              "          element.innerHTML = '';\n",
              "          dataTable['output_type'] = 'display_data';\n",
              "          await google.colab.output.renderOutput(dataTable, element);\n",
              "          const docLink = document.createElement('div');\n",
              "          docLink.innerHTML = docLinkHtml;\n",
              "          element.appendChild(docLink);\n",
              "        }\n",
              "      </script>\n",
              "    </div>\n",
              "  </div>\n",
              "  "
            ]
          },
          "metadata": {},
          "execution_count": 284
        }
      ]
    },
    {
      "cell_type": "code",
      "source": [
        "a"
      ],
      "metadata": {
        "colab": {
          "base_uri": "https://localhost:8080/"
        },
        "id": "lgBJwzz1TcWN",
        "outputId": "0eb11c58-5376-4712-d59c-18beb887e124"
      },
      "execution_count": null,
      "outputs": [
        {
          "output_type": "execute_result",
          "data": {
            "text/plain": [
              "Unnamed: 0    0\n",
              "0             1\n",
              "1             0\n",
              "dtype: int64"
            ]
          },
          "metadata": {},
          "execution_count": 280
        }
      ]
    },
    {
      "cell_type": "code",
      "source": [
        "Заполните пропуски так, чтобы после выполнения второй строки кода, количество элементов в матрице равнялось 90% от исходного.\n",
        "\n",
        "df = pd.DataFrame(data=np.arange(start=1, stop=21), columns=['data'])\n",
        "\n",
        "df = df[(df['data'] > ) & (df['data'] < )]"
      ],
      "metadata": {
        "id": "j0YEVfuChz1w"
      },
      "execution_count": null,
      "outputs": []
    },
    {
      "cell_type": "code",
      "source": [
        "Заполните пропуски так, чтобы после выполнения второй строки кода, количество элементов в матрице увеличилось на  4.\n",
        "\n",
        "df = pd.DataFrame(data=np.arange().reshape(,), columns=list())\n",
        "\n",
        "df['f'] = df['a']+ df['b']+ df['c']+ df['d']+ df['e']"
      ],
      "metadata": {
        "id": "6eriL3ENh85j"
      },
      "execution_count": null,
      "outputs": []
    }
  ]
}